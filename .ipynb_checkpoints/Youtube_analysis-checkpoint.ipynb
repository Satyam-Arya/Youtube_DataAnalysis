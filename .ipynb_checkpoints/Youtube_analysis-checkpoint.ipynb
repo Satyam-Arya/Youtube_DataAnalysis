{
 "cells": [
  {
   "cell_type": "code",
   "execution_count": 1,
   "id": "61d028ce",
   "metadata": {},
   "outputs": [],
   "source": [
    "import pandas as pd\n",
    "import numpy as np\n",
    "import seaborn as sns\n",
    "import matplotlib.pyplot as plt"
   ]
  },
  {
   "cell_type": "code",
   "execution_count": 2,
   "id": "5575f4a0",
   "metadata": {
    "scrolled": true
   },
   "outputs": [
    {
     "name": "stderr",
     "output_type": "stream",
     "text": [
      "C:\\Users\\SATYAM\\AppData\\Local\\Temp\\ipykernel_9620\\1000854607.py:1: FutureWarning: The error_bad_lines argument has been deprecated and will be removed in a future version. Use on_bad_lines in the future.\n",
      "\n",
      "\n",
      "  df = pd.read_csv(r'UScomments.csv', error_bad_lines=False)\n",
      "b'Skipping line 41589: expected 4 fields, saw 11\\nSkipping line 51628: expected 4 fields, saw 7\\nSkipping line 114465: expected 4 fields, saw 5\\n'\n",
      "b'Skipping line 142496: expected 4 fields, saw 8\\nSkipping line 189732: expected 4 fields, saw 6\\nSkipping line 245218: expected 4 fields, saw 7\\n'\n",
      "b'Skipping line 388430: expected 4 fields, saw 5\\n'\n",
      "C:\\Users\\SATYAM\\AppData\\Local\\Temp\\ipykernel_9620\\1000854607.py:1: DtypeWarning: Columns (2,3) have mixed types. Specify dtype option on import or set low_memory=False.\n",
      "  df = pd.read_csv(r'UScomments.csv', error_bad_lines=False)\n"
     ]
    },
    {
     "data": {
      "text/html": [
       "<div>\n",
       "<style scoped>\n",
       "    .dataframe tbody tr th:only-of-type {\n",
       "        vertical-align: middle;\n",
       "    }\n",
       "\n",
       "    .dataframe tbody tr th {\n",
       "        vertical-align: top;\n",
       "    }\n",
       "\n",
       "    .dataframe thead th {\n",
       "        text-align: right;\n",
       "    }\n",
       "</style>\n",
       "<table border=\"1\" class=\"dataframe\">\n",
       "  <thead>\n",
       "    <tr style=\"text-align: right;\">\n",
       "      <th></th>\n",
       "      <th>video_id</th>\n",
       "      <th>comment_text</th>\n",
       "      <th>likes</th>\n",
       "      <th>replies</th>\n",
       "    </tr>\n",
       "  </thead>\n",
       "  <tbody>\n",
       "    <tr>\n",
       "      <th>0</th>\n",
       "      <td>XpVt6Z1Gjjo</td>\n",
       "      <td>Logan Paul it's yo big day ‼️‼️‼️</td>\n",
       "      <td>4</td>\n",
       "      <td>0</td>\n",
       "    </tr>\n",
       "    <tr>\n",
       "      <th>1</th>\n",
       "      <td>XpVt6Z1Gjjo</td>\n",
       "      <td>I've been following you from the start of your...</td>\n",
       "      <td>3</td>\n",
       "      <td>0</td>\n",
       "    </tr>\n",
       "    <tr>\n",
       "      <th>2</th>\n",
       "      <td>XpVt6Z1Gjjo</td>\n",
       "      <td>Say hi to Kong and maverick for me</td>\n",
       "      <td>3</td>\n",
       "      <td>0</td>\n",
       "    </tr>\n",
       "    <tr>\n",
       "      <th>3</th>\n",
       "      <td>XpVt6Z1Gjjo</td>\n",
       "      <td>MY FAN . attendance</td>\n",
       "      <td>3</td>\n",
       "      <td>0</td>\n",
       "    </tr>\n",
       "    <tr>\n",
       "      <th>4</th>\n",
       "      <td>XpVt6Z1Gjjo</td>\n",
       "      <td>trending 😉</td>\n",
       "      <td>3</td>\n",
       "      <td>0</td>\n",
       "    </tr>\n",
       "  </tbody>\n",
       "</table>\n",
       "</div>"
      ],
      "text/plain": [
       "      video_id                                       comment_text likes  \\\n",
       "0  XpVt6Z1Gjjo                  Logan Paul it's yo big day ‼️‼️‼️     4   \n",
       "1  XpVt6Z1Gjjo  I've been following you from the start of your...     3   \n",
       "2  XpVt6Z1Gjjo                 Say hi to Kong and maverick for me     3   \n",
       "3  XpVt6Z1Gjjo                                MY FAN . attendance     3   \n",
       "4  XpVt6Z1Gjjo                                         trending 😉     3   \n",
       "\n",
       "  replies  \n",
       "0       0  \n",
       "1       0  \n",
       "2       0  \n",
       "3       0  \n",
       "4       0  "
      ]
     },
     "execution_count": 2,
     "metadata": {},
     "output_type": "execute_result"
    }
   ],
   "source": [
    "df = pd.read_csv(r'UScomments.csv', error_bad_lines=False)\n",
    "df.head()"
   ]
  },
  {
   "cell_type": "code",
   "execution_count": 3,
   "id": "42582287",
   "metadata": {},
   "outputs": [
    {
     "data": {
      "text/plain": [
       "(691400, 4)"
      ]
     },
     "execution_count": 3,
     "metadata": {},
     "output_type": "execute_result"
    }
   ],
   "source": [
    "df.shape"
   ]
  },
  {
   "cell_type": "code",
   "execution_count": 4,
   "id": "c826e0b4",
   "metadata": {},
   "outputs": [
    {
     "data": {
      "text/plain": [
       "video_id         0\n",
       "comment_text    25\n",
       "likes            0\n",
       "replies          0\n",
       "dtype: int64"
      ]
     },
     "execution_count": 4,
     "metadata": {},
     "output_type": "execute_result"
    }
   ],
   "source": [
    "df.isnull().sum()"
   ]
  },
  {
   "cell_type": "code",
   "execution_count": 5,
   "id": "d7a6b40f",
   "metadata": {},
   "outputs": [],
   "source": [
    "df.dropna(inplace=True)\n",
    "# Clean values if some values are missing"
   ]
  },
  {
   "cell_type": "code",
   "execution_count": 6,
   "id": "c6da0cc2",
   "metadata": {},
   "outputs": [
    {
     "data": {
      "text/plain": [
       "video_id        0\n",
       "comment_text    0\n",
       "likes           0\n",
       "replies         0\n",
       "dtype: int64"
      ]
     },
     "execution_count": 6,
     "metadata": {},
     "output_type": "execute_result"
    }
   ],
   "source": [
    "df.isnull().sum()"
   ]
  },
  {
   "cell_type": "markdown",
   "id": "52a6b919",
   "metadata": {},
   "source": [
    "# Sentiment Analysis\n",
    "Analyzing the sentiments of the user"
   ]
  },
  {
   "cell_type": "code",
   "execution_count": 7,
   "id": "de439f2e",
   "metadata": {},
   "outputs": [],
   "source": [
    "from textblob import TextBlob"
   ]
  },
  {
   "cell_type": "code",
   "execution_count": 8,
   "id": "2bd15350",
   "metadata": {},
   "outputs": [
    {
     "data": {
      "text/plain": [
       "0.0"
      ]
     },
     "execution_count": 8,
     "metadata": {},
     "output_type": "execute_result"
    }
   ],
   "source": [
    "TextBlob(\"Logan Paul it's yo big day ‼️‼️‼️\").sentiment.polarity"
   ]
  },
  {
   "cell_type": "code",
   "execution_count": 9,
   "id": "e9e6bf55",
   "metadata": {},
   "outputs": [],
   "source": [
    "sample_df = df[0:1000]"
   ]
  },
  {
   "cell_type": "code",
   "execution_count": 10,
   "id": "f60f4d6b",
   "metadata": {},
   "outputs": [
    {
     "data": {
      "text/plain": [
       "(1000, 4)"
      ]
     },
     "execution_count": 10,
     "metadata": {},
     "output_type": "execute_result"
    }
   ],
   "source": [
    "sample_df.shape"
   ]
  },
  {
   "cell_type": "code",
   "execution_count": null,
   "id": "9b78bbe0",
   "metadata": {
    "scrolled": true
   },
   "outputs": [],
   "source": [
    "polarity = []\n",
    "\n",
    "for comment in df['comment_text']:\n",
    "    try:\n",
    "        polarity.append(TextBlob(comment).sentiment.polarity)\n",
    "    except:\n",
    "        polarity.append(0)"
   ]
  },
  {
   "cell_type": "code",
   "execution_count": null,
   "id": "80f40a86",
   "metadata": {},
   "outputs": [],
   "source": [
    "len(polarity)"
   ]
  },
  {
   "cell_type": "code",
   "execution_count": null,
   "id": "316fad4d",
   "metadata": {},
   "outputs": [],
   "source": [
    "df['polarity'] = polarity"
   ]
  },
  {
   "cell_type": "code",
   "execution_count": null,
   "id": "2c746e2a",
   "metadata": {},
   "outputs": [],
   "source": [
    "df.head()"
   ]
  },
  {
   "cell_type": "markdown",
   "id": "2a12d194",
   "metadata": {},
   "source": [
    "# Wordcloud Analysis\n",
    "\n",
    "Graphical representation of Text frequent words"
   ]
  },
  {
   "cell_type": "code",
   "execution_count": null,
   "id": "be615ef9",
   "metadata": {},
   "outputs": [],
   "source": [
    "filter1 = df['polarity']==1"
   ]
  },
  {
   "cell_type": "code",
   "execution_count": null,
   "id": "f916bc62",
   "metadata": {},
   "outputs": [],
   "source": [
    "df[filter1]"
   ]
  },
  {
   "cell_type": "code",
   "execution_count": null,
   "id": "70f7244d",
   "metadata": {},
   "outputs": [],
   "source": [
    "filter1 = df['polarity'] == 1"
   ]
  },
  {
   "cell_type": "code",
   "execution_count": null,
   "id": "950f4774",
   "metadata": {
    "scrolled": true
   },
   "outputs": [],
   "source": [
    "comments_positive = df[filter1]"
   ]
  },
  {
   "cell_type": "code",
   "execution_count": null,
   "id": "a4fc3662",
   "metadata": {},
   "outputs": [],
   "source": [
    "comments_positive"
   ]
  },
  {
   "cell_type": "code",
   "execution_count": null,
   "id": "5106c650",
   "metadata": {},
   "outputs": [],
   "source": [
    "filter2 = df['polarity'] == -1"
   ]
  },
  {
   "cell_type": "code",
   "execution_count": null,
   "id": "ebb87a79",
   "metadata": {},
   "outputs": [],
   "source": [
    "comments_negative = df[filter2]"
   ]
  },
  {
   "cell_type": "code",
   "execution_count": null,
   "id": "11040261",
   "metadata": {},
   "outputs": [],
   "source": [
    "comments_negative"
   ]
  },
  {
   "cell_type": "code",
   "execution_count": null,
   "id": "e5411a76",
   "metadata": {},
   "outputs": [],
   "source": [
    "from wordcloud import WordCloud, STOPWORDS"
   ]
  },
  {
   "cell_type": "markdown",
   "id": "4027ba36",
   "metadata": {},
   "source": [
    "STOPWORDS are used to make meaningless that helps to does not any affect of these words\n",
    "like is, are, am, to, the, as, up"
   ]
  },
  {
   "cell_type": "code",
   "execution_count": null,
   "id": "4184ba29",
   "metadata": {},
   "outputs": [],
   "source": [
    "set(STOPWORDS)"
   ]
  },
  {
   "cell_type": "code",
   "execution_count": null,
   "id": "948b6aae",
   "metadata": {
    "scrolled": true
   },
   "outputs": [],
   "source": [
    "df['comment_text']"
   ]
  },
  {
   "cell_type": "code",
   "execution_count": null,
   "id": "364a5630",
   "metadata": {
    "scrolled": true
   },
   "outputs": [],
   "source": [
    "type(df['comment_text'])"
   ]
  },
  {
   "cell_type": "code",
   "execution_count": null,
   "id": "8a001550",
   "metadata": {},
   "outputs": [],
   "source": [
    "total_comments_positive = ' '.join(comments_positive['comment_text'])"
   ]
  },
  {
   "cell_type": "code",
   "execution_count": null,
   "id": "fea0b77a",
   "metadata": {},
   "outputs": [],
   "source": [
    "wordcloud = WordCloud(stopwords=set(STOPWORDS)).generate(total_comments_positive)"
   ]
  },
  {
   "cell_type": "code",
   "execution_count": null,
   "id": "7f2ac968",
   "metadata": {
    "scrolled": true
   },
   "outputs": [],
   "source": [
    "plt.imshow(wordcloud)\n",
    "plt.axis('off')"
   ]
  },
  {
   "cell_type": "code",
   "execution_count": null,
   "id": "0eb33bae",
   "metadata": {},
   "outputs": [],
   "source": [
    "total_comments_negative = ' '.join(comments_negative['comment_text'])"
   ]
  },
  {
   "cell_type": "code",
   "execution_count": null,
   "id": "b96feddd",
   "metadata": {},
   "outputs": [],
   "source": [
    "wordcloud = WordCloud(stopwords=set(STOPWORDS)).generate(total_comments_negative)"
   ]
  },
  {
   "cell_type": "code",
   "execution_count": null,
   "id": "654253f8",
   "metadata": {},
   "outputs": [],
   "source": [
    "plt.imshow(wordcloud)\n",
    "plt.axis()"
   ]
  },
  {
   "cell_type": "markdown",
   "id": "84545019",
   "metadata": {},
   "source": [
    "# Emoji Analysis"
   ]
  },
  {
   "cell_type": "code",
   "execution_count": null,
   "id": "7608f1c1",
   "metadata": {},
   "outputs": [],
   "source": [
    "import emoji"
   ]
  },
  {
   "cell_type": "code",
   "execution_count": null,
   "id": "f99aecdb",
   "metadata": {},
   "outputs": [],
   "source": [
    "emoji.__version__"
   ]
  },
  {
   "cell_type": "code",
   "execution_count": null,
   "id": "e6680b93",
   "metadata": {},
   "outputs": [],
   "source": [
    "df['comment_text'].head(7)"
   ]
  },
  {
   "cell_type": "code",
   "execution_count": null,
   "id": "aa334fa6",
   "metadata": {},
   "outputs": [],
   "source": [
    "comment = 'trending 😉'     \n",
    "\n",
    "\n",
    "[char for char in comment if char in emoji.EMOJI_DATA]\n",
    "\n",
    "\n",
    "## This is also doing the same work. The upper one is list comprehension and the another one is using normal loop\n",
    "# emoji_list = []\n",
    "# for char in comment:\n",
    "#     if char in emoji.EMOJI_DATA:\n",
    "#         emoji_list.append(char)\n",
    "\n",
    "# emoji_list"
   ]
  },
  {
   "cell_type": "code",
   "execution_count": null,
   "id": "59b27d71",
   "metadata": {},
   "outputs": [],
   "source": [
    "all_emojis_list = []\n",
    "\n",
    "for comment in df['comment_text'].dropna():\n",
    "    for char in comment:\n",
    "        if char in emoji.EMOJI_DATA:\n",
    "            all_emojis_list.append(char)"
   ]
  },
  {
   "cell_type": "code",
   "execution_count": null,
   "id": "3a1b9a9d",
   "metadata": {},
   "outputs": [],
   "source": [
    "all_emojis_list[:10]"
   ]
  },
  {
   "cell_type": "code",
   "execution_count": null,
   "id": "f14db0d5",
   "metadata": {},
   "outputs": [],
   "source": [
    "all_emojis_list[0:15]"
   ]
  },
  {
   "cell_type": "code",
   "execution_count": null,
   "id": "a437403e",
   "metadata": {},
   "outputs": [],
   "source": [
    "from collections import Counter"
   ]
  },
  {
   "cell_type": "code",
   "execution_count": null,
   "id": "82acaa49",
   "metadata": {},
   "outputs": [],
   "source": [
    "Counter(all_emojis_list)"
   ]
  },
  {
   "cell_type": "code",
   "execution_count": null,
   "id": "cf5a55c2",
   "metadata": {},
   "outputs": [],
   "source": [
    "Counter(all_emojis_list).most_common()"
   ]
  },
  {
   "cell_type": "code",
   "execution_count": null,
   "id": "ecc273bc",
   "metadata": {},
   "outputs": [],
   "source": [
    "Counter(all_emojis_list).most_common(10)"
   ]
  },
  {
   "cell_type": "code",
   "execution_count": null,
   "id": "57beacca",
   "metadata": {},
   "outputs": [],
   "source": [
    "Counter(all_emojis_list).most_common(10)[0]"
   ]
  },
  {
   "cell_type": "code",
   "execution_count": null,
   "id": "2255dc45",
   "metadata": {},
   "outputs": [],
   "source": [
    "Counter(all_emojis_list).most_common(10)[0][0]"
   ]
  },
  {
   "cell_type": "code",
   "execution_count": null,
   "id": "4050c8ae",
   "metadata": {},
   "outputs": [],
   "source": [
    "Counter(all_emojis_list).most_common(10)[0][1]"
   ]
  },
  {
   "cell_type": "code",
   "execution_count": null,
   "id": "012f5839",
   "metadata": {},
   "outputs": [],
   "source": [
    "Counter(all_emojis_list).most_common(10)[5][0]"
   ]
  },
  {
   "cell_type": "code",
   "execution_count": null,
   "id": "8d3f6283",
   "metadata": {},
   "outputs": [],
   "source": [
    "emojis = [Counter(all_emojis_list).most_common(10)[i][0] for i in range(10)]"
   ]
  },
  {
   "cell_type": "code",
   "execution_count": null,
   "id": "2dc779a0",
   "metadata": {},
   "outputs": [],
   "source": [
    "emojis"
   ]
  },
  {
   "cell_type": "code",
   "execution_count": null,
   "id": "9ebe624b",
   "metadata": {},
   "outputs": [],
   "source": [
    "freqs = [Counter(all_emojis_list).most_common(10)[i][1] for i in range(10)]"
   ]
  },
  {
   "cell_type": "code",
   "execution_count": null,
   "id": "c85ed483",
   "metadata": {},
   "outputs": [],
   "source": [
    "freqs"
   ]
  },
  {
   "cell_type": "code",
   "execution_count": null,
   "id": "80b8527f",
   "metadata": {},
   "outputs": [],
   "source": []
  },
  {
   "cell_type": "code",
   "execution_count": null,
   "id": "50974c68",
   "metadata": {},
   "outputs": [],
   "source": [
    "import plotly.graph_objs as go\n",
    "from plotly.offline import iplot"
   ]
  },
  {
   "cell_type": "code",
   "execution_count": null,
   "id": "60e94a7f",
   "metadata": {},
   "outputs": [],
   "source": [
    "trace = go.Bar(x=emojis, y=freqs)"
   ]
  },
  {
   "cell_type": "code",
   "execution_count": null,
   "id": "55bfe93e",
   "metadata": {},
   "outputs": [],
   "source": [
    "iplot([trace])"
   ]
  },
  {
   "cell_type": "code",
   "execution_count": null,
   "id": "84e34f80",
   "metadata": {},
   "outputs": [],
   "source": []
  },
  {
   "cell_type": "code",
   "execution_count": null,
   "id": "c5039dc9",
   "metadata": {},
   "outputs": [],
   "source": [
    "import os"
   ]
  },
  {
   "cell_type": "code",
   "execution_count": null,
   "id": "a0476edc",
   "metadata": {},
   "outputs": [],
   "source": [
    "files = os.listdir('C:/Users/SATYAM/Documents/Youtube_DataAnalysis/additional_data')\n",
    "files"
   ]
  },
  {
   "cell_type": "code",
   "execution_count": null,
   "id": "4705b828",
   "metadata": {},
   "outputs": [],
   "source": [
    "files_csv = [file for file in files if '.csv' in file]"
   ]
  },
  {
   "cell_type": "code",
   "execution_count": null,
   "id": "73ce3e35",
   "metadata": {},
   "outputs": [],
   "source": [
    "import warnings\n",
    "from warnings import filterwarnings\n",
    "filterwarnings('ignore')"
   ]
  },
  {
   "cell_type": "code",
   "execution_count": null,
   "id": "7542d3e4",
   "metadata": {},
   "outputs": [],
   "source": [
    "full_df = pd.DataFrame()\n",
    "path = r'C:/Users/SATYAM/Documents/Youtube_DataAnalysis/additional_data'\n",
    "\n",
    "for file in files_csv:\n",
    "    current_df = pd.read_csv(path+'/'+file, encoding='iso-8859-1', error_bad_lines=False)\n",
    "\n",
    "    full_df = pd.concat([full_df, current_df], ignore_index=True)"
   ]
  },
  {
   "cell_type": "code",
   "execution_count": null,
   "id": "e0485bf6",
   "metadata": {},
   "outputs": [],
   "source": [
    "full_df.shape"
   ]
  },
  {
   "cell_type": "code",
   "execution_count": null,
   "id": "827cdd5c",
   "metadata": {},
   "outputs": [],
   "source": [
    "full_df[full_df.duplicated()].shape"
   ]
  },
  {
   "cell_type": "code",
   "execution_count": null,
   "id": "833ef429",
   "metadata": {},
   "outputs": [],
   "source": [
    "full_df = full_df.drop_duplicates()"
   ]
  },
  {
   "cell_type": "code",
   "execution_count": null,
   "id": "29f8b742",
   "metadata": {},
   "outputs": [],
   "source": [
    "full_df.shape"
   ]
  },
  {
   "cell_type": "code",
   "execution_count": null,
   "id": "6db114f4",
   "metadata": {},
   "outputs": [],
   "source": [
    "full_df.to_csv('C:/Users/SATYAM/Downloads/youtube_sample.csv', index=False)"
   ]
  },
  {
   "cell_type": "code",
   "execution_count": null,
   "id": "14916d14",
   "metadata": {},
   "outputs": [],
   "source": [
    "full_df[0:1000].to_csv('C:/Users/SATYAM/Downloads/youtube_sample2.csv', index=False)"
   ]
  },
  {
   "cell_type": "code",
   "execution_count": null,
   "id": "4ab5f937",
   "metadata": {},
   "outputs": [],
   "source": [
    "full_df.to_json('C:/Users/SATYAM/Downloads/youtube_sample3.json')"
   ]
  },
  {
   "cell_type": "markdown",
   "id": "838fad78",
   "metadata": {},
   "source": [
    "# Creating database"
   ]
  },
  {
   "cell_type": "code",
   "execution_count": null,
   "id": "7da6ecca",
   "metadata": {},
   "outputs": [],
   "source": [
    "from sqlalchemy import create_engine"
   ]
  },
  {
   "cell_type": "code",
   "execution_count": null,
   "id": "4e29b0d4",
   "metadata": {},
   "outputs": [],
   "source": [
    "engine = create_engine(r'sqlite:///youtube_analysis.sqlite')"
   ]
  },
  {
   "cell_type": "code",
   "execution_count": null,
   "id": "44b29bfb",
   "metadata": {},
   "outputs": [],
   "source": [
    "# full_df[:1000].to_sql('Users', con=engine, if_exists='append')\n",
    "## This has to run one time other wise it conficts the data with multiple values"
   ]
  },
  {
   "cell_type": "markdown",
   "id": "8b1e7aa3",
   "metadata": {},
   "source": [
    "# Analysing the most liked"
   ]
  },
  {
   "cell_type": "code",
   "execution_count": null,
   "id": "f0dde8ab",
   "metadata": {},
   "outputs": [],
   "source": [
    "full_df.head()"
   ]
  },
  {
   "cell_type": "code",
   "execution_count": null,
   "id": "93ec7170",
   "metadata": {},
   "outputs": [],
   "source": [
    "full_df['category_id'].unique()"
   ]
  },
  {
   "cell_type": "code",
   "execution_count": null,
   "id": "ff75f6b9",
   "metadata": {},
   "outputs": [],
   "source": []
  },
  {
   "cell_type": "code",
   "execution_count": null,
   "id": "11176f2c",
   "metadata": {},
   "outputs": [],
   "source": [
    "json_df = pd.read_json(r'additional_data/US_category_id.json')\n",
    "json_df"
   ]
  },
  {
   "cell_type": "code",
   "execution_count": null,
   "id": "1d069628",
   "metadata": {},
   "outputs": [],
   "source": [
    "json_df['items']"
   ]
  },
  {
   "cell_type": "code",
   "execution_count": null,
   "id": "a913b55d",
   "metadata": {},
   "outputs": [],
   "source": [
    "json_df['items'][0]"
   ]
  },
  {
   "cell_type": "code",
   "execution_count": null,
   "id": "b3315b15",
   "metadata": {},
   "outputs": [],
   "source": [
    "json_df['items'][1]"
   ]
  },
  {
   "cell_type": "code",
   "execution_count": null,
   "id": "bf509499",
   "metadata": {},
   "outputs": [],
   "source": [
    "cat_dict = {}\n",
    "\n",
    "for item in json_df['items'].values:\n",
    "    cat_dict[int(item['id'])] = item['snippet']['title']"
   ]
  },
  {
   "cell_type": "code",
   "execution_count": null,
   "id": "df50d6d4",
   "metadata": {},
   "outputs": [],
   "source": [
    "cat_dict"
   ]
  },
  {
   "cell_type": "code",
   "execution_count": null,
   "id": "2617537a",
   "metadata": {},
   "outputs": [],
   "source": [
    "full_df['category_name'] = full_df['category_id'].map(cat_dict)"
   ]
  },
  {
   "cell_type": "code",
   "execution_count": null,
   "id": "b43fdfda",
   "metadata": {},
   "outputs": [],
   "source": [
    "full_df.head()"
   ]
  },
  {
   "cell_type": "markdown",
   "id": "5ea7560b",
   "metadata": {},
   "source": [
    "## Which category has maximum number of likes"
   ]
  },
  {
   "cell_type": "code",
   "execution_count": null,
   "id": "6b2b3a49",
   "metadata": {},
   "outputs": [],
   "source": [
    "plt.figure(figsize=(12,8))\n",
    "sns.boxplot(x='category_name', y='likes', data=full_df)\n",
    "plt.xticks(rotation = 'vertical')"
   ]
  },
  {
   "cell_type": "markdown",
   "id": "a3eb390e",
   "metadata": {},
   "source": [
    "## Find out weather audience is engaged or not"
   ]
  },
  {
   "cell_type": "code",
   "execution_count": null,
   "id": "1e48f603",
   "metadata": {},
   "outputs": [],
   "source": [
    "full_df['like_rate'] = (full_df['likes'] / full_df['views']) * 100\n",
    "full_df['dislike_rate'] = (full_df['dislikes'] / full_df['views']) * 100\n",
    "full_df['comment_count_rate'] = (full_df['comment_count'] / full_df['views']) * 100"
   ]
  },
  {
   "cell_type": "code",
   "execution_count": null,
   "id": "1d474482",
   "metadata": {},
   "outputs": [],
   "source": [
    "full_df.columns"
   ]
  },
  {
   "cell_type": "code",
   "execution_count": null,
   "id": "c79367cb",
   "metadata": {},
   "outputs": [],
   "source": []
  },
  {
   "cell_type": "code",
   "execution_count": null,
   "id": "ece713ce",
   "metadata": {},
   "outputs": [],
   "source": [
    "plt.figure(figsize=(12,8))\n",
    "sns.boxplot(x='category_name', y='like_rate', data=full_df)\n",
    "plt.xticks(rotation='vertical')\n",
    "plt.show()\n",
    "\n",
    "# if no need of any text or just want to see graph than use show() function"
   ]
  },
  {
   "cell_type": "code",
   "execution_count": null,
   "id": "df7b797c",
   "metadata": {},
   "outputs": [],
   "source": [
    "sns.regplot(x='views', y='likes', data=full_df)"
   ]
  },
  {
   "cell_type": "code",
   "execution_count": null,
   "id": "08ddadeb",
   "metadata": {},
   "outputs": [],
   "source": [
    "full_df[['views', 'likes', 'dislikes']].corr()"
   ]
  },
  {
   "cell_type": "code",
   "execution_count": null,
   "id": "33d62357",
   "metadata": {},
   "outputs": [],
   "source": [
    "sns.heatmap(full_df[['views', 'likes', 'dislikes']].corr(), annot=True)"
   ]
  },
  {
   "cell_type": "markdown",
   "id": "fd1a614e",
   "metadata": {},
   "source": [
    "Which channel have the largest number of trending videos?"
   ]
  },
  {
   "cell_type": "code",
   "execution_count": null,
   "id": "e5d305be",
   "metadata": {},
   "outputs": [],
   "source": [
    "full_df['channel_title'].value_counts()"
   ]
  },
  {
   "cell_type": "code",
   "execution_count": null,
   "id": "4984a8aa",
   "metadata": {},
   "outputs": [],
   "source": [
    "cdf = full_df.groupby(['channel_title']).size().sort_values(ascending=False).reset_index()"
   ]
  },
  {
   "cell_type": "code",
   "execution_count": null,
   "id": "d3dfa501",
   "metadata": {},
   "outputs": [],
   "source": [
    "cdf"
   ]
  },
  {
   "cell_type": "code",
   "execution_count": null,
   "id": "c1f44746",
   "metadata": {},
   "outputs": [],
   "source": [
    "cdf = cdf.rename(columns={0 : 'total_videos'})\n",
    "cdf"
   ]
  },
  {
   "cell_type": "code",
   "execution_count": null,
   "id": "96c36fb2",
   "metadata": {},
   "outputs": [],
   "source": [
    "print(cdf.columns)\n"
   ]
  },
  {
   "cell_type": "code",
   "execution_count": null,
   "id": "aeb8cdf8",
   "metadata": {},
   "outputs": [],
   "source": [
    "import plotly.express as px\n",
    "\n",
    "px.bar(data_frame=cdf[0:20], x='channel_title', y='total_videos')"
   ]
  },
  {
   "cell_type": "code",
   "execution_count": null,
   "id": "53175561",
   "metadata": {},
   "outputs": [],
   "source": []
  }
 ],
 "metadata": {
  "kernelspec": {
   "display_name": "Python 3 (ipykernel)",
   "language": "python",
   "name": "python3"
  },
  "language_info": {
   "codemirror_mode": {
    "name": "ipython",
    "version": 3
   },
   "file_extension": ".py",
   "mimetype": "text/x-python",
   "name": "python",
   "nbconvert_exporter": "python",
   "pygments_lexer": "ipython3",
   "version": "3.9.18"
  }
 },
 "nbformat": 4,
 "nbformat_minor": 5
}
