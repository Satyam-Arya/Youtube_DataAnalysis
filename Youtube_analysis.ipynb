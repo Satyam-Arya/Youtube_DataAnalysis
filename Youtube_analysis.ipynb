{
 "cells": [
  {
   "cell_type": "code",
   "execution_count": 1,
   "id": "61d028ce",
   "metadata": {},
   "outputs": [],
   "source": [
    "import pandas as pd\n",
    "import numpy as np\n",
    "import seaborn as sns\n",
    "import matplotlib.pyplot as plt"
   ]
  },
  {
   "cell_type": "code",
   "execution_count": 2,
   "id": "5575f4a0",
   "metadata": {
    "scrolled": true
   },
   "outputs": [
    {
     "name": "stderr",
     "output_type": "stream",
     "text": [
      "C:\\Users\\SATYAM\\AppData\\Local\\Temp\\ipykernel_7044\\1000854607.py:1: FutureWarning: The error_bad_lines argument has been deprecated and will be removed in a future version. Use on_bad_lines in the future.\n",
      "\n",
      "\n",
      "  df = pd.read_csv(r'UScomments.csv', error_bad_lines=False)\n",
      "b'Skipping line 41589: expected 4 fields, saw 11\\nSkipping line 51628: expected 4 fields, saw 7\\nSkipping line 114465: expected 4 fields, saw 5\\n'\n",
      "b'Skipping line 142496: expected 4 fields, saw 8\\nSkipping line 189732: expected 4 fields, saw 6\\nSkipping line 245218: expected 4 fields, saw 7\\n'\n",
      "b'Skipping line 388430: expected 4 fields, saw 5\\n'\n",
      "C:\\Users\\SATYAM\\AppData\\Local\\Temp\\ipykernel_7044\\1000854607.py:1: DtypeWarning: Columns (2,3) have mixed types. Specify dtype option on import or set low_memory=False.\n",
      "  df = pd.read_csv(r'UScomments.csv', error_bad_lines=False)\n"
     ]
    },
    {
     "data": {
      "text/html": [
       "<div>\n",
       "<style scoped>\n",
       "    .dataframe tbody tr th:only-of-type {\n",
       "        vertical-align: middle;\n",
       "    }\n",
       "\n",
       "    .dataframe tbody tr th {\n",
       "        vertical-align: top;\n",
       "    }\n",
       "\n",
       "    .dataframe thead th {\n",
       "        text-align: right;\n",
       "    }\n",
       "</style>\n",
       "<table border=\"1\" class=\"dataframe\">\n",
       "  <thead>\n",
       "    <tr style=\"text-align: right;\">\n",
       "      <th></th>\n",
       "      <th>video_id</th>\n",
       "      <th>comment_text</th>\n",
       "      <th>likes</th>\n",
       "      <th>replies</th>\n",
       "    </tr>\n",
       "  </thead>\n",
       "  <tbody>\n",
       "    <tr>\n",
       "      <th>0</th>\n",
       "      <td>XpVt6Z1Gjjo</td>\n",
       "      <td>Logan Paul it's yo big day ‼️‼️‼️</td>\n",
       "      <td>4</td>\n",
       "      <td>0</td>\n",
       "    </tr>\n",
       "    <tr>\n",
       "      <th>1</th>\n",
       "      <td>XpVt6Z1Gjjo</td>\n",
       "      <td>I've been following you from the start of your...</td>\n",
       "      <td>3</td>\n",
       "      <td>0</td>\n",
       "    </tr>\n",
       "    <tr>\n",
       "      <th>2</th>\n",
       "      <td>XpVt6Z1Gjjo</td>\n",
       "      <td>Say hi to Kong and maverick for me</td>\n",
       "      <td>3</td>\n",
       "      <td>0</td>\n",
       "    </tr>\n",
       "    <tr>\n",
       "      <th>3</th>\n",
       "      <td>XpVt6Z1Gjjo</td>\n",
       "      <td>MY FAN . attendance</td>\n",
       "      <td>3</td>\n",
       "      <td>0</td>\n",
       "    </tr>\n",
       "    <tr>\n",
       "      <th>4</th>\n",
       "      <td>XpVt6Z1Gjjo</td>\n",
       "      <td>trending 😉</td>\n",
       "      <td>3</td>\n",
       "      <td>0</td>\n",
       "    </tr>\n",
       "  </tbody>\n",
       "</table>\n",
       "</div>"
      ],
      "text/plain": [
       "      video_id                                       comment_text likes  \\\n",
       "0  XpVt6Z1Gjjo                  Logan Paul it's yo big day ‼️‼️‼️     4   \n",
       "1  XpVt6Z1Gjjo  I've been following you from the start of your...     3   \n",
       "2  XpVt6Z1Gjjo                 Say hi to Kong and maverick for me     3   \n",
       "3  XpVt6Z1Gjjo                                MY FAN . attendance     3   \n",
       "4  XpVt6Z1Gjjo                                         trending 😉     3   \n",
       "\n",
       "  replies  \n",
       "0       0  \n",
       "1       0  \n",
       "2       0  \n",
       "3       0  \n",
       "4       0  "
      ]
     },
     "execution_count": 2,
     "metadata": {},
     "output_type": "execute_result"
    }
   ],
   "source": [
    "df = pd.read_csv(r'UScomments.csv', error_bad_lines=False)\n",
    "df.head()"
   ]
  },
  {
   "cell_type": "code",
   "execution_count": 3,
   "id": "42582287",
   "metadata": {},
   "outputs": [
    {
     "data": {
      "text/plain": [
       "(691400, 4)"
      ]
     },
     "execution_count": 3,
     "metadata": {},
     "output_type": "execute_result"
    }
   ],
   "source": [
    "df.shape"
   ]
  },
  {
   "cell_type": "code",
   "execution_count": 4,
   "id": "c826e0b4",
   "metadata": {},
   "outputs": [
    {
     "data": {
      "text/plain": [
       "video_id         0\n",
       "comment_text    25\n",
       "likes            0\n",
       "replies          0\n",
       "dtype: int64"
      ]
     },
     "execution_count": 4,
     "metadata": {},
     "output_type": "execute_result"
    }
   ],
   "source": [
    "df.isnull().sum()"
   ]
  },
  {
   "cell_type": "code",
   "execution_count": 5,
   "id": "d7a6b40f",
   "metadata": {},
   "outputs": [],
   "source": [
    "df.dropna(inplace=True)\n",
    "# Clean values if some values are missing"
   ]
  },
  {
   "cell_type": "code",
   "execution_count": 6,
   "id": "c6da0cc2",
   "metadata": {},
   "outputs": [
    {
     "data": {
      "text/plain": [
       "video_id        0\n",
       "comment_text    0\n",
       "likes           0\n",
       "replies         0\n",
       "dtype: int64"
      ]
     },
     "execution_count": 6,
     "metadata": {},
     "output_type": "execute_result"
    }
   ],
   "source": [
    "df.isnull().sum()"
   ]
  },
  {
   "cell_type": "markdown",
   "id": "52a6b919",
   "metadata": {},
   "source": [
    "# Sentiment Analysis\n",
    "Analyzing the sentiments of the user"
   ]
  },
  {
   "cell_type": "code",
   "execution_count": 7,
   "id": "de439f2e",
   "metadata": {},
   "outputs": [],
   "source": [
    "from textblob import TextBlob"
   ]
  },
  {
   "cell_type": "code",
   "execution_count": 8,
   "id": "2bd15350",
   "metadata": {},
   "outputs": [
    {
     "data": {
      "text/plain": [
       "0.0"
      ]
     },
     "execution_count": 8,
     "metadata": {},
     "output_type": "execute_result"
    }
   ],
   "source": [
    "TextBlob(\"Logan Paul it's yo big day ‼️‼️‼️\").sentiment.polarity"
   ]
  },
  {
   "cell_type": "code",
   "execution_count": 9,
   "id": "e9e6bf55",
   "metadata": {},
   "outputs": [],
   "source": [
    "sample_df = df[0:1000]"
   ]
  },
  {
   "cell_type": "code",
   "execution_count": 10,
   "id": "f60f4d6b",
   "metadata": {},
   "outputs": [
    {
     "data": {
      "text/plain": [
       "(1000, 4)"
      ]
     },
     "execution_count": 10,
     "metadata": {},
     "output_type": "execute_result"
    }
   ],
   "source": [
    "sample_df.shape"
   ]
  },
  {
   "cell_type": "code",
   "execution_count": 11,
   "id": "9b78bbe0",
   "metadata": {
    "scrolled": true
   },
   "outputs": [],
   "source": [
    "polarity = []\n",
    "\n",
    "for comment in df['comment_text']:\n",
    "    try:\n",
    "        polarity.append(TextBlob(comment).sentiment.polarity)\n",
    "    except:\n",
    "        polarity.append(0)"
   ]
  },
  {
   "cell_type": "code",
   "execution_count": 12,
   "id": "80f40a86",
   "metadata": {},
   "outputs": [
    {
     "data": {
      "text/plain": [
       "691375"
      ]
     },
     "execution_count": 12,
     "metadata": {},
     "output_type": "execute_result"
    }
   ],
   "source": [
    "len(polarity)"
   ]
  },
  {
   "cell_type": "code",
   "execution_count": 13,
   "id": "316fad4d",
   "metadata": {},
   "outputs": [],
   "source": [
    "df['polarity'] = polarity"
   ]
  },
  {
   "cell_type": "code",
   "execution_count": 14,
   "id": "2c746e2a",
   "metadata": {},
   "outputs": [
    {
     "data": {
      "text/html": [
       "<div>\n",
       "<style scoped>\n",
       "    .dataframe tbody tr th:only-of-type {\n",
       "        vertical-align: middle;\n",
       "    }\n",
       "\n",
       "    .dataframe tbody tr th {\n",
       "        vertical-align: top;\n",
       "    }\n",
       "\n",
       "    .dataframe thead th {\n",
       "        text-align: right;\n",
       "    }\n",
       "</style>\n",
       "<table border=\"1\" class=\"dataframe\">\n",
       "  <thead>\n",
       "    <tr style=\"text-align: right;\">\n",
       "      <th></th>\n",
       "      <th>video_id</th>\n",
       "      <th>comment_text</th>\n",
       "      <th>likes</th>\n",
       "      <th>replies</th>\n",
       "      <th>polarity</th>\n",
       "    </tr>\n",
       "  </thead>\n",
       "  <tbody>\n",
       "    <tr>\n",
       "      <th>0</th>\n",
       "      <td>XpVt6Z1Gjjo</td>\n",
       "      <td>Logan Paul it's yo big day ‼️‼️‼️</td>\n",
       "      <td>4</td>\n",
       "      <td>0</td>\n",
       "      <td>0.0</td>\n",
       "    </tr>\n",
       "    <tr>\n",
       "      <th>1</th>\n",
       "      <td>XpVt6Z1Gjjo</td>\n",
       "      <td>I've been following you from the start of your...</td>\n",
       "      <td>3</td>\n",
       "      <td>0</td>\n",
       "      <td>0.0</td>\n",
       "    </tr>\n",
       "    <tr>\n",
       "      <th>2</th>\n",
       "      <td>XpVt6Z1Gjjo</td>\n",
       "      <td>Say hi to Kong and maverick for me</td>\n",
       "      <td>3</td>\n",
       "      <td>0</td>\n",
       "      <td>0.0</td>\n",
       "    </tr>\n",
       "    <tr>\n",
       "      <th>3</th>\n",
       "      <td>XpVt6Z1Gjjo</td>\n",
       "      <td>MY FAN . attendance</td>\n",
       "      <td>3</td>\n",
       "      <td>0</td>\n",
       "      <td>0.0</td>\n",
       "    </tr>\n",
       "    <tr>\n",
       "      <th>4</th>\n",
       "      <td>XpVt6Z1Gjjo</td>\n",
       "      <td>trending 😉</td>\n",
       "      <td>3</td>\n",
       "      <td>0</td>\n",
       "      <td>0.0</td>\n",
       "    </tr>\n",
       "  </tbody>\n",
       "</table>\n",
       "</div>"
      ],
      "text/plain": [
       "      video_id                                       comment_text likes  \\\n",
       "0  XpVt6Z1Gjjo                  Logan Paul it's yo big day ‼️‼️‼️     4   \n",
       "1  XpVt6Z1Gjjo  I've been following you from the start of your...     3   \n",
       "2  XpVt6Z1Gjjo                 Say hi to Kong and maverick for me     3   \n",
       "3  XpVt6Z1Gjjo                                MY FAN . attendance     3   \n",
       "4  XpVt6Z1Gjjo                                         trending 😉     3   \n",
       "\n",
       "  replies  polarity  \n",
       "0       0       0.0  \n",
       "1       0       0.0  \n",
       "2       0       0.0  \n",
       "3       0       0.0  \n",
       "4       0       0.0  "
      ]
     },
     "execution_count": 14,
     "metadata": {},
     "output_type": "execute_result"
    }
   ],
   "source": [
    "df.head()"
   ]
  },
  {
   "cell_type": "markdown",
   "id": "2a12d194",
   "metadata": {},
   "source": [
    "# Wordcloud Analysis\n",
    "\n",
    "Graphical representation of Text frequent words"
   ]
  },
  {
   "cell_type": "code",
   "execution_count": 15,
   "id": "be615ef9",
   "metadata": {},
   "outputs": [],
   "source": [
    "filter1 = df['polarity']==1"
   ]
  },
  {
   "cell_type": "code",
   "execution_count": 16,
   "id": "f916bc62",
   "metadata": {},
   "outputs": [
    {
     "data": {
      "text/html": [
       "<div>\n",
       "<style scoped>\n",
       "    .dataframe tbody tr th:only-of-type {\n",
       "        vertical-align: middle;\n",
       "    }\n",
       "\n",
       "    .dataframe tbody tr th {\n",
       "        vertical-align: top;\n",
       "    }\n",
       "\n",
       "    .dataframe thead th {\n",
       "        text-align: right;\n",
       "    }\n",
       "</style>\n",
       "<table border=\"1\" class=\"dataframe\">\n",
       "  <thead>\n",
       "    <tr style=\"text-align: right;\">\n",
       "      <th></th>\n",
       "      <th>video_id</th>\n",
       "      <th>comment_text</th>\n",
       "      <th>likes</th>\n",
       "      <th>replies</th>\n",
       "      <th>polarity</th>\n",
       "    </tr>\n",
       "  </thead>\n",
       "  <tbody>\n",
       "    <tr>\n",
       "      <th>64</th>\n",
       "      <td>XpVt6Z1Gjjo</td>\n",
       "      <td>yu are the best</td>\n",
       "      <td>1</td>\n",
       "      <td>0</td>\n",
       "      <td>1.0</td>\n",
       "    </tr>\n",
       "    <tr>\n",
       "      <th>156</th>\n",
       "      <td>cLdxuaxaQwc</td>\n",
       "      <td>Power is the disease.  Care is the cure.  Keep...</td>\n",
       "      <td>0</td>\n",
       "      <td>0</td>\n",
       "      <td>1.0</td>\n",
       "    </tr>\n",
       "    <tr>\n",
       "      <th>227</th>\n",
       "      <td>WYYvHb03Eog</td>\n",
       "      <td>YAS Can't wait to get it! I just need to sell ...</td>\n",
       "      <td>0</td>\n",
       "      <td>0</td>\n",
       "      <td>1.0</td>\n",
       "    </tr>\n",
       "    <tr>\n",
       "      <th>307</th>\n",
       "      <td>sjlHnJvXdQs</td>\n",
       "      <td>This is priceless</td>\n",
       "      <td>0</td>\n",
       "      <td>0</td>\n",
       "      <td>1.0</td>\n",
       "    </tr>\n",
       "    <tr>\n",
       "      <th>319</th>\n",
       "      <td>sjlHnJvXdQs</td>\n",
       "      <td>Summed up perfectly</td>\n",
       "      <td>0</td>\n",
       "      <td>0</td>\n",
       "      <td>1.0</td>\n",
       "    </tr>\n",
       "    <tr>\n",
       "      <th>...</th>\n",
       "      <td>...</td>\n",
       "      <td>...</td>\n",
       "      <td>...</td>\n",
       "      <td>...</td>\n",
       "      <td>...</td>\n",
       "    </tr>\n",
       "    <tr>\n",
       "      <th>691373</th>\n",
       "      <td>EoejGgUNmVU</td>\n",
       "      <td>Perfect. Every version</td>\n",
       "      <td>0</td>\n",
       "      <td>0</td>\n",
       "      <td>1.0</td>\n",
       "    </tr>\n",
       "    <tr>\n",
       "      <th>691383</th>\n",
       "      <td>EoejGgUNmVU</td>\n",
       "      <td>Me encantaaaaa &lt;3</td>\n",
       "      <td>0</td>\n",
       "      <td>0</td>\n",
       "      <td>1.0</td>\n",
       "    </tr>\n",
       "    <tr>\n",
       "      <th>691388</th>\n",
       "      <td>EoejGgUNmVU</td>\n",
       "      <td>Best song ever 🤘</td>\n",
       "      <td>0</td>\n",
       "      <td>0</td>\n",
       "      <td>1.0</td>\n",
       "    </tr>\n",
       "    <tr>\n",
       "      <th>691389</th>\n",
       "      <td>EoejGgUNmVU</td>\n",
       "      <td>excellent performance</td>\n",
       "      <td>0</td>\n",
       "      <td>0</td>\n",
       "      <td>1.0</td>\n",
       "    </tr>\n",
       "    <tr>\n",
       "      <th>691393</th>\n",
       "      <td>EoejGgUNmVU</td>\n",
       "      <td>&lt;3</td>\n",
       "      <td>0</td>\n",
       "      <td>0</td>\n",
       "      <td>1.0</td>\n",
       "    </tr>\n",
       "  </tbody>\n",
       "</table>\n",
       "<p>19390 rows × 5 columns</p>\n",
       "</div>"
      ],
      "text/plain": [
       "           video_id                                       comment_text likes  \\\n",
       "64      XpVt6Z1Gjjo                                    yu are the best     1   \n",
       "156     cLdxuaxaQwc  Power is the disease.  Care is the cure.  Keep...     0   \n",
       "227     WYYvHb03Eog  YAS Can't wait to get it! I just need to sell ...     0   \n",
       "307     sjlHnJvXdQs                                  This is priceless     0   \n",
       "319     sjlHnJvXdQs                                Summed up perfectly     0   \n",
       "...             ...                                                ...   ...   \n",
       "691373  EoejGgUNmVU                             Perfect. Every version     0   \n",
       "691383  EoejGgUNmVU                                  Me encantaaaaa <3     0   \n",
       "691388  EoejGgUNmVU                                   Best song ever 🤘     0   \n",
       "691389  EoejGgUNmVU                              excellent performance     0   \n",
       "691393  EoejGgUNmVU                                                 <3     0   \n",
       "\n",
       "       replies  polarity  \n",
       "64           0       1.0  \n",
       "156          0       1.0  \n",
       "227          0       1.0  \n",
       "307          0       1.0  \n",
       "319          0       1.0  \n",
       "...        ...       ...  \n",
       "691373       0       1.0  \n",
       "691383       0       1.0  \n",
       "691388       0       1.0  \n",
       "691389       0       1.0  \n",
       "691393       0       1.0  \n",
       "\n",
       "[19390 rows x 5 columns]"
      ]
     },
     "execution_count": 16,
     "metadata": {},
     "output_type": "execute_result"
    }
   ],
   "source": [
    "df[filter1]"
   ]
  },
  {
   "cell_type": "code",
   "execution_count": 17,
   "id": "70f7244d",
   "metadata": {},
   "outputs": [],
   "source": [
    "filter1 = df['polarity'] == 1"
   ]
  },
  {
   "cell_type": "code",
   "execution_count": 18,
   "id": "950f4774",
   "metadata": {
    "scrolled": true
   },
   "outputs": [],
   "source": [
    "comments_positive = df[filter1]"
   ]
  },
  {
   "cell_type": "code",
   "execution_count": 19,
   "id": "a4fc3662",
   "metadata": {},
   "outputs": [
    {
     "data": {
      "text/html": [
       "<div>\n",
       "<style scoped>\n",
       "    .dataframe tbody tr th:only-of-type {\n",
       "        vertical-align: middle;\n",
       "    }\n",
       "\n",
       "    .dataframe tbody tr th {\n",
       "        vertical-align: top;\n",
       "    }\n",
       "\n",
       "    .dataframe thead th {\n",
       "        text-align: right;\n",
       "    }\n",
       "</style>\n",
       "<table border=\"1\" class=\"dataframe\">\n",
       "  <thead>\n",
       "    <tr style=\"text-align: right;\">\n",
       "      <th></th>\n",
       "      <th>video_id</th>\n",
       "      <th>comment_text</th>\n",
       "      <th>likes</th>\n",
       "      <th>replies</th>\n",
       "      <th>polarity</th>\n",
       "    </tr>\n",
       "  </thead>\n",
       "  <tbody>\n",
       "    <tr>\n",
       "      <th>64</th>\n",
       "      <td>XpVt6Z1Gjjo</td>\n",
       "      <td>yu are the best</td>\n",
       "      <td>1</td>\n",
       "      <td>0</td>\n",
       "      <td>1.0</td>\n",
       "    </tr>\n",
       "    <tr>\n",
       "      <th>156</th>\n",
       "      <td>cLdxuaxaQwc</td>\n",
       "      <td>Power is the disease.  Care is the cure.  Keep...</td>\n",
       "      <td>0</td>\n",
       "      <td>0</td>\n",
       "      <td>1.0</td>\n",
       "    </tr>\n",
       "    <tr>\n",
       "      <th>227</th>\n",
       "      <td>WYYvHb03Eog</td>\n",
       "      <td>YAS Can't wait to get it! I just need to sell ...</td>\n",
       "      <td>0</td>\n",
       "      <td>0</td>\n",
       "      <td>1.0</td>\n",
       "    </tr>\n",
       "    <tr>\n",
       "      <th>307</th>\n",
       "      <td>sjlHnJvXdQs</td>\n",
       "      <td>This is priceless</td>\n",
       "      <td>0</td>\n",
       "      <td>0</td>\n",
       "      <td>1.0</td>\n",
       "    </tr>\n",
       "    <tr>\n",
       "      <th>319</th>\n",
       "      <td>sjlHnJvXdQs</td>\n",
       "      <td>Summed up perfectly</td>\n",
       "      <td>0</td>\n",
       "      <td>0</td>\n",
       "      <td>1.0</td>\n",
       "    </tr>\n",
       "    <tr>\n",
       "      <th>...</th>\n",
       "      <td>...</td>\n",
       "      <td>...</td>\n",
       "      <td>...</td>\n",
       "      <td>...</td>\n",
       "      <td>...</td>\n",
       "    </tr>\n",
       "    <tr>\n",
       "      <th>691373</th>\n",
       "      <td>EoejGgUNmVU</td>\n",
       "      <td>Perfect. Every version</td>\n",
       "      <td>0</td>\n",
       "      <td>0</td>\n",
       "      <td>1.0</td>\n",
       "    </tr>\n",
       "    <tr>\n",
       "      <th>691383</th>\n",
       "      <td>EoejGgUNmVU</td>\n",
       "      <td>Me encantaaaaa &lt;3</td>\n",
       "      <td>0</td>\n",
       "      <td>0</td>\n",
       "      <td>1.0</td>\n",
       "    </tr>\n",
       "    <tr>\n",
       "      <th>691388</th>\n",
       "      <td>EoejGgUNmVU</td>\n",
       "      <td>Best song ever 🤘</td>\n",
       "      <td>0</td>\n",
       "      <td>0</td>\n",
       "      <td>1.0</td>\n",
       "    </tr>\n",
       "    <tr>\n",
       "      <th>691389</th>\n",
       "      <td>EoejGgUNmVU</td>\n",
       "      <td>excellent performance</td>\n",
       "      <td>0</td>\n",
       "      <td>0</td>\n",
       "      <td>1.0</td>\n",
       "    </tr>\n",
       "    <tr>\n",
       "      <th>691393</th>\n",
       "      <td>EoejGgUNmVU</td>\n",
       "      <td>&lt;3</td>\n",
       "      <td>0</td>\n",
       "      <td>0</td>\n",
       "      <td>1.0</td>\n",
       "    </tr>\n",
       "  </tbody>\n",
       "</table>\n",
       "<p>19390 rows × 5 columns</p>\n",
       "</div>"
      ],
      "text/plain": [
       "           video_id                                       comment_text likes  \\\n",
       "64      XpVt6Z1Gjjo                                    yu are the best     1   \n",
       "156     cLdxuaxaQwc  Power is the disease.  Care is the cure.  Keep...     0   \n",
       "227     WYYvHb03Eog  YAS Can't wait to get it! I just need to sell ...     0   \n",
       "307     sjlHnJvXdQs                                  This is priceless     0   \n",
       "319     sjlHnJvXdQs                                Summed up perfectly     0   \n",
       "...             ...                                                ...   ...   \n",
       "691373  EoejGgUNmVU                             Perfect. Every version     0   \n",
       "691383  EoejGgUNmVU                                  Me encantaaaaa <3     0   \n",
       "691388  EoejGgUNmVU                                   Best song ever 🤘     0   \n",
       "691389  EoejGgUNmVU                              excellent performance     0   \n",
       "691393  EoejGgUNmVU                                                 <3     0   \n",
       "\n",
       "       replies  polarity  \n",
       "64           0       1.0  \n",
       "156          0       1.0  \n",
       "227          0       1.0  \n",
       "307          0       1.0  \n",
       "319          0       1.0  \n",
       "...        ...       ...  \n",
       "691373       0       1.0  \n",
       "691383       0       1.0  \n",
       "691388       0       1.0  \n",
       "691389       0       1.0  \n",
       "691393       0       1.0  \n",
       "\n",
       "[19390 rows x 5 columns]"
      ]
     },
     "execution_count": 19,
     "metadata": {},
     "output_type": "execute_result"
    }
   ],
   "source": [
    "comments_positive"
   ]
  },
  {
   "cell_type": "code",
   "execution_count": 20,
   "id": "5106c650",
   "metadata": {},
   "outputs": [],
   "source": [
    "filter2 = df['polarity'] == -1"
   ]
  },
  {
   "cell_type": "code",
   "execution_count": 21,
   "id": "ebb87a79",
   "metadata": {},
   "outputs": [],
   "source": [
    "comments_negative = df[filter2]"
   ]
  },
  {
   "cell_type": "code",
   "execution_count": 22,
   "id": "11040261",
   "metadata": {},
   "outputs": [
    {
     "data": {
      "text/html": [
       "<div>\n",
       "<style scoped>\n",
       "    .dataframe tbody tr th:only-of-type {\n",
       "        vertical-align: middle;\n",
       "    }\n",
       "\n",
       "    .dataframe tbody tr th {\n",
       "        vertical-align: top;\n",
       "    }\n",
       "\n",
       "    .dataframe thead th {\n",
       "        text-align: right;\n",
       "    }\n",
       "</style>\n",
       "<table border=\"1\" class=\"dataframe\">\n",
       "  <thead>\n",
       "    <tr style=\"text-align: right;\">\n",
       "      <th></th>\n",
       "      <th>video_id</th>\n",
       "      <th>comment_text</th>\n",
       "      <th>likes</th>\n",
       "      <th>replies</th>\n",
       "      <th>polarity</th>\n",
       "    </tr>\n",
       "  </thead>\n",
       "  <tbody>\n",
       "    <tr>\n",
       "      <th>512</th>\n",
       "      <td>8wNr-NQImFg</td>\n",
       "      <td>BEN CARSON IS THE MAN!!!!! THEY HATE HIM CAUSE...</td>\n",
       "      <td>0</td>\n",
       "      <td>0</td>\n",
       "      <td>-1.0</td>\n",
       "    </tr>\n",
       "    <tr>\n",
       "      <th>562</th>\n",
       "      <td>8wNr-NQImFg</td>\n",
       "      <td>Well… The brain surgeon Ben Carson just proved...</td>\n",
       "      <td>0</td>\n",
       "      <td>0</td>\n",
       "      <td>-1.0</td>\n",
       "    </tr>\n",
       "    <tr>\n",
       "      <th>952</th>\n",
       "      <td>Ayb_2qbZHm4</td>\n",
       "      <td>WHY DID YOU MAKE FURRY FORCE?! SO NASTY!!!</td>\n",
       "      <td>0</td>\n",
       "      <td>0</td>\n",
       "      <td>-1.0</td>\n",
       "    </tr>\n",
       "    <tr>\n",
       "      <th>1371</th>\n",
       "      <td>vu_9muoxT50</td>\n",
       "      <td>WTF BRUH!!!!!!</td>\n",
       "      <td>0</td>\n",
       "      <td>0</td>\n",
       "      <td>-1.0</td>\n",
       "    </tr>\n",
       "    <tr>\n",
       "      <th>1391</th>\n",
       "      <td>vu_9muoxT50</td>\n",
       "      <td>cheeseus christ thats insane!!!</td>\n",
       "      <td>0</td>\n",
       "      <td>0</td>\n",
       "      <td>-1.0</td>\n",
       "    </tr>\n",
       "    <tr>\n",
       "      <th>...</th>\n",
       "      <td>...</td>\n",
       "      <td>...</td>\n",
       "      <td>...</td>\n",
       "      <td>...</td>\n",
       "      <td>...</td>\n",
       "    </tr>\n",
       "    <tr>\n",
       "      <th>690788</th>\n",
       "      <td>Hlt3rA-oDao</td>\n",
       "      <td>Like Kelly she evil</td>\n",
       "      <td>0</td>\n",
       "      <td>0</td>\n",
       "      <td>-1.0</td>\n",
       "    </tr>\n",
       "    <tr>\n",
       "      <th>690865</th>\n",
       "      <td>Ni5Uc-DdMqk</td>\n",
       "      <td>R U FUCKING KIDDING ME?!?!?!?!</td>\n",
       "      <td>11</td>\n",
       "      <td>1</td>\n",
       "      <td>-1.0</td>\n",
       "    </tr>\n",
       "    <tr>\n",
       "      <th>691073</th>\n",
       "      <td>4kmSATD25iY</td>\n",
       "      <td>This is horribly offensive please report</td>\n",
       "      <td>0</td>\n",
       "      <td>0</td>\n",
       "      <td>-1.0</td>\n",
       "    </tr>\n",
       "    <tr>\n",
       "      <th>691180</th>\n",
       "      <td>xlu6i6lT_vk</td>\n",
       "      <td>Sink holes looks terrifying sinkholes sink you...</td>\n",
       "      <td>0</td>\n",
       "      <td>0</td>\n",
       "      <td>-1.0</td>\n",
       "    </tr>\n",
       "    <tr>\n",
       "      <th>691224</th>\n",
       "      <td>qRoVlH1OcI4</td>\n",
       "      <td>Trump talked to the president of US Virgin Isl...</td>\n",
       "      <td>0</td>\n",
       "      <td>0</td>\n",
       "      <td>-1.0</td>\n",
       "    </tr>\n",
       "  </tbody>\n",
       "</table>\n",
       "<p>3508 rows × 5 columns</p>\n",
       "</div>"
      ],
      "text/plain": [
       "           video_id                                       comment_text likes  \\\n",
       "512     8wNr-NQImFg  BEN CARSON IS THE MAN!!!!! THEY HATE HIM CAUSE...     0   \n",
       "562     8wNr-NQImFg  Well… The brain surgeon Ben Carson just proved...     0   \n",
       "952     Ayb_2qbZHm4         WHY DID YOU MAKE FURRY FORCE?! SO NASTY!!!     0   \n",
       "1371    vu_9muoxT50                                     WTF BRUH!!!!!!     0   \n",
       "1391    vu_9muoxT50                    cheeseus christ thats insane!!!     0   \n",
       "...             ...                                                ...   ...   \n",
       "690788  Hlt3rA-oDao                                Like Kelly she evil     0   \n",
       "690865  Ni5Uc-DdMqk                     R U FUCKING KIDDING ME?!?!?!?!    11   \n",
       "691073  4kmSATD25iY           This is horribly offensive please report     0   \n",
       "691180  xlu6i6lT_vk  Sink holes looks terrifying sinkholes sink you...     0   \n",
       "691224  qRoVlH1OcI4  Trump talked to the president of US Virgin Isl...     0   \n",
       "\n",
       "       replies  polarity  \n",
       "512          0      -1.0  \n",
       "562          0      -1.0  \n",
       "952          0      -1.0  \n",
       "1371         0      -1.0  \n",
       "1391         0      -1.0  \n",
       "...        ...       ...  \n",
       "690788       0      -1.0  \n",
       "690865       1      -1.0  \n",
       "691073       0      -1.0  \n",
       "691180       0      -1.0  \n",
       "691224       0      -1.0  \n",
       "\n",
       "[3508 rows x 5 columns]"
      ]
     },
     "execution_count": 22,
     "metadata": {},
     "output_type": "execute_result"
    }
   ],
   "source": [
    "comments_negative"
   ]
  },
  {
   "cell_type": "code",
   "execution_count": 23,
   "id": "e5411a76",
   "metadata": {},
   "outputs": [],
   "source": [
    "from wordcloud import WordCloud, STOPWORDS"
   ]
  },
  {
   "cell_type": "markdown",
   "id": "4027ba36",
   "metadata": {},
   "source": [
    "STOPWORDS are used to make meaningless that helps to does not any affect of these words\n",
    "like is, are, am, to, the, as, up"
   ]
  },
  {
   "cell_type": "code",
   "execution_count": 24,
   "id": "4184ba29",
   "metadata": {},
   "outputs": [
    {
     "data": {
      "text/plain": [
       "{'a',\n",
       " 'about',\n",
       " 'above',\n",
       " 'after',\n",
       " 'again',\n",
       " 'against',\n",
       " 'all',\n",
       " 'also',\n",
       " 'am',\n",
       " 'an',\n",
       " 'and',\n",
       " 'any',\n",
       " 'are',\n",
       " \"aren't\",\n",
       " 'as',\n",
       " 'at',\n",
       " 'be',\n",
       " 'because',\n",
       " 'been',\n",
       " 'before',\n",
       " 'being',\n",
       " 'below',\n",
       " 'between',\n",
       " 'both',\n",
       " 'but',\n",
       " 'by',\n",
       " 'can',\n",
       " \"can't\",\n",
       " 'cannot',\n",
       " 'com',\n",
       " 'could',\n",
       " \"couldn't\",\n",
       " 'did',\n",
       " \"didn't\",\n",
       " 'do',\n",
       " 'does',\n",
       " \"doesn't\",\n",
       " 'doing',\n",
       " \"don't\",\n",
       " 'down',\n",
       " 'during',\n",
       " 'each',\n",
       " 'else',\n",
       " 'ever',\n",
       " 'few',\n",
       " 'for',\n",
       " 'from',\n",
       " 'further',\n",
       " 'get',\n",
       " 'had',\n",
       " \"hadn't\",\n",
       " 'has',\n",
       " \"hasn't\",\n",
       " 'have',\n",
       " \"haven't\",\n",
       " 'having',\n",
       " 'he',\n",
       " \"he'd\",\n",
       " \"he'll\",\n",
       " \"he's\",\n",
       " 'hence',\n",
       " 'her',\n",
       " 'here',\n",
       " \"here's\",\n",
       " 'hers',\n",
       " 'herself',\n",
       " 'him',\n",
       " 'himself',\n",
       " 'his',\n",
       " 'how',\n",
       " \"how's\",\n",
       " 'however',\n",
       " 'http',\n",
       " 'i',\n",
       " \"i'd\",\n",
       " \"i'll\",\n",
       " \"i'm\",\n",
       " \"i've\",\n",
       " 'if',\n",
       " 'in',\n",
       " 'into',\n",
       " 'is',\n",
       " \"isn't\",\n",
       " 'it',\n",
       " \"it's\",\n",
       " 'its',\n",
       " 'itself',\n",
       " 'just',\n",
       " 'k',\n",
       " \"let's\",\n",
       " 'like',\n",
       " 'me',\n",
       " 'more',\n",
       " 'most',\n",
       " \"mustn't\",\n",
       " 'my',\n",
       " 'myself',\n",
       " 'no',\n",
       " 'nor',\n",
       " 'not',\n",
       " 'of',\n",
       " 'off',\n",
       " 'on',\n",
       " 'once',\n",
       " 'only',\n",
       " 'or',\n",
       " 'other',\n",
       " 'otherwise',\n",
       " 'ought',\n",
       " 'our',\n",
       " 'ours',\n",
       " 'ourselves',\n",
       " 'out',\n",
       " 'over',\n",
       " 'own',\n",
       " 'r',\n",
       " 'same',\n",
       " 'shall',\n",
       " \"shan't\",\n",
       " 'she',\n",
       " \"she'd\",\n",
       " \"she'll\",\n",
       " \"she's\",\n",
       " 'should',\n",
       " \"shouldn't\",\n",
       " 'since',\n",
       " 'so',\n",
       " 'some',\n",
       " 'such',\n",
       " 'than',\n",
       " 'that',\n",
       " \"that's\",\n",
       " 'the',\n",
       " 'their',\n",
       " 'theirs',\n",
       " 'them',\n",
       " 'themselves',\n",
       " 'then',\n",
       " 'there',\n",
       " \"there's\",\n",
       " 'therefore',\n",
       " 'these',\n",
       " 'they',\n",
       " \"they'd\",\n",
       " \"they'll\",\n",
       " \"they're\",\n",
       " \"they've\",\n",
       " 'this',\n",
       " 'those',\n",
       " 'through',\n",
       " 'to',\n",
       " 'too',\n",
       " 'under',\n",
       " 'until',\n",
       " 'up',\n",
       " 'very',\n",
       " 'was',\n",
       " \"wasn't\",\n",
       " 'we',\n",
       " \"we'd\",\n",
       " \"we'll\",\n",
       " \"we're\",\n",
       " \"we've\",\n",
       " 'were',\n",
       " \"weren't\",\n",
       " 'what',\n",
       " \"what's\",\n",
       " 'when',\n",
       " \"when's\",\n",
       " 'where',\n",
       " \"where's\",\n",
       " 'which',\n",
       " 'while',\n",
       " 'who',\n",
       " \"who's\",\n",
       " 'whom',\n",
       " 'why',\n",
       " \"why's\",\n",
       " 'with',\n",
       " \"won't\",\n",
       " 'would',\n",
       " \"wouldn't\",\n",
       " 'www',\n",
       " 'you',\n",
       " \"you'd\",\n",
       " \"you'll\",\n",
       " \"you're\",\n",
       " \"you've\",\n",
       " 'your',\n",
       " 'yours',\n",
       " 'yourself',\n",
       " 'yourselves'}"
      ]
     },
     "execution_count": 24,
     "metadata": {},
     "output_type": "execute_result"
    }
   ],
   "source": [
    "set(STOPWORDS)"
   ]
  },
  {
   "cell_type": "code",
   "execution_count": 25,
   "id": "948b6aae",
   "metadata": {
    "scrolled": true
   },
   "outputs": [
    {
     "data": {
      "text/plain": [
       "0                         Logan Paul it's yo big day ‼️‼️‼️\n",
       "1         I've been following you from the start of your...\n",
       "2                        Say hi to Kong and maverick for me\n",
       "3                                       MY FAN . attendance\n",
       "4                                                trending 😉\n",
       "                                ...                        \n",
       "691395                                               Лучшая\n",
       "691396    qu'est ce que j'aimerais que tu viennes à Roan...\n",
       "691397                            Ven a mexico! 😍 te amo LP\n",
       "691398                                      Islığı yeter...\n",
       "691399    Kocham tą piosenkę😍❤❤❤byłam zakochana po uszy ...\n",
       "Name: comment_text, Length: 691375, dtype: object"
      ]
     },
     "execution_count": 25,
     "metadata": {},
     "output_type": "execute_result"
    }
   ],
   "source": [
    "df['comment_text']"
   ]
  },
  {
   "cell_type": "code",
   "execution_count": 26,
   "id": "364a5630",
   "metadata": {
    "scrolled": true
   },
   "outputs": [
    {
     "data": {
      "text/plain": [
       "pandas.core.series.Series"
      ]
     },
     "execution_count": 26,
     "metadata": {},
     "output_type": "execute_result"
    }
   ],
   "source": [
    "type(df['comment_text'])"
   ]
  },
  {
   "cell_type": "code",
   "execution_count": 27,
   "id": "8a001550",
   "metadata": {},
   "outputs": [],
   "source": [
    "total_comments_positive = ' '.join(comments_positive['comment_text'])"
   ]
  },
  {
   "cell_type": "code",
   "execution_count": 28,
   "id": "fea0b77a",
   "metadata": {},
   "outputs": [],
   "source": [
    "wordcloud = WordCloud(stopwords=set(STOPWORDS)).generate(total_comments_positive)"
   ]
  },
  {
   "cell_type": "code",
   "execution_count": 29,
   "id": "7f2ac968",
   "metadata": {
    "scrolled": true
   },
   "outputs": [
    {
     "data": {
      "text/plain": [
       "(-0.5, 399.5, 199.5, -0.5)"
      ]
     },
     "execution_count": 29,
     "metadata": {},
     "output_type": "execute_result"
    },
    {
     "data": {
      "image/png": "[encoded data removed]",
      "text/plain": [
       "<Figure size 640x480 with 1 Axes>"
      ]
     },
     "metadata": {},
     "output_type": "display_data"
    }
   ],
   "source": [
    "plt.imshow(wordcloud)\n",
    "plt.axis('off')"
   ]
  },
  {
   "cell_type": "code",
   "execution_count": 30,
   "id": "0eb33bae",
   "metadata": {},
   "outputs": [],
   "source": [
    "total_comments_negative = ' '.join(comments_negative['comment_text'])"
   ]
  },
  {
   "cell_type": "code",
   "execution_count": 31,
   "id": "b96feddd",
   "metadata": {},
   "outputs": [],
   "source": [
    "wordcloud = WordCloud(stopwords=set(STOPWORDS)).generate(total_comments_negative)"
   ]
  },
  {
   "cell_type": "code",
   "execution_count": 32,
   "id": "654253f8",
   "metadata": {},
   "outputs": [
    {
     "data": {
      "text/plain": [
       "(-0.5, 399.5, 199.5, -0.5)"
      ]
     },
     "execution_count": 32,
     "metadata": {},
     "output_type": "execute_result"
    },
    {
     "data": {
      "image/png": "[encoded data removed]",
      "text/plain": [
       "<Figure size 640x480 with 1 Axes>"
      ]
     },
     "metadata": {},
     "output_type": "display_data"
    }
   ],
   "source": [
    "plt.imshow(wordcloud)\n",
    "plt.axis()"
   ]
  },
  {
   "cell_type": "markdown",
   "id": "84545019",
   "metadata": {},
   "source": [
    "# Emoji Analysis"
   ]
  },
  {
   "cell_type": "code",
   "execution_count": 33,
   "id": "7608f1c1",
   "metadata": {},
   "outputs": [],
   "source": [
    "import emoji"
   ]
  },
  {
   "cell_type": "code",
   "execution_count": 34,
   "id": "f99aecdb",
   "metadata": {},
   "outputs": [
    {
     "data": {
      "text/plain": [
       "'2.7.0'"
      ]
     },
     "execution_count": 34,
     "metadata": {},
     "output_type": "execute_result"
    }
   ],
   "source": [
    "emoji.__version__"
   ]
  },
  {
   "cell_type": "code",
   "execution_count": 35,
   "id": "e6680b93",
   "metadata": {},
   "outputs": [
    {
     "data": {
      "text/plain": [
       "0                    Logan Paul it's yo big day ‼️‼️‼️\n",
       "1    I've been following you from the start of your...\n",
       "2                   Say hi to Kong and maverick for me\n",
       "3                                  MY FAN . attendance\n",
       "4                                           trending 😉\n",
       "5                              #1 on trending AYYEEEEE\n",
       "6                                 The end though 😭👍🏻❤️\n",
       "Name: comment_text, dtype: object"
      ]
     },
     "execution_count": 35,
     "metadata": {},
     "output_type": "execute_result"
    }
   ],
   "source": [
    "df['comment_text'].head(7)"
   ]
  },
  {
   "cell_type": "code",
   "execution_count": 36,
   "id": "aa334fa6",
   "metadata": {},
   "outputs": [
    {
     "data": {
      "text/plain": [
       "['😉']"
      ]
     },
     "execution_count": 36,
     "metadata": {},
     "output_type": "execute_result"
    }
   ],
   "source": [
    "comment = 'trending 😉'     \n",
    "\n",
    "\n",
    "[char for char in comment if char in emoji.EMOJI_DATA]\n",
    "\n",
    "\n",
    "## This is also doing the same work. The upper one is list comprehension and the another one is using normal loop\n",
    "# emoji_list = []\n",
    "# for char in comment:\n",
    "#     if char in emoji.EMOJI_DATA:\n",
    "#         emoji_list.append(char)\n",
    "\n",
    "# emoji_list"
   ]
  },
  {
   "cell_type": "code",
   "execution_count": 37,
   "id": "59b27d71",
   "metadata": {},
   "outputs": [],
   "source": [
    "all_emojis_list = []\n",
    "\n",
    "for comment in df['comment_text'].dropna():\n",
    "    for char in comment:\n",
    "        if char in emoji.EMOJI_DATA:\n",
    "            all_emojis_list.append(char)"
   ]
  },
  {
   "cell_type": "code",
   "execution_count": 38,
   "id": "3a1b9a9d",
   "metadata": {},
   "outputs": [
    {
     "data": {
      "text/plain": [
       "['‼', '‼', '‼', '😉', '😭', '👍', '🏻', '❤', '😍', '💋']"
      ]
     },
     "execution_count": 38,
     "metadata": {},
     "output_type": "execute_result"
    }
   ],
   "source": [
    "all_emojis_list[:10]"
   ]
  },
  {
   "cell_type": "code",
   "execution_count": 39,
   "id": "f14db0d5",
   "metadata": {},
   "outputs": [
    {
     "data": {
      "text/plain": [
       "['‼', '‼', '‼', '😉', '😭', '👍', '🏻', '❤', '😍', '💋', '💙', '👍', '👈', '😂', '🔥']"
      ]
     },
     "execution_count": 39,
     "metadata": {},
     "output_type": "execute_result"
    }
   ],
   "source": [
    "all_emojis_list[0:15]"
   ]
  },
  {
   "cell_type": "code",
   "execution_count": 40,
   "id": "a437403e",
   "metadata": {},
   "outputs": [],
   "source": [
    "from collections import Counter"
   ]
  },
  {
   "cell_type": "code",
   "execution_count": 41,
   "id": "82acaa49",
   "metadata": {},
   "outputs": [
    {
     "data": {
      "text/plain": [
       "Counter({'😂': 36987,\n",
       "         '😍': 33453,\n",
       "         '❤': 31119,\n",
       "         '🔥': 8694,\n",
       "         '😭': 8398,\n",
       "         '👏': 5719,\n",
       "         '😘': 5545,\n",
       "         '👍': 5476,\n",
       "         '💖': 5359,\n",
       "         '💕': 5147,\n",
       "         '♥': 4909,\n",
       "         '😊': 3596,\n",
       "         '🏻': 3438,\n",
       "         '💜': 3429,\n",
       "         '😬': 3381,\n",
       "         '👌': 3112,\n",
       "         '💙': 2831,\n",
       "         '😢': 2672,\n",
       "         '🏼': 2549,\n",
       "         '🤣': 2279,\n",
       "         '🙌': 2233,\n",
       "         '😁': 2220,\n",
       "         '💗': 2144,\n",
       "         '😱': 2094,\n",
       "         '🙏': 1818,\n",
       "         '🌍': 1810,\n",
       "         '😀': 1734,\n",
       "         '💛': 1677,\n",
       "         '🏽': 1593,\n",
       "         '🤔': 1592,\n",
       "         '💓': 1540,\n",
       "         '😄': 1496,\n",
       "         '😩': 1472,\n",
       "         '💯': 1450,\n",
       "         '💞': 1420,\n",
       "         '😻': 1409,\n",
       "         '😎': 1358,\n",
       "         '💚': 1295,\n",
       "         '😃': 1235,\n",
       "         '😮': 1232,\n",
       "         '🏾': 1205,\n",
       "         '☺': 1180,\n",
       "         '😆': 1149,\n",
       "         '🐍': 1143,\n",
       "         '😅': 1070,\n",
       "         '😙': 1067,\n",
       "         '💿': 1031,\n",
       "         '😉': 998,\n",
       "         '💋': 968,\n",
       "         '💀': 926,\n",
       "         '💩': 925,\n",
       "         '🎶': 906,\n",
       "         '🤗': 896,\n",
       "         '✨': 889,\n",
       "         '🖕': 884,\n",
       "         '✌': 835,\n",
       "         '🔴': 824,\n",
       "         '🖤': 784,\n",
       "         '🔵': 759,\n",
       "         '😥': 742,\n",
       "         '🎃': 739,\n",
       "         '💘': 702,\n",
       "         '😫': 692,\n",
       "         '💪': 687,\n",
       "         '🎉': 684,\n",
       "         '👑': 678,\n",
       "         '👎': 673,\n",
       "         '😐': 644,\n",
       "         '😇': 640,\n",
       "         '😒': 629,\n",
       "         '💵': 628,\n",
       "         '🙄': 627,\n",
       "         '😏': 623,\n",
       "         '🌹': 622,\n",
       "         '🤘': 619,\n",
       "         '💔': 617,\n",
       "         '🎈': 610,\n",
       "         '😠': 599,\n",
       "         '😋': 596,\n",
       "         '💝': 592,\n",
       "         '😜': 573,\n",
       "         '🌟': 549,\n",
       "         '😔': 545,\n",
       "         '♀': 523,\n",
       "         '❣': 521,\n",
       "         '💟': 508,\n",
       "         '♂': 507,\n",
       "         '🏿': 501,\n",
       "         '😲': 496,\n",
       "         '👀': 495,\n",
       "         '💰': 488,\n",
       "         '😑': 487,\n",
       "         '😚': 482,\n",
       "         '😡': 478,\n",
       "         '😕': 453,\n",
       "         '🙂': 452,\n",
       "         '💦': 427,\n",
       "         '🍔': 418,\n",
       "         '😝': 413,\n",
       "         '😳': 398,\n",
       "         '😈': 393,\n",
       "         '🦄': 391,\n",
       "         '🤦': 390,\n",
       "         '🤤': 389,\n",
       "         '💃': 382,\n",
       "         '😣': 381,\n",
       "         '🐢': 380,\n",
       "         '👊': 379,\n",
       "         '😤': 378,\n",
       "         '😞': 364,\n",
       "         '🎤': 360,\n",
       "         '🌈': 359,\n",
       "         '😗': 354,\n",
       "         '🍂': 354,\n",
       "         '💥': 344,\n",
       "         '😌': 338,\n",
       "         '😨': 335,\n",
       "         '🤷': 334,\n",
       "         '🍗': 327,\n",
       "         '🐶': 325,\n",
       "         '💎': 316,\n",
       "         '🙈': 312,\n",
       "         '🤡': 305,\n",
       "         '🐺': 303,\n",
       "         '〰': 290,\n",
       "         '✊': 289,\n",
       "         '😖': 287,\n",
       "         '🎵': 284,\n",
       "         '🙋': 282,\n",
       "         '😓': 280,\n",
       "         '😵': 277,\n",
       "         '🤢': 274,\n",
       "         '👩': 270,\n",
       "         '👻': 268,\n",
       "         '😛': 266,\n",
       "         '🐝': 261,\n",
       "         '🍕': 258,\n",
       "         '🙃': 253,\n",
       "         '🍓': 252,\n",
       "         '😪': 249,\n",
       "         '💸': 235,\n",
       "         '📱': 231,\n",
       "         '😰': 231,\n",
       "         '🐐': 224,\n",
       "         '🍁': 223,\n",
       "         '👨': 212,\n",
       "         '‼': 211,\n",
       "         '🅱': 207,\n",
       "         '❄': 206,\n",
       "         '👉': 204,\n",
       "         '😹': 201,\n",
       "         '⭐': 198,\n",
       "         '💣': 197,\n",
       "         '👅': 194,\n",
       "         '👋': 193,\n",
       "         '😴': 187,\n",
       "         '🎧': 186,\n",
       "         '🌸': 185,\n",
       "         '💁': 180,\n",
       "         '💄': 177,\n",
       "         '😶': 176,\n",
       "         '🤓': 176,\n",
       "         '🚨': 176,\n",
       "         '👿': 175,\n",
       "         '☹': 173,\n",
       "         '✔': 169,\n",
       "         '🎇': 165,\n",
       "         '🍍': 165,\n",
       "         '👽': 162,\n",
       "         '🎼': 159,\n",
       "         '🎂': 156,\n",
       "         '☝': 156,\n",
       "         '☠': 156,\n",
       "         '😦': 154,\n",
       "         '🍫': 152,\n",
       "         '👇': 151,\n",
       "         '😯': 148,\n",
       "         '👐': 147,\n",
       "         '🎹': 147,\n",
       "         '🤙': 147,\n",
       "         '😧': 146,\n",
       "         '🍸': 146,\n",
       "         '✝': 146,\n",
       "         '👧': 145,\n",
       "         '🙅': 143,\n",
       "         '🔝': 143,\n",
       "         '⬜': 142,\n",
       "         '⬛': 141,\n",
       "         '❗': 140,\n",
       "         '🙊': 139,\n",
       "         '😷': 139,\n",
       "         '🙁': 133,\n",
       "         '⚡': 133,\n",
       "         '👣': 130,\n",
       "         '🐓': 129,\n",
       "         '🎸': 128,\n",
       "         '🐻': 128,\n",
       "         '💅': 127,\n",
       "         '🍑': 127,\n",
       "         '👈': 126,\n",
       "         '😿': 126,\n",
       "         '🎊': 125,\n",
       "         '💑': 125,\n",
       "         '🐸': 124,\n",
       "         '🔫': 123,\n",
       "         '😟': 122,\n",
       "         '🏆': 121,\n",
       "         '👸': 120,\n",
       "         '🐑': 117,\n",
       "         '✅': 115,\n",
       "         '🐫': 111,\n",
       "         '🤧': 109,\n",
       "         '🤑': 108,\n",
       "         '🐕': 108,\n",
       "         '🌼': 108,\n",
       "         '💫': 107,\n",
       "         '💲': 106,\n",
       "         '🐥': 104,\n",
       "         '🐱': 103,\n",
       "         '🐾': 103,\n",
       "         '🔷': 103,\n",
       "         '🔶': 103,\n",
       "         '🍾': 101,\n",
       "         '🍆': 100,\n",
       "         '✋': 99,\n",
       "         '🚀': 98,\n",
       "         '🎄': 97,\n",
       "         '🍉': 97,\n",
       "         '🙆': 96,\n",
       "         '🌎': 94,\n",
       "         '🍬': 91,\n",
       "         '👄': 90,\n",
       "         '🍭': 89,\n",
       "         '💐': 88,\n",
       "         '☁': 87,\n",
       "         '🎆': 86,\n",
       "         '🌻': 84,\n",
       "         '😺': 83,\n",
       "         '🍻': 83,\n",
       "         '👁': 83,\n",
       "         '👾': 81,\n",
       "         '🎁': 81,\n",
       "         '🌺': 81,\n",
       "         '🍷': 80,\n",
       "         '💍': 80,\n",
       "         '🏀': 78,\n",
       "         '🍇': 77,\n",
       "         '🔪': 76,\n",
       "         '🎥': 76,\n",
       "         '⚽': 76,\n",
       "         '😸': 75,\n",
       "         '☕': 75,\n",
       "         '🕺': 74,\n",
       "         '🍦': 73,\n",
       "         '🍰': 73,\n",
       "         '🌷': 73,\n",
       "         '🚫': 72,\n",
       "         '💌': 71,\n",
       "         '🐣': 71,\n",
       "         '👆': 70,\n",
       "         '🐦': 70,\n",
       "         '🌌': 70,\n",
       "         '🌮': 69,\n",
       "         '👦': 69,\n",
       "         '🍺': 69,\n",
       "         '🤞': 69,\n",
       "         '⚠': 68,\n",
       "         '📀': 68,\n",
       "         '💨': 67,\n",
       "         '🌚': 66,\n",
       "         '➡': 66,\n",
       "         '🙇': 64,\n",
       "         '🗣': 64,\n",
       "         '🌊': 62,\n",
       "         '🙀': 62,\n",
       "         '🤐': 61,\n",
       "         '🍩': 61,\n",
       "         '🌩': 61,\n",
       "         '🤠': 60,\n",
       "         '👰': 60,\n",
       "         '❌': 60,\n",
       "         '🍜': 59,\n",
       "         '🍪': 59,\n",
       "         '🍃': 59,\n",
       "         '🚪': 57,\n",
       "         '🐟': 57,\n",
       "         '☀': 57,\n",
       "         '🎱': 57,\n",
       "         '🍏': 56,\n",
       "         '🔊': 56,\n",
       "         '🎅': 55,\n",
       "         '🏳': 55,\n",
       "         '🤸': 55,\n",
       "         '🌏': 55,\n",
       "         '🌴': 54,\n",
       "         '👭': 54,\n",
       "         '🌞': 54,\n",
       "         '👶': 53,\n",
       "         '🐼': 52,\n",
       "         '🍼': 52,\n",
       "         '🍒': 51,\n",
       "         '🌯': 50,\n",
       "         '🤥': 50,\n",
       "         '🍎': 49,\n",
       "         '👯': 49,\n",
       "         '👹': 49,\n",
       "         '🏃': 49,\n",
       "         '🌰': 49,\n",
       "         '🔯': 49,\n",
       "         '🔸': 48,\n",
       "         '👺': 48,\n",
       "         '📚': 48,\n",
       "         '🐜': 48,\n",
       "         '🦋': 48,\n",
       "         '🍖': 48,\n",
       "         '™': 46,\n",
       "         '🎀': 46,\n",
       "         '▶': 44,\n",
       "         '💧': 43,\n",
       "         '🙉': 43,\n",
       "         '💭': 43,\n",
       "         '🎲': 43,\n",
       "         '🍟': 43,\n",
       "         '🍿': 43,\n",
       "         '🍊': 43,\n",
       "         '🍡': 43,\n",
       "         '🌋': 42,\n",
       "         '✈': 42,\n",
       "         '🌠': 41,\n",
       "         '🌙': 41,\n",
       "         '🦆': 41,\n",
       "         '🏅': 41,\n",
       "         '🥇': 41,\n",
       "         '🏉': 41,\n",
       "         '💴': 40,\n",
       "         '📣': 40,\n",
       "         '🎻': 40,\n",
       "         '🐩': 40,\n",
       "         '🌕': 40,\n",
       "         '🚮': 40,\n",
       "         '♨': 39,\n",
       "         '🌲': 39,\n",
       "         '👟': 39,\n",
       "         '👙': 39,\n",
       "         '👠': 39,\n",
       "         '🎯': 39,\n",
       "         '®': 39,\n",
       "         '🐰': 38,\n",
       "         '📁': 38,\n",
       "         '🐷': 38,\n",
       "         '🎟': 38,\n",
       "         '🔮': 37,\n",
       "         '🐤': 37,\n",
       "         '🕴': 37,\n",
       "         '🌽': 36,\n",
       "         '🏈': 36,\n",
       "         '👼': 36,\n",
       "         '🎮': 36,\n",
       "         '🐒': 36,\n",
       "         '🍐': 36,\n",
       "         '🕷': 35,\n",
       "         '🍀': 35,\n",
       "         '🍌': 35,\n",
       "         '🐈': 34,\n",
       "         '👫': 33,\n",
       "         '🥂': 33,\n",
       "         '🕊': 33,\n",
       "         '🤛': 33,\n",
       "         '🏐': 33,\n",
       "         '💏': 32,\n",
       "         '👬': 32,\n",
       "         '💶': 32,\n",
       "         '🔔': 32,\n",
       "         '🐏': 32,\n",
       "         '🌝': 32,\n",
       "         '🤕': 32,\n",
       "         '⬆': 32,\n",
       "         '☃': 32,\n",
       "         '👖': 31,\n",
       "         '💳': 31,\n",
       "         '🎬': 31,\n",
       "         '🐙': 31,\n",
       "         '💤': 31,\n",
       "         '🐧': 30,\n",
       "         '🐉': 30,\n",
       "         '🎩': 29,\n",
       "         '🐄': 29,\n",
       "         '🐖': 29,\n",
       "         '🖐': 29,\n",
       "         '🍚': 29,\n",
       "         '🍶': 29,\n",
       "         '🍹': 29,\n",
       "         '🤜': 29,\n",
       "         '🥀': 28,\n",
       "         '🐇': 28,\n",
       "         '🐲': 28,\n",
       "         '⚰': 28,\n",
       "         '🌶': 28,\n",
       "         '🔑': 28,\n",
       "         '🍳': 28,\n",
       "         '🧀': 28,\n",
       "         '🅰': 28,\n",
       "         '🏠': 28,\n",
       "         '🚒': 27,\n",
       "         '👃': 27,\n",
       "         '🚬': 27,\n",
       "         '💻': 27,\n",
       "         '☄': 27,\n",
       "         '🖖': 27,\n",
       "         '🤖': 27,\n",
       "         '🤒': 27,\n",
       "         '🌿': 27,\n",
       "         '😽': 26,\n",
       "         '👳': 26,\n",
       "         '📖': 26,\n",
       "         '🦁': 26,\n",
       "         '🌵': 26,\n",
       "         '🍝': 26,\n",
       "         '🍋': 26,\n",
       "         '⛑': 26,\n",
       "         '❕': 26,\n",
       "         '😼': 25,\n",
       "         '💷': 25,\n",
       "         '📂': 25,\n",
       "         '🏡': 25,\n",
       "         '🍯': 25,\n",
       "         '🔐': 25,\n",
       "         '🕵': 25,\n",
       "         '🚽': 25,\n",
       "         '🍈': 25,\n",
       "         '🍅': 25,\n",
       "         '🏄': 25,\n",
       "         '🌀': 24,\n",
       "         '🤴': 24,\n",
       "         '🌪': 24,\n",
       "         '👮': 24,\n",
       "         '👕': 24,\n",
       "         '😾': 24,\n",
       "         '👱': 24,\n",
       "         '👗': 24,\n",
       "         '🔬': 24,\n",
       "         '📹': 24,\n",
       "         '🐴': 24,\n",
       "         '🐳': 24,\n",
       "         '🐛': 24,\n",
       "         '🍨': 24,\n",
       "         '🐎': 24,\n",
       "         '❓': 24,\n",
       "         '👂': 23,\n",
       "         '📲': 23,\n",
       "         '💽': 23,\n",
       "         '🎠': 23,\n",
       "         '🎷': 23,\n",
       "         '🐽': 23,\n",
       "         '🐨': 23,\n",
       "         '🐞': 23,\n",
       "         '🍣': 23,\n",
       "         '🥁': 23,\n",
       "         '✴': 23,\n",
       "         '🍵': 23,\n",
       "         '⛈': 22,\n",
       "         '💇': 22,\n",
       "         '📢': 22,\n",
       "         '🎨': 22,\n",
       "         '📷': 22,\n",
       "         '🐬': 22,\n",
       "         '🤚': 22,\n",
       "         '⭕': 22,\n",
       "         '🍥': 22,\n",
       "         '⚾': 22,\n",
       "         '🏓': 22,\n",
       "         '👓': 21,\n",
       "         '🎭': 21,\n",
       "         '🐔': 21,\n",
       "         '🐠': 21,\n",
       "         '⛪': 21,\n",
       "         '🌛': 21,\n",
       "         '⁉': 21,\n",
       "         '🗺': 21,\n",
       "         '🍛': 21,\n",
       "         '🎳': 21,\n",
       "         '💆': 20,\n",
       "         '🐘': 20,\n",
       "         '🙍': 20,\n",
       "         '🐵': 20,\n",
       "         '🐯': 20,\n",
       "         '🗽': 20,\n",
       "         '🦅': 20,\n",
       "         '🌐': 20,\n",
       "         '◀': 20,\n",
       "         '⌚': 19,\n",
       "         '🌭': 19,\n",
       "         '👢': 19,\n",
       "         '📝': 19,\n",
       "         '🅾': 19,\n",
       "         '🍤': 19,\n",
       "         '🌱': 19,\n",
       "         '💡': 19,\n",
       "         '🍄': 19,\n",
       "         '🗡': 19,\n",
       "         '🔻': 19,\n",
       "         '✒': 18,\n",
       "         '📉': 18,\n",
       "         '🎾': 18,\n",
       "         '🔜': 18,\n",
       "         '©': 18,\n",
       "         '🔒': 18,\n",
       "         '♎': 18,\n",
       "         '🕶': 18,\n",
       "         '🏁': 18,\n",
       "         '🍞': 18,\n",
       "         '⚜': 18,\n",
       "         '❇': 18,\n",
       "         '🐊': 17,\n",
       "         '🆒': 17,\n",
       "         '🎺': 17,\n",
       "         '👞': 17,\n",
       "         '🎓': 17,\n",
       "         '📦': 17,\n",
       "         '✉': 17,\n",
       "         '📏': 17,\n",
       "         '☮': 17,\n",
       "         '🤝': 17,\n",
       "         '🍧': 17,\n",
       "         '🌾': 17,\n",
       "         '🥔': 17,\n",
       "         '🏫': 17,\n",
       "         '🔛': 17,\n",
       "         '✖': 17,\n",
       "         '🚩': 16,\n",
       "         '🎢': 16,\n",
       "         '🃏': 16,\n",
       "         '🕋': 16,\n",
       "         '🍴': 16,\n",
       "         '🍱': 16,\n",
       "         '🔞': 16,\n",
       "         '⚓': 16,\n",
       "         '🔱': 16,\n",
       "         '🍢': 16,\n",
       "         '🏊': 16,\n",
       "         '🚼': 16,\n",
       "         '🌨': 16,\n",
       "         '☯': 16,\n",
       "         '🚣': 15,\n",
       "         '⬇': 15,\n",
       "         '👷': 15,\n",
       "         '💂': 15,\n",
       "         '💼': 15,\n",
       "         '🐋': 15,\n",
       "         '🐡': 15,\n",
       "         '🆘': 15,\n",
       "         '🗼': 15,\n",
       "         '🥊': 15,\n",
       "         '🦇': 15,\n",
       "         '♦': 15,\n",
       "         '⬅': 15,\n",
       "         '🍮': 15,\n",
       "         '🎣': 15,\n",
       "         '🏴': 15,\n",
       "         '🔩': 15,\n",
       "         '🚔': 14,\n",
       "         '👘': 14,\n",
       "         '👪': 14,\n",
       "         '🔰': 14,\n",
       "         '👛': 14,\n",
       "         '💉': 14,\n",
       "         '💊': 14,\n",
       "         '🔌': 14,\n",
       "         '🎍': 14,\n",
       "         '📺': 14,\n",
       "         '🐃': 14,\n",
       "         '🌑': 14,\n",
       "         '📿': 14,\n",
       "         '🚙': 14,\n",
       "         '↗': 14,\n",
       "         '🥛': 14,\n",
       "         '💒': 14,\n",
       "         '🔅': 14,\n",
       "         '🚾': 14,\n",
       "         '🤰': 14,\n",
       "         '🚶': 14,\n",
       "         '🛌': 14,\n",
       "         '🥘': 14,\n",
       "         '✳': 14,\n",
       "         '➰': 14,\n",
       "         '➕': 14,\n",
       "         '🌬': 13,\n",
       "         '☎': 13,\n",
       "         '💬': 13,\n",
       "         '✏': 13,\n",
       "         '✂': 13,\n",
       "         '📈': 13,\n",
       "         '🐭': 13,\n",
       "         '🐮': 13,\n",
       "         '🏋': 13,\n",
       "         '💢': 13,\n",
       "         '🅿': 13,\n",
       "         '🌃': 13,\n",
       "         '♏': 13,\n",
       "         '🦃': 13,\n",
       "         '🍠': 13,\n",
       "         '🔺': 13,\n",
       "         '🌅': 13,\n",
       "         '🛐': 13,\n",
       "         '🥃': 13,\n",
       "         '🚗': 13,\n",
       "         '🔧': 13,\n",
       "         '🐂': 12,\n",
       "         '🙎': 12,\n",
       "         '👥': 12,\n",
       "         '👒': 12,\n",
       "         '📡': 12,\n",
       "         '🎡': 12,\n",
       "         '🎫': 12,\n",
       "         '🐀': 12,\n",
       "         '🐹': 12,\n",
       "         '🐆': 12,\n",
       "         '🐚': 12,\n",
       "         '🦀': 12,\n",
       "         '⛳': 12,\n",
       "         '🖥': 12,\n",
       "         '♣': 12,\n",
       "         '🔨': 12,\n",
       "         '↙': 12,\n",
       "         '♋': 12,\n",
       "         '⛵': 12,\n",
       "         '🔉': 12,\n",
       "         '🎗': 12,\n",
       "         '🚲': 12,\n",
       "         '⏰': 12,\n",
       "         '🎙': 12,\n",
       "         '🥓': 12,\n",
       "         '⚖': 12,\n",
       "         '🍲': 12,\n",
       "         '🛎': 12,\n",
       "         '🚻': 12,\n",
       "         '🛴': 12,\n",
       "         '🚘': 12,\n",
       "         '🏭': 12,\n",
       "         '🚂': 11,\n",
       "         '🔋': 11,\n",
       "         '📘': 11,\n",
       "         '📞': 11,\n",
       "         '📅': 11,\n",
       "         '🀄': 11,\n",
       "         '🦎': 11,\n",
       "         '🚢': 11,\n",
       "         '🦑': 11,\n",
       "         '🔆': 11,\n",
       "         '📽': 11,\n",
       "         '🌤': 11,\n",
       "         '🔽': 11,\n",
       "         '🗑': 11,\n",
       "         '⛸': 11,\n",
       "         '🔼': 11,\n",
       "         '🌧': 11,\n",
       "         '🛀': 11,\n",
       "         '🚰': 11,\n",
       "         '🚵': 11,\n",
       "         '⛔': 11,\n",
       "         '➖': 11,\n",
       "         '🧡': 11,\n",
       "         '🌳': 10,\n",
       "         '🆙': 10,\n",
       "         '👔': 10,\n",
       "         '👵': 10,\n",
       "         '👡': 10,\n",
       "         '👜': 10,\n",
       "         '📛': 10,\n",
       "         '📌': 10,\n",
       "         '📎': 10,\n",
       "         '📻': 10,\n",
       "         '🐌': 10,\n",
       "         '🐅': 10,\n",
       "         '🏗': 10,\n",
       "         '☑': 10,\n",
       "         '🎖': 10,\n",
       "         '🦌': 10,\n",
       "         '🦊': 10,\n",
       "         '⛅': 10,\n",
       "         '🕸': 10,\n",
       "         '🈳': 10,\n",
       "         '🚋': 10,\n",
       "         '🥐': 10,\n",
       "         '🥝': 10,\n",
       "         '🚺': 10,\n",
       "         '↪': 10,\n",
       "         '🥖': 10,\n",
       "         '🦈': 10,\n",
       "         '⛹': 10,\n",
       "         '🍙': 10,\n",
       "         '🌉': 10,\n",
       "         '🛑': 10,\n",
       "         '🚑': 9,\n",
       "         '👚': 9,\n",
       "         '👴': 9,\n",
       "         '🎒': 9,\n",
       "         '🔕': 9,\n",
       "         '📰': 9,\n",
       "         '🎋': 9,\n",
       "         '📟': 9,\n",
       "         '📨': 9,\n",
       "         '📭': 9,\n",
       "         '📬': 9,\n",
       "         '📐': 9,\n",
       "         '⛺': 9,\n",
       "         '🎴': 9,\n",
       "         '📼': 9,\n",
       "         '🐁': 9,\n",
       "         '🐗': 9,\n",
       "         '🐪': 9,\n",
       "         '🌒': 9,\n",
       "         '🏢': 9,\n",
       "         '🏍': 9,\n",
       "         '⛲': 9,\n",
       "         '🔙': 9,\n",
       "         '🔓': 9,\n",
       "         '🤵': 9,\n",
       "         '🈴': 9,\n",
       "         '♑': 9,\n",
       "         '🗯': 9,\n",
       "         '✍': 9,\n",
       "         '🔍': 9,\n",
       "         '🏂': 9,\n",
       "         '🏸': 9,\n",
       "         '🚴': 9,\n",
       "         '🥕': 9,\n",
       "         '🥞': 9,\n",
       "         '🛍': 9,\n",
       "         '👤': 8,\n",
       "         '👝': 8,\n",
       "         '🔭': 8,\n",
       "         '🔦': 8,\n",
       "         '📜': 8,\n",
       "         '📙': 8,\n",
       "         '📒': 8,\n",
       "         '📕': 8,\n",
       "         '📠': 8,\n",
       "         '📩': 8,\n",
       "         '📫': 8,\n",
       "         '📥': 8,\n",
       "         '💾': 8,\n",
       "         '📇': 8,\n",
       "         '🎪': 8,\n",
       "         '〽': 8,\n",
       "         '🚤': 8,\n",
       "         '🏟': 8,\n",
       "         '🏬': 8,\n",
       "         '📸': 8,\n",
       "         '♍': 8,\n",
       "         '🥉': 8,\n",
       "         '🌇': 8,\n",
       "         '💮': 8,\n",
       "         '🐿': 8,\n",
       "         '🌄': 8,\n",
       "         '☘': 8,\n",
       "         '🥒': 8,\n",
       "         '⚫': 8,\n",
       "         '🏵': 8,\n",
       "         '♈': 8,\n",
       "         '♐': 8,\n",
       "         '🕯': 8,\n",
       "         '💠': 8,\n",
       "         '▪': 8,\n",
       "         '♻': 8,\n",
       "         '🤳': 8,\n",
       "         '⏩': 8,\n",
       "         '↘': 8,\n",
       "         '⚪': 8,\n",
       "         '⛄': 8,\n",
       "         '⚕': 8,\n",
       "         '🍽': 8,\n",
       "         '🤽': 8,\n",
       "         '🤼': 8,\n",
       "         '🚞': 8,\n",
       "         '🆓': 8,\n",
       "         '👲': 7,\n",
       "         '💱': 7,\n",
       "         '📔': 7,\n",
       "         '📓': 7,\n",
       "         '📪': 7,\n",
       "         '📮': 7,\n",
       "         '📍': 7,\n",
       "         '🎦': 7,\n",
       "         '🚡': 7,\n",
       "         '🌆': 7,\n",
       "         '🏯': 7,\n",
       "         '♓': 7,\n",
       "         '🤹': 7,\n",
       "         '🥑': 7,\n",
       "         '⚔': 7,\n",
       "         '🦉': 7,\n",
       "         '🥈': 7,\n",
       "         '🥋': 7,\n",
       "         '💈': 7,\n",
       "         '☔': 7,\n",
       "         '☢': 7,\n",
       "         '⤵': 7,\n",
       "         '♠': 7,\n",
       "         '📧': 7,\n",
       "         '♊': 7,\n",
       "         '🈯': 7,\n",
       "         '🈶': 7,\n",
       "         '♌': 7,\n",
       "         '🚓': 7,\n",
       "         '🚇': 7,\n",
       "         '⛽': 7,\n",
       "         '⚱': 7,\n",
       "         '📵': 7,\n",
       "         '🏌': 7,\n",
       "         '🏒': 7,\n",
       "         '🔀': 7,\n",
       "         '🏹': 7,\n",
       "         '🛏': 7,\n",
       "         '🚿': 7,\n",
       "         '🌡': 7,\n",
       "         '🚯': 7,\n",
       "         '🈁': 7,\n",
       "         '🕓': 7,\n",
       "         '🕛': 7,\n",
       "         '🕤': 7,\n",
       "         '🖋': 7,\n",
       "         '🖍': 7,\n",
       "         '🚠': 7,\n",
       "         '🍘': 7,\n",
       "         '🦐': 7,\n",
       "         '🛠': 7,\n",
       "         '🉐': 7,\n",
       "         '🔈': 7,\n",
       "         '⏳': 7,\n",
       "         '⌛': 7,\n",
       "         '🤩': 7,\n",
       "         '⤴': 7,\n",
       "         '🛄': 7,\n",
       "         '🚹': 7,\n",
       "         '🆕': 7,\n",
       "         '🔁': 7,\n",
       "         '🌦': 7,\n",
       "         '📗': 6,\n",
       "         '📤': 6,\n",
       "         '📯': 6,\n",
       "         '📆': 6,\n",
       "         '📄': 6,\n",
       "         '📊': 6,\n",
       "         '🎰': 6,\n",
       "         '🌔': 6,\n",
       "         '🌜': 6,\n",
       "         '🚝': 6,\n",
       "         '🏝': 6,\n",
       "         '🌁': 6,\n",
       "         '🕌': 6,\n",
       "         '🏨': 6,\n",
       "         '🏣': 6,\n",
       "         '🕰': 6,\n",
       "         '🥗': 6,\n",
       "         '🥙': 6,\n",
       "         '🖱': 6,\n",
       "         'ℹ': 6,\n",
       "         '🗝': 6,\n",
       "         '♉': 6,\n",
       "         '♒': 6,\n",
       "         '🔇': 6,\n",
       "         '▫': 6,\n",
       "         '🏜': 6,\n",
       "         '🏞': 6,\n",
       "         '🗨': 6,\n",
       "         '🤶': 6,\n",
       "         '🛋': 6,\n",
       "         '🕐': 6,\n",
       "         '🥄': 6,\n",
       "         '♿': 6,\n",
       "         '🛰': 6,\n",
       "         '⛎': 6,\n",
       "         '🔘': 6,\n",
       "         '🕕': 6,\n",
       "         '🔎': 6,\n",
       "         '🦂': 6,\n",
       "         '🤾': 6,\n",
       "         '🚁': 6,\n",
       "         '🚆': 6,\n",
       "         '🗾': 6,\n",
       "         '🛁': 6,\n",
       "         '🈵': 6,\n",
       "         '🏥': 6,\n",
       "         '🏩': 6,\n",
       "         '🚳': 6,\n",
       "         '🚷': 6,\n",
       "         '🚱': 6,\n",
       "         '🚭': 6,\n",
       "         '🕧': 6,\n",
       "         '🤯': 6,\n",
       "         '🛡': 6,\n",
       "         '📑': 5,\n",
       "         '💺': 5,\n",
       "         '📋': 5,\n",
       "         '📃': 5,\n",
       "         '🌓': 5,\n",
       "         '🌗': 5,\n",
       "         '🌖': 5,\n",
       "         '🏰': 5,\n",
       "         '🏪': 5,\n",
       "         '🛒': 5,\n",
       "         '🗻': 5,\n",
       "         '⛱': 5,\n",
       "         '⛷': 5,\n",
       "         '🏏': 5,\n",
       "         '🚈': 5,\n",
       "         '🚍': 5,\n",
       "         '🏺': 5,\n",
       "         '❎': 5,\n",
       "         '📶': 5,\n",
       "         '↔': 5,\n",
       "         '🕖': 5,\n",
       "         '🕞': 5,\n",
       "         '🎌': 5,\n",
       "         '🚌': 5,\n",
       "         '🕢': 5,\n",
       "         '🕥': 5,\n",
       "         '🌂': 5,\n",
       "         '🏇': 5,\n",
       "         '🚅': 5,\n",
       "         '🚊': 5,\n",
       "         '🛥': 5,\n",
       "         '⛴': 5,\n",
       "         '🥚': 5,\n",
       "         '🎑': 5,\n",
       "         '📳': 5,\n",
       "         '🏦': 5,\n",
       "         '🗿': 5,\n",
       "         '🎿': 5,\n",
       "         '🛅': 5,\n",
       "         '🚸': 5,\n",
       "         '🚥': 5,\n",
       "         '🚦': 5,\n",
       "         '🆎': 5,\n",
       "         '🔠': 5,\n",
       "         '🔡': 5,\n",
       "         '🔢': 5,\n",
       "         '🔣': 5,\n",
       "         '🔤': 5,\n",
       "         '🆗': 5,\n",
       "         '🈲': 5,\n",
       "         '🈹': 5,\n",
       "         '㊙': 5,\n",
       "         '㊗': 5,\n",
       "         '🕝': 5,\n",
       "         '↩': 5,\n",
       "         '🆑': 5,\n",
       "         '🔂': 5,\n",
       "         '🔄': 5,\n",
       "         '🏙': 5,\n",
       "         '🏕': 5,\n",
       "         '🕎': 5,\n",
       "         '🛤': 4,\n",
       "         '🏘': 4,\n",
       "         '⛩': 4,\n",
       "         '🏛': 4,\n",
       "         '⌨': 4,\n",
       "         '⏱': 4,\n",
       "         '⏫': 4,\n",
       "         '✡': 4,\n",
       "         '🖊': 4,\n",
       "         '🖼': 4,\n",
       "         '⏪': 4,\n",
       "         '⛏': 4,\n",
       "         '🎛': 4,\n",
       "         '🎚': 4,\n",
       "         '⏬': 4,\n",
       "         '🌥': 4,\n",
       "         '🌫': 4,\n",
       "         '🚎': 4,\n",
       "         '⛓': 4,\n",
       "         '❔': 4,\n",
       "         '◾': 4,\n",
       "         '🔲': 4,\n",
       "         '🔏': 4,\n",
       "         '☪': 4,\n",
       "         '🚜': 4,\n",
       "         '🚐': 4,\n",
       "         '🦏': 4,\n",
       "         '🦍': 4,\n",
       "         '🎽': 4,\n",
       "         '🛵': 4,\n",
       "         '🚃': 4,\n",
       "         '🛫': 4,\n",
       "         '🛬': 4,\n",
       "         '🚉': 4,\n",
       "         '🚖': 4,\n",
       "         '🚟': 4,\n",
       "         '🚄': 4,\n",
       "         '🛳': 4,\n",
       "         '🥅': 4,\n",
       "         '🕍': 4,\n",
       "         '🌘': 4,\n",
       "         '🏤': 4,\n",
       "         '🏧': 4,\n",
       "         'Ⓜ': 4,\n",
       "         '🚚': 4,\n",
       "         '🚛': 4,\n",
       "         '🛂': 4,\n",
       "         ...})"
      ]
     },
     "execution_count": 41,
     "metadata": {},
     "output_type": "execute_result"
    }
   ],
   "source": [
    "Counter(all_emojis_list)"
   ]
  },
  {
   "cell_type": "code",
   "execution_count": 42,
   "id": "cf5a55c2",
   "metadata": {},
   "outputs": [
    {
     "data": {
      "text/plain": [
       "[('😂', 36987),\n",
       " ('😍', 33453),\n",
       " ('❤', 31119),\n",
       " ('🔥', 8694),\n",
       " ('😭', 8398),\n",
       " ('👏', 5719),\n",
       " ('😘', 5545),\n",
       " ('👍', 5476),\n",
       " ('💖', 5359),\n",
       " ('💕', 5147),\n",
       " ('♥', 4909),\n",
       " ('😊', 3596),\n",
       " ('🏻', 3438),\n",
       " ('💜', 3429),\n",
       " ('😬', 3381),\n",
       " ('👌', 3112),\n",
       " ('💙', 2831),\n",
       " ('😢', 2672),\n",
       " ('🏼', 2549),\n",
       " ('🤣', 2279),\n",
       " ('🙌', 2233),\n",
       " ('😁', 2220),\n",
       " ('💗', 2144),\n",
       " ('😱', 2094),\n",
       " ('🙏', 1818),\n",
       " ('🌍', 1810),\n",
       " ('😀', 1734),\n",
       " ('💛', 1677),\n",
       " ('🏽', 1593),\n",
       " ('🤔', 1592),\n",
       " ('💓', 1540),\n",
       " ('😄', 1496),\n",
       " ('😩', 1472),\n",
       " ('💯', 1450),\n",
       " ('💞', 1420),\n",
       " ('😻', 1409),\n",
       " ('😎', 1358),\n",
       " ('💚', 1295),\n",
       " ('😃', 1235),\n",
       " ('😮', 1232),\n",
       " ('🏾', 1205),\n",
       " ('☺', 1180),\n",
       " ('😆', 1149),\n",
       " ('🐍', 1143),\n",
       " ('😅', 1070),\n",
       " ('😙', 1067),\n",
       " ('💿', 1031),\n",
       " ('😉', 998),\n",
       " ('💋', 968),\n",
       " ('💀', 926),\n",
       " ('💩', 925),\n",
       " ('🎶', 906),\n",
       " ('🤗', 896),\n",
       " ('✨', 889),\n",
       " ('🖕', 884),\n",
       " ('✌', 835),\n",
       " ('🔴', 824),\n",
       " ('🖤', 784),\n",
       " ('🔵', 759),\n",
       " ('😥', 742),\n",
       " ('🎃', 739),\n",
       " ('💘', 702),\n",
       " ('😫', 692),\n",
       " ('💪', 687),\n",
       " ('🎉', 684),\n",
       " ('👑', 678),\n",
       " ('👎', 673),\n",
       " ('😐', 644),\n",
       " ('😇', 640),\n",
       " ('😒', 629),\n",
       " ('💵', 628),\n",
       " ('🙄', 627),\n",
       " ('😏', 623),\n",
       " ('🌹', 622),\n",
       " ('🤘', 619),\n",
       " ('💔', 617),\n",
       " ('🎈', 610),\n",
       " ('😠', 599),\n",
       " ('😋', 596),\n",
       " ('💝', 592),\n",
       " ('😜', 573),\n",
       " ('🌟', 549),\n",
       " ('😔', 545),\n",
       " ('♀', 523),\n",
       " ('❣', 521),\n",
       " ('💟', 508),\n",
       " ('♂', 507),\n",
       " ('🏿', 501),\n",
       " ('😲', 496),\n",
       " ('👀', 495),\n",
       " ('💰', 488),\n",
       " ('😑', 487),\n",
       " ('😚', 482),\n",
       " ('😡', 478),\n",
       " ('😕', 453),\n",
       " ('🙂', 452),\n",
       " ('💦', 427),\n",
       " ('🍔', 418),\n",
       " ('😝', 413),\n",
       " ('😳', 398),\n",
       " ('😈', 393),\n",
       " ('🦄', 391),\n",
       " ('🤦', 390),\n",
       " ('🤤', 389),\n",
       " ('💃', 382),\n",
       " ('😣', 381),\n",
       " ('🐢', 380),\n",
       " ('👊', 379),\n",
       " ('😤', 378),\n",
       " ('😞', 364),\n",
       " ('🎤', 360),\n",
       " ('🌈', 359),\n",
       " ('😗', 354),\n",
       " ('🍂', 354),\n",
       " ('💥', 344),\n",
       " ('😌', 338),\n",
       " ('😨', 335),\n",
       " ('🤷', 334),\n",
       " ('🍗', 327),\n",
       " ('🐶', 325),\n",
       " ('💎', 316),\n",
       " ('🙈', 312),\n",
       " ('🤡', 305),\n",
       " ('🐺', 303),\n",
       " ('〰', 290),\n",
       " ('✊', 289),\n",
       " ('😖', 287),\n",
       " ('🎵', 284),\n",
       " ('🙋', 282),\n",
       " ('😓', 280),\n",
       " ('😵', 277),\n",
       " ('🤢', 274),\n",
       " ('👩', 270),\n",
       " ('👻', 268),\n",
       " ('😛', 266),\n",
       " ('🐝', 261),\n",
       " ('🍕', 258),\n",
       " ('🙃', 253),\n",
       " ('🍓', 252),\n",
       " ('😪', 249),\n",
       " ('💸', 235),\n",
       " ('📱', 231),\n",
       " ('😰', 231),\n",
       " ('🐐', 224),\n",
       " ('🍁', 223),\n",
       " ('👨', 212),\n",
       " ('‼', 211),\n",
       " ('🅱', 207),\n",
       " ('❄', 206),\n",
       " ('👉', 204),\n",
       " ('😹', 201),\n",
       " ('⭐', 198),\n",
       " ('💣', 197),\n",
       " ('👅', 194),\n",
       " ('👋', 193),\n",
       " ('😴', 187),\n",
       " ('🎧', 186),\n",
       " ('🌸', 185),\n",
       " ('💁', 180),\n",
       " ('💄', 177),\n",
       " ('😶', 176),\n",
       " ('🤓', 176),\n",
       " ('🚨', 176),\n",
       " ('👿', 175),\n",
       " ('☹', 173),\n",
       " ('✔', 169),\n",
       " ('🎇', 165),\n",
       " ('🍍', 165),\n",
       " ('👽', 162),\n",
       " ('🎼', 159),\n",
       " ('🎂', 156),\n",
       " ('☝', 156),\n",
       " ('☠', 156),\n",
       " ('😦', 154),\n",
       " ('🍫', 152),\n",
       " ('👇', 151),\n",
       " ('😯', 148),\n",
       " ('👐', 147),\n",
       " ('🎹', 147),\n",
       " ('🤙', 147),\n",
       " ('😧', 146),\n",
       " ('🍸', 146),\n",
       " ('✝', 146),\n",
       " ('👧', 145),\n",
       " ('🙅', 143),\n",
       " ('🔝', 143),\n",
       " ('⬜', 142),\n",
       " ('⬛', 141),\n",
       " ('❗', 140),\n",
       " ('🙊', 139),\n",
       " ('😷', 139),\n",
       " ('🙁', 133),\n",
       " ('⚡', 133),\n",
       " ('👣', 130),\n",
       " ('🐓', 129),\n",
       " ('🎸', 128),\n",
       " ('🐻', 128),\n",
       " ('💅', 127),\n",
       " ('🍑', 127),\n",
       " ('👈', 126),\n",
       " ('😿', 126),\n",
       " ('🎊', 125),\n",
       " ('💑', 125),\n",
       " ('🐸', 124),\n",
       " ('🔫', 123),\n",
       " ('😟', 122),\n",
       " ('🏆', 121),\n",
       " ('👸', 120),\n",
       " ('🐑', 117),\n",
       " ('✅', 115),\n",
       " ('🐫', 111),\n",
       " ('🤧', 109),\n",
       " ('🤑', 108),\n",
       " ('🐕', 108),\n",
       " ('🌼', 108),\n",
       " ('💫', 107),\n",
       " ('💲', 106),\n",
       " ('🐥', 104),\n",
       " ('🐱', 103),\n",
       " ('🐾', 103),\n",
       " ('🔷', 103),\n",
       " ('🔶', 103),\n",
       " ('🍾', 101),\n",
       " ('🍆', 100),\n",
       " ('✋', 99),\n",
       " ('🚀', 98),\n",
       " ('🎄', 97),\n",
       " ('🍉', 97),\n",
       " ('🙆', 96),\n",
       " ('🌎', 94),\n",
       " ('🍬', 91),\n",
       " ('👄', 90),\n",
       " ('🍭', 89),\n",
       " ('💐', 88),\n",
       " ('☁', 87),\n",
       " ('🎆', 86),\n",
       " ('🌻', 84),\n",
       " ('😺', 83),\n",
       " ('🍻', 83),\n",
       " ('👁', 83),\n",
       " ('👾', 81),\n",
       " ('🎁', 81),\n",
       " ('🌺', 81),\n",
       " ('🍷', 80),\n",
       " ('💍', 80),\n",
       " ('🏀', 78),\n",
       " ('🍇', 77),\n",
       " ('🔪', 76),\n",
       " ('🎥', 76),\n",
       " ('⚽', 76),\n",
       " ('😸', 75),\n",
       " ('☕', 75),\n",
       " ('🕺', 74),\n",
       " ('🍦', 73),\n",
       " ('🍰', 73),\n",
       " ('🌷', 73),\n",
       " ('🚫', 72),\n",
       " ('💌', 71),\n",
       " ('🐣', 71),\n",
       " ('👆', 70),\n",
       " ('🐦', 70),\n",
       " ('🌌', 70),\n",
       " ('🌮', 69),\n",
       " ('👦', 69),\n",
       " ('🍺', 69),\n",
       " ('🤞', 69),\n",
       " ('⚠', 68),\n",
       " ('📀', 68),\n",
       " ('💨', 67),\n",
       " ('🌚', 66),\n",
       " ('➡', 66),\n",
       " ('🙇', 64),\n",
       " ('🗣', 64),\n",
       " ('🌊', 62),\n",
       " ('🙀', 62),\n",
       " ('🤐', 61),\n",
       " ('🍩', 61),\n",
       " ('🌩', 61),\n",
       " ('🤠', 60),\n",
       " ('👰', 60),\n",
       " ('❌', 60),\n",
       " ('🍜', 59),\n",
       " ('🍪', 59),\n",
       " ('🍃', 59),\n",
       " ('🚪', 57),\n",
       " ('🐟', 57),\n",
       " ('☀', 57),\n",
       " ('🎱', 57),\n",
       " ('🍏', 56),\n",
       " ('🔊', 56),\n",
       " ('🎅', 55),\n",
       " ('🏳', 55),\n",
       " ('🤸', 55),\n",
       " ('🌏', 55),\n",
       " ('🌴', 54),\n",
       " ('👭', 54),\n",
       " ('🌞', 54),\n",
       " ('👶', 53),\n",
       " ('🐼', 52),\n",
       " ('🍼', 52),\n",
       " ('🍒', 51),\n",
       " ('🌯', 50),\n",
       " ('🤥', 50),\n",
       " ('🍎', 49),\n",
       " ('👯', 49),\n",
       " ('👹', 49),\n",
       " ('🏃', 49),\n",
       " ('🌰', 49),\n",
       " ('🔯', 49),\n",
       " ('🔸', 48),\n",
       " ('👺', 48),\n",
       " ('📚', 48),\n",
       " ('🐜', 48),\n",
       " ('🦋', 48),\n",
       " ('🍖', 48),\n",
       " ('™', 46),\n",
       " ('🎀', 46),\n",
       " ('▶', 44),\n",
       " ('💧', 43),\n",
       " ('🙉', 43),\n",
       " ('💭', 43),\n",
       " ('🎲', 43),\n",
       " ('🍟', 43),\n",
       " ('🍿', 43),\n",
       " ('🍊', 43),\n",
       " ('🍡', 43),\n",
       " ('🌋', 42),\n",
       " ('✈', 42),\n",
       " ('🌠', 41),\n",
       " ('🌙', 41),\n",
       " ('🦆', 41),\n",
       " ('🏅', 41),\n",
       " ('🥇', 41),\n",
       " ('🏉', 41),\n",
       " ('💴', 40),\n",
       " ('📣', 40),\n",
       " ('🎻', 40),\n",
       " ('🐩', 40),\n",
       " ('🌕', 40),\n",
       " ('🚮', 40),\n",
       " ('♨', 39),\n",
       " ('🌲', 39),\n",
       " ('👟', 39),\n",
       " ('👙', 39),\n",
       " ('👠', 39),\n",
       " ('🎯', 39),\n",
       " ('®', 39),\n",
       " ('🐰', 38),\n",
       " ('📁', 38),\n",
       " ('🐷', 38),\n",
       " ('🎟', 38),\n",
       " ('🔮', 37),\n",
       " ('🐤', 37),\n",
       " ('🕴', 37),\n",
       " ('🌽', 36),\n",
       " ('🏈', 36),\n",
       " ('👼', 36),\n",
       " ('🎮', 36),\n",
       " ('🐒', 36),\n",
       " ('🍐', 36),\n",
       " ('🕷', 35),\n",
       " ('🍀', 35),\n",
       " ('🍌', 35),\n",
       " ('🐈', 34),\n",
       " ('👫', 33),\n",
       " ('🥂', 33),\n",
       " ('🕊', 33),\n",
       " ('🤛', 33),\n",
       " ('🏐', 33),\n",
       " ('💏', 32),\n",
       " ('👬', 32),\n",
       " ('💶', 32),\n",
       " ('🔔', 32),\n",
       " ('🐏', 32),\n",
       " ('🌝', 32),\n",
       " ('🤕', 32),\n",
       " ('⬆', 32),\n",
       " ('☃', 32),\n",
       " ('👖', 31),\n",
       " ('💳', 31),\n",
       " ('🎬', 31),\n",
       " ('🐙', 31),\n",
       " ('💤', 31),\n",
       " ('🐧', 30),\n",
       " ('🐉', 30),\n",
       " ('🎩', 29),\n",
       " ('🐄', 29),\n",
       " ('🐖', 29),\n",
       " ('🖐', 29),\n",
       " ('🍚', 29),\n",
       " ('🍶', 29),\n",
       " ('🍹', 29),\n",
       " ('🤜', 29),\n",
       " ('🥀', 28),\n",
       " ('🐇', 28),\n",
       " ('🐲', 28),\n",
       " ('⚰', 28),\n",
       " ('🌶', 28),\n",
       " ('🔑', 28),\n",
       " ('🍳', 28),\n",
       " ('🧀', 28),\n",
       " ('🅰', 28),\n",
       " ('🏠', 28),\n",
       " ('🚒', 27),\n",
       " ('👃', 27),\n",
       " ('🚬', 27),\n",
       " ('💻', 27),\n",
       " ('☄', 27),\n",
       " ('🖖', 27),\n",
       " ('🤖', 27),\n",
       " ('🤒', 27),\n",
       " ('🌿', 27),\n",
       " ('😽', 26),\n",
       " ('👳', 26),\n",
       " ('📖', 26),\n",
       " ('🦁', 26),\n",
       " ('🌵', 26),\n",
       " ('🍝', 26),\n",
       " ('🍋', 26),\n",
       " ('⛑', 26),\n",
       " ('❕', 26),\n",
       " ('😼', 25),\n",
       " ('💷', 25),\n",
       " ('📂', 25),\n",
       " ('🏡', 25),\n",
       " ('🍯', 25),\n",
       " ('🔐', 25),\n",
       " ('🕵', 25),\n",
       " ('🚽', 25),\n",
       " ('🍈', 25),\n",
       " ('🍅', 25),\n",
       " ('🏄', 25),\n",
       " ('🌀', 24),\n",
       " ('🤴', 24),\n",
       " ('🌪', 24),\n",
       " ('👮', 24),\n",
       " ('👕', 24),\n",
       " ('😾', 24),\n",
       " ('👱', 24),\n",
       " ('👗', 24),\n",
       " ('🔬', 24),\n",
       " ('📹', 24),\n",
       " ('🐴', 24),\n",
       " ('🐳', 24),\n",
       " ('🐛', 24),\n",
       " ('🍨', 24),\n",
       " ('🐎', 24),\n",
       " ('❓', 24),\n",
       " ('👂', 23),\n",
       " ('📲', 23),\n",
       " ('💽', 23),\n",
       " ('🎠', 23),\n",
       " ('🎷', 23),\n",
       " ('🐽', 23),\n",
       " ('🐨', 23),\n",
       " ('🐞', 23),\n",
       " ('🍣', 23),\n",
       " ('🥁', 23),\n",
       " ('✴', 23),\n",
       " ('🍵', 23),\n",
       " ('⛈', 22),\n",
       " ('💇', 22),\n",
       " ('📢', 22),\n",
       " ('🎨', 22),\n",
       " ('📷', 22),\n",
       " ('🐬', 22),\n",
       " ('🤚', 22),\n",
       " ('⭕', 22),\n",
       " ('🍥', 22),\n",
       " ('⚾', 22),\n",
       " ('🏓', 22),\n",
       " ('👓', 21),\n",
       " ('🎭', 21),\n",
       " ('🐔', 21),\n",
       " ('🐠', 21),\n",
       " ('⛪', 21),\n",
       " ('🌛', 21),\n",
       " ('⁉', 21),\n",
       " ('🗺', 21),\n",
       " ('🍛', 21),\n",
       " ('🎳', 21),\n",
       " ('💆', 20),\n",
       " ('🐘', 20),\n",
       " ('🙍', 20),\n",
       " ('🐵', 20),\n",
       " ('🐯', 20),\n",
       " ('🗽', 20),\n",
       " ('🦅', 20),\n",
       " ('🌐', 20),\n",
       " ('◀', 20),\n",
       " ('⌚', 19),\n",
       " ('🌭', 19),\n",
       " ('👢', 19),\n",
       " ('📝', 19),\n",
       " ('🅾', 19),\n",
       " ('🍤', 19),\n",
       " ('🌱', 19),\n",
       " ('💡', 19),\n",
       " ('🍄', 19),\n",
       " ('🗡', 19),\n",
       " ('🔻', 19),\n",
       " ('✒', 18),\n",
       " ('📉', 18),\n",
       " ('🎾', 18),\n",
       " ('🔜', 18),\n",
       " ('©', 18),\n",
       " ('🔒', 18),\n",
       " ('♎', 18),\n",
       " ('🕶', 18),\n",
       " ('🏁', 18),\n",
       " ('🍞', 18),\n",
       " ('⚜', 18),\n",
       " ('❇', 18),\n",
       " ('🐊', 17),\n",
       " ('🆒', 17),\n",
       " ('🎺', 17),\n",
       " ('👞', 17),\n",
       " ('🎓', 17),\n",
       " ('📦', 17),\n",
       " ('✉', 17),\n",
       " ('📏', 17),\n",
       " ('☮', 17),\n",
       " ('🤝', 17),\n",
       " ('🍧', 17),\n",
       " ('🌾', 17),\n",
       " ('🥔', 17),\n",
       " ('🏫', 17),\n",
       " ('🔛', 17),\n",
       " ('✖', 17),\n",
       " ('🚩', 16),\n",
       " ('🎢', 16),\n",
       " ('🃏', 16),\n",
       " ('🕋', 16),\n",
       " ('🍴', 16),\n",
       " ('🍱', 16),\n",
       " ('🔞', 16),\n",
       " ('⚓', 16),\n",
       " ('🔱', 16),\n",
       " ('🍢', 16),\n",
       " ('🏊', 16),\n",
       " ('🚼', 16),\n",
       " ('🌨', 16),\n",
       " ('☯', 16),\n",
       " ('🚣', 15),\n",
       " ('⬇', 15),\n",
       " ('👷', 15),\n",
       " ('💂', 15),\n",
       " ('💼', 15),\n",
       " ('🐋', 15),\n",
       " ('🐡', 15),\n",
       " ('🆘', 15),\n",
       " ('🗼', 15),\n",
       " ('🥊', 15),\n",
       " ('🦇', 15),\n",
       " ('♦', 15),\n",
       " ('⬅', 15),\n",
       " ('🍮', 15),\n",
       " ('🎣', 15),\n",
       " ('🏴', 15),\n",
       " ('🔩', 15),\n",
       " ('🚔', 14),\n",
       " ('👘', 14),\n",
       " ('👪', 14),\n",
       " ('🔰', 14),\n",
       " ('👛', 14),\n",
       " ('💉', 14),\n",
       " ('💊', 14),\n",
       " ('🔌', 14),\n",
       " ('🎍', 14),\n",
       " ('📺', 14),\n",
       " ('🐃', 14),\n",
       " ('🌑', 14),\n",
       " ('📿', 14),\n",
       " ('🚙', 14),\n",
       " ('↗', 14),\n",
       " ('🥛', 14),\n",
       " ('💒', 14),\n",
       " ('🔅', 14),\n",
       " ('🚾', 14),\n",
       " ('🤰', 14),\n",
       " ('🚶', 14),\n",
       " ('🛌', 14),\n",
       " ('🥘', 14),\n",
       " ('✳', 14),\n",
       " ('➰', 14),\n",
       " ('➕', 14),\n",
       " ('🌬', 13),\n",
       " ('☎', 13),\n",
       " ('💬', 13),\n",
       " ('✏', 13),\n",
       " ('✂', 13),\n",
       " ('📈', 13),\n",
       " ('🐭', 13),\n",
       " ('🐮', 13),\n",
       " ('🏋', 13),\n",
       " ('💢', 13),\n",
       " ('🅿', 13),\n",
       " ('🌃', 13),\n",
       " ('♏', 13),\n",
       " ('🦃', 13),\n",
       " ('🍠', 13),\n",
       " ('🔺', 13),\n",
       " ('🌅', 13),\n",
       " ('🛐', 13),\n",
       " ('🥃', 13),\n",
       " ('🚗', 13),\n",
       " ('🔧', 13),\n",
       " ('🐂', 12),\n",
       " ('🙎', 12),\n",
       " ('👥', 12),\n",
       " ('👒', 12),\n",
       " ('📡', 12),\n",
       " ('🎡', 12),\n",
       " ('🎫', 12),\n",
       " ('🐀', 12),\n",
       " ('🐹', 12),\n",
       " ('🐆', 12),\n",
       " ('🐚', 12),\n",
       " ('🦀', 12),\n",
       " ('⛳', 12),\n",
       " ('🖥', 12),\n",
       " ('♣', 12),\n",
       " ('🔨', 12),\n",
       " ('↙', 12),\n",
       " ('♋', 12),\n",
       " ('⛵', 12),\n",
       " ('🔉', 12),\n",
       " ('🎗', 12),\n",
       " ('🚲', 12),\n",
       " ('⏰', 12),\n",
       " ('🎙', 12),\n",
       " ('🥓', 12),\n",
       " ('⚖', 12),\n",
       " ('🍲', 12),\n",
       " ('🛎', 12),\n",
       " ('🚻', 12),\n",
       " ('🛴', 12),\n",
       " ('🚘', 12),\n",
       " ('🏭', 12),\n",
       " ('🚂', 11),\n",
       " ('🔋', 11),\n",
       " ('📘', 11),\n",
       " ('📞', 11),\n",
       " ('📅', 11),\n",
       " ('🀄', 11),\n",
       " ('🦎', 11),\n",
       " ('🚢', 11),\n",
       " ('🦑', 11),\n",
       " ('🔆', 11),\n",
       " ('📽', 11),\n",
       " ('🌤', 11),\n",
       " ('🔽', 11),\n",
       " ('🗑', 11),\n",
       " ('⛸', 11),\n",
       " ('🔼', 11),\n",
       " ('🌧', 11),\n",
       " ('🛀', 11),\n",
       " ('🚰', 11),\n",
       " ('🚵', 11),\n",
       " ('⛔', 11),\n",
       " ('➖', 11),\n",
       " ('🧡', 11),\n",
       " ('🌳', 10),\n",
       " ('🆙', 10),\n",
       " ('👔', 10),\n",
       " ('👵', 10),\n",
       " ('👡', 10),\n",
       " ('👜', 10),\n",
       " ('📛', 10),\n",
       " ('📌', 10),\n",
       " ('📎', 10),\n",
       " ('📻', 10),\n",
       " ('🐌', 10),\n",
       " ('🐅', 10),\n",
       " ('🏗', 10),\n",
       " ('☑', 10),\n",
       " ('🎖', 10),\n",
       " ('🦌', 10),\n",
       " ('🦊', 10),\n",
       " ('⛅', 10),\n",
       " ('🕸', 10),\n",
       " ('🈳', 10),\n",
       " ('🚋', 10),\n",
       " ('🥐', 10),\n",
       " ('🥝', 10),\n",
       " ('🚺', 10),\n",
       " ('↪', 10),\n",
       " ('🥖', 10),\n",
       " ('🦈', 10),\n",
       " ('⛹', 10),\n",
       " ('🍙', 10),\n",
       " ('🌉', 10),\n",
       " ('🛑', 10),\n",
       " ('🚑', 9),\n",
       " ('👚', 9),\n",
       " ('👴', 9),\n",
       " ('🎒', 9),\n",
       " ('🔕', 9),\n",
       " ('📰', 9),\n",
       " ('🎋', 9),\n",
       " ('📟', 9),\n",
       " ('📨', 9),\n",
       " ('📭', 9),\n",
       " ('📬', 9),\n",
       " ('📐', 9),\n",
       " ('⛺', 9),\n",
       " ('🎴', 9),\n",
       " ('📼', 9),\n",
       " ('🐁', 9),\n",
       " ('🐗', 9),\n",
       " ('🐪', 9),\n",
       " ('🌒', 9),\n",
       " ('🏢', 9),\n",
       " ('🏍', 9),\n",
       " ('⛲', 9),\n",
       " ('🔙', 9),\n",
       " ('🔓', 9),\n",
       " ('🤵', 9),\n",
       " ('🈴', 9),\n",
       " ('♑', 9),\n",
       " ('🗯', 9),\n",
       " ('✍', 9),\n",
       " ('🔍', 9),\n",
       " ('🏂', 9),\n",
       " ('🏸', 9),\n",
       " ('🚴', 9),\n",
       " ('🥕', 9),\n",
       " ('🥞', 9),\n",
       " ('🛍', 9),\n",
       " ('👤', 8),\n",
       " ('👝', 8),\n",
       " ('🔭', 8),\n",
       " ('🔦', 8),\n",
       " ('📜', 8),\n",
       " ('📙', 8),\n",
       " ('📒', 8),\n",
       " ('📕', 8),\n",
       " ('📠', 8),\n",
       " ('📩', 8),\n",
       " ('📫', 8),\n",
       " ('📥', 8),\n",
       " ('💾', 8),\n",
       " ('📇', 8),\n",
       " ('🎪', 8),\n",
       " ('〽', 8),\n",
       " ('🚤', 8),\n",
       " ('🏟', 8),\n",
       " ('🏬', 8),\n",
       " ('📸', 8),\n",
       " ('♍', 8),\n",
       " ('🥉', 8),\n",
       " ('🌇', 8),\n",
       " ('💮', 8),\n",
       " ('🐿', 8),\n",
       " ('🌄', 8),\n",
       " ('☘', 8),\n",
       " ('🥒', 8),\n",
       " ('⚫', 8),\n",
       " ('🏵', 8),\n",
       " ('♈', 8),\n",
       " ('♐', 8),\n",
       " ('🕯', 8),\n",
       " ('💠', 8),\n",
       " ('▪', 8),\n",
       " ('♻', 8),\n",
       " ('🤳', 8),\n",
       " ('⏩', 8),\n",
       " ('↘', 8),\n",
       " ('⚪', 8),\n",
       " ('⛄', 8),\n",
       " ('⚕', 8),\n",
       " ('🍽', 8),\n",
       " ('🤽', 8),\n",
       " ('🤼', 8),\n",
       " ('🚞', 8),\n",
       " ('🆓', 8),\n",
       " ('👲', 7),\n",
       " ('💱', 7),\n",
       " ('📔', 7),\n",
       " ('📓', 7),\n",
       " ('📪', 7),\n",
       " ('📮', 7),\n",
       " ('📍', 7),\n",
       " ('🎦', 7),\n",
       " ('🚡', 7),\n",
       " ('🌆', 7),\n",
       " ('🏯', 7),\n",
       " ('♓', 7),\n",
       " ('🤹', 7),\n",
       " ('🥑', 7),\n",
       " ('⚔', 7),\n",
       " ('🦉', 7),\n",
       " ('🥈', 7),\n",
       " ('🥋', 7),\n",
       " ('💈', 7),\n",
       " ('☔', 7),\n",
       " ('☢', 7),\n",
       " ('⤵', 7),\n",
       " ('♠', 7),\n",
       " ('📧', 7),\n",
       " ('♊', 7),\n",
       " ('🈯', 7),\n",
       " ('🈶', 7),\n",
       " ('♌', 7),\n",
       " ('🚓', 7),\n",
       " ('🚇', 7),\n",
       " ('⛽', 7),\n",
       " ('⚱', 7),\n",
       " ('📵', 7),\n",
       " ('🏌', 7),\n",
       " ('🏒', 7),\n",
       " ('🔀', 7),\n",
       " ('🏹', 7),\n",
       " ('🛏', 7),\n",
       " ('🚿', 7),\n",
       " ('🌡', 7),\n",
       " ('🚯', 7),\n",
       " ('🈁', 7),\n",
       " ('🕓', 7),\n",
       " ('🕛', 7),\n",
       " ('🕤', 7),\n",
       " ('🖋', 7),\n",
       " ('🖍', 7),\n",
       " ('🚠', 7),\n",
       " ('🍘', 7),\n",
       " ('🦐', 7),\n",
       " ('🛠', 7),\n",
       " ('🉐', 7),\n",
       " ('🔈', 7),\n",
       " ('⏳', 7),\n",
       " ('⌛', 7),\n",
       " ('🤩', 7),\n",
       " ('⤴', 7),\n",
       " ('🛄', 7),\n",
       " ('🚹', 7),\n",
       " ('🆕', 7),\n",
       " ('🔁', 7),\n",
       " ('🌦', 7),\n",
       " ('📗', 6),\n",
       " ('📤', 6),\n",
       " ('📯', 6),\n",
       " ('📆', 6),\n",
       " ('📄', 6),\n",
       " ('📊', 6),\n",
       " ('🎰', 6),\n",
       " ('🌔', 6),\n",
       " ('🌜', 6),\n",
       " ('🚝', 6),\n",
       " ('🏝', 6),\n",
       " ('🌁', 6),\n",
       " ('🕌', 6),\n",
       " ('🏨', 6),\n",
       " ('🏣', 6),\n",
       " ('🕰', 6),\n",
       " ('🥗', 6),\n",
       " ('🥙', 6),\n",
       " ('🖱', 6),\n",
       " ('ℹ', 6),\n",
       " ('🗝', 6),\n",
       " ('♉', 6),\n",
       " ('♒', 6),\n",
       " ('🔇', 6),\n",
       " ('▫', 6),\n",
       " ('🏜', 6),\n",
       " ('🏞', 6),\n",
       " ('🗨', 6),\n",
       " ('🤶', 6),\n",
       " ('🛋', 6),\n",
       " ('🕐', 6),\n",
       " ('🥄', 6),\n",
       " ('♿', 6),\n",
       " ('🛰', 6),\n",
       " ('⛎', 6),\n",
       " ('🔘', 6),\n",
       " ('🕕', 6),\n",
       " ('🔎', 6),\n",
       " ('🦂', 6),\n",
       " ('🤾', 6),\n",
       " ('🚁', 6),\n",
       " ('🚆', 6),\n",
       " ('🗾', 6),\n",
       " ('🛁', 6),\n",
       " ('🈵', 6),\n",
       " ('🏥', 6),\n",
       " ('🏩', 6),\n",
       " ('🚳', 6),\n",
       " ('🚷', 6),\n",
       " ('🚱', 6),\n",
       " ('🚭', 6),\n",
       " ('🕧', 6),\n",
       " ('🤯', 6),\n",
       " ('🛡', 6),\n",
       " ('📑', 5),\n",
       " ('💺', 5),\n",
       " ('📋', 5),\n",
       " ('📃', 5),\n",
       " ('🌓', 5),\n",
       " ('🌗', 5),\n",
       " ('🌖', 5),\n",
       " ('🏰', 5),\n",
       " ('🏪', 5),\n",
       " ('🛒', 5),\n",
       " ('🗻', 5),\n",
       " ('⛱', 5),\n",
       " ('⛷', 5),\n",
       " ('🏏', 5),\n",
       " ('🚈', 5),\n",
       " ('🚍', 5),\n",
       " ('🏺', 5),\n",
       " ('❎', 5),\n",
       " ('📶', 5),\n",
       " ('↔', 5),\n",
       " ('🕖', 5),\n",
       " ('🕞', 5),\n",
       " ('🎌', 5),\n",
       " ('🚌', 5),\n",
       " ('🕢', 5),\n",
       " ('🕥', 5),\n",
       " ('🌂', 5),\n",
       " ('🏇', 5),\n",
       " ('🚅', 5),\n",
       " ('🚊', 5),\n",
       " ('🛥', 5),\n",
       " ('⛴', 5),\n",
       " ('🥚', 5),\n",
       " ('🎑', 5),\n",
       " ('📳', 5),\n",
       " ('🏦', 5),\n",
       " ('🗿', 5),\n",
       " ('🎿', 5),\n",
       " ('🛅', 5),\n",
       " ('🚸', 5),\n",
       " ('🚥', 5),\n",
       " ('🚦', 5),\n",
       " ('🆎', 5),\n",
       " ('🔠', 5),\n",
       " ('🔡', 5),\n",
       " ('🔢', 5),\n",
       " ('🔣', 5),\n",
       " ('🔤', 5),\n",
       " ('🆗', 5),\n",
       " ('🈲', 5),\n",
       " ('🈹', 5),\n",
       " ('㊙', 5),\n",
       " ('㊗', 5),\n",
       " ('🕝', 5),\n",
       " ('↩', 5),\n",
       " ('🆑', 5),\n",
       " ('🔂', 5),\n",
       " ('🔄', 5),\n",
       " ('🏙', 5),\n",
       " ('🏕', 5),\n",
       " ('🕎', 5),\n",
       " ('🛤', 4),\n",
       " ('🏘', 4),\n",
       " ('⛩', 4),\n",
       " ('🏛', 4),\n",
       " ('⌨', 4),\n",
       " ('⏱', 4),\n",
       " ('⏫', 4),\n",
       " ('✡', 4),\n",
       " ('🖊', 4),\n",
       " ('🖼', 4),\n",
       " ('⏪', 4),\n",
       " ('⛏', 4),\n",
       " ('🎛', 4),\n",
       " ('🎚', 4),\n",
       " ('⏬', 4),\n",
       " ('🌥', 4),\n",
       " ('🌫', 4),\n",
       " ('🚎', 4),\n",
       " ('⛓', 4),\n",
       " ('❔', 4),\n",
       " ('◾', 4),\n",
       " ('🔲', 4),\n",
       " ('🔏', 4),\n",
       " ('☪', 4),\n",
       " ('🚜', 4),\n",
       " ('🚐', 4),\n",
       " ('🦏', 4),\n",
       " ('🦍', 4),\n",
       " ('🎽', 4),\n",
       " ('🛵', 4),\n",
       " ('🚃', 4),\n",
       " ('🛫', 4),\n",
       " ('🛬', 4),\n",
       " ('🚉', 4),\n",
       " ('🚖', 4),\n",
       " ('🚟', 4),\n",
       " ('🚄', 4),\n",
       " ('🛳', 4),\n",
       " ('🥅', 4),\n",
       " ('🕍', 4),\n",
       " ('🌘', 4),\n",
       " ('🏤', 4),\n",
       " ('🏧', 4),\n",
       " ('Ⓜ', 4),\n",
       " ('🚚', 4),\n",
       " ('🚛', 4),\n",
       " ('🛂', 4),\n",
       " ...]"
      ]
     },
     "execution_count": 42,
     "metadata": {},
     "output_type": "execute_result"
    }
   ],
   "source": [
    "Counter(all_emojis_list).most_common()"
   ]
  },
  {
   "cell_type": "code",
   "execution_count": 43,
   "id": "ecc273bc",
   "metadata": {},
   "outputs": [
    {
     "data": {
      "text/plain": [
       "[('😂', 36987),\n",
       " ('😍', 33453),\n",
       " ('❤', 31119),\n",
       " ('🔥', 8694),\n",
       " ('😭', 8398),\n",
       " ('👏', 5719),\n",
       " ('😘', 5545),\n",
       " ('👍', 5476),\n",
       " ('💖', 5359),\n",
       " ('💕', 5147)]"
      ]
     },
     "execution_count": 43,
     "metadata": {},
     "output_type": "execute_result"
    }
   ],
   "source": [
    "Counter(all_emojis_list).most_common(10)"
   ]
  },
  {
   "cell_type": "code",
   "execution_count": 44,
   "id": "57beacca",
   "metadata": {},
   "outputs": [
    {
     "data": {
      "text/plain": [
       "('😂', 36987)"
      ]
     },
     "execution_count": 44,
     "metadata": {},
     "output_type": "execute_result"
    }
   ],
   "source": [
    "Counter(all_emojis_list).most_common(10)[0]"
   ]
  },
  {
   "cell_type": "code",
   "execution_count": 45,
   "id": "2255dc45",
   "metadata": {},
   "outputs": [
    {
     "data": {
      "text/plain": [
       "'😂'"
      ]
     },
     "execution_count": 45,
     "metadata": {},
     "output_type": "execute_result"
    }
   ],
   "source": [
    "Counter(all_emojis_list).most_common(10)[0][0]"
   ]
  },
  {
   "cell_type": "code",
   "execution_count": 46,
   "id": "4050c8ae",
   "metadata": {},
   "outputs": [
    {
     "data": {
      "text/plain": [
       "36987"
      ]
     },
     "execution_count": 46,
     "metadata": {},
     "output_type": "execute_result"
    }
   ],
   "source": [
    "Counter(all_emojis_list).most_common(10)[0][1]"
   ]
  },
  {
   "cell_type": "code",
   "execution_count": 47,
   "id": "012f5839",
   "metadata": {},
   "outputs": [
    {
     "data": {
      "text/plain": [
       "'👏'"
      ]
     },
     "execution_count": 47,
     "metadata": {},
     "output_type": "execute_result"
    }
   ],
   "source": [
    "Counter(all_emojis_list).most_common(10)[5][0]"
   ]
  },
  {
   "cell_type": "code",
   "execution_count": 48,
   "id": "8d3f6283",
   "metadata": {},
   "outputs": [],
   "source": [
    "emojis = [Counter(all_emojis_list).most_common(10)[i][0] for i in range(10)]"
   ]
  },
  {
   "cell_type": "code",
   "execution_count": 49,
   "id": "2dc779a0",
   "metadata": {},
   "outputs": [
    {
     "data": {
      "text/plain": [
       "['😂', '😍', '❤', '🔥', '😭', '👏', '😘', '👍', '💖', '💕']"
      ]
     },
     "execution_count": 49,
     "metadata": {},
     "output_type": "execute_result"
    }
   ],
   "source": [
    "emojis"
   ]
  },
  {
   "cell_type": "code",
   "execution_count": 50,
   "id": "9ebe624b",
   "metadata": {},
   "outputs": [],
   "source": [
    "freqs = [Counter(all_emojis_list).most_common(10)[i][1] for i in range(10)]"
   ]
  },
  {
   "cell_type": "code",
   "execution_count": 51,
   "id": "c85ed483",
   "metadata": {},
   "outputs": [
    {
     "data": {
      "text/plain": [
       "[36987, 33453, 31119, 8694, 8398, 5719, 5545, 5476, 5359, 5147]"
      ]
     },
     "execution_count": 51,
     "metadata": {},
     "output_type": "execute_result"
    }
   ],
   "source": [
    "freqs"
   ]
  },
  {
   "cell_type": "code",
   "execution_count": null,
   "id": "80b8527f",
   "metadata": {},
   "outputs": [],
   "source": []
  },
  {
   "cell_type": "code",
   "execution_count": 52,
   "id": "50974c68",
   "metadata": {},
   "outputs": [],
   "source": [
    "import plotly.graph_objs as go\n",
    "from plotly.offline import iplot"
   ]
  },
  {
   "cell_type": "code",
   "execution_count": 53,
   "id": "60e94a7f",
   "metadata": {},
   "outputs": [],
   "source": [
    "trace = go.Bar(x=emojis, y=freqs)"
   ]
  },
  {
   "cell_type": "code",
   "execution_count": 54,
   "id": "55bfe93e",
   "metadata": {},
   "outputs": [
    {
     "data": {
      "application/vnd.plotly.v1+json": {
       "config": {
        "linkText": "Export to plot.ly",
        "plotlyServerURL": "https://plot.ly",
        "showLink": false
       },
       "data": [
        {
         "type": "bar",
         "x": [
          "😂",
          "😍",
          "❤",
          "🔥",
          "😭",
          "👏",
          "😘",
          "👍",
          "💖",
          "💕"
         ],
         "y": [
          36987,
          33453,
          31119,
          8694,
          8398,
          5719,
          5545,
          5476,
          5359,
          5147
         ]
        }
       ],
       "layout": {
        "template": {
         "data": {
          "bar": [
           {
            "error_x": {
             "color": "#2a3f5f"
            },
            "error_y": {
             "color": "#2a3f5f"
            },
            "marker": {
             "line": {
              "color": "#E5ECF6",
              "width": 0.5
             },
             "pattern": {
              "fillmode": "overlay",
              "size": 10,
              "solidity": 0.2
             }
            },
            "type": "bar"
           }
          ],
          "barpolar": [
           {
            "marker": {
             "line": {
              "color": "#E5ECF6",
              "width": 0.5
             },
             "pattern": {
              "fillmode": "overlay",
              "size": 10,
              "solidity": 0.2
             }
            },
            "type": "barpolar"
           }
          ],
          "carpet": [
           {
            "aaxis": {
             "endlinecolor": "#2a3f5f",
             "gridcolor": "white",
             "linecolor": "white",
             "minorgridcolor": "white",
             "startlinecolor": "#2a3f5f"
            },
            "baxis": {
             "endlinecolor": "#2a3f5f",
             "gridcolor": "white",
             "linecolor": "white",
             "minorgridcolor": "white",
             "startlinecolor": "#2a3f5f"
            },
            "type": "carpet"
           }
          ],
          "choropleth": [
           {
            "colorbar": {
             "outlinewidth": 0,
             "ticks": ""
            },
            "type": "choropleth"
           }
          ],
          "contour": [
           {
            "colorbar": {
             "outlinewidth": 0,
             "ticks": ""
            },
            "colorscale": [
             [
              0,
              "#0d0887"
             ],
             [
              0.1111111111111111,
              "#46039f"
             ],
             [
              0.2222222222222222,
              "#7201a8"
             ],
             [
              0.3333333333333333,
              "#9c179e"
             ],
             [
              0.4444444444444444,
              "#bd3786"
             ],
             [
              0.5555555555555556,
              "#d8576b"
             ],
             [
              0.6666666666666666,
              "#ed7953"
             ],
             [
              0.7777777777777778,
              "#fb9f3a"
             ],
             [
              0.8888888888888888,
              "#fdca26"
             ],
             [
              1,
              "#f0f921"
             ]
            ],
            "type": "contour"
           }
          ],
          "contourcarpet": [
           {
            "colorbar": {
             "outlinewidth": 0,
             "ticks": ""
            },
            "type": "contourcarpet"
           }
          ],
          "heatmap": [
           {
            "colorbar": {
             "outlinewidth": 0,
             "ticks": ""
            },
            "colorscale": [
             [
              0,
              "#0d0887"
             ],
             [
              0.1111111111111111,
              "#46039f"
             ],
             [
              0.2222222222222222,
              "#7201a8"
             ],
             [
              0.3333333333333333,
              "#9c179e"
             ],
             [
              0.4444444444444444,
              "#bd3786"
             ],
             [
              0.5555555555555556,
              "#d8576b"
             ],
             [
              0.6666666666666666,
              "#ed7953"
             ],
             [
              0.7777777777777778,
              "#fb9f3a"
             ],
             [
              0.8888888888888888,
              "#fdca26"
             ],
             [
              1,
              "#f0f921"
             ]
            ],
            "type": "heatmap"
           }
          ],
          "heatmapgl": [
           {
            "colorbar": {
             "outlinewidth": 0,
             "ticks": ""
            },
            "colorscale": [
             [
              0,
              "#0d0887"
             ],
             [
              0.1111111111111111,
              "#46039f"
             ],
             [
              0.2222222222222222,
              "#7201a8"
             ],
             [
              0.3333333333333333,
              "#9c179e"
             ],
             [
              0.4444444444444444,
              "#bd3786"
             ],
             [
              0.5555555555555556,
              "#d8576b"
             ],
             [
              0.6666666666666666,
              "#ed7953"
             ],
             [
              0.7777777777777778,
              "#fb9f3a"
             ],
             [
              0.8888888888888888,
              "#fdca26"
             ],
             [
              1,
              "#f0f921"
             ]
            ],
            "type": "heatmapgl"
           }
          ],
          "histogram": [
           {
            "marker": {
             "pattern": {
              "fillmode": "overlay",
              "size": 10,
              "solidity": 0.2
             }
            },
            "type": "histogram"
           }
          ],
          "histogram2d": [
           {
            "colorbar": {
             "outlinewidth": 0,
             "ticks": ""
            },
            "colorscale": [
             [
              0,
              "#0d0887"
             ],
             [
              0.1111111111111111,
              "#46039f"
             ],
             [
              0.2222222222222222,
              "#7201a8"
             ],
             [
              0.3333333333333333,
              "#9c179e"
             ],
             [
              0.4444444444444444,
              "#bd3786"
             ],
             [
              0.5555555555555556,
              "#d8576b"
             ],
             [
              0.6666666666666666,
              "#ed7953"
             ],
             [
              0.7777777777777778,
              "#fb9f3a"
             ],
             [
              0.8888888888888888,
              "#fdca26"
             ],
             [
              1,
              "#f0f921"
             ]
            ],
            "type": "histogram2d"
           }
          ],
          "histogram2dcontour": [
           {
            "colorbar": {
             "outlinewidth": 0,
             "ticks": ""
            },
            "colorscale": [
             [
              0,
              "#0d0887"
             ],
             [
              0.1111111111111111,
              "#46039f"
             ],
             [
              0.2222222222222222,
              "#7201a8"
             ],
             [
              0.3333333333333333,
              "#9c179e"
             ],
             [
              0.4444444444444444,
              "#bd3786"
             ],
             [
              0.5555555555555556,
              "#d8576b"
             ],
             [
              0.6666666666666666,
              "#ed7953"
             ],
             [
              0.7777777777777778,
              "#fb9f3a"
             ],
             [
              0.8888888888888888,
              "#fdca26"
             ],
             [
              1,
              "#f0f921"
             ]
            ],
            "type": "histogram2dcontour"
           }
          ],
          "mesh3d": [
           {
            "colorbar": {
             "outlinewidth": 0,
             "ticks": ""
            },
            "type": "mesh3d"
           }
          ],
          "parcoords": [
           {
            "line": {
             "colorbar": {
              "outlinewidth": 0,
              "ticks": ""
             }
            },
            "type": "parcoords"
           }
          ],
          "pie": [
           {
            "automargin": true,
            "type": "pie"
           }
          ],
          "scatter": [
           {
            "fillpattern": {
             "fillmode": "overlay",
             "size": 10,
             "solidity": 0.2
            },
            "type": "scatter"
           }
          ],
          "scatter3d": [
           {
            "line": {
             "colorbar": {
              "outlinewidth": 0,
              "ticks": ""
             }
            },
            "marker": {
             "colorbar": {
              "outlinewidth": 0,
              "ticks": ""
             }
            },
            "type": "scatter3d"
           }
          ],
          "scattercarpet": [
           {
            "marker": {
             "colorbar": {
              "outlinewidth": 0,
              "ticks": ""
             }
            },
            "type": "scattercarpet"
           }
          ],
          "scattergeo": [
           {
            "marker": {
             "colorbar": {
              "outlinewidth": 0,
              "ticks": ""
             }
            },
            "type": "scattergeo"
           }
          ],
          "scattergl": [
           {
            "marker": {
             "colorbar": {
              "outlinewidth": 0,
              "ticks": ""
             }
            },
            "type": "scattergl"
           }
          ],
          "scattermapbox": [
           {
            "marker": {
             "colorbar": {
              "outlinewidth": 0,
              "ticks": ""
             }
            },
            "type": "scattermapbox"
           }
          ],
          "scatterpolar": [
           {
            "marker": {
             "colorbar": {
              "outlinewidth": 0,
              "ticks": ""
             }
            },
            "type": "scatterpolar"
           }
          ],
          "scatterpolargl": [
           {
            "marker": {
             "colorbar": {
              "outlinewidth": 0,
              "ticks": ""
             }
            },
            "type": "scatterpolargl"
           }
          ],
          "scatterternary": [
           {
            "marker": {
             "colorbar": {
              "outlinewidth": 0,
              "ticks": ""
             }
            },
            "type": "scatterternary"
           }
          ],
          "surface": [
           {
            "colorbar": {
             "outlinewidth": 0,
             "ticks": ""
            },
            "colorscale": [
             [
              0,
              "#0d0887"
             ],
             [
              0.1111111111111111,
              "#46039f"
             ],
             [
              0.2222222222222222,
              "#7201a8"
             ],
             [
              0.3333333333333333,
              "#9c179e"
             ],
             [
              0.4444444444444444,
              "#bd3786"
             ],
             [
              0.5555555555555556,
              "#d8576b"
             ],
             [
              0.6666666666666666,
              "#ed7953"
             ],
             [
              0.7777777777777778,
              "#fb9f3a"
             ],
             [
              0.8888888888888888,
              "#fdca26"
             ],
             [
              1,
              "#f0f921"
             ]
            ],
            "type": "surface"
           }
          ],
          "table": [
           {
            "cells": {
             "fill": {
              "color": "#EBF0F8"
             },
             "line": {
              "color": "white"
             }
            },
            "header": {
             "fill": {
              "color": "#C8D4E3"
             },
             "line": {
              "color": "white"
             }
            },
            "type": "table"
           }
          ]
         },
         "layout": {
          "annotationdefaults": {
           "arrowcolor": "#2a3f5f",
           "arrowhead": 0,
           "arrowwidth": 1
          },
          "autotypenumbers": "strict",
          "coloraxis": {
           "colorbar": {
            "outlinewidth": 0,
            "ticks": ""
           }
          },
          "colorscale": {
           "diverging": [
            [
             0,
             "#8e0152"
            ],
            [
             0.1,
             "#c51b7d"
            ],
            [
             0.2,
             "#de77ae"
            ],
            [
             0.3,
             "#f1b6da"
            ],
            [
             0.4,
             "#fde0ef"
            ],
            [
             0.5,
             "#f7f7f7"
            ],
            [
             0.6,
             "#e6f5d0"
            ],
            [
             0.7,
             "#b8e186"
            ],
            [
             0.8,
             "#7fbc41"
            ],
            [
             0.9,
             "#4d9221"
            ],
            [
             1,
             "#276419"
            ]
           ],
           "sequential": [
            [
             0,
             "#0d0887"
            ],
            [
             0.1111111111111111,
             "#46039f"
            ],
            [
             0.2222222222222222,
             "#7201a8"
            ],
            [
             0.3333333333333333,
             "#9c179e"
            ],
            [
             0.4444444444444444,
             "#bd3786"
            ],
            [
             0.5555555555555556,
             "#d8576b"
            ],
            [
             0.6666666666666666,
             "#ed7953"
            ],
            [
             0.7777777777777778,
             "#fb9f3a"
            ],
            [
             0.8888888888888888,
             "#fdca26"
            ],
            [
             1,
             "#f0f921"
            ]
           ],
           "sequentialminus": [
            [
             0,
             "#0d0887"
            ],
            [
             0.1111111111111111,
             "#46039f"
            ],
            [
             0.2222222222222222,
             "#7201a8"
            ],
            [
             0.3333333333333333,
             "#9c179e"
            ],
            [
             0.4444444444444444,
             "#bd3786"
            ],
            [
             0.5555555555555556,
             "#d8576b"
            ],
            [
             0.6666666666666666,
             "#ed7953"
            ],
            [
             0.7777777777777778,
             "#fb9f3a"
            ],
            [
             0.8888888888888888,
             "#fdca26"
            ],
            [
             1,
             "#f0f921"
            ]
           ]
          },
          "colorway": [
           "#636efa",
           "#EF553B",
           "#00cc96",
           "#ab63fa",
           "#FFA15A",
           "#19d3f3",
           "#FF6692",
           "#B6E880",
           "#FF97FF",
           "#FECB52"
          ],
          "font": {
           "color": "#2a3f5f"
          },
          "geo": {
           "bgcolor": "white",
           "lakecolor": "white",
           "landcolor": "#E5ECF6",
           "showlakes": true,
           "showland": true,
           "subunitcolor": "white"
          },
          "hoverlabel": {
           "align": "left"
          },
          "hovermode": "closest",
          "mapbox": {
           "style": "light"
          },
          "paper_bgcolor": "white",
          "plot_bgcolor": "#E5ECF6",
          "polar": {
           "angularaxis": {
            "gridcolor": "white",
            "linecolor": "white",
            "ticks": ""
           },
           "bgcolor": "#E5ECF6",
           "radialaxis": {
            "gridcolor": "white",
            "linecolor": "white",
            "ticks": ""
           }
          },
          "scene": {
           "xaxis": {
            "backgroundcolor": "#E5ECF6",
            "gridcolor": "white",
            "gridwidth": 2,
            "linecolor": "white",
            "showbackground": true,
            "ticks": "",
            "zerolinecolor": "white"
           },
           "yaxis": {
            "backgroundcolor": "#E5ECF6",
            "gridcolor": "white",
            "gridwidth": 2,
            "linecolor": "white",
            "showbackground": true,
            "ticks": "",
            "zerolinecolor": "white"
           },
           "zaxis": {
            "backgroundcolor": "#E5ECF6",
            "gridcolor": "white",
            "gridwidth": 2,
            "linecolor": "white",
            "showbackground": true,
            "ticks": "",
            "zerolinecolor": "white"
           }
          },
          "shapedefaults": {
           "line": {
            "color": "#2a3f5f"
           }
          },
          "ternary": {
           "aaxis": {
            "gridcolor": "white",
            "linecolor": "white",
            "ticks": ""
           },
           "baxis": {
            "gridcolor": "white",
            "linecolor": "white",
            "ticks": ""
           },
           "bgcolor": "#E5ECF6",
           "caxis": {
            "gridcolor": "white",
            "linecolor": "white",
            "ticks": ""
           }
          },
          "title": {
           "x": 0.05
          },
          "xaxis": {
           "automargin": true,
           "gridcolor": "white",
           "linecolor": "white",
           "ticks": "",
           "title": {
            "standoff": 15
           },
           "zerolinecolor": "white",
           "zerolinewidth": 2
          },
          "yaxis": {
           "automargin": true,
           "gridcolor": "white",
           "linecolor": "white",
           "ticks": "",
           "title": {
            "standoff": 15
           },
           "zerolinecolor": "white",
           "zerolinewidth": 2
          }
         }
        }
       }
      }
     },
     "metadata": {},
     "output_type": "display_data"
    }
   ],
   "source": [
    "iplot([trace])"
   ]
  },
  {
   "cell_type": "code",
   "execution_count": null,
   "id": "84e34f80",
   "metadata": {},
   "outputs": [],
   "source": []
  },
  {
   "cell_type": "code",
   "execution_count": 55,
   "id": "c5039dc9",
   "metadata": {},
   "outputs": [],
   "source": [
    "import os"
   ]
  },
  {
   "cell_type": "code",
   "execution_count": 56,
   "id": "a0476edc",
   "metadata": {},
   "outputs": [
    {
     "data": {
      "text/plain": [
       "['CAvideos.csv',\n",
       " 'CA_category_id.json',\n",
       " 'DEvideos.csv',\n",
       " 'DE_category_id.json',\n",
       " 'FRvideos.csv',\n",
       " 'FR_category_id.json',\n",
       " 'GBvideos.csv',\n",
       " 'GB_category_id.json',\n",
       " 'INvideos.csv',\n",
       " 'IN_category_id.json',\n",
       " 'JPvideos.csv',\n",
       " 'JP_category_id.json',\n",
       " 'KRvideos.csv',\n",
       " 'KR_category_id.json',\n",
       " 'MXvideos.csv',\n",
       " 'MX_category_id.json',\n",
       " 'RUvideos.csv',\n",
       " 'RU_category_id.json',\n",
       " 'USvideos.csv',\n",
       " 'US_category_id.json']"
      ]
     },
     "execution_count": 56,
     "metadata": {},
     "output_type": "execute_result"
    }
   ],
   "source": [
    "files = os.listdir('C:/Users/SATYAM/Documents/Youtube_DataAnalysis/additional_data')\n",
    "files"
   ]
  },
  {
   "cell_type": "code",
   "execution_count": 57,
   "id": "4705b828",
   "metadata": {},
   "outputs": [],
   "source": [
    "files_csv = [file for file in files if '.csv' in file]"
   ]
  },
  {
   "cell_type": "code",
   "execution_count": 58,
   "id": "73ce3e35",
   "metadata": {},
   "outputs": [],
   "source": [
    "import warnings\n",
    "from warnings import filterwarnings\n",
    "filterwarnings('ignore')"
   ]
  },
  {
   "cell_type": "code",
   "execution_count": 59,
   "id": "7542d3e4",
   "metadata": {},
   "outputs": [],
   "source": [
    "full_df = pd.DataFrame()\n",
    "path = r'C:/Users/SATYAM/Documents/Youtube_DataAnalysis/additional_data'\n",
    "\n",
    "for file in files_csv:\n",
    "    current_df = pd.read_csv(path+'/'+file, encoding='iso-8859-1', error_bad_lines=False)\n",
    "\n",
    "    full_df = pd.concat([full_df, current_df], ignore_index=True)"
   ]
  },
  {
   "cell_type": "code",
   "execution_count": 60,
   "id": "e0485bf6",
   "metadata": {},
   "outputs": [
    {
     "data": {
      "text/plain": [
       "(375942, 16)"
      ]
     },
     "execution_count": 60,
     "metadata": {},
     "output_type": "execute_result"
    }
   ],
   "source": [
    "full_df.shape"
   ]
  },
  {
   "cell_type": "code",
   "execution_count": 61,
   "id": "827cdd5c",
   "metadata": {},
   "outputs": [
    {
     "data": {
      "text/plain": [
       "(36417, 16)"
      ]
     },
     "execution_count": 61,
     "metadata": {},
     "output_type": "execute_result"
    }
   ],
   "source": [
    "full_df[full_df.duplicated()].shape"
   ]
  },
  {
   "cell_type": "code",
   "execution_count": 62,
   "id": "833ef429",
   "metadata": {},
   "outputs": [],
   "source": [
    "full_df = full_df.drop_duplicates()"
   ]
  },
  {
   "cell_type": "code",
   "execution_count": 63,
   "id": "29f8b742",
   "metadata": {},
   "outputs": [
    {
     "data": {
      "text/plain": [
       "(339525, 16)"
      ]
     },
     "execution_count": 63,
     "metadata": {},
     "output_type": "execute_result"
    }
   ],
   "source": [
    "full_df.shape"
   ]
  },
  {
   "cell_type": "code",
   "execution_count": 64,
   "id": "6db114f4",
   "metadata": {},
   "outputs": [],
   "source": [
    "full_df.to_csv('C:/Users/SATYAM/Downloads/youtube_sample.csv', index=False)"
   ]
  },
  {
   "cell_type": "code",
   "execution_count": 65,
   "id": "14916d14",
   "metadata": {},
   "outputs": [],
   "source": [
    "full_df[0:1000].to_csv('C:/Users/SATYAM/Downloads/youtube_sample2.csv', index=False)"
   ]
  },
  {
   "cell_type": "code",
   "execution_count": 66,
   "id": "4ab5f937",
   "metadata": {},
   "outputs": [],
   "source": [
    "full_df.to_json('C:/Users/SATYAM/Downloads/youtube_sample3.json')"
   ]
  },
  {
   "cell_type": "markdown",
   "id": "838fad78",
   "metadata": {},
   "source": [
    "# Creating database"
   ]
  },
  {
   "cell_type": "code",
   "execution_count": 67,
   "id": "7da6ecca",
   "metadata": {},
   "outputs": [],
   "source": [
    "from sqlalchemy import create_engine"
   ]
  },
  {
   "cell_type": "code",
   "execution_count": 68,
   "id": "4e29b0d4",
   "metadata": {},
   "outputs": [],
   "source": [
    "engine = create_engine(r'sqlite:///youtube_analysis.sqlite')"
   ]
  },
  {
   "cell_type": "code",
   "execution_count": 69,
   "id": "44b29bfb",
   "metadata": {},
   "outputs": [],
   "source": [
    "# full_df[:1000].to_sql('Users', con=engine, if_exists='append')\n",
    "## This has to run one time other wise it conficts the data with multiple values"
   ]
  },
  {
   "cell_type": "markdown",
   "id": "8b1e7aa3",
   "metadata": {},
   "source": [
    "# Analysing the most liked"
   ]
  },
  {
   "cell_type": "code",
   "execution_count": 70,
   "id": "f0dde8ab",
   "metadata": {},
   "outputs": [
    {
     "data": {
      "text/html": [
       "<div>\n",
       "<style scoped>\n",
       "    .dataframe tbody tr th:only-of-type {\n",
       "        vertical-align: middle;\n",
       "    }\n",
       "\n",
       "    .dataframe tbody tr th {\n",
       "        vertical-align: top;\n",
       "    }\n",
       "\n",
       "    .dataframe thead th {\n",
       "        text-align: right;\n",
       "    }\n",
       "</style>\n",
       "<table border=\"1\" class=\"dataframe\">\n",
       "  <thead>\n",
       "    <tr style=\"text-align: right;\">\n",
       "      <th></th>\n",
       "      <th>video_id</th>\n",
       "      <th>trending_date</th>\n",
       "      <th>title</th>\n",
       "      <th>channel_title</th>\n",
       "      <th>category_id</th>\n",
       "      <th>publish_time</th>\n",
       "      <th>tags</th>\n",
       "      <th>views</th>\n",
       "      <th>likes</th>\n",
       "      <th>dislikes</th>\n",
       "      <th>comment_count</th>\n",
       "      <th>thumbnail_link</th>\n",
       "      <th>comments_disabled</th>\n",
       "      <th>ratings_disabled</th>\n",
       "      <th>video_error_or_removed</th>\n",
       "      <th>description</th>\n",
       "    </tr>\n",
       "  </thead>\n",
       "  <tbody>\n",
       "    <tr>\n",
       "      <th>0</th>\n",
       "      <td>n1WpP7iowLc</td>\n",
       "      <td>17.14.11</td>\n",
       "      <td>Eminem - Walk On Water (Audio) ft. BeyoncÃ©</td>\n",
       "      <td>EminemVEVO</td>\n",
       "      <td>10</td>\n",
       "      <td>2017-11-10T17:00:03.000Z</td>\n",
       "      <td>Eminem|\"Walk\"|\"On\"|\"Water\"|\"Aftermath/Shady/In...</td>\n",
       "      <td>17158579</td>\n",
       "      <td>787425</td>\n",
       "      <td>43420</td>\n",
       "      <td>125882</td>\n",
       "      <td>https://i.ytimg.com/vi/n1WpP7iowLc/default.jpg</td>\n",
       "      <td>False</td>\n",
       "      <td>False</td>\n",
       "      <td>False</td>\n",
       "      <td>Eminem's new track Walk on Water ft. BeyoncÃ© ...</td>\n",
       "    </tr>\n",
       "    <tr>\n",
       "      <th>1</th>\n",
       "      <td>0dBIkQ4Mz1M</td>\n",
       "      <td>17.14.11</td>\n",
       "      <td>PLUSH - Bad Unboxing Fan Mail</td>\n",
       "      <td>iDubbbzTV</td>\n",
       "      <td>23</td>\n",
       "      <td>2017-11-13T17:00:00.000Z</td>\n",
       "      <td>plush|\"bad unboxing\"|\"unboxing\"|\"fan mail\"|\"id...</td>\n",
       "      <td>1014651</td>\n",
       "      <td>127794</td>\n",
       "      <td>1688</td>\n",
       "      <td>13030</td>\n",
       "      <td>https://i.ytimg.com/vi/0dBIkQ4Mz1M/default.jpg</td>\n",
       "      <td>False</td>\n",
       "      <td>False</td>\n",
       "      <td>False</td>\n",
       "      <td>STill got a lot of packages. Probably will las...</td>\n",
       "    </tr>\n",
       "    <tr>\n",
       "      <th>2</th>\n",
       "      <td>5qpjK5DgCt4</td>\n",
       "      <td>17.14.11</td>\n",
       "      <td>Racist Superman | Rudy Mancuso, King Bach &amp; Le...</td>\n",
       "      <td>Rudy Mancuso</td>\n",
       "      <td>23</td>\n",
       "      <td>2017-11-12T19:05:24.000Z</td>\n",
       "      <td>racist superman|\"rudy\"|\"mancuso\"|\"king\"|\"bach\"...</td>\n",
       "      <td>3191434</td>\n",
       "      <td>146035</td>\n",
       "      <td>5339</td>\n",
       "      <td>8181</td>\n",
       "      <td>https://i.ytimg.com/vi/5qpjK5DgCt4/default.jpg</td>\n",
       "      <td>False</td>\n",
       "      <td>False</td>\n",
       "      <td>False</td>\n",
       "      <td>WATCH MY PREVIOUS VIDEO â¶ \\n\\nSUBSCRIBE âº ...</td>\n",
       "    </tr>\n",
       "    <tr>\n",
       "      <th>3</th>\n",
       "      <td>d380meD0W0M</td>\n",
       "      <td>17.14.11</td>\n",
       "      <td>I Dare You: GOING BALD!?</td>\n",
       "      <td>nigahiga</td>\n",
       "      <td>24</td>\n",
       "      <td>2017-11-12T18:01:41.000Z</td>\n",
       "      <td>ryan|\"higa\"|\"higatv\"|\"nigahiga\"|\"i dare you\"|\"...</td>\n",
       "      <td>2095828</td>\n",
       "      <td>132239</td>\n",
       "      <td>1989</td>\n",
       "      <td>17518</td>\n",
       "      <td>https://i.ytimg.com/vi/d380meD0W0M/default.jpg</td>\n",
       "      <td>False</td>\n",
       "      <td>False</td>\n",
       "      <td>False</td>\n",
       "      <td>I know it's been a while since we did this sho...</td>\n",
       "    </tr>\n",
       "    <tr>\n",
       "      <th>4</th>\n",
       "      <td>2Vv-BfVoq4g</td>\n",
       "      <td>17.14.11</td>\n",
       "      <td>Ed Sheeran - Perfect (Official Music Video)</td>\n",
       "      <td>Ed Sheeran</td>\n",
       "      <td>10</td>\n",
       "      <td>2017-11-09T11:04:14.000Z</td>\n",
       "      <td>edsheeran|\"ed sheeran\"|\"acoustic\"|\"live\"|\"cove...</td>\n",
       "      <td>33523622</td>\n",
       "      <td>1634130</td>\n",
       "      <td>21082</td>\n",
       "      <td>85067</td>\n",
       "      <td>https://i.ytimg.com/vi/2Vv-BfVoq4g/default.jpg</td>\n",
       "      <td>False</td>\n",
       "      <td>False</td>\n",
       "      <td>False</td>\n",
       "      <td>ð§: https://ad.gt/yt-perfect\\nð°: https://...</td>\n",
       "    </tr>\n",
       "  </tbody>\n",
       "</table>\n",
       "</div>"
      ],
      "text/plain": [
       "      video_id trending_date  \\\n",
       "0  n1WpP7iowLc      17.14.11   \n",
       "1  0dBIkQ4Mz1M      17.14.11   \n",
       "2  5qpjK5DgCt4      17.14.11   \n",
       "3  d380meD0W0M      17.14.11   \n",
       "4  2Vv-BfVoq4g      17.14.11   \n",
       "\n",
       "                                               title channel_title  \\\n",
       "0        Eminem - Walk On Water (Audio) ft. BeyoncÃ©    EminemVEVO   \n",
       "1                      PLUSH - Bad Unboxing Fan Mail     iDubbbzTV   \n",
       "2  Racist Superman | Rudy Mancuso, King Bach & Le...  Rudy Mancuso   \n",
       "3                           I Dare You: GOING BALD!?      nigahiga   \n",
       "4        Ed Sheeran - Perfect (Official Music Video)    Ed Sheeran   \n",
       "\n",
       "   category_id              publish_time  \\\n",
       "0           10  2017-11-10T17:00:03.000Z   \n",
       "1           23  2017-11-13T17:00:00.000Z   \n",
       "2           23  2017-11-12T19:05:24.000Z   \n",
       "3           24  2017-11-12T18:01:41.000Z   \n",
       "4           10  2017-11-09T11:04:14.000Z   \n",
       "\n",
       "                                                tags     views    likes  \\\n",
       "0  Eminem|\"Walk\"|\"On\"|\"Water\"|\"Aftermath/Shady/In...  17158579   787425   \n",
       "1  plush|\"bad unboxing\"|\"unboxing\"|\"fan mail\"|\"id...   1014651   127794   \n",
       "2  racist superman|\"rudy\"|\"mancuso\"|\"king\"|\"bach\"...   3191434   146035   \n",
       "3  ryan|\"higa\"|\"higatv\"|\"nigahiga\"|\"i dare you\"|\"...   2095828   132239   \n",
       "4  edsheeran|\"ed sheeran\"|\"acoustic\"|\"live\"|\"cove...  33523622  1634130   \n",
       "\n",
       "   dislikes  comment_count                                  thumbnail_link  \\\n",
       "0     43420         125882  https://i.ytimg.com/vi/n1WpP7iowLc/default.jpg   \n",
       "1      1688          13030  https://i.ytimg.com/vi/0dBIkQ4Mz1M/default.jpg   \n",
       "2      5339           8181  https://i.ytimg.com/vi/5qpjK5DgCt4/default.jpg   \n",
       "3      1989          17518  https://i.ytimg.com/vi/d380meD0W0M/default.jpg   \n",
       "4     21082          85067  https://i.ytimg.com/vi/2Vv-BfVoq4g/default.jpg   \n",
       "\n",
       "   comments_disabled  ratings_disabled  video_error_or_removed  \\\n",
       "0              False             False                   False   \n",
       "1              False             False                   False   \n",
       "2              False             False                   False   \n",
       "3              False             False                   False   \n",
       "4              False             False                   False   \n",
       "\n",
       "                                         description  \n",
       "0  Eminem's new track Walk on Water ft. BeyoncÃ© ...  \n",
       "1  STill got a lot of packages. Probably will las...  \n",
       "2  WATCH MY PREVIOUS VIDEO â¶ \\n\\nSUBSCRIBE âº ...  \n",
       "3  I know it's been a while since we did this sho...  \n",
       "4  ð§: https://ad.gt/yt-perfect\\nð°: https://...  "
      ]
     },
     "execution_count": 70,
     "metadata": {},
     "output_type": "execute_result"
    }
   ],
   "source": [
    "full_df.head()"
   ]
  },
  {
   "cell_type": "code",
   "execution_count": 71,
   "id": "93ec7170",
   "metadata": {},
   "outputs": [
    {
     "data": {
      "text/plain": [
       "array([10, 23, 24, 25, 22, 26,  1, 28, 20, 17, 29, 15, 19,  2, 27, 43, 30,\n",
       "       44], dtype=int64)"
      ]
     },
     "execution_count": 71,
     "metadata": {},
     "output_type": "execute_result"
    }
   ],
   "source": [
    "full_df['category_id'].unique()"
   ]
  },
  {
   "cell_type": "code",
   "execution_count": null,
   "id": "ff75f6b9",
   "metadata": {},
   "outputs": [],
   "source": []
  },
  {
   "cell_type": "code",
   "execution_count": 72,
   "id": "11176f2c",
   "metadata": {},
   "outputs": [
    {
     "data": {
      "text/html": [
       "<div>\n",
       "<style scoped>\n",
       "    .dataframe tbody tr th:only-of-type {\n",
       "        vertical-align: middle;\n",
       "    }\n",
       "\n",
       "    .dataframe tbody tr th {\n",
       "        vertical-align: top;\n",
       "    }\n",
       "\n",
       "    .dataframe thead th {\n",
       "        text-align: right;\n",
       "    }\n",
       "</style>\n",
       "<table border=\"1\" class=\"dataframe\">\n",
       "  <thead>\n",
       "    <tr style=\"text-align: right;\">\n",
       "      <th></th>\n",
       "      <th>kind</th>\n",
       "      <th>etag</th>\n",
       "      <th>items</th>\n",
       "    </tr>\n",
       "  </thead>\n",
       "  <tbody>\n",
       "    <tr>\n",
       "      <th>0</th>\n",
       "      <td>youtube#videoCategoryListResponse</td>\n",
       "      <td>\"m2yskBQFythfE4irbTIeOgYYfBU/S730Ilt-Fi-emsQJv...</td>\n",
       "      <td>{'kind': 'youtube#videoCategory', 'etag': '\"m2...</td>\n",
       "    </tr>\n",
       "    <tr>\n",
       "      <th>1</th>\n",
       "      <td>youtube#videoCategoryListResponse</td>\n",
       "      <td>\"m2yskBQFythfE4irbTIeOgYYfBU/S730Ilt-Fi-emsQJv...</td>\n",
       "      <td>{'kind': 'youtube#videoCategory', 'etag': '\"m2...</td>\n",
       "    </tr>\n",
       "    <tr>\n",
       "      <th>2</th>\n",
       "      <td>youtube#videoCategoryListResponse</td>\n",
       "      <td>\"m2yskBQFythfE4irbTIeOgYYfBU/S730Ilt-Fi-emsQJv...</td>\n",
       "      <td>{'kind': 'youtube#videoCategory', 'etag': '\"m2...</td>\n",
       "    </tr>\n",
       "    <tr>\n",
       "      <th>3</th>\n",
       "      <td>youtube#videoCategoryListResponse</td>\n",
       "      <td>\"m2yskBQFythfE4irbTIeOgYYfBU/S730Ilt-Fi-emsQJv...</td>\n",
       "      <td>{'kind': 'youtube#videoCategory', 'etag': '\"m2...</td>\n",
       "    </tr>\n",
       "    <tr>\n",
       "      <th>4</th>\n",
       "      <td>youtube#videoCategoryListResponse</td>\n",
       "      <td>\"m2yskBQFythfE4irbTIeOgYYfBU/S730Ilt-Fi-emsQJv...</td>\n",
       "      <td>{'kind': 'youtube#videoCategory', 'etag': '\"m2...</td>\n",
       "    </tr>\n",
       "    <tr>\n",
       "      <th>5</th>\n",
       "      <td>youtube#videoCategoryListResponse</td>\n",
       "      <td>\"m2yskBQFythfE4irbTIeOgYYfBU/S730Ilt-Fi-emsQJv...</td>\n",
       "      <td>{'kind': 'youtube#videoCategory', 'etag': '\"m2...</td>\n",
       "    </tr>\n",
       "    <tr>\n",
       "      <th>6</th>\n",
       "      <td>youtube#videoCategoryListResponse</td>\n",
       "      <td>\"m2yskBQFythfE4irbTIeOgYYfBU/S730Ilt-Fi-emsQJv...</td>\n",
       "      <td>{'kind': 'youtube#videoCategory', 'etag': '\"m2...</td>\n",
       "    </tr>\n",
       "    <tr>\n",
       "      <th>7</th>\n",
       "      <td>youtube#videoCategoryListResponse</td>\n",
       "      <td>\"m2yskBQFythfE4irbTIeOgYYfBU/S730Ilt-Fi-emsQJv...</td>\n",
       "      <td>{'kind': 'youtube#videoCategory', 'etag': '\"m2...</td>\n",
       "    </tr>\n",
       "    <tr>\n",
       "      <th>8</th>\n",
       "      <td>youtube#videoCategoryListResponse</td>\n",
       "      <td>\"m2yskBQFythfE4irbTIeOgYYfBU/S730Ilt-Fi-emsQJv...</td>\n",
       "      <td>{'kind': 'youtube#videoCategory', 'etag': '\"m2...</td>\n",
       "    </tr>\n",
       "    <tr>\n",
       "      <th>9</th>\n",
       "      <td>youtube#videoCategoryListResponse</td>\n",
       "      <td>\"m2yskBQFythfE4irbTIeOgYYfBU/S730Ilt-Fi-emsQJv...</td>\n",
       "      <td>{'kind': 'youtube#videoCategory', 'etag': '\"m2...</td>\n",
       "    </tr>\n",
       "    <tr>\n",
       "      <th>10</th>\n",
       "      <td>youtube#videoCategoryListResponse</td>\n",
       "      <td>\"m2yskBQFythfE4irbTIeOgYYfBU/S730Ilt-Fi-emsQJv...</td>\n",
       "      <td>{'kind': 'youtube#videoCategory', 'etag': '\"m2...</td>\n",
       "    </tr>\n",
       "    <tr>\n",
       "      <th>11</th>\n",
       "      <td>youtube#videoCategoryListResponse</td>\n",
       "      <td>\"m2yskBQFythfE4irbTIeOgYYfBU/S730Ilt-Fi-emsQJv...</td>\n",
       "      <td>{'kind': 'youtube#videoCategory', 'etag': '\"m2...</td>\n",
       "    </tr>\n",
       "    <tr>\n",
       "      <th>12</th>\n",
       "      <td>youtube#videoCategoryListResponse</td>\n",
       "      <td>\"m2yskBQFythfE4irbTIeOgYYfBU/S730Ilt-Fi-emsQJv...</td>\n",
       "      <td>{'kind': 'youtube#videoCategory', 'etag': '\"m2...</td>\n",
       "    </tr>\n",
       "    <tr>\n",
       "      <th>13</th>\n",
       "      <td>youtube#videoCategoryListResponse</td>\n",
       "      <td>\"m2yskBQFythfE4irbTIeOgYYfBU/S730Ilt-Fi-emsQJv...</td>\n",
       "      <td>{'kind': 'youtube#videoCategory', 'etag': '\"m2...</td>\n",
       "    </tr>\n",
       "    <tr>\n",
       "      <th>14</th>\n",
       "      <td>youtube#videoCategoryListResponse</td>\n",
       "      <td>\"m2yskBQFythfE4irbTIeOgYYfBU/S730Ilt-Fi-emsQJv...</td>\n",
       "      <td>{'kind': 'youtube#videoCategory', 'etag': '\"m2...</td>\n",
       "    </tr>\n",
       "    <tr>\n",
       "      <th>15</th>\n",
       "      <td>youtube#videoCategoryListResponse</td>\n",
       "      <td>\"m2yskBQFythfE4irbTIeOgYYfBU/S730Ilt-Fi-emsQJv...</td>\n",
       "      <td>{'kind': 'youtube#videoCategory', 'etag': '\"m2...</td>\n",
       "    </tr>\n",
       "    <tr>\n",
       "      <th>16</th>\n",
       "      <td>youtube#videoCategoryListResponse</td>\n",
       "      <td>\"m2yskBQFythfE4irbTIeOgYYfBU/S730Ilt-Fi-emsQJv...</td>\n",
       "      <td>{'kind': 'youtube#videoCategory', 'etag': '\"m2...</td>\n",
       "    </tr>\n",
       "    <tr>\n",
       "      <th>17</th>\n",
       "      <td>youtube#videoCategoryListResponse</td>\n",
       "      <td>\"m2yskBQFythfE4irbTIeOgYYfBU/S730Ilt-Fi-emsQJv...</td>\n",
       "      <td>{'kind': 'youtube#videoCategory', 'etag': '\"m2...</td>\n",
       "    </tr>\n",
       "    <tr>\n",
       "      <th>18</th>\n",
       "      <td>youtube#videoCategoryListResponse</td>\n",
       "      <td>\"m2yskBQFythfE4irbTIeOgYYfBU/S730Ilt-Fi-emsQJv...</td>\n",
       "      <td>{'kind': 'youtube#videoCategory', 'etag': '\"m2...</td>\n",
       "    </tr>\n",
       "    <tr>\n",
       "      <th>19</th>\n",
       "      <td>youtube#videoCategoryListResponse</td>\n",
       "      <td>\"m2yskBQFythfE4irbTIeOgYYfBU/S730Ilt-Fi-emsQJv...</td>\n",
       "      <td>{'kind': 'youtube#videoCategory', 'etag': '\"m2...</td>\n",
       "    </tr>\n",
       "    <tr>\n",
       "      <th>20</th>\n",
       "      <td>youtube#videoCategoryListResponse</td>\n",
       "      <td>\"m2yskBQFythfE4irbTIeOgYYfBU/S730Ilt-Fi-emsQJv...</td>\n",
       "      <td>{'kind': 'youtube#videoCategory', 'etag': '\"m2...</td>\n",
       "    </tr>\n",
       "    <tr>\n",
       "      <th>21</th>\n",
       "      <td>youtube#videoCategoryListResponse</td>\n",
       "      <td>\"m2yskBQFythfE4irbTIeOgYYfBU/S730Ilt-Fi-emsQJv...</td>\n",
       "      <td>{'kind': 'youtube#videoCategory', 'etag': '\"m2...</td>\n",
       "    </tr>\n",
       "    <tr>\n",
       "      <th>22</th>\n",
       "      <td>youtube#videoCategoryListResponse</td>\n",
       "      <td>\"m2yskBQFythfE4irbTIeOgYYfBU/S730Ilt-Fi-emsQJv...</td>\n",
       "      <td>{'kind': 'youtube#videoCategory', 'etag': '\"m2...</td>\n",
       "    </tr>\n",
       "    <tr>\n",
       "      <th>23</th>\n",
       "      <td>youtube#videoCategoryListResponse</td>\n",
       "      <td>\"m2yskBQFythfE4irbTIeOgYYfBU/S730Ilt-Fi-emsQJv...</td>\n",
       "      <td>{'kind': 'youtube#videoCategory', 'etag': '\"m2...</td>\n",
       "    </tr>\n",
       "    <tr>\n",
       "      <th>24</th>\n",
       "      <td>youtube#videoCategoryListResponse</td>\n",
       "      <td>\"m2yskBQFythfE4irbTIeOgYYfBU/S730Ilt-Fi-emsQJv...</td>\n",
       "      <td>{'kind': 'youtube#videoCategory', 'etag': '\"m2...</td>\n",
       "    </tr>\n",
       "    <tr>\n",
       "      <th>25</th>\n",
       "      <td>youtube#videoCategoryListResponse</td>\n",
       "      <td>\"m2yskBQFythfE4irbTIeOgYYfBU/S730Ilt-Fi-emsQJv...</td>\n",
       "      <td>{'kind': 'youtube#videoCategory', 'etag': '\"m2...</td>\n",
       "    </tr>\n",
       "    <tr>\n",
       "      <th>26</th>\n",
       "      <td>youtube#videoCategoryListResponse</td>\n",
       "      <td>\"m2yskBQFythfE4irbTIeOgYYfBU/S730Ilt-Fi-emsQJv...</td>\n",
       "      <td>{'kind': 'youtube#videoCategory', 'etag': '\"m2...</td>\n",
       "    </tr>\n",
       "    <tr>\n",
       "      <th>27</th>\n",
       "      <td>youtube#videoCategoryListResponse</td>\n",
       "      <td>\"m2yskBQFythfE4irbTIeOgYYfBU/S730Ilt-Fi-emsQJv...</td>\n",
       "      <td>{'kind': 'youtube#videoCategory', 'etag': '\"m2...</td>\n",
       "    </tr>\n",
       "    <tr>\n",
       "      <th>28</th>\n",
       "      <td>youtube#videoCategoryListResponse</td>\n",
       "      <td>\"m2yskBQFythfE4irbTIeOgYYfBU/S730Ilt-Fi-emsQJv...</td>\n",
       "      <td>{'kind': 'youtube#videoCategory', 'etag': '\"m2...</td>\n",
       "    </tr>\n",
       "    <tr>\n",
       "      <th>29</th>\n",
       "      <td>youtube#videoCategoryListResponse</td>\n",
       "      <td>\"m2yskBQFythfE4irbTIeOgYYfBU/S730Ilt-Fi-emsQJv...</td>\n",
       "      <td>{'kind': 'youtube#videoCategory', 'etag': '\"m2...</td>\n",
       "    </tr>\n",
       "    <tr>\n",
       "      <th>30</th>\n",
       "      <td>youtube#videoCategoryListResponse</td>\n",
       "      <td>\"m2yskBQFythfE4irbTIeOgYYfBU/S730Ilt-Fi-emsQJv...</td>\n",
       "      <td>{'kind': 'youtube#videoCategory', 'etag': '\"m2...</td>\n",
       "    </tr>\n",
       "    <tr>\n",
       "      <th>31</th>\n",
       "      <td>youtube#videoCategoryListResponse</td>\n",
       "      <td>\"m2yskBQFythfE4irbTIeOgYYfBU/S730Ilt-Fi-emsQJv...</td>\n",
       "      <td>{'kind': 'youtube#videoCategory', 'etag': '\"m2...</td>\n",
       "    </tr>\n",
       "  </tbody>\n",
       "</table>\n",
       "</div>"
      ],
      "text/plain": [
       "                                 kind  \\\n",
       "0   youtube#videoCategoryListResponse   \n",
       "1   youtube#videoCategoryListResponse   \n",
       "2   youtube#videoCategoryListResponse   \n",
       "3   youtube#videoCategoryListResponse   \n",
       "4   youtube#videoCategoryListResponse   \n",
       "5   youtube#videoCategoryListResponse   \n",
       "6   youtube#videoCategoryListResponse   \n",
       "7   youtube#videoCategoryListResponse   \n",
       "8   youtube#videoCategoryListResponse   \n",
       "9   youtube#videoCategoryListResponse   \n",
       "10  youtube#videoCategoryListResponse   \n",
       "11  youtube#videoCategoryListResponse   \n",
       "12  youtube#videoCategoryListResponse   \n",
       "13  youtube#videoCategoryListResponse   \n",
       "14  youtube#videoCategoryListResponse   \n",
       "15  youtube#videoCategoryListResponse   \n",
       "16  youtube#videoCategoryListResponse   \n",
       "17  youtube#videoCategoryListResponse   \n",
       "18  youtube#videoCategoryListResponse   \n",
       "19  youtube#videoCategoryListResponse   \n",
       "20  youtube#videoCategoryListResponse   \n",
       "21  youtube#videoCategoryListResponse   \n",
       "22  youtube#videoCategoryListResponse   \n",
       "23  youtube#videoCategoryListResponse   \n",
       "24  youtube#videoCategoryListResponse   \n",
       "25  youtube#videoCategoryListResponse   \n",
       "26  youtube#videoCategoryListResponse   \n",
       "27  youtube#videoCategoryListResponse   \n",
       "28  youtube#videoCategoryListResponse   \n",
       "29  youtube#videoCategoryListResponse   \n",
       "30  youtube#videoCategoryListResponse   \n",
       "31  youtube#videoCategoryListResponse   \n",
       "\n",
       "                                                 etag  \\\n",
       "0   \"m2yskBQFythfE4irbTIeOgYYfBU/S730Ilt-Fi-emsQJv...   \n",
       "1   \"m2yskBQFythfE4irbTIeOgYYfBU/S730Ilt-Fi-emsQJv...   \n",
       "2   \"m2yskBQFythfE4irbTIeOgYYfBU/S730Ilt-Fi-emsQJv...   \n",
       "3   \"m2yskBQFythfE4irbTIeOgYYfBU/S730Ilt-Fi-emsQJv...   \n",
       "4   \"m2yskBQFythfE4irbTIeOgYYfBU/S730Ilt-Fi-emsQJv...   \n",
       "5   \"m2yskBQFythfE4irbTIeOgYYfBU/S730Ilt-Fi-emsQJv...   \n",
       "6   \"m2yskBQFythfE4irbTIeOgYYfBU/S730Ilt-Fi-emsQJv...   \n",
       "7   \"m2yskBQFythfE4irbTIeOgYYfBU/S730Ilt-Fi-emsQJv...   \n",
       "8   \"m2yskBQFythfE4irbTIeOgYYfBU/S730Ilt-Fi-emsQJv...   \n",
       "9   \"m2yskBQFythfE4irbTIeOgYYfBU/S730Ilt-Fi-emsQJv...   \n",
       "10  \"m2yskBQFythfE4irbTIeOgYYfBU/S730Ilt-Fi-emsQJv...   \n",
       "11  \"m2yskBQFythfE4irbTIeOgYYfBU/S730Ilt-Fi-emsQJv...   \n",
       "12  \"m2yskBQFythfE4irbTIeOgYYfBU/S730Ilt-Fi-emsQJv...   \n",
       "13  \"m2yskBQFythfE4irbTIeOgYYfBU/S730Ilt-Fi-emsQJv...   \n",
       "14  \"m2yskBQFythfE4irbTIeOgYYfBU/S730Ilt-Fi-emsQJv...   \n",
       "15  \"m2yskBQFythfE4irbTIeOgYYfBU/S730Ilt-Fi-emsQJv...   \n",
       "16  \"m2yskBQFythfE4irbTIeOgYYfBU/S730Ilt-Fi-emsQJv...   \n",
       "17  \"m2yskBQFythfE4irbTIeOgYYfBU/S730Ilt-Fi-emsQJv...   \n",
       "18  \"m2yskBQFythfE4irbTIeOgYYfBU/S730Ilt-Fi-emsQJv...   \n",
       "19  \"m2yskBQFythfE4irbTIeOgYYfBU/S730Ilt-Fi-emsQJv...   \n",
       "20  \"m2yskBQFythfE4irbTIeOgYYfBU/S730Ilt-Fi-emsQJv...   \n",
       "21  \"m2yskBQFythfE4irbTIeOgYYfBU/S730Ilt-Fi-emsQJv...   \n",
       "22  \"m2yskBQFythfE4irbTIeOgYYfBU/S730Ilt-Fi-emsQJv...   \n",
       "23  \"m2yskBQFythfE4irbTIeOgYYfBU/S730Ilt-Fi-emsQJv...   \n",
       "24  \"m2yskBQFythfE4irbTIeOgYYfBU/S730Ilt-Fi-emsQJv...   \n",
       "25  \"m2yskBQFythfE4irbTIeOgYYfBU/S730Ilt-Fi-emsQJv...   \n",
       "26  \"m2yskBQFythfE4irbTIeOgYYfBU/S730Ilt-Fi-emsQJv...   \n",
       "27  \"m2yskBQFythfE4irbTIeOgYYfBU/S730Ilt-Fi-emsQJv...   \n",
       "28  \"m2yskBQFythfE4irbTIeOgYYfBU/S730Ilt-Fi-emsQJv...   \n",
       "29  \"m2yskBQFythfE4irbTIeOgYYfBU/S730Ilt-Fi-emsQJv...   \n",
       "30  \"m2yskBQFythfE4irbTIeOgYYfBU/S730Ilt-Fi-emsQJv...   \n",
       "31  \"m2yskBQFythfE4irbTIeOgYYfBU/S730Ilt-Fi-emsQJv...   \n",
       "\n",
       "                                                items  \n",
       "0   {'kind': 'youtube#videoCategory', 'etag': '\"m2...  \n",
       "1   {'kind': 'youtube#videoCategory', 'etag': '\"m2...  \n",
       "2   {'kind': 'youtube#videoCategory', 'etag': '\"m2...  \n",
       "3   {'kind': 'youtube#videoCategory', 'etag': '\"m2...  \n",
       "4   {'kind': 'youtube#videoCategory', 'etag': '\"m2...  \n",
       "5   {'kind': 'youtube#videoCategory', 'etag': '\"m2...  \n",
       "6   {'kind': 'youtube#videoCategory', 'etag': '\"m2...  \n",
       "7   {'kind': 'youtube#videoCategory', 'etag': '\"m2...  \n",
       "8   {'kind': 'youtube#videoCategory', 'etag': '\"m2...  \n",
       "9   {'kind': 'youtube#videoCategory', 'etag': '\"m2...  \n",
       "10  {'kind': 'youtube#videoCategory', 'etag': '\"m2...  \n",
       "11  {'kind': 'youtube#videoCategory', 'etag': '\"m2...  \n",
       "12  {'kind': 'youtube#videoCategory', 'etag': '\"m2...  \n",
       "13  {'kind': 'youtube#videoCategory', 'etag': '\"m2...  \n",
       "14  {'kind': 'youtube#videoCategory', 'etag': '\"m2...  \n",
       "15  {'kind': 'youtube#videoCategory', 'etag': '\"m2...  \n",
       "16  {'kind': 'youtube#videoCategory', 'etag': '\"m2...  \n",
       "17  {'kind': 'youtube#videoCategory', 'etag': '\"m2...  \n",
       "18  {'kind': 'youtube#videoCategory', 'etag': '\"m2...  \n",
       "19  {'kind': 'youtube#videoCategory', 'etag': '\"m2...  \n",
       "20  {'kind': 'youtube#videoCategory', 'etag': '\"m2...  \n",
       "21  {'kind': 'youtube#videoCategory', 'etag': '\"m2...  \n",
       "22  {'kind': 'youtube#videoCategory', 'etag': '\"m2...  \n",
       "23  {'kind': 'youtube#videoCategory', 'etag': '\"m2...  \n",
       "24  {'kind': 'youtube#videoCategory', 'etag': '\"m2...  \n",
       "25  {'kind': 'youtube#videoCategory', 'etag': '\"m2...  \n",
       "26  {'kind': 'youtube#videoCategory', 'etag': '\"m2...  \n",
       "27  {'kind': 'youtube#videoCategory', 'etag': '\"m2...  \n",
       "28  {'kind': 'youtube#videoCategory', 'etag': '\"m2...  \n",
       "29  {'kind': 'youtube#videoCategory', 'etag': '\"m2...  \n",
       "30  {'kind': 'youtube#videoCategory', 'etag': '\"m2...  \n",
       "31  {'kind': 'youtube#videoCategory', 'etag': '\"m2...  "
      ]
     },
     "execution_count": 72,
     "metadata": {},
     "output_type": "execute_result"
    }
   ],
   "source": [
    "json_df = pd.read_json(r'additional_data/US_category_id.json')\n",
    "json_df"
   ]
  },
  {
   "cell_type": "code",
   "execution_count": 73,
   "id": "1d069628",
   "metadata": {},
   "outputs": [
    {
     "data": {
      "text/plain": [
       "0     {'kind': 'youtube#videoCategory', 'etag': '\"m2...\n",
       "1     {'kind': 'youtube#videoCategory', 'etag': '\"m2...\n",
       "2     {'kind': 'youtube#videoCategory', 'etag': '\"m2...\n",
       "3     {'kind': 'youtube#videoCategory', 'etag': '\"m2...\n",
       "4     {'kind': 'youtube#videoCategory', 'etag': '\"m2...\n",
       "5     {'kind': 'youtube#videoCategory', 'etag': '\"m2...\n",
       "6     {'kind': 'youtube#videoCategory', 'etag': '\"m2...\n",
       "7     {'kind': 'youtube#videoCategory', 'etag': '\"m2...\n",
       "8     {'kind': 'youtube#videoCategory', 'etag': '\"m2...\n",
       "9     {'kind': 'youtube#videoCategory', 'etag': '\"m2...\n",
       "10    {'kind': 'youtube#videoCategory', 'etag': '\"m2...\n",
       "11    {'kind': 'youtube#videoCategory', 'etag': '\"m2...\n",
       "12    {'kind': 'youtube#videoCategory', 'etag': '\"m2...\n",
       "13    {'kind': 'youtube#videoCategory', 'etag': '\"m2...\n",
       "14    {'kind': 'youtube#videoCategory', 'etag': '\"m2...\n",
       "15    {'kind': 'youtube#videoCategory', 'etag': '\"m2...\n",
       "16    {'kind': 'youtube#videoCategory', 'etag': '\"m2...\n",
       "17    {'kind': 'youtube#videoCategory', 'etag': '\"m2...\n",
       "18    {'kind': 'youtube#videoCategory', 'etag': '\"m2...\n",
       "19    {'kind': 'youtube#videoCategory', 'etag': '\"m2...\n",
       "20    {'kind': 'youtube#videoCategory', 'etag': '\"m2...\n",
       "21    {'kind': 'youtube#videoCategory', 'etag': '\"m2...\n",
       "22    {'kind': 'youtube#videoCategory', 'etag': '\"m2...\n",
       "23    {'kind': 'youtube#videoCategory', 'etag': '\"m2...\n",
       "24    {'kind': 'youtube#videoCategory', 'etag': '\"m2...\n",
       "25    {'kind': 'youtube#videoCategory', 'etag': '\"m2...\n",
       "26    {'kind': 'youtube#videoCategory', 'etag': '\"m2...\n",
       "27    {'kind': 'youtube#videoCategory', 'etag': '\"m2...\n",
       "28    {'kind': 'youtube#videoCategory', 'etag': '\"m2...\n",
       "29    {'kind': 'youtube#videoCategory', 'etag': '\"m2...\n",
       "30    {'kind': 'youtube#videoCategory', 'etag': '\"m2...\n",
       "31    {'kind': 'youtube#videoCategory', 'etag': '\"m2...\n",
       "Name: items, dtype: object"
      ]
     },
     "execution_count": 73,
     "metadata": {},
     "output_type": "execute_result"
    }
   ],
   "source": [
    "json_df['items']"
   ]
  },
  {
   "cell_type": "code",
   "execution_count": 74,
   "id": "a913b55d",
   "metadata": {},
   "outputs": [
    {
     "data": {
      "text/plain": [
       "{'kind': 'youtube#videoCategory',\n",
       " 'etag': '\"m2yskBQFythfE4irbTIeOgYYfBU/Xy1mB4_yLrHy_BmKmPBggty2mZQ\"',\n",
       " 'id': '1',\n",
       " 'snippet': {'channelId': 'UCBR8-60-B28hp2BmDPdntcQ',\n",
       "  'title': 'Film & Animation',\n",
       "  'assignable': True}}"
      ]
     },
     "execution_count": 74,
     "metadata": {},
     "output_type": "execute_result"
    }
   ],
   "source": [
    "json_df['items'][0]"
   ]
  },
  {
   "cell_type": "code",
   "execution_count": 75,
   "id": "b3315b15",
   "metadata": {},
   "outputs": [
    {
     "data": {
      "text/plain": [
       "{'kind': 'youtube#videoCategory',\n",
       " 'etag': '\"m2yskBQFythfE4irbTIeOgYYfBU/UZ1oLIIz2dxIhO45ZTFR3a3NyTA\"',\n",
       " 'id': '2',\n",
       " 'snippet': {'channelId': 'UCBR8-60-B28hp2BmDPdntcQ',\n",
       "  'title': 'Autos & Vehicles',\n",
       "  'assignable': True}}"
      ]
     },
     "execution_count": 75,
     "metadata": {},
     "output_type": "execute_result"
    }
   ],
   "source": [
    "json_df['items'][1]"
   ]
  },
  {
   "cell_type": "code",
   "execution_count": 76,
   "id": "bf509499",
   "metadata": {},
   "outputs": [],
   "source": [
    "cat_dict = {}\n",
    "\n",
    "for item in json_df['items'].values:\n",
    "    cat_dict[int(item['id'])] = item['snippet']['title']"
   ]
  },
  {
   "cell_type": "code",
   "execution_count": 77,
   "id": "df50d6d4",
   "metadata": {},
   "outputs": [
    {
     "data": {
      "text/plain": [
       "{1: 'Film & Animation',\n",
       " 2: 'Autos & Vehicles',\n",
       " 10: 'Music',\n",
       " 15: 'Pets & Animals',\n",
       " 17: 'Sports',\n",
       " 18: 'Short Movies',\n",
       " 19: 'Travel & Events',\n",
       " 20: 'Gaming',\n",
       " 21: 'Videoblogging',\n",
       " 22: 'People & Blogs',\n",
       " 23: 'Comedy',\n",
       " 24: 'Entertainment',\n",
       " 25: 'News & Politics',\n",
       " 26: 'Howto & Style',\n",
       " 27: 'Education',\n",
       " 28: 'Science & Technology',\n",
       " 29: 'Nonprofits & Activism',\n",
       " 30: 'Movies',\n",
       " 31: 'Anime/Animation',\n",
       " 32: 'Action/Adventure',\n",
       " 33: 'Classics',\n",
       " 34: 'Comedy',\n",
       " 35: 'Documentary',\n",
       " 36: 'Drama',\n",
       " 37: 'Family',\n",
       " 38: 'Foreign',\n",
       " 39: 'Horror',\n",
       " 40: 'Sci-Fi/Fantasy',\n",
       " 41: 'Thriller',\n",
       " 42: 'Shorts',\n",
       " 43: 'Shows',\n",
       " 44: 'Trailers'}"
      ]
     },
     "execution_count": 77,
     "metadata": {},
     "output_type": "execute_result"
    }
   ],
   "source": [
    "cat_dict"
   ]
  },
  {
   "cell_type": "code",
   "execution_count": 78,
   "id": "2617537a",
   "metadata": {},
   "outputs": [],
   "source": [
    "full_df['category_name'] = full_df['category_id'].map(cat_dict)"
   ]
  },
  {
   "cell_type": "code",
   "execution_count": 79,
   "id": "b43fdfda",
   "metadata": {},
   "outputs": [
    {
     "data": {
      "text/html": [
       "<div>\n",
       "<style scoped>\n",
       "    .dataframe tbody tr th:only-of-type {\n",
       "        vertical-align: middle;\n",
       "    }\n",
       "\n",
       "    .dataframe tbody tr th {\n",
       "        vertical-align: top;\n",
       "    }\n",
       "\n",
       "    .dataframe thead th {\n",
       "        text-align: right;\n",
       "    }\n",
       "</style>\n",
       "<table border=\"1\" class=\"dataframe\">\n",
       "  <thead>\n",
       "    <tr style=\"text-align: right;\">\n",
       "      <th></th>\n",
       "      <th>video_id</th>\n",
       "      <th>trending_date</th>\n",
       "      <th>title</th>\n",
       "      <th>channel_title</th>\n",
       "      <th>category_id</th>\n",
       "      <th>publish_time</th>\n",
       "      <th>tags</th>\n",
       "      <th>views</th>\n",
       "      <th>likes</th>\n",
       "      <th>dislikes</th>\n",
       "      <th>comment_count</th>\n",
       "      <th>thumbnail_link</th>\n",
       "      <th>comments_disabled</th>\n",
       "      <th>ratings_disabled</th>\n",
       "      <th>video_error_or_removed</th>\n",
       "      <th>description</th>\n",
       "      <th>category_name</th>\n",
       "    </tr>\n",
       "  </thead>\n",
       "  <tbody>\n",
       "    <tr>\n",
       "      <th>0</th>\n",
       "      <td>n1WpP7iowLc</td>\n",
       "      <td>17.14.11</td>\n",
       "      <td>Eminem - Walk On Water (Audio) ft. BeyoncÃ©</td>\n",
       "      <td>EminemVEVO</td>\n",
       "      <td>10</td>\n",
       "      <td>2017-11-10T17:00:03.000Z</td>\n",
       "      <td>Eminem|\"Walk\"|\"On\"|\"Water\"|\"Aftermath/Shady/In...</td>\n",
       "      <td>17158579</td>\n",
       "      <td>787425</td>\n",
       "      <td>43420</td>\n",
       "      <td>125882</td>\n",
       "      <td>https://i.ytimg.com/vi/n1WpP7iowLc/default.jpg</td>\n",
       "      <td>False</td>\n",
       "      <td>False</td>\n",
       "      <td>False</td>\n",
       "      <td>Eminem's new track Walk on Water ft. BeyoncÃ© ...</td>\n",
       "      <td>Music</td>\n",
       "    </tr>\n",
       "    <tr>\n",
       "      <th>1</th>\n",
       "      <td>0dBIkQ4Mz1M</td>\n",
       "      <td>17.14.11</td>\n",
       "      <td>PLUSH - Bad Unboxing Fan Mail</td>\n",
       "      <td>iDubbbzTV</td>\n",
       "      <td>23</td>\n",
       "      <td>2017-11-13T17:00:00.000Z</td>\n",
       "      <td>plush|\"bad unboxing\"|\"unboxing\"|\"fan mail\"|\"id...</td>\n",
       "      <td>1014651</td>\n",
       "      <td>127794</td>\n",
       "      <td>1688</td>\n",
       "      <td>13030</td>\n",
       "      <td>https://i.ytimg.com/vi/0dBIkQ4Mz1M/default.jpg</td>\n",
       "      <td>False</td>\n",
       "      <td>False</td>\n",
       "      <td>False</td>\n",
       "      <td>STill got a lot of packages. Probably will las...</td>\n",
       "      <td>Comedy</td>\n",
       "    </tr>\n",
       "    <tr>\n",
       "      <th>2</th>\n",
       "      <td>5qpjK5DgCt4</td>\n",
       "      <td>17.14.11</td>\n",
       "      <td>Racist Superman | Rudy Mancuso, King Bach &amp; Le...</td>\n",
       "      <td>Rudy Mancuso</td>\n",
       "      <td>23</td>\n",
       "      <td>2017-11-12T19:05:24.000Z</td>\n",
       "      <td>racist superman|\"rudy\"|\"mancuso\"|\"king\"|\"bach\"...</td>\n",
       "      <td>3191434</td>\n",
       "      <td>146035</td>\n",
       "      <td>5339</td>\n",
       "      <td>8181</td>\n",
       "      <td>https://i.ytimg.com/vi/5qpjK5DgCt4/default.jpg</td>\n",
       "      <td>False</td>\n",
       "      <td>False</td>\n",
       "      <td>False</td>\n",
       "      <td>WATCH MY PREVIOUS VIDEO â¶ \\n\\nSUBSCRIBE âº ...</td>\n",
       "      <td>Comedy</td>\n",
       "    </tr>\n",
       "    <tr>\n",
       "      <th>3</th>\n",
       "      <td>d380meD0W0M</td>\n",
       "      <td>17.14.11</td>\n",
       "      <td>I Dare You: GOING BALD!?</td>\n",
       "      <td>nigahiga</td>\n",
       "      <td>24</td>\n",
       "      <td>2017-11-12T18:01:41.000Z</td>\n",
       "      <td>ryan|\"higa\"|\"higatv\"|\"nigahiga\"|\"i dare you\"|\"...</td>\n",
       "      <td>2095828</td>\n",
       "      <td>132239</td>\n",
       "      <td>1989</td>\n",
       "      <td>17518</td>\n",
       "      <td>https://i.ytimg.com/vi/d380meD0W0M/default.jpg</td>\n",
       "      <td>False</td>\n",
       "      <td>False</td>\n",
       "      <td>False</td>\n",
       "      <td>I know it's been a while since we did this sho...</td>\n",
       "      <td>Entertainment</td>\n",
       "    </tr>\n",
       "    <tr>\n",
       "      <th>4</th>\n",
       "      <td>2Vv-BfVoq4g</td>\n",
       "      <td>17.14.11</td>\n",
       "      <td>Ed Sheeran - Perfect (Official Music Video)</td>\n",
       "      <td>Ed Sheeran</td>\n",
       "      <td>10</td>\n",
       "      <td>2017-11-09T11:04:14.000Z</td>\n",
       "      <td>edsheeran|\"ed sheeran\"|\"acoustic\"|\"live\"|\"cove...</td>\n",
       "      <td>33523622</td>\n",
       "      <td>1634130</td>\n",
       "      <td>21082</td>\n",
       "      <td>85067</td>\n",
       "      <td>https://i.ytimg.com/vi/2Vv-BfVoq4g/default.jpg</td>\n",
       "      <td>False</td>\n",
       "      <td>False</td>\n",
       "      <td>False</td>\n",
       "      <td>ð§: https://ad.gt/yt-perfect\\nð°: https://...</td>\n",
       "      <td>Music</td>\n",
       "    </tr>\n",
       "  </tbody>\n",
       "</table>\n",
       "</div>"
      ],
      "text/plain": [
       "      video_id trending_date  \\\n",
       "0  n1WpP7iowLc      17.14.11   \n",
       "1  0dBIkQ4Mz1M      17.14.11   \n",
       "2  5qpjK5DgCt4      17.14.11   \n",
       "3  d380meD0W0M      17.14.11   \n",
       "4  2Vv-BfVoq4g      17.14.11   \n",
       "\n",
       "                                               title channel_title  \\\n",
       "0        Eminem - Walk On Water (Audio) ft. BeyoncÃ©    EminemVEVO   \n",
       "1                      PLUSH - Bad Unboxing Fan Mail     iDubbbzTV   \n",
       "2  Racist Superman | Rudy Mancuso, King Bach & Le...  Rudy Mancuso   \n",
       "3                           I Dare You: GOING BALD!?      nigahiga   \n",
       "4        Ed Sheeran - Perfect (Official Music Video)    Ed Sheeran   \n",
       "\n",
       "   category_id              publish_time  \\\n",
       "0           10  2017-11-10T17:00:03.000Z   \n",
       "1           23  2017-11-13T17:00:00.000Z   \n",
       "2           23  2017-11-12T19:05:24.000Z   \n",
       "3           24  2017-11-12T18:01:41.000Z   \n",
       "4           10  2017-11-09T11:04:14.000Z   \n",
       "\n",
       "                                                tags     views    likes  \\\n",
       "0  Eminem|\"Walk\"|\"On\"|\"Water\"|\"Aftermath/Shady/In...  17158579   787425   \n",
       "1  plush|\"bad unboxing\"|\"unboxing\"|\"fan mail\"|\"id...   1014651   127794   \n",
       "2  racist superman|\"rudy\"|\"mancuso\"|\"king\"|\"bach\"...   3191434   146035   \n",
       "3  ryan|\"higa\"|\"higatv\"|\"nigahiga\"|\"i dare you\"|\"...   2095828   132239   \n",
       "4  edsheeran|\"ed sheeran\"|\"acoustic\"|\"live\"|\"cove...  33523622  1634130   \n",
       "\n",
       "   dislikes  comment_count                                  thumbnail_link  \\\n",
       "0     43420         125882  https://i.ytimg.com/vi/n1WpP7iowLc/default.jpg   \n",
       "1      1688          13030  https://i.ytimg.com/vi/0dBIkQ4Mz1M/default.jpg   \n",
       "2      5339           8181  https://i.ytimg.com/vi/5qpjK5DgCt4/default.jpg   \n",
       "3      1989          17518  https://i.ytimg.com/vi/d380meD0W0M/default.jpg   \n",
       "4     21082          85067  https://i.ytimg.com/vi/2Vv-BfVoq4g/default.jpg   \n",
       "\n",
       "   comments_disabled  ratings_disabled  video_error_or_removed  \\\n",
       "0              False             False                   False   \n",
       "1              False             False                   False   \n",
       "2              False             False                   False   \n",
       "3              False             False                   False   \n",
       "4              False             False                   False   \n",
       "\n",
       "                                         description  category_name  \n",
       "0  Eminem's new track Walk on Water ft. BeyoncÃ© ...          Music  \n",
       "1  STill got a lot of packages. Probably will las...         Comedy  \n",
       "2  WATCH MY PREVIOUS VIDEO â¶ \\n\\nSUBSCRIBE âº ...         Comedy  \n",
       "3  I know it's been a while since we did this sho...  Entertainment  \n",
       "4  ð§: https://ad.gt/yt-perfect\\nð°: https://...          Music  "
      ]
     },
     "execution_count": 79,
     "metadata": {},
     "output_type": "execute_result"
    }
   ],
   "source": [
    "full_df.head()"
   ]
  },
  {
   "cell_type": "markdown",
   "id": "5ea7560b",
   "metadata": {},
   "source": [
    "## Which category has maximum number of likes"
   ]
  },
  {
   "cell_type": "code",
   "execution_count": 80,
   "id": "6b2b3a49",
   "metadata": {},
   "outputs": [
    {
     "data": {
      "text/plain": [
       "(array([ 0,  1,  2,  3,  4,  5,  6,  7,  8,  9, 10, 11, 12, 13, 14, 15, 16,\n",
       "        17]),\n",
       " [Text(0, 0, 'Music'),\n",
       "  Text(1, 0, 'Comedy'),\n",
       "  Text(2, 0, 'Entertainment'),\n",
       "  Text(3, 0, 'News & Politics'),\n",
       "  Text(4, 0, 'People & Blogs'),\n",
       "  Text(5, 0, 'Howto & Style'),\n",
       "  Text(6, 0, 'Film & Animation'),\n",
       "  Text(7, 0, 'Science & Technology'),\n",
       "  Text(8, 0, 'Gaming'),\n",
       "  Text(9, 0, 'Sports'),\n",
       "  Text(10, 0, 'Nonprofits & Activism'),\n",
       "  Text(11, 0, 'Pets & Animals'),\n",
       "  Text(12, 0, 'Travel & Events'),\n",
       "  Text(13, 0, 'Autos & Vehicles'),\n",
       "  Text(14, 0, 'Education'),\n",
       "  Text(15, 0, 'Shows'),\n",
       "  Text(16, 0, 'Movies'),\n",
       "  Text(17, 0, 'Trailers')])"
      ]
     },
     "execution_count": 80,
     "metadata": {},
     "output_type": "execute_result"
    },
    {
     "data": {
      "image/png": "[encoded data removed]",
      "text/plain": [
       "<Figure size 1200x800 with 1 Axes>"
      ]
     },
     "metadata": {},
     "output_type": "display_data"
    }
   ],
   "source": [
    "plt.figure(figsize=(12,8))\n",
    "sns.boxplot(x='category_name', y='likes', data=full_df)\n",
    "plt.xticks(rotation = 'vertical')"
   ]
  },
  {
   "cell_type": "markdown",
   "id": "a3eb390e",
   "metadata": {},
   "source": [
    "## Find out weather audience is engaged or not"
   ]
  },
  {
   "cell_type": "code",
   "execution_count": 81,
   "id": "1e48f603",
   "metadata": {},
   "outputs": [],
   "source": [
    "full_df['like_rate'] = (full_df['likes'] / full_df['views']) * 100\n",
    "full_df['dislike_rate'] = (full_df['dislikes'] / full_df['views']) * 100\n",
    "full_df['comment_count_rate'] = (full_df['comment_count'] / full_df['views']) * 100"
   ]
  },
  {
   "cell_type": "code",
   "execution_count": 82,
   "id": "1d474482",
   "metadata": {},
   "outputs": [
    {
     "data": {
      "text/plain": [
       "Index(['video_id', 'trending_date', 'title', 'channel_title', 'category_id',\n",
       "       'publish_time', 'tags', 'views', 'likes', 'dislikes', 'comment_count',\n",
       "       'thumbnail_link', 'comments_disabled', 'ratings_disabled',\n",
       "       'video_error_or_removed', 'description', 'category_name', 'like_rate',\n",
       "       'dislike_rate', 'comment_count_rate'],\n",
       "      dtype='object')"
      ]
     },
     "execution_count": 82,
     "metadata": {},
     "output_type": "execute_result"
    }
   ],
   "source": [
    "full_df.columns"
   ]
  },
  {
   "cell_type": "code",
   "execution_count": null,
   "id": "c79367cb",
   "metadata": {},
   "outputs": [],
   "source": []
  },
  {
   "cell_type": "code",
   "execution_count": 96,
   "id": "ece713ce",
   "metadata": {},
   "outputs": [
    {
     "data": {
      "image/png": "[encoded data removed]",
      "text/plain": [
       "<Figure size 1200x800 with 1 Axes>"
      ]
     },
     "metadata": {},
     "output_type": "display_data"
    }
   ],
   "source": [
    "plt.figure(figsize=(12,8))\n",
    "sns.boxplot(x='category_name', y='like_rate', data=full_df)\n",
    "plt.xticks(rotation='vertical')\n",
    "plt.show()\n",
    "\n",
    "# if no need of any text or just want to see graph than use show() function"
   ]
  },
  {
   "cell_type": "code",
   "execution_count": 84,
   "id": "df7b797c",
   "metadata": {},
   "outputs": [
    {
     "data": {
      "text/plain": [
       "<Axes: xlabel='views', ylabel='likes'>"
      ]
     },
     "execution_count": 84,
     "metadata": {},
     "output_type": "execute_result"
    },
    {
     "data": {
      "image/png": "[encoded data removed]",
      "text/plain": [
       "<Figure size 640x480 with 1 Axes>"
      ]
     },
     "metadata": {},
     "output_type": "display_data"
    }
   ],
   "source": [
    "sns.regplot(x='views', y='likes', data=full_df)"
   ]
  },
  {
   "cell_type": "code",
   "execution_count": 85,
   "id": "08ddadeb",
   "metadata": {},
   "outputs": [
    {
     "data": {
      "text/html": [
       "<div>\n",
       "<style scoped>\n",
       "    .dataframe tbody tr th:only-of-type {\n",
       "        vertical-align: middle;\n",
       "    }\n",
       "\n",
       "    .dataframe tbody tr th {\n",
       "        vertical-align: top;\n",
       "    }\n",
       "\n",
       "    .dataframe thead th {\n",
       "        text-align: right;\n",
       "    }\n",
       "</style>\n",
       "<table border=\"1\" class=\"dataframe\">\n",
       "  <thead>\n",
       "    <tr style=\"text-align: right;\">\n",
       "      <th></th>\n",
       "      <th>views</th>\n",
       "      <th>likes</th>\n",
       "      <th>dislikes</th>\n",
       "    </tr>\n",
       "  </thead>\n",
       "  <tbody>\n",
       "    <tr>\n",
       "      <th>views</th>\n",
       "      <td>1.000000</td>\n",
       "      <td>0.779531</td>\n",
       "      <td>0.405428</td>\n",
       "    </tr>\n",
       "    <tr>\n",
       "      <th>likes</th>\n",
       "      <td>0.779531</td>\n",
       "      <td>1.000000</td>\n",
       "      <td>0.451809</td>\n",
       "    </tr>\n",
       "    <tr>\n",
       "      <th>dislikes</th>\n",
       "      <td>0.405428</td>\n",
       "      <td>0.451809</td>\n",
       "      <td>1.000000</td>\n",
       "    </tr>\n",
       "  </tbody>\n",
       "</table>\n",
       "</div>"
      ],
      "text/plain": [
       "             views     likes  dislikes\n",
       "views     1.000000  0.779531  0.405428\n",
       "likes     0.779531  1.000000  0.451809\n",
       "dislikes  0.405428  0.451809  1.000000"
      ]
     },
     "execution_count": 85,
     "metadata": {},
     "output_type": "execute_result"
    }
   ],
   "source": [
    "full_df[['views', 'likes', 'dislikes']].corr()"
   ]
  },
  {
   "cell_type": "code",
   "execution_count": 86,
   "id": "33d62357",
   "metadata": {},
   "outputs": [
    {
     "data": {
      "text/plain": [
       "<Axes: >"
      ]
     },
     "execution_count": 86,
     "metadata": {},
     "output_type": "execute_result"
    },
    {
     "data": {
      "image/png": "[encoded data removed]",
      "text/plain": [
       "<Figure size 640x480 with 2 Axes>"
      ]
     },
     "metadata": {},
     "output_type": "display_data"
    }
   ],
   "source": [
    "sns.heatmap(full_df[['views', 'likes', 'dislikes']].corr(), annot=True)"
   ]
  },
  {
   "cell_type": "markdown",
   "id": "fd1a614e",
   "metadata": {},
   "source": [
    "Which channel have the largest number of trending videos?"
   ]
  },
  {
   "cell_type": "code",
   "execution_count": 87,
   "id": "e5d305be",
   "metadata": {},
   "outputs": [
    {
     "data": {
      "text/plain": [
       "The Late Show with Stephen Colbert    710\n",
       "WWE                                   643\n",
       "Late Night with Seth Meyers           592\n",
       "TheEllenShow                          555\n",
       "Jimmy Kimmel Live                     528\n",
       "                                     ... \n",
       "Daas                                    1\n",
       "YT Industries                           1\n",
       "BTLV Le mÃ©dia complÃ©mentaire          1\n",
       "Quem Sabia ?                            1\n",
       "Jessi Osorno                            1\n",
       "Name: channel_title, Length: 37824, dtype: int64"
      ]
     },
     "execution_count": 87,
     "metadata": {},
     "output_type": "execute_result"
    }
   ],
   "source": [
    "full_df['channel_title'].value_counts()"
   ]
  },
  {
   "cell_type": "code",
   "execution_count": 88,
   "id": "4984a8aa",
   "metadata": {},
   "outputs": [],
   "source": [
    "cdf = full_df.groupby(['channel_title']).size().sort_values(ascending=False).reset_index()"
   ]
  },
  {
   "cell_type": "code",
   "execution_count": 89,
   "id": "d3dfa501",
   "metadata": {},
   "outputs": [
    {
     "data": {
      "text/html": [
       "<div>\n",
       "<style scoped>\n",
       "    .dataframe tbody tr th:only-of-type {\n",
       "        vertical-align: middle;\n",
       "    }\n",
       "\n",
       "    .dataframe tbody tr th {\n",
       "        vertical-align: top;\n",
       "    }\n",
       "\n",
       "    .dataframe thead th {\n",
       "        text-align: right;\n",
       "    }\n",
       "</style>\n",
       "<table border=\"1\" class=\"dataframe\">\n",
       "  <thead>\n",
       "    <tr style=\"text-align: right;\">\n",
       "      <th></th>\n",
       "      <th>channel_title</th>\n",
       "      <th>0</th>\n",
       "    </tr>\n",
       "  </thead>\n",
       "  <tbody>\n",
       "    <tr>\n",
       "      <th>0</th>\n",
       "      <td>The Late Show with Stephen Colbert</td>\n",
       "      <td>710</td>\n",
       "    </tr>\n",
       "    <tr>\n",
       "      <th>1</th>\n",
       "      <td>WWE</td>\n",
       "      <td>643</td>\n",
       "    </tr>\n",
       "    <tr>\n",
       "      <th>2</th>\n",
       "      <td>Late Night with Seth Meyers</td>\n",
       "      <td>592</td>\n",
       "    </tr>\n",
       "    <tr>\n",
       "      <th>3</th>\n",
       "      <td>TheEllenShow</td>\n",
       "      <td>555</td>\n",
       "    </tr>\n",
       "    <tr>\n",
       "      <th>4</th>\n",
       "      <td>Jimmy Kimmel Live</td>\n",
       "      <td>528</td>\n",
       "    </tr>\n",
       "    <tr>\n",
       "      <th>...</th>\n",
       "      <td>...</td>\n",
       "      <td>...</td>\n",
       "    </tr>\n",
       "    <tr>\n",
       "      <th>37819</th>\n",
       "      <td>Kd Malts</td>\n",
       "      <td>1</td>\n",
       "    </tr>\n",
       "    <tr>\n",
       "      <th>37820</th>\n",
       "      <td>Zedan TV</td>\n",
       "      <td>1</td>\n",
       "    </tr>\n",
       "    <tr>\n",
       "      <th>37821</th>\n",
       "      <td>Kc Kelly - Rocketprenuer</td>\n",
       "      <td>1</td>\n",
       "    </tr>\n",
       "    <tr>\n",
       "      <th>37822</th>\n",
       "      <td>Kbaby</td>\n",
       "      <td>1</td>\n",
       "    </tr>\n",
       "    <tr>\n",
       "      <th>37823</th>\n",
       "      <td>Pavel Sidorik TV</td>\n",
       "      <td>1</td>\n",
       "    </tr>\n",
       "  </tbody>\n",
       "</table>\n",
       "<p>37824 rows × 2 columns</p>\n",
       "</div>"
      ],
      "text/plain": [
       "                            channel_title    0\n",
       "0      The Late Show with Stephen Colbert  710\n",
       "1                                     WWE  643\n",
       "2             Late Night with Seth Meyers  592\n",
       "3                            TheEllenShow  555\n",
       "4                       Jimmy Kimmel Live  528\n",
       "...                                   ...  ...\n",
       "37819                            Kd Malts    1\n",
       "37820                            Zedan TV    1\n",
       "37821            Kc Kelly - Rocketprenuer    1\n",
       "37822                               Kbaby    1\n",
       "37823                    Pavel Sidorik TV    1\n",
       "\n",
       "[37824 rows x 2 columns]"
      ]
     },
     "execution_count": 89,
     "metadata": {},
     "output_type": "execute_result"
    }
   ],
   "source": [
    "cdf"
   ]
  },
  {
   "cell_type": "code",
   "execution_count": 97,
   "id": "c1f44746",
   "metadata": {},
   "outputs": [
    {
     "data": {
      "text/html": [
       "<div>\n",
       "<style scoped>\n",
       "    .dataframe tbody tr th:only-of-type {\n",
       "        vertical-align: middle;\n",
       "    }\n",
       "\n",
       "    .dataframe tbody tr th {\n",
       "        vertical-align: top;\n",
       "    }\n",
       "\n",
       "    .dataframe thead th {\n",
       "        text-align: right;\n",
       "    }\n",
       "</style>\n",
       "<table border=\"1\" class=\"dataframe\">\n",
       "  <thead>\n",
       "    <tr style=\"text-align: right;\">\n",
       "      <th></th>\n",
       "      <th>channel_title</th>\n",
       "      <th>total_videos</th>\n",
       "    </tr>\n",
       "  </thead>\n",
       "  <tbody>\n",
       "    <tr>\n",
       "      <th>0</th>\n",
       "      <td>The Late Show with Stephen Colbert</td>\n",
       "      <td>710</td>\n",
       "    </tr>\n",
       "    <tr>\n",
       "      <th>1</th>\n",
       "      <td>WWE</td>\n",
       "      <td>643</td>\n",
       "    </tr>\n",
       "    <tr>\n",
       "      <th>2</th>\n",
       "      <td>Late Night with Seth Meyers</td>\n",
       "      <td>592</td>\n",
       "    </tr>\n",
       "    <tr>\n",
       "      <th>3</th>\n",
       "      <td>TheEllenShow</td>\n",
       "      <td>555</td>\n",
       "    </tr>\n",
       "    <tr>\n",
       "      <th>4</th>\n",
       "      <td>Jimmy Kimmel Live</td>\n",
       "      <td>528</td>\n",
       "    </tr>\n",
       "    <tr>\n",
       "      <th>...</th>\n",
       "      <td>...</td>\n",
       "      <td>...</td>\n",
       "    </tr>\n",
       "    <tr>\n",
       "      <th>37819</th>\n",
       "      <td>Kd Malts</td>\n",
       "      <td>1</td>\n",
       "    </tr>\n",
       "    <tr>\n",
       "      <th>37820</th>\n",
       "      <td>Zedan TV</td>\n",
       "      <td>1</td>\n",
       "    </tr>\n",
       "    <tr>\n",
       "      <th>37821</th>\n",
       "      <td>Kc Kelly - Rocketprenuer</td>\n",
       "      <td>1</td>\n",
       "    </tr>\n",
       "    <tr>\n",
       "      <th>37822</th>\n",
       "      <td>Kbaby</td>\n",
       "      <td>1</td>\n",
       "    </tr>\n",
       "    <tr>\n",
       "      <th>37823</th>\n",
       "      <td>Pavel Sidorik TV</td>\n",
       "      <td>1</td>\n",
       "    </tr>\n",
       "  </tbody>\n",
       "</table>\n",
       "<p>37824 rows × 2 columns</p>\n",
       "</div>"
      ],
      "text/plain": [
       "                            channel_title  total_videos\n",
       "0      The Late Show with Stephen Colbert           710\n",
       "1                                     WWE           643\n",
       "2             Late Night with Seth Meyers           592\n",
       "3                            TheEllenShow           555\n",
       "4                       Jimmy Kimmel Live           528\n",
       "...                                   ...           ...\n",
       "37819                            Kd Malts             1\n",
       "37820                            Zedan TV             1\n",
       "37821            Kc Kelly - Rocketprenuer             1\n",
       "37822                               Kbaby             1\n",
       "37823                    Pavel Sidorik TV             1\n",
       "\n",
       "[37824 rows x 2 columns]"
      ]
     },
     "execution_count": 97,
     "metadata": {},
     "output_type": "execute_result"
    }
   ],
   "source": [
    "cdf = cdf.rename(columns={0 : 'total_videos'})\n",
    "cdf"
   ]
  },
  {
   "cell_type": "code",
   "execution_count": 98,
   "id": "96c36fb2",
   "metadata": {},
   "outputs": [
    {
     "name": "stdout",
     "output_type": "stream",
     "text": [
      "Index(['channel_title', 'total_videos'], dtype='object')\n"
     ]
    }
   ],
   "source": [
    "print(cdf.columns)\n"
   ]
  },
  {
   "cell_type": "code",
   "execution_count": 100,
   "id": "aeb8cdf8",
   "metadata": {},
   "outputs": [
    {
     "data": {
      "application/vnd.plotly.v1+json": {
       "config": {
        "plotlyServerURL": "https://plot.ly"
       },
       "data": [
        {
         "alignmentgroup": "True",
         "hovertemplate": "channel_title=%{x}<br>total_videos=%{y}<extra></extra>",
         "legendgroup": "",
         "marker": {
          "color": "#636efa",
          "pattern": {
           "shape": ""
          }
         },
         "name": "",
         "offsetgroup": "",
         "orientation": "v",
         "showlegend": false,
         "textposition": "auto",
         "type": "bar",
         "x": [
          "The Late Show with Stephen Colbert",
          "WWE",
          "Late Night with Seth Meyers",
          "TheEllenShow",
          "Jimmy Kimmel Live",
          "PewDiePie",
          "The Tonight Show Starring Jimmy Fallon",
          "CNN",
          "The Late Late Show with James Corden",
          "ESPN",
          "FBE",
          "VikatanTV",
          "Netflix",
          "SET India",
          "MLG Highlights",
          "BuzzFeedVideo",
          "SMTOWN",
          "Ãukur",
          "Marvel Entertainment",
          "SAB TV"
         ],
         "xaxis": "x",
         "y": [
          710,
          643,
          592,
          555,
          528,
          511,
          509,
          500,
          453,
          452,
          439,
          435,
          410,
          405,
          382,
          361,
          359,
          356,
          352,
          351
         ],
         "yaxis": "y"
        }
       ],
       "layout": {
        "barmode": "relative",
        "legend": {
         "tracegroupgap": 0
        },
        "margin": {
         "t": 60
        },
        "template": {
         "data": {
          "bar": [
           {
            "error_x": {
             "color": "#2a3f5f"
            },
            "error_y": {
             "color": "#2a3f5f"
            },
            "marker": {
             "line": {
              "color": "#E5ECF6",
              "width": 0.5
             },
             "pattern": {
              "fillmode": "overlay",
              "size": 10,
              "solidity": 0.2
             }
            },
            "type": "bar"
           }
          ],
          "barpolar": [
           {
            "marker": {
             "line": {
              "color": "#E5ECF6",
              "width": 0.5
             },
             "pattern": {
              "fillmode": "overlay",
              "size": 10,
              "solidity": 0.2
             }
            },
            "type": "barpolar"
           }
          ],
          "carpet": [
           {
            "aaxis": {
             "endlinecolor": "#2a3f5f",
             "gridcolor": "white",
             "linecolor": "white",
             "minorgridcolor": "white",
             "startlinecolor": "#2a3f5f"
            },
            "baxis": {
             "endlinecolor": "#2a3f5f",
             "gridcolor": "white",
             "linecolor": "white",
             "minorgridcolor": "white",
             "startlinecolor": "#2a3f5f"
            },
            "type": "carpet"
           }
          ],
          "choropleth": [
           {
            "colorbar": {
             "outlinewidth": 0,
             "ticks": ""
            },
            "type": "choropleth"
           }
          ],
          "contour": [
           {
            "colorbar": {
             "outlinewidth": 0,
             "ticks": ""
            },
            "colorscale": [
             [
              0,
              "#0d0887"
             ],
             [
              0.1111111111111111,
              "#46039f"
             ],
             [
              0.2222222222222222,
              "#7201a8"
             ],
             [
              0.3333333333333333,
              "#9c179e"
             ],
             [
              0.4444444444444444,
              "#bd3786"
             ],
             [
              0.5555555555555556,
              "#d8576b"
             ],
             [
              0.6666666666666666,
              "#ed7953"
             ],
             [
              0.7777777777777778,
              "#fb9f3a"
             ],
             [
              0.8888888888888888,
              "#fdca26"
             ],
             [
              1,
              "#f0f921"
             ]
            ],
            "type": "contour"
           }
          ],
          "contourcarpet": [
           {
            "colorbar": {
             "outlinewidth": 0,
             "ticks": ""
            },
            "type": "contourcarpet"
           }
          ],
          "heatmap": [
           {
            "colorbar": {
             "outlinewidth": 0,
             "ticks": ""
            },
            "colorscale": [
             [
              0,
              "#0d0887"
             ],
             [
              0.1111111111111111,
              "#46039f"
             ],
             [
              0.2222222222222222,
              "#7201a8"
             ],
             [
              0.3333333333333333,
              "#9c179e"
             ],
             [
              0.4444444444444444,
              "#bd3786"
             ],
             [
              0.5555555555555556,
              "#d8576b"
             ],
             [
              0.6666666666666666,
              "#ed7953"
             ],
             [
              0.7777777777777778,
              "#fb9f3a"
             ],
             [
              0.8888888888888888,
              "#fdca26"
             ],
             [
              1,
              "#f0f921"
             ]
            ],
            "type": "heatmap"
           }
          ],
          "heatmapgl": [
           {
            "colorbar": {
             "outlinewidth": 0,
             "ticks": ""
            },
            "colorscale": [
             [
              0,
              "#0d0887"
             ],
             [
              0.1111111111111111,
              "#46039f"
             ],
             [
              0.2222222222222222,
              "#7201a8"
             ],
             [
              0.3333333333333333,
              "#9c179e"
             ],
             [
              0.4444444444444444,
              "#bd3786"
             ],
             [
              0.5555555555555556,
              "#d8576b"
             ],
             [
              0.6666666666666666,
              "#ed7953"
             ],
             [
              0.7777777777777778,
              "#fb9f3a"
             ],
             [
              0.8888888888888888,
              "#fdca26"
             ],
             [
              1,
              "#f0f921"
             ]
            ],
            "type": "heatmapgl"
           }
          ],
          "histogram": [
           {
            "marker": {
             "pattern": {
              "fillmode": "overlay",
              "size": 10,
              "solidity": 0.2
             }
            },
            "type": "histogram"
           }
          ],
          "histogram2d": [
           {
            "colorbar": {
             "outlinewidth": 0,
             "ticks": ""
            },
            "colorscale": [
             [
              0,
              "#0d0887"
             ],
             [
              0.1111111111111111,
              "#46039f"
             ],
             [
              0.2222222222222222,
              "#7201a8"
             ],
             [
              0.3333333333333333,
              "#9c179e"
             ],
             [
              0.4444444444444444,
              "#bd3786"
             ],
             [
              0.5555555555555556,
              "#d8576b"
             ],
             [
              0.6666666666666666,
              "#ed7953"
             ],
             [
              0.7777777777777778,
              "#fb9f3a"
             ],
             [
              0.8888888888888888,
              "#fdca26"
             ],
             [
              1,
              "#f0f921"
             ]
            ],
            "type": "histogram2d"
           }
          ],
          "histogram2dcontour": [
           {
            "colorbar": {
             "outlinewidth": 0,
             "ticks": ""
            },
            "colorscale": [
             [
              0,
              "#0d0887"
             ],
             [
              0.1111111111111111,
              "#46039f"
             ],
             [
              0.2222222222222222,
              "#7201a8"
             ],
             [
              0.3333333333333333,
              "#9c179e"
             ],
             [
              0.4444444444444444,
              "#bd3786"
             ],
             [
              0.5555555555555556,
              "#d8576b"
             ],
             [
              0.6666666666666666,
              "#ed7953"
             ],
             [
              0.7777777777777778,
              "#fb9f3a"
             ],
             [
              0.8888888888888888,
              "#fdca26"
             ],
             [
              1,
              "#f0f921"
             ]
            ],
            "type": "histogram2dcontour"
           }
          ],
          "mesh3d": [
           {
            "colorbar": {
             "outlinewidth": 0,
             "ticks": ""
            },
            "type": "mesh3d"
           }
          ],
          "parcoords": [
           {
            "line": {
             "colorbar": {
              "outlinewidth": 0,
              "ticks": ""
             }
            },
            "type": "parcoords"
           }
          ],
          "pie": [
           {
            "automargin": true,
            "type": "pie"
           }
          ],
          "scatter": [
           {
            "fillpattern": {
             "fillmode": "overlay",
             "size": 10,
             "solidity": 0.2
            },
            "type": "scatter"
           }
          ],
          "scatter3d": [
           {
            "line": {
             "colorbar": {
              "outlinewidth": 0,
              "ticks": ""
             }
            },
            "marker": {
             "colorbar": {
              "outlinewidth": 0,
              "ticks": ""
             }
            },
            "type": "scatter3d"
           }
          ],
          "scattercarpet": [
           {
            "marker": {
             "colorbar": {
              "outlinewidth": 0,
              "ticks": ""
             }
            },
            "type": "scattercarpet"
           }
          ],
          "scattergeo": [
           {
            "marker": {
             "colorbar": {
              "outlinewidth": 0,
              "ticks": ""
             }
            },
            "type": "scattergeo"
           }
          ],
          "scattergl": [
           {
            "marker": {
             "colorbar": {
              "outlinewidth": 0,
              "ticks": ""
             }
            },
            "type": "scattergl"
           }
          ],
          "scattermapbox": [
           {
            "marker": {
             "colorbar": {
              "outlinewidth": 0,
              "ticks": ""
             }
            },
            "type": "scattermapbox"
           }
          ],
          "scatterpolar": [
           {
            "marker": {
             "colorbar": {
              "outlinewidth": 0,
              "ticks": ""
             }
            },
            "type": "scatterpolar"
           }
          ],
          "scatterpolargl": [
           {
            "marker": {
             "colorbar": {
              "outlinewidth": 0,
              "ticks": ""
             }
            },
            "type": "scatterpolargl"
           }
          ],
          "scatterternary": [
           {
            "marker": {
             "colorbar": {
              "outlinewidth": 0,
              "ticks": ""
             }
            },
            "type": "scatterternary"
           }
          ],
          "surface": [
           {
            "colorbar": {
             "outlinewidth": 0,
             "ticks": ""
            },
            "colorscale": [
             [
              0,
              "#0d0887"
             ],
             [
              0.1111111111111111,
              "#46039f"
             ],
             [
              0.2222222222222222,
              "#7201a8"
             ],
             [
              0.3333333333333333,
              "#9c179e"
             ],
             [
              0.4444444444444444,
              "#bd3786"
             ],
             [
              0.5555555555555556,
              "#d8576b"
             ],
             [
              0.6666666666666666,
              "#ed7953"
             ],
             [
              0.7777777777777778,
              "#fb9f3a"
             ],
             [
              0.8888888888888888,
              "#fdca26"
             ],
             [
              1,
              "#f0f921"
             ]
            ],
            "type": "surface"
           }
          ],
          "table": [
           {
            "cells": {
             "fill": {
              "color": "#EBF0F8"
             },
             "line": {
              "color": "white"
             }
            },
            "header": {
             "fill": {
              "color": "#C8D4E3"
             },
             "line": {
              "color": "white"
             }
            },
            "type": "table"
           }
          ]
         },
         "layout": {
          "annotationdefaults": {
           "arrowcolor": "#2a3f5f",
           "arrowhead": 0,
           "arrowwidth": 1
          },
          "autotypenumbers": "strict",
          "coloraxis": {
           "colorbar": {
            "outlinewidth": 0,
            "ticks": ""
           }
          },
          "colorscale": {
           "diverging": [
            [
             0,
             "#8e0152"
            ],
            [
             0.1,
             "#c51b7d"
            ],
            [
             0.2,
             "#de77ae"
            ],
            [
             0.3,
             "#f1b6da"
            ],
            [
             0.4,
             "#fde0ef"
            ],
            [
             0.5,
             "#f7f7f7"
            ],
            [
             0.6,
             "#e6f5d0"
            ],
            [
             0.7,
             "#b8e186"
            ],
            [
             0.8,
             "#7fbc41"
            ],
            [
             0.9,
             "#4d9221"
            ],
            [
             1,
             "#276419"
            ]
           ],
           "sequential": [
            [
             0,
             "#0d0887"
            ],
            [
             0.1111111111111111,
             "#46039f"
            ],
            [
             0.2222222222222222,
             "#7201a8"
            ],
            [
             0.3333333333333333,
             "#9c179e"
            ],
            [
             0.4444444444444444,
             "#bd3786"
            ],
            [
             0.5555555555555556,
             "#d8576b"
            ],
            [
             0.6666666666666666,
             "#ed7953"
            ],
            [
             0.7777777777777778,
             "#fb9f3a"
            ],
            [
             0.8888888888888888,
             "#fdca26"
            ],
            [
             1,
             "#f0f921"
            ]
           ],
           "sequentialminus": [
            [
             0,
             "#0d0887"
            ],
            [
             0.1111111111111111,
             "#46039f"
            ],
            [
             0.2222222222222222,
             "#7201a8"
            ],
            [
             0.3333333333333333,
             "#9c179e"
            ],
            [
             0.4444444444444444,
             "#bd3786"
            ],
            [
             0.5555555555555556,
             "#d8576b"
            ],
            [
             0.6666666666666666,
             "#ed7953"
            ],
            [
             0.7777777777777778,
             "#fb9f3a"
            ],
            [
             0.8888888888888888,
             "#fdca26"
            ],
            [
             1,
             "#f0f921"
            ]
           ]
          },
          "colorway": [
           "#636efa",
           "#EF553B",
           "#00cc96",
           "#ab63fa",
           "#FFA15A",
           "#19d3f3",
           "#FF6692",
           "#B6E880",
           "#FF97FF",
           "#FECB52"
          ],
          "font": {
           "color": "#2a3f5f"
          },
          "geo": {
           "bgcolor": "white",
           "lakecolor": "white",
           "landcolor": "#E5ECF6",
           "showlakes": true,
           "showland": true,
           "subunitcolor": "white"
          },
          "hoverlabel": {
           "align": "left"
          },
          "hovermode": "closest",
          "mapbox": {
           "style": "light"
          },
          "paper_bgcolor": "white",
          "plot_bgcolor": "#E5ECF6",
          "polar": {
           "angularaxis": {
            "gridcolor": "white",
            "linecolor": "white",
            "ticks": ""
           },
           "bgcolor": "#E5ECF6",
           "radialaxis": {
            "gridcolor": "white",
            "linecolor": "white",
            "ticks": ""
           }
          },
          "scene": {
           "xaxis": {
            "backgroundcolor": "#E5ECF6",
            "gridcolor": "white",
            "gridwidth": 2,
            "linecolor": "white",
            "showbackground": true,
            "ticks": "",
            "zerolinecolor": "white"
           },
           "yaxis": {
            "backgroundcolor": "#E5ECF6",
            "gridcolor": "white",
            "gridwidth": 2,
            "linecolor": "white",
            "showbackground": true,
            "ticks": "",
            "zerolinecolor": "white"
           },
           "zaxis": {
            "backgroundcolor": "#E5ECF6",
            "gridcolor": "white",
            "gridwidth": 2,
            "linecolor": "white",
            "showbackground": true,
            "ticks": "",
            "zerolinecolor": "white"
           }
          },
          "shapedefaults": {
           "line": {
            "color": "#2a3f5f"
           }
          },
          "ternary": {
           "aaxis": {
            "gridcolor": "white",
            "linecolor": "white",
            "ticks": ""
           },
           "baxis": {
            "gridcolor": "white",
            "linecolor": "white",
            "ticks": ""
           },
           "bgcolor": "#E5ECF6",
           "caxis": {
            "gridcolor": "white",
            "linecolor": "white",
            "ticks": ""
           }
          },
          "title": {
           "x": 0.05
          },
          "xaxis": {
           "automargin": true,
           "gridcolor": "white",
           "linecolor": "white",
           "ticks": "",
           "title": {
            "standoff": 15
           },
           "zerolinecolor": "white",
           "zerolinewidth": 2
          },
          "yaxis": {
           "automargin": true,
           "gridcolor": "white",
           "linecolor": "white",
           "ticks": "",
           "title": {
            "standoff": 15
           },
           "zerolinecolor": "white",
           "zerolinewidth": 2
          }
         }
        },
        "xaxis": {
         "anchor": "y",
         "domain": [
          0,
          1
         ],
         "title": {
          "text": "channel_title"
         }
        },
        "yaxis": {
         "anchor": "x",
         "domain": [
          0,
          1
         ],
         "title": {
          "text": "total_videos"
         }
        }
       }
      }
     },
     "metadata": {},
     "output_type": "display_data"
    }
   ],
   "source": [
    "import plotly.express as px\n",
    "\n",
    "px.bar(data_frame=cdf[0:20], x='channel_title', y='total_videos')"
   ]
  },
  {
   "cell_type": "code",
   "execution_count": null,
   "id": "53175561",
   "metadata": {},
   "outputs": [],
   "source": []
  }
 ],
 "metadata": {
  "kernelspec": {
   "display_name": "Python 3 (ipykernel)",
   "language": "python",
   "name": "python3"
  },
  "language_info": {
   "codemirror_mode": {
    "name": "ipython",
    "version": 3
   },
   "file_extension": ".py",
   "mimetype": "text/x-python",
   "name": "python",
   "nbconvert_exporter": "python",
   "pygments_lexer": "ipython3",
   "version": "3.9.18"
  }
 },
 "nbformat": 4,
 "nbformat_minor": 5
}
