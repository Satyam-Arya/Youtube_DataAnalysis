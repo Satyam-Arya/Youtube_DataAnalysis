{
 "cells": [
  {
   "cell_type": "code",
   "execution_count": 42,
   "id": "61d028ce",
   "metadata": {},
   "outputs": [],
   "source": [
    "import pandas as pd\n",
    "import numpy as np\n",
    "import seaborn as sns\n",
    "import matplotlib.pyplot as plt"
   ]
  },
  {
   "cell_type": "code",
   "execution_count": 43,
   "id": "5575f4a0",
   "metadata": {
    "scrolled": true
   },
   "outputs": [
    {
     "name": "stderr",
     "output_type": "stream",
     "text": [
      "C:\\Users\\SATYAM\\AppData\\Local\\Temp\\ipykernel_11284\\1000854607.py:1: FutureWarning: The error_bad_lines argument has been deprecated and will be removed in a future version. Use on_bad_lines in the future.\n",
      "\n",
      "\n",
      "  df = pd.read_csv(r'UScomments.csv', error_bad_lines=False)\n",
      "b'Skipping line 41589: expected 4 fields, saw 11\\nSkipping line 51628: expected 4 fields, saw 7\\nSkipping line 114465: expected 4 fields, saw 5\\n'\n",
      "b'Skipping line 142496: expected 4 fields, saw 8\\nSkipping line 189732: expected 4 fields, saw 6\\nSkipping line 245218: expected 4 fields, saw 7\\n'\n",
      "b'Skipping line 388430: expected 4 fields, saw 5\\n'\n",
      "C:\\Users\\SATYAM\\AppData\\Local\\Temp\\ipykernel_11284\\1000854607.py:1: DtypeWarning: Columns (2,3) have mixed types. Specify dtype option on import or set low_memory=False.\n",
      "  df = pd.read_csv(r'UScomments.csv', error_bad_lines=False)\n"
     ]
    },
    {
     "data": {
      "text/html": [
       "<div>\n",
       "<style scoped>\n",
       "    .dataframe tbody tr th:only-of-type {\n",
       "        vertical-align: middle;\n",
       "    }\n",
       "\n",
       "    .dataframe tbody tr th {\n",
       "        vertical-align: top;\n",
       "    }\n",
       "\n",
       "    .dataframe thead th {\n",
       "        text-align: right;\n",
       "    }\n",
       "</style>\n",
       "<table border=\"1\" class=\"dataframe\">\n",
       "  <thead>\n",
       "    <tr style=\"text-align: right;\">\n",
       "      <th></th>\n",
       "      <th>video_id</th>\n",
       "      <th>comment_text</th>\n",
       "      <th>likes</th>\n",
       "      <th>replies</th>\n",
       "    </tr>\n",
       "  </thead>\n",
       "  <tbody>\n",
       "    <tr>\n",
       "      <th>0</th>\n",
       "      <td>XpVt6Z1Gjjo</td>\n",
       "      <td>Logan Paul it's yo big day ‼️‼️‼️</td>\n",
       "      <td>4</td>\n",
       "      <td>0</td>\n",
       "    </tr>\n",
       "    <tr>\n",
       "      <th>1</th>\n",
       "      <td>XpVt6Z1Gjjo</td>\n",
       "      <td>I've been following you from the start of your...</td>\n",
       "      <td>3</td>\n",
       "      <td>0</td>\n",
       "    </tr>\n",
       "    <tr>\n",
       "      <th>2</th>\n",
       "      <td>XpVt6Z1Gjjo</td>\n",
       "      <td>Say hi to Kong and maverick for me</td>\n",
       "      <td>3</td>\n",
       "      <td>0</td>\n",
       "    </tr>\n",
       "    <tr>\n",
       "      <th>3</th>\n",
       "      <td>XpVt6Z1Gjjo</td>\n",
       "      <td>MY FAN . attendance</td>\n",
       "      <td>3</td>\n",
       "      <td>0</td>\n",
       "    </tr>\n",
       "    <tr>\n",
       "      <th>4</th>\n",
       "      <td>XpVt6Z1Gjjo</td>\n",
       "      <td>trending 😉</td>\n",
       "      <td>3</td>\n",
       "      <td>0</td>\n",
       "    </tr>\n",
       "  </tbody>\n",
       "</table>\n",
       "</div>"
      ],
      "text/plain": [
       "      video_id                                       comment_text likes  \\\n",
       "0  XpVt6Z1Gjjo                  Logan Paul it's yo big day ‼️‼️‼️     4   \n",
       "1  XpVt6Z1Gjjo  I've been following you from the start of your...     3   \n",
       "2  XpVt6Z1Gjjo                 Say hi to Kong and maverick for me     3   \n",
       "3  XpVt6Z1Gjjo                                MY FAN . attendance     3   \n",
       "4  XpVt6Z1Gjjo                                         trending 😉     3   \n",
       "\n",
       "  replies  \n",
       "0       0  \n",
       "1       0  \n",
       "2       0  \n",
       "3       0  \n",
       "4       0  "
      ]
     },
     "execution_count": 43,
     "metadata": {},
     "output_type": "execute_result"
    }
   ],
   "source": [
    "df = pd.read_csv(r'UScomments.csv', error_bad_lines=False)\n",
    "df.head()"
   ]
  },
  {
   "cell_type": "code",
   "execution_count": 44,
   "id": "42582287",
   "metadata": {},
   "outputs": [
    {
     "data": {
      "text/plain": [
       "(691400, 4)"
      ]
     },
     "execution_count": 44,
     "metadata": {},
     "output_type": "execute_result"
    }
   ],
   "source": [
    "df.shape"
   ]
  },
  {
   "cell_type": "code",
   "execution_count": 45,
   "id": "c826e0b4",
   "metadata": {},
   "outputs": [
    {
     "data": {
      "text/plain": [
       "video_id         0\n",
       "comment_text    25\n",
       "likes            0\n",
       "replies          0\n",
       "dtype: int64"
      ]
     },
     "execution_count": 45,
     "metadata": {},
     "output_type": "execute_result"
    }
   ],
   "source": [
    "df.isnull().sum()"
   ]
  },
  {
   "cell_type": "code",
   "execution_count": 46,
   "id": "d7a6b40f",
   "metadata": {},
   "outputs": [],
   "source": [
    "df.dropna(inplace=True)\n",
    "# Clean values if some values are missing"
   ]
  },
  {
   "cell_type": "code",
   "execution_count": 47,
   "id": "c6da0cc2",
   "metadata": {},
   "outputs": [
    {
     "data": {
      "text/plain": [
       "video_id        0\n",
       "comment_text    0\n",
       "likes           0\n",
       "replies         0\n",
       "dtype: int64"
      ]
     },
     "execution_count": 47,
     "metadata": {},
     "output_type": "execute_result"
    }
   ],
   "source": [
    "df.isnull().sum()"
   ]
  },
  {
   "cell_type": "markdown",
   "id": "52a6b919",
   "metadata": {},
   "source": [
    "# Sentiment Analysis\n",
    "Analyzing the sentiments of the user"
   ]
  },
  {
   "cell_type": "code",
   "execution_count": 48,
   "id": "de439f2e",
   "metadata": {},
   "outputs": [],
   "source": [
    "from textblob import TextBlob"
   ]
  },
  {
   "cell_type": "code",
   "execution_count": 49,
   "id": "2bd15350",
   "metadata": {},
   "outputs": [
    {
     "data": {
      "text/plain": [
       "0.0"
      ]
     },
     "execution_count": 49,
     "metadata": {},
     "output_type": "execute_result"
    }
   ],
   "source": [
    "TextBlob(\"Logan Paul it's yo big day ‼️‼️‼️\").sentiment.polarity"
   ]
  },
  {
   "cell_type": "code",
   "execution_count": 50,
   "id": "e9e6bf55",
   "metadata": {},
   "outputs": [],
   "source": [
    "sample_df = df[0:1000]"
   ]
  },
  {
   "cell_type": "code",
   "execution_count": 51,
   "id": "f60f4d6b",
   "metadata": {},
   "outputs": [
    {
     "data": {
      "text/plain": [
       "(1000, 4)"
      ]
     },
     "execution_count": 51,
     "metadata": {},
     "output_type": "execute_result"
    }
   ],
   "source": [
    "sample_df.shape"
   ]
  },
  {
   "cell_type": "code",
   "execution_count": 52,
   "id": "9b78bbe0",
   "metadata": {
    "scrolled": true
   },
   "outputs": [],
   "source": [
    "polarity = []\n",
    "\n",
    "for comment in df['comment_text']:\n",
    "    try:\n",
    "        polarity.append(TextBlob(comment).sentiment.polarity)\n",
    "    except:\n",
    "        polarity.append(0)"
   ]
  },
  {
   "cell_type": "code",
   "execution_count": 53,
   "id": "80f40a86",
   "metadata": {},
   "outputs": [
    {
     "data": {
      "text/plain": [
       "691375"
      ]
     },
     "execution_count": 53,
     "metadata": {},
     "output_type": "execute_result"
    }
   ],
   "source": [
    "len(polarity)"
   ]
  },
  {
   "cell_type": "code",
   "execution_count": 54,
   "id": "316fad4d",
   "metadata": {},
   "outputs": [],
   "source": [
    "df['polarity'] = polarity"
   ]
  },
  {
   "cell_type": "code",
   "execution_count": 55,
   "id": "2c746e2a",
   "metadata": {},
   "outputs": [
    {
     "data": {
      "text/html": [
       "<div>\n",
       "<style scoped>\n",
       "    .dataframe tbody tr th:only-of-type {\n",
       "        vertical-align: middle;\n",
       "    }\n",
       "\n",
       "    .dataframe tbody tr th {\n",
       "        vertical-align: top;\n",
       "    }\n",
       "\n",
       "    .dataframe thead th {\n",
       "        text-align: right;\n",
       "    }\n",
       "</style>\n",
       "<table border=\"1\" class=\"dataframe\">\n",
       "  <thead>\n",
       "    <tr style=\"text-align: right;\">\n",
       "      <th></th>\n",
       "      <th>video_id</th>\n",
       "      <th>comment_text</th>\n",
       "      <th>likes</th>\n",
       "      <th>replies</th>\n",
       "      <th>polarity</th>\n",
       "    </tr>\n",
       "  </thead>\n",
       "  <tbody>\n",
       "    <tr>\n",
       "      <th>0</th>\n",
       "      <td>XpVt6Z1Gjjo</td>\n",
       "      <td>Logan Paul it's yo big day ‼️‼️‼️</td>\n",
       "      <td>4</td>\n",
       "      <td>0</td>\n",
       "      <td>0.0</td>\n",
       "    </tr>\n",
       "    <tr>\n",
       "      <th>1</th>\n",
       "      <td>XpVt6Z1Gjjo</td>\n",
       "      <td>I've been following you from the start of your...</td>\n",
       "      <td>3</td>\n",
       "      <td>0</td>\n",
       "      <td>0.0</td>\n",
       "    </tr>\n",
       "    <tr>\n",
       "      <th>2</th>\n",
       "      <td>XpVt6Z1Gjjo</td>\n",
       "      <td>Say hi to Kong and maverick for me</td>\n",
       "      <td>3</td>\n",
       "      <td>0</td>\n",
       "      <td>0.0</td>\n",
       "    </tr>\n",
       "    <tr>\n",
       "      <th>3</th>\n",
       "      <td>XpVt6Z1Gjjo</td>\n",
       "      <td>MY FAN . attendance</td>\n",
       "      <td>3</td>\n",
       "      <td>0</td>\n",
       "      <td>0.0</td>\n",
       "    </tr>\n",
       "    <tr>\n",
       "      <th>4</th>\n",
       "      <td>XpVt6Z1Gjjo</td>\n",
       "      <td>trending 😉</td>\n",
       "      <td>3</td>\n",
       "      <td>0</td>\n",
       "      <td>0.0</td>\n",
       "    </tr>\n",
       "  </tbody>\n",
       "</table>\n",
       "</div>"
      ],
      "text/plain": [
       "      video_id                                       comment_text likes  \\\n",
       "0  XpVt6Z1Gjjo                  Logan Paul it's yo big day ‼️‼️‼️     4   \n",
       "1  XpVt6Z1Gjjo  I've been following you from the start of your...     3   \n",
       "2  XpVt6Z1Gjjo                 Say hi to Kong and maverick for me     3   \n",
       "3  XpVt6Z1Gjjo                                MY FAN . attendance     3   \n",
       "4  XpVt6Z1Gjjo                                         trending 😉     3   \n",
       "\n",
       "  replies  polarity  \n",
       "0       0       0.0  \n",
       "1       0       0.0  \n",
       "2       0       0.0  \n",
       "3       0       0.0  \n",
       "4       0       0.0  "
      ]
     },
     "execution_count": 55,
     "metadata": {},
     "output_type": "execute_result"
    }
   ],
   "source": [
    "df.head()"
   ]
  },
  {
   "cell_type": "markdown",
   "id": "2a12d194",
   "metadata": {},
   "source": [
    "# Wordcloud Analysis\n",
    "\n",
    "Graphical representation of Text frequent words"
   ]
  },
  {
   "cell_type": "code",
   "execution_count": 56,
   "id": "be615ef9",
   "metadata": {},
   "outputs": [],
   "source": [
    "filter1 = df['polarity']==1"
   ]
  },
  {
   "cell_type": "code",
   "execution_count": 57,
   "id": "f916bc62",
   "metadata": {},
   "outputs": [
    {
     "data": {
      "text/html": [
       "<div>\n",
       "<style scoped>\n",
       "    .dataframe tbody tr th:only-of-type {\n",
       "        vertical-align: middle;\n",
       "    }\n",
       "\n",
       "    .dataframe tbody tr th {\n",
       "        vertical-align: top;\n",
       "    }\n",
       "\n",
       "    .dataframe thead th {\n",
       "        text-align: right;\n",
       "    }\n",
       "</style>\n",
       "<table border=\"1\" class=\"dataframe\">\n",
       "  <thead>\n",
       "    <tr style=\"text-align: right;\">\n",
       "      <th></th>\n",
       "      <th>video_id</th>\n",
       "      <th>comment_text</th>\n",
       "      <th>likes</th>\n",
       "      <th>replies</th>\n",
       "      <th>polarity</th>\n",
       "    </tr>\n",
       "  </thead>\n",
       "  <tbody>\n",
       "    <tr>\n",
       "      <th>64</th>\n",
       "      <td>XpVt6Z1Gjjo</td>\n",
       "      <td>yu are the best</td>\n",
       "      <td>1</td>\n",
       "      <td>0</td>\n",
       "      <td>1.0</td>\n",
       "    </tr>\n",
       "    <tr>\n",
       "      <th>156</th>\n",
       "      <td>cLdxuaxaQwc</td>\n",
       "      <td>Power is the disease.  Care is the cure.  Keep...</td>\n",
       "      <td>0</td>\n",
       "      <td>0</td>\n",
       "      <td>1.0</td>\n",
       "    </tr>\n",
       "    <tr>\n",
       "      <th>227</th>\n",
       "      <td>WYYvHb03Eog</td>\n",
       "      <td>YAS Can't wait to get it! I just need to sell ...</td>\n",
       "      <td>0</td>\n",
       "      <td>0</td>\n",
       "      <td>1.0</td>\n",
       "    </tr>\n",
       "    <tr>\n",
       "      <th>307</th>\n",
       "      <td>sjlHnJvXdQs</td>\n",
       "      <td>This is priceless</td>\n",
       "      <td>0</td>\n",
       "      <td>0</td>\n",
       "      <td>1.0</td>\n",
       "    </tr>\n",
       "    <tr>\n",
       "      <th>319</th>\n",
       "      <td>sjlHnJvXdQs</td>\n",
       "      <td>Summed up perfectly</td>\n",
       "      <td>0</td>\n",
       "      <td>0</td>\n",
       "      <td>1.0</td>\n",
       "    </tr>\n",
       "    <tr>\n",
       "      <th>...</th>\n",
       "      <td>...</td>\n",
       "      <td>...</td>\n",
       "      <td>...</td>\n",
       "      <td>...</td>\n",
       "      <td>...</td>\n",
       "    </tr>\n",
       "    <tr>\n",
       "      <th>691373</th>\n",
       "      <td>EoejGgUNmVU</td>\n",
       "      <td>Perfect. Every version</td>\n",
       "      <td>0</td>\n",
       "      <td>0</td>\n",
       "      <td>1.0</td>\n",
       "    </tr>\n",
       "    <tr>\n",
       "      <th>691383</th>\n",
       "      <td>EoejGgUNmVU</td>\n",
       "      <td>Me encantaaaaa &lt;3</td>\n",
       "      <td>0</td>\n",
       "      <td>0</td>\n",
       "      <td>1.0</td>\n",
       "    </tr>\n",
       "    <tr>\n",
       "      <th>691388</th>\n",
       "      <td>EoejGgUNmVU</td>\n",
       "      <td>Best song ever 🤘</td>\n",
       "      <td>0</td>\n",
       "      <td>0</td>\n",
       "      <td>1.0</td>\n",
       "    </tr>\n",
       "    <tr>\n",
       "      <th>691389</th>\n",
       "      <td>EoejGgUNmVU</td>\n",
       "      <td>excellent performance</td>\n",
       "      <td>0</td>\n",
       "      <td>0</td>\n",
       "      <td>1.0</td>\n",
       "    </tr>\n",
       "    <tr>\n",
       "      <th>691393</th>\n",
       "      <td>EoejGgUNmVU</td>\n",
       "      <td>&lt;3</td>\n",
       "      <td>0</td>\n",
       "      <td>0</td>\n",
       "      <td>1.0</td>\n",
       "    </tr>\n",
       "  </tbody>\n",
       "</table>\n",
       "<p>19390 rows × 5 columns</p>\n",
       "</div>"
      ],
      "text/plain": [
       "           video_id                                       comment_text likes  \\\n",
       "64      XpVt6Z1Gjjo                                    yu are the best     1   \n",
       "156     cLdxuaxaQwc  Power is the disease.  Care is the cure.  Keep...     0   \n",
       "227     WYYvHb03Eog  YAS Can't wait to get it! I just need to sell ...     0   \n",
       "307     sjlHnJvXdQs                                  This is priceless     0   \n",
       "319     sjlHnJvXdQs                                Summed up perfectly     0   \n",
       "...             ...                                                ...   ...   \n",
       "691373  EoejGgUNmVU                             Perfect. Every version     0   \n",
       "691383  EoejGgUNmVU                                  Me encantaaaaa <3     0   \n",
       "691388  EoejGgUNmVU                                   Best song ever 🤘     0   \n",
       "691389  EoejGgUNmVU                              excellent performance     0   \n",
       "691393  EoejGgUNmVU                                                 <3     0   \n",
       "\n",
       "       replies  polarity  \n",
       "64           0       1.0  \n",
       "156          0       1.0  \n",
       "227          0       1.0  \n",
       "307          0       1.0  \n",
       "319          0       1.0  \n",
       "...        ...       ...  \n",
       "691373       0       1.0  \n",
       "691383       0       1.0  \n",
       "691388       0       1.0  \n",
       "691389       0       1.0  \n",
       "691393       0       1.0  \n",
       "\n",
       "[19390 rows x 5 columns]"
      ]
     },
     "execution_count": 57,
     "metadata": {},
     "output_type": "execute_result"
    }
   ],
   "source": [
    "df[filter1]"
   ]
  },
  {
   "cell_type": "code",
   "execution_count": 58,
   "id": "70f7244d",
   "metadata": {},
   "outputs": [],
   "source": [
    "filter1 = df['polarity'] == 1"
   ]
  },
  {
   "cell_type": "code",
   "execution_count": 59,
   "id": "950f4774",
   "metadata": {
    "scrolled": true
   },
   "outputs": [],
   "source": [
    "comments_positive = df[filter1]"
   ]
  },
  {
   "cell_type": "code",
   "execution_count": 60,
   "id": "a4fc3662",
   "metadata": {},
   "outputs": [
    {
     "data": {
      "text/html": [
       "<div>\n",
       "<style scoped>\n",
       "    .dataframe tbody tr th:only-of-type {\n",
       "        vertical-align: middle;\n",
       "    }\n",
       "\n",
       "    .dataframe tbody tr th {\n",
       "        vertical-align: top;\n",
       "    }\n",
       "\n",
       "    .dataframe thead th {\n",
       "        text-align: right;\n",
       "    }\n",
       "</style>\n",
       "<table border=\"1\" class=\"dataframe\">\n",
       "  <thead>\n",
       "    <tr style=\"text-align: right;\">\n",
       "      <th></th>\n",
       "      <th>video_id</th>\n",
       "      <th>comment_text</th>\n",
       "      <th>likes</th>\n",
       "      <th>replies</th>\n",
       "      <th>polarity</th>\n",
       "    </tr>\n",
       "  </thead>\n",
       "  <tbody>\n",
       "    <tr>\n",
       "      <th>64</th>\n",
       "      <td>XpVt6Z1Gjjo</td>\n",
       "      <td>yu are the best</td>\n",
       "      <td>1</td>\n",
       "      <td>0</td>\n",
       "      <td>1.0</td>\n",
       "    </tr>\n",
       "    <tr>\n",
       "      <th>156</th>\n",
       "      <td>cLdxuaxaQwc</td>\n",
       "      <td>Power is the disease.  Care is the cure.  Keep...</td>\n",
       "      <td>0</td>\n",
       "      <td>0</td>\n",
       "      <td>1.0</td>\n",
       "    </tr>\n",
       "    <tr>\n",
       "      <th>227</th>\n",
       "      <td>WYYvHb03Eog</td>\n",
       "      <td>YAS Can't wait to get it! I just need to sell ...</td>\n",
       "      <td>0</td>\n",
       "      <td>0</td>\n",
       "      <td>1.0</td>\n",
       "    </tr>\n",
       "    <tr>\n",
       "      <th>307</th>\n",
       "      <td>sjlHnJvXdQs</td>\n",
       "      <td>This is priceless</td>\n",
       "      <td>0</td>\n",
       "      <td>0</td>\n",
       "      <td>1.0</td>\n",
       "    </tr>\n",
       "    <tr>\n",
       "      <th>319</th>\n",
       "      <td>sjlHnJvXdQs</td>\n",
       "      <td>Summed up perfectly</td>\n",
       "      <td>0</td>\n",
       "      <td>0</td>\n",
       "      <td>1.0</td>\n",
       "    </tr>\n",
       "    <tr>\n",
       "      <th>...</th>\n",
       "      <td>...</td>\n",
       "      <td>...</td>\n",
       "      <td>...</td>\n",
       "      <td>...</td>\n",
       "      <td>...</td>\n",
       "    </tr>\n",
       "    <tr>\n",
       "      <th>691373</th>\n",
       "      <td>EoejGgUNmVU</td>\n",
       "      <td>Perfect. Every version</td>\n",
       "      <td>0</td>\n",
       "      <td>0</td>\n",
       "      <td>1.0</td>\n",
       "    </tr>\n",
       "    <tr>\n",
       "      <th>691383</th>\n",
       "      <td>EoejGgUNmVU</td>\n",
       "      <td>Me encantaaaaa &lt;3</td>\n",
       "      <td>0</td>\n",
       "      <td>0</td>\n",
       "      <td>1.0</td>\n",
       "    </tr>\n",
       "    <tr>\n",
       "      <th>691388</th>\n",
       "      <td>EoejGgUNmVU</td>\n",
       "      <td>Best song ever 🤘</td>\n",
       "      <td>0</td>\n",
       "      <td>0</td>\n",
       "      <td>1.0</td>\n",
       "    </tr>\n",
       "    <tr>\n",
       "      <th>691389</th>\n",
       "      <td>EoejGgUNmVU</td>\n",
       "      <td>excellent performance</td>\n",
       "      <td>0</td>\n",
       "      <td>0</td>\n",
       "      <td>1.0</td>\n",
       "    </tr>\n",
       "    <tr>\n",
       "      <th>691393</th>\n",
       "      <td>EoejGgUNmVU</td>\n",
       "      <td>&lt;3</td>\n",
       "      <td>0</td>\n",
       "      <td>0</td>\n",
       "      <td>1.0</td>\n",
       "    </tr>\n",
       "  </tbody>\n",
       "</table>\n",
       "<p>19390 rows × 5 columns</p>\n",
       "</div>"
      ],
      "text/plain": [
       "           video_id                                       comment_text likes  \\\n",
       "64      XpVt6Z1Gjjo                                    yu are the best     1   \n",
       "156     cLdxuaxaQwc  Power is the disease.  Care is the cure.  Keep...     0   \n",
       "227     WYYvHb03Eog  YAS Can't wait to get it! I just need to sell ...     0   \n",
       "307     sjlHnJvXdQs                                  This is priceless     0   \n",
       "319     sjlHnJvXdQs                                Summed up perfectly     0   \n",
       "...             ...                                                ...   ...   \n",
       "691373  EoejGgUNmVU                             Perfect. Every version     0   \n",
       "691383  EoejGgUNmVU                                  Me encantaaaaa <3     0   \n",
       "691388  EoejGgUNmVU                                   Best song ever 🤘     0   \n",
       "691389  EoejGgUNmVU                              excellent performance     0   \n",
       "691393  EoejGgUNmVU                                                 <3     0   \n",
       "\n",
       "       replies  polarity  \n",
       "64           0       1.0  \n",
       "156          0       1.0  \n",
       "227          0       1.0  \n",
       "307          0       1.0  \n",
       "319          0       1.0  \n",
       "...        ...       ...  \n",
       "691373       0       1.0  \n",
       "691383       0       1.0  \n",
       "691388       0       1.0  \n",
       "691389       0       1.0  \n",
       "691393       0       1.0  \n",
       "\n",
       "[19390 rows x 5 columns]"
      ]
     },
     "execution_count": 60,
     "metadata": {},
     "output_type": "execute_result"
    }
   ],
   "source": [
    "comments_positive"
   ]
  },
  {
   "cell_type": "code",
   "execution_count": 61,
   "id": "5106c650",
   "metadata": {},
   "outputs": [],
   "source": [
    "filter2 = df['polarity'] == -1"
   ]
  },
  {
   "cell_type": "code",
   "execution_count": 62,
   "id": "ebb87a79",
   "metadata": {},
   "outputs": [],
   "source": [
    "comments_negative = df[filter2]"
   ]
  },
  {
   "cell_type": "code",
   "execution_count": 63,
   "id": "11040261",
   "metadata": {},
   "outputs": [
    {
     "data": {
      "text/html": [
       "<div>\n",
       "<style scoped>\n",
       "    .dataframe tbody tr th:only-of-type {\n",
       "        vertical-align: middle;\n",
       "    }\n",
       "\n",
       "    .dataframe tbody tr th {\n",
       "        vertical-align: top;\n",
       "    }\n",
       "\n",
       "    .dataframe thead th {\n",
       "        text-align: right;\n",
       "    }\n",
       "</style>\n",
       "<table border=\"1\" class=\"dataframe\">\n",
       "  <thead>\n",
       "    <tr style=\"text-align: right;\">\n",
       "      <th></th>\n",
       "      <th>video_id</th>\n",
       "      <th>comment_text</th>\n",
       "      <th>likes</th>\n",
       "      <th>replies</th>\n",
       "      <th>polarity</th>\n",
       "    </tr>\n",
       "  </thead>\n",
       "  <tbody>\n",
       "    <tr>\n",
       "      <th>512</th>\n",
       "      <td>8wNr-NQImFg</td>\n",
       "      <td>BEN CARSON IS THE MAN!!!!! THEY HATE HIM CAUSE...</td>\n",
       "      <td>0</td>\n",
       "      <td>0</td>\n",
       "      <td>-1.0</td>\n",
       "    </tr>\n",
       "    <tr>\n",
       "      <th>562</th>\n",
       "      <td>8wNr-NQImFg</td>\n",
       "      <td>Well… The brain surgeon Ben Carson just proved...</td>\n",
       "      <td>0</td>\n",
       "      <td>0</td>\n",
       "      <td>-1.0</td>\n",
       "    </tr>\n",
       "    <tr>\n",
       "      <th>952</th>\n",
       "      <td>Ayb_2qbZHm4</td>\n",
       "      <td>WHY DID YOU MAKE FURRY FORCE?! SO NASTY!!!</td>\n",
       "      <td>0</td>\n",
       "      <td>0</td>\n",
       "      <td>-1.0</td>\n",
       "    </tr>\n",
       "    <tr>\n",
       "      <th>1371</th>\n",
       "      <td>vu_9muoxT50</td>\n",
       "      <td>WTF BRUH!!!!!!</td>\n",
       "      <td>0</td>\n",
       "      <td>0</td>\n",
       "      <td>-1.0</td>\n",
       "    </tr>\n",
       "    <tr>\n",
       "      <th>1391</th>\n",
       "      <td>vu_9muoxT50</td>\n",
       "      <td>cheeseus christ thats insane!!!</td>\n",
       "      <td>0</td>\n",
       "      <td>0</td>\n",
       "      <td>-1.0</td>\n",
       "    </tr>\n",
       "    <tr>\n",
       "      <th>...</th>\n",
       "      <td>...</td>\n",
       "      <td>...</td>\n",
       "      <td>...</td>\n",
       "      <td>...</td>\n",
       "      <td>...</td>\n",
       "    </tr>\n",
       "    <tr>\n",
       "      <th>690788</th>\n",
       "      <td>Hlt3rA-oDao</td>\n",
       "      <td>Like Kelly she evil</td>\n",
       "      <td>0</td>\n",
       "      <td>0</td>\n",
       "      <td>-1.0</td>\n",
       "    </tr>\n",
       "    <tr>\n",
       "      <th>690865</th>\n",
       "      <td>Ni5Uc-DdMqk</td>\n",
       "      <td>R U FUCKING KIDDING ME?!?!?!?!</td>\n",
       "      <td>11</td>\n",
       "      <td>1</td>\n",
       "      <td>-1.0</td>\n",
       "    </tr>\n",
       "    <tr>\n",
       "      <th>691073</th>\n",
       "      <td>4kmSATD25iY</td>\n",
       "      <td>This is horribly offensive please report</td>\n",
       "      <td>0</td>\n",
       "      <td>0</td>\n",
       "      <td>-1.0</td>\n",
       "    </tr>\n",
       "    <tr>\n",
       "      <th>691180</th>\n",
       "      <td>xlu6i6lT_vk</td>\n",
       "      <td>Sink holes looks terrifying sinkholes sink you...</td>\n",
       "      <td>0</td>\n",
       "      <td>0</td>\n",
       "      <td>-1.0</td>\n",
       "    </tr>\n",
       "    <tr>\n",
       "      <th>691224</th>\n",
       "      <td>qRoVlH1OcI4</td>\n",
       "      <td>Trump talked to the president of US Virgin Isl...</td>\n",
       "      <td>0</td>\n",
       "      <td>0</td>\n",
       "      <td>-1.0</td>\n",
       "    </tr>\n",
       "  </tbody>\n",
       "</table>\n",
       "<p>3508 rows × 5 columns</p>\n",
       "</div>"
      ],
      "text/plain": [
       "           video_id                                       comment_text likes  \\\n",
       "512     8wNr-NQImFg  BEN CARSON IS THE MAN!!!!! THEY HATE HIM CAUSE...     0   \n",
       "562     8wNr-NQImFg  Well… The brain surgeon Ben Carson just proved...     0   \n",
       "952     Ayb_2qbZHm4         WHY DID YOU MAKE FURRY FORCE?! SO NASTY!!!     0   \n",
       "1371    vu_9muoxT50                                     WTF BRUH!!!!!!     0   \n",
       "1391    vu_9muoxT50                    cheeseus christ thats insane!!!     0   \n",
       "...             ...                                                ...   ...   \n",
       "690788  Hlt3rA-oDao                                Like Kelly she evil     0   \n",
       "690865  Ni5Uc-DdMqk                     R U FUCKING KIDDING ME?!?!?!?!    11   \n",
       "691073  4kmSATD25iY           This is horribly offensive please report     0   \n",
       "691180  xlu6i6lT_vk  Sink holes looks terrifying sinkholes sink you...     0   \n",
       "691224  qRoVlH1OcI4  Trump talked to the president of US Virgin Isl...     0   \n",
       "\n",
       "       replies  polarity  \n",
       "512          0      -1.0  \n",
       "562          0      -1.0  \n",
       "952          0      -1.0  \n",
       "1371         0      -1.0  \n",
       "1391         0      -1.0  \n",
       "...        ...       ...  \n",
       "690788       0      -1.0  \n",
       "690865       1      -1.0  \n",
       "691073       0      -1.0  \n",
       "691180       0      -1.0  \n",
       "691224       0      -1.0  \n",
       "\n",
       "[3508 rows x 5 columns]"
      ]
     },
     "execution_count": 63,
     "metadata": {},
     "output_type": "execute_result"
    }
   ],
   "source": [
    "comments_negative"
   ]
  },
  {
   "cell_type": "code",
   "execution_count": 64,
   "id": "e5411a76",
   "metadata": {},
   "outputs": [],
   "source": [
    "from wordcloud import WordCloud, STOPWORDS"
   ]
  },
  {
   "cell_type": "markdown",
   "id": "4027ba36",
   "metadata": {},
   "source": [
    "STOPWORDS are used to make meaningless that helps to does not any affect of these words\n",
    "like is, are, am, to, the, as, up"
   ]
  },
  {
   "cell_type": "code",
   "execution_count": 65,
   "id": "4184ba29",
   "metadata": {},
   "outputs": [
    {
     "data": {
      "text/plain": [
       "{'a',\n",
       " 'about',\n",
       " 'above',\n",
       " 'after',\n",
       " 'again',\n",
       " 'against',\n",
       " 'all',\n",
       " 'also',\n",
       " 'am',\n",
       " 'an',\n",
       " 'and',\n",
       " 'any',\n",
       " 'are',\n",
       " \"aren't\",\n",
       " 'as',\n",
       " 'at',\n",
       " 'be',\n",
       " 'because',\n",
       " 'been',\n",
       " 'before',\n",
       " 'being',\n",
       " 'below',\n",
       " 'between',\n",
       " 'both',\n",
       " 'but',\n",
       " 'by',\n",
       " 'can',\n",
       " \"can't\",\n",
       " 'cannot',\n",
       " 'com',\n",
       " 'could',\n",
       " \"couldn't\",\n",
       " 'did',\n",
       " \"didn't\",\n",
       " 'do',\n",
       " 'does',\n",
       " \"doesn't\",\n",
       " 'doing',\n",
       " \"don't\",\n",
       " 'down',\n",
       " 'during',\n",
       " 'each',\n",
       " 'else',\n",
       " 'ever',\n",
       " 'few',\n",
       " 'for',\n",
       " 'from',\n",
       " 'further',\n",
       " 'get',\n",
       " 'had',\n",
       " \"hadn't\",\n",
       " 'has',\n",
       " \"hasn't\",\n",
       " 'have',\n",
       " \"haven't\",\n",
       " 'having',\n",
       " 'he',\n",
       " \"he'd\",\n",
       " \"he'll\",\n",
       " \"he's\",\n",
       " 'hence',\n",
       " 'her',\n",
       " 'here',\n",
       " \"here's\",\n",
       " 'hers',\n",
       " 'herself',\n",
       " 'him',\n",
       " 'himself',\n",
       " 'his',\n",
       " 'how',\n",
       " \"how's\",\n",
       " 'however',\n",
       " 'http',\n",
       " 'i',\n",
       " \"i'd\",\n",
       " \"i'll\",\n",
       " \"i'm\",\n",
       " \"i've\",\n",
       " 'if',\n",
       " 'in',\n",
       " 'into',\n",
       " 'is',\n",
       " \"isn't\",\n",
       " 'it',\n",
       " \"it's\",\n",
       " 'its',\n",
       " 'itself',\n",
       " 'just',\n",
       " 'k',\n",
       " \"let's\",\n",
       " 'like',\n",
       " 'me',\n",
       " 'more',\n",
       " 'most',\n",
       " \"mustn't\",\n",
       " 'my',\n",
       " 'myself',\n",
       " 'no',\n",
       " 'nor',\n",
       " 'not',\n",
       " 'of',\n",
       " 'off',\n",
       " 'on',\n",
       " 'once',\n",
       " 'only',\n",
       " 'or',\n",
       " 'other',\n",
       " 'otherwise',\n",
       " 'ought',\n",
       " 'our',\n",
       " 'ours',\n",
       " 'ourselves',\n",
       " 'out',\n",
       " 'over',\n",
       " 'own',\n",
       " 'r',\n",
       " 'same',\n",
       " 'shall',\n",
       " \"shan't\",\n",
       " 'she',\n",
       " \"she'd\",\n",
       " \"she'll\",\n",
       " \"she's\",\n",
       " 'should',\n",
       " \"shouldn't\",\n",
       " 'since',\n",
       " 'so',\n",
       " 'some',\n",
       " 'such',\n",
       " 'than',\n",
       " 'that',\n",
       " \"that's\",\n",
       " 'the',\n",
       " 'their',\n",
       " 'theirs',\n",
       " 'them',\n",
       " 'themselves',\n",
       " 'then',\n",
       " 'there',\n",
       " \"there's\",\n",
       " 'therefore',\n",
       " 'these',\n",
       " 'they',\n",
       " \"they'd\",\n",
       " \"they'll\",\n",
       " \"they're\",\n",
       " \"they've\",\n",
       " 'this',\n",
       " 'those',\n",
       " 'through',\n",
       " 'to',\n",
       " 'too',\n",
       " 'under',\n",
       " 'until',\n",
       " 'up',\n",
       " 'very',\n",
       " 'was',\n",
       " \"wasn't\",\n",
       " 'we',\n",
       " \"we'd\",\n",
       " \"we'll\",\n",
       " \"we're\",\n",
       " \"we've\",\n",
       " 'were',\n",
       " \"weren't\",\n",
       " 'what',\n",
       " \"what's\",\n",
       " 'when',\n",
       " \"when's\",\n",
       " 'where',\n",
       " \"where's\",\n",
       " 'which',\n",
       " 'while',\n",
       " 'who',\n",
       " \"who's\",\n",
       " 'whom',\n",
       " 'why',\n",
       " \"why's\",\n",
       " 'with',\n",
       " \"won't\",\n",
       " 'would',\n",
       " \"wouldn't\",\n",
       " 'www',\n",
       " 'you',\n",
       " \"you'd\",\n",
       " \"you'll\",\n",
       " \"you're\",\n",
       " \"you've\",\n",
       " 'your',\n",
       " 'yours',\n",
       " 'yourself',\n",
       " 'yourselves'}"
      ]
     },
     "execution_count": 65,
     "metadata": {},
     "output_type": "execute_result"
    }
   ],
   "source": [
    "set(STOPWORDS)"
   ]
  },
  {
   "cell_type": "code",
   "execution_count": 66,
   "id": "948b6aae",
   "metadata": {
    "scrolled": true
   },
   "outputs": [
    {
     "data": {
      "text/plain": [
       "0                         Logan Paul it's yo big day ‼️‼️‼️\n",
       "1         I've been following you from the start of your...\n",
       "2                        Say hi to Kong and maverick for me\n",
       "3                                       MY FAN . attendance\n",
       "4                                                trending 😉\n",
       "                                ...                        \n",
       "691395                                               Лучшая\n",
       "691396    qu'est ce que j'aimerais que tu viennes à Roan...\n",
       "691397                            Ven a mexico! 😍 te amo LP\n",
       "691398                                      Islığı yeter...\n",
       "691399    Kocham tą piosenkę😍❤❤❤byłam zakochana po uszy ...\n",
       "Name: comment_text, Length: 691375, dtype: object"
      ]
     },
     "execution_count": 66,
     "metadata": {},
     "output_type": "execute_result"
    }
   ],
   "source": [
    "df['comment_text']"
   ]
  },
  {
   "cell_type": "code",
   "execution_count": 67,
   "id": "364a5630",
   "metadata": {
    "scrolled": true
   },
   "outputs": [
    {
     "data": {
      "text/plain": [
       "pandas.core.series.Series"
      ]
     },
     "execution_count": 67,
     "metadata": {},
     "output_type": "execute_result"
    }
   ],
   "source": [
    "type(df['comment_text'])"
   ]
  },
  {
   "cell_type": "code",
   "execution_count": 68,
   "id": "8a001550",
   "metadata": {},
   "outputs": [],
   "source": [
    "total_comments_positive = ' '.join(comments_positive['comment_text'])"
   ]
  },
  {
   "cell_type": "code",
   "execution_count": 69,
   "id": "fea0b77a",
   "metadata": {},
   "outputs": [],
   "source": [
    "wordcloud = WordCloud(stopwords=set(STOPWORDS)).generate(total_comments_positive)"
   ]
  },
  {
   "cell_type": "code",
   "execution_count": 70,
   "id": "7f2ac968",
   "metadata": {
    "scrolled": true
   },
   "outputs": [
    {
     "data": {
      "text/plain": [
       "(-0.5, 399.5, 199.5, -0.5)"
      ]
     },
     "execution_count": 70,
     "metadata": {},
     "output_type": "execute_result"
    },
    {
     "data": {
      "image/png": "[encoded data removed]",
      "text/plain": [
       "<Figure size 640x480 with 1 Axes>"
      ]
     },
     "metadata": {},
     "output_type": "display_data"
    }
   ],
   "source": [
    "plt.imshow(wordcloud)\n",
    "plt.axis('off')"
   ]
  },
  {
   "cell_type": "code",
   "execution_count": 71,
   "id": "0eb33bae",
   "metadata": {},
   "outputs": [],
   "source": [
    "total_comments_negative = ' '.join(comments_negative['comment_text'])"
   ]
  },
  {
   "cell_type": "code",
   "execution_count": 72,
   "id": "b96feddd",
   "metadata": {},
   "outputs": [],
   "source": [
    "wordcloud = WordCloud(stopwords=set(STOPWORDS)).generate(total_comments_negative)"
   ]
  },
  {
   "cell_type": "code",
   "execution_count": 73,
   "id": "654253f8",
   "metadata": {},
   "outputs": [
    {
     "data": {
      "text/plain": [
       "(-0.5, 399.5, 199.5, -0.5)"
      ]
     },
     "execution_count": 73,
     "metadata": {},
     "output_type": "execute_result"
    },
    {
     "data": {
      "image/png": "[encoded data removed]",
      "text/plain": [
       "<Figure size 640x480 with 1 Axes>"
      ]
     },
     "metadata": {},
     "output_type": "display_data"
    }
   ],
   "source": [
    "plt.imshow(wordcloud)\n",
    "plt.axis()"
   ]
  },
  {
   "cell_type": "markdown",
   "id": "84545019",
   "metadata": {},
   "source": [
    "# Emoji Analysis"
   ]
  },
  {
   "cell_type": "code",
   "execution_count": 74,
   "id": "7608f1c1",
   "metadata": {},
   "outputs": [],
   "source": [
    "import emoji"
   ]
  },
  {
   "cell_type": "code",
   "execution_count": 75,
   "id": "f99aecdb",
   "metadata": {},
   "outputs": [
    {
     "data": {
      "text/plain": [
       "'2.7.0'"
      ]
     },
     "execution_count": 75,
     "metadata": {},
     "output_type": "execute_result"
    }
   ],
   "source": [
    "emoji.__version__"
   ]
  },
  {
   "cell_type": "code",
   "execution_count": 76,
   "id": "e6680b93",
   "metadata": {},
   "outputs": [
    {
     "data": {
      "text/plain": [
       "0                    Logan Paul it's yo big day ‼️‼️‼️\n",
       "1    I've been following you from the start of your...\n",
       "2                   Say hi to Kong and maverick for me\n",
       "3                                  MY FAN . attendance\n",
       "4                                           trending 😉\n",
       "5                              #1 on trending AYYEEEEE\n",
       "6                                 The end though 😭👍🏻❤️\n",
       "Name: comment_text, dtype: object"
      ]
     },
     "execution_count": 76,
     "metadata": {},
     "output_type": "execute_result"
    }
   ],
   "source": [
    "df['comment_text'].head(7)"
   ]
  },
  {
   "cell_type": "code",
   "execution_count": 77,
   "id": "aa334fa6",
   "metadata": {},
   "outputs": [
    {
     "data": {
      "text/plain": [
       "['😉']"
      ]
     },
     "execution_count": 77,
     "metadata": {},
     "output_type": "execute_result"
    }
   ],
   "source": [
    "comment = 'trending 😉'     \n",
    "\n",
    "\n",
    "[char for char in comment if char in emoji.EMOJI_DATA]\n",
    "\n",
    "\n",
    "## This is also doing the same work. The upper one is list comprehension and the another one is using normal loop\n",
    "# emoji_list = []\n",
    "# for char in comment:\n",
    "#     if char in emoji.EMOJI_DATA:\n",
    "#         emoji_list.append(char)\n",
    "\n",
    "# emoji_list"
   ]
  },
  {
   "cell_type": "code",
   "execution_count": 78,
   "id": "59b27d71",
   "metadata": {},
   "outputs": [],
   "source": [
    "all_emojis_list = []\n",
    "\n",
    "for comment in df['comment_text'].dropna():\n",
    "    for char in comment:\n",
    "        if char in emoji.EMOJI_DATA:\n",
    "            all_emojis_list.append(char)"
   ]
  },
  {
   "cell_type": "code",
   "execution_count": 79,
   "id": "3a1b9a9d",
   "metadata": {},
   "outputs": [
    {
     "data": {
      "text/plain": [
       "['‼', '‼', '‼', '😉', '😭', '👍', '🏻', '❤', '😍', '💋']"
      ]
     },
     "execution_count": 79,
     "metadata": {},
     "output_type": "execute_result"
    }
   ],
   "source": [
    "all_emojis_list[:10]"
   ]
  },
  {
   "cell_type": "code",
   "execution_count": 80,
   "id": "f14db0d5",
   "metadata": {},
   "outputs": [
    {
     "data": {
      "text/plain": [
       "['‼', '‼', '‼', '😉', '😭', '👍', '🏻', '❤', '😍', '💋', '💙', '👍', '👈', '😂', '🔥']"
      ]
     },
     "execution_count": 80,
     "metadata": {},
     "output_type": "execute_result"
    }
   ],
   "source": [
    "all_emojis_list[0:15]"
   ]
  },
  {
   "cell_type": "code",
   "execution_count": 81,
   "id": "a437403e",
   "metadata": {},
   "outputs": [],
   "source": [
    "from collections import Counter"
   ]
  },
  {
   "cell_type": "code",
   "execution_count": 82,
   "id": "82acaa49",
   "metadata": {},
   "outputs": [
    {
     "data": {
      "text/plain": [
       "Counter({'😂': 36987,\n",
       "         '😍': 33453,\n",
       "         '❤': 31119,\n",
       "         '🔥': 8694,\n",
       "         '😭': 8398,\n",
       "         '👏': 5719,\n",
       "         '😘': 5545,\n",
       "         '👍': 5476,\n",
       "         '💖': 5359,\n",
       "         '💕': 5147,\n",
       "         '♥': 4909,\n",
       "         '😊': 3596,\n",
       "         '🏻': 3438,\n",
       "         '💜': 3429,\n",
       "         '😬': 3381,\n",
       "         '👌': 3112,\n",
       "         '💙': 2831,\n",
       "         '😢': 2672,\n",
       "         '🏼': 2549,\n",
       "         '🤣': 2279,\n",
       "         '🙌': 2233,\n",
       "         '😁': 2220,\n",
       "         '💗': 2144,\n",
       "         '😱': 2094,\n",
       "         '🙏': 1818,\n",
       "         '🌍': 1810,\n",
       "         '😀': 1734,\n",
       "         '💛': 1677,\n",
       "         '🏽': 1593,\n",
       "         '🤔': 1592,\n",
       "         '💓': 1540,\n",
       "         '😄': 1496,\n",
       "         '😩': 1472,\n",
       "         '💯': 1450,\n",
       "         '💞': 1420,\n",
       "         '😻': 1409,\n",
       "         '😎': 1358,\n",
       "         '💚': 1295,\n",
       "         '😃': 1235,\n",
       "         '😮': 1232,\n",
       "         '🏾': 1205,\n",
       "         '☺': 1180,\n",
       "         '😆': 1149,\n",
       "         '🐍': 1143,\n",
       "         '😅': 1070,\n",
       "         '😙': 1067,\n",
       "         '💿': 1031,\n",
       "         '😉': 998,\n",
       "         '💋': 968,\n",
       "         '💀': 926,\n",
       "         '💩': 925,\n",
       "         '🎶': 906,\n",
       "         '🤗': 896,\n",
       "         '✨': 889,\n",
       "         '🖕': 884,\n",
       "         '✌': 835,\n",
       "         '🔴': 824,\n",
       "         '🖤': 784,\n",
       "         '🔵': 759,\n",
       "         '😥': 742,\n",
       "         '🎃': 739,\n",
       "         '💘': 702,\n",
       "         '😫': 692,\n",
       "         '💪': 687,\n",
       "         '🎉': 684,\n",
       "         '👑': 678,\n",
       "         '👎': 673,\n",
       "         '😐': 644,\n",
       "         '😇': 640,\n",
       "         '😒': 629,\n",
       "         '💵': 628,\n",
       "         '🙄': 627,\n",
       "         '😏': 623,\n",
       "         '🌹': 622,\n",
       "         '🤘': 619,\n",
       "         '💔': 617,\n",
       "         '🎈': 610,\n",
       "         '😠': 599,\n",
       "         '😋': 596,\n",
       "         '💝': 592,\n",
       "         '😜': 573,\n",
       "         '🌟': 549,\n",
       "         '😔': 545,\n",
       "         '♀': 523,\n",
       "         '❣': 521,\n",
       "         '💟': 508,\n",
       "         '♂': 507,\n",
       "         '🏿': 501,\n",
       "         '😲': 496,\n",
       "         '👀': 495,\n",
       "         '💰': 488,\n",
       "         '😑': 487,\n",
       "         '😚': 482,\n",
       "         '😡': 478,\n",
       "         '😕': 453,\n",
       "         '🙂': 452,\n",
       "         '💦': 427,\n",
       "         '🍔': 418,\n",
       "         '😝': 413,\n",
       "         '😳': 398,\n",
       "         '😈': 393,\n",
       "         '🦄': 391,\n",
       "         '🤦': 390,\n",
       "         '🤤': 389,\n",
       "         '💃': 382,\n",
       "         '😣': 381,\n",
       "         '🐢': 380,\n",
       "         '👊': 379,\n",
       "         '😤': 378,\n",
       "         '😞': 364,\n",
       "         '🎤': 360,\n",
       "         '🌈': 359,\n",
       "         '😗': 354,\n",
       "         '🍂': 354,\n",
       "         '💥': 344,\n",
       "         '😌': 338,\n",
       "         '😨': 335,\n",
       "         '🤷': 334,\n",
       "         '🍗': 327,\n",
       "         '🐶': 325,\n",
       "         '💎': 316,\n",
       "         '🙈': 312,\n",
       "         '🤡': 305,\n",
       "         '🐺': 303,\n",
       "         '〰': 290,\n",
       "         '✊': 289,\n",
       "         '😖': 287,\n",
       "         '🎵': 284,\n",
       "         '🙋': 282,\n",
       "         '😓': 280,\n",
       "         '😵': 277,\n",
       "         '🤢': 274,\n",
       "         '👩': 270,\n",
       "         '👻': 268,\n",
       "         '😛': 266,\n",
       "         '🐝': 261,\n",
       "         '🍕': 258,\n",
       "         '🙃': 253,\n",
       "         '🍓': 252,\n",
       "         '😪': 249,\n",
       "         '💸': 235,\n",
       "         '📱': 231,\n",
       "         '😰': 231,\n",
       "         '🐐': 224,\n",
       "         '🍁': 223,\n",
       "         '👨': 212,\n",
       "         '‼': 211,\n",
       "         '🅱': 207,\n",
       "         '❄': 206,\n",
       "         '👉': 204,\n",
       "         '😹': 201,\n",
       "         '⭐': 198,\n",
       "         '💣': 197,\n",
       "         '👅': 194,\n",
       "         '👋': 193,\n",
       "         '😴': 187,\n",
       "         '🎧': 186,\n",
       "         '🌸': 185,\n",
       "         '💁': 180,\n",
       "         '💄': 177,\n",
       "         '😶': 176,\n",
       "         '🤓': 176,\n",
       "         '🚨': 176,\n",
       "         '👿': 175,\n",
       "         '☹': 173,\n",
       "         '✔': 169,\n",
       "         '🎇': 165,\n",
       "         '🍍': 165,\n",
       "         '👽': 162,\n",
       "         '🎼': 159,\n",
       "         '🎂': 156,\n",
       "         '☝': 156,\n",
       "         '☠': 156,\n",
       "         '😦': 154,\n",
       "         '🍫': 152,\n",
       "         '👇': 151,\n",
       "         '😯': 148,\n",
       "         '👐': 147,\n",
       "         '🎹': 147,\n",
       "         '🤙': 147,\n",
       "         '😧': 146,\n",
       "         '🍸': 146,\n",
       "         '✝': 146,\n",
       "         '👧': 145,\n",
       "         '🙅': 143,\n",
       "         '🔝': 143,\n",
       "         '⬜': 142,\n",
       "         '⬛': 141,\n",
       "         '❗': 140,\n",
       "         '🙊': 139,\n",
       "         '😷': 139,\n",
       "         '🙁': 133,\n",
       "         '⚡': 133,\n",
       "         '👣': 130,\n",
       "         '🐓': 129,\n",
       "         '🎸': 128,\n",
       "         '🐻': 128,\n",
       "         '💅': 127,\n",
       "         '🍑': 127,\n",
       "         '👈': 126,\n",
       "         '😿': 126,\n",
       "         '🎊': 125,\n",
       "         '💑': 125,\n",
       "         '🐸': 124,\n",
       "         '🔫': 123,\n",
       "         '😟': 122,\n",
       "         '🏆': 121,\n",
       "         '👸': 120,\n",
       "         '🐑': 117,\n",
       "         '✅': 115,\n",
       "         '🐫': 111,\n",
       "         '🤧': 109,\n",
       "         '🤑': 108,\n",
       "         '🐕': 108,\n",
       "         '🌼': 108,\n",
       "         '💫': 107,\n",
       "         '💲': 106,\n",
       "         '🐥': 104,\n",
       "         '🐱': 103,\n",
       "         '🐾': 103,\n",
       "         '🔷': 103,\n",
       "         '🔶': 103,\n",
       "         '🍾': 101,\n",
       "         '🍆': 100,\n",
       "         '✋': 99,\n",
       "         '🚀': 98,\n",
       "         '🎄': 97,\n",
       "         '🍉': 97,\n",
       "         '🙆': 96,\n",
       "         '🌎': 94,\n",
       "         '🍬': 91,\n",
       "         '👄': 90,\n",
       "         '🍭': 89,\n",
       "         '💐': 88,\n",
       "         '☁': 87,\n",
       "         '🎆': 86,\n",
       "         '🌻': 84,\n",
       "         '😺': 83,\n",
       "         '🍻': 83,\n",
       "         '👁': 83,\n",
       "         '👾': 81,\n",
       "         '🎁': 81,\n",
       "         '🌺': 81,\n",
       "         '🍷': 80,\n",
       "         '💍': 80,\n",
       "         '🏀': 78,\n",
       "         '🍇': 77,\n",
       "         '🔪': 76,\n",
       "         '🎥': 76,\n",
       "         '⚽': 76,\n",
       "         '😸': 75,\n",
       "         '☕': 75,\n",
       "         '🕺': 74,\n",
       "         '🍦': 73,\n",
       "         '🍰': 73,\n",
       "         '🌷': 73,\n",
       "         '🚫': 72,\n",
       "         '💌': 71,\n",
       "         '🐣': 71,\n",
       "         '👆': 70,\n",
       "         '🐦': 70,\n",
       "         '🌌': 70,\n",
       "         '🌮': 69,\n",
       "         '👦': 69,\n",
       "         '🍺': 69,\n",
       "         '🤞': 69,\n",
       "         '⚠': 68,\n",
       "         '📀': 68,\n",
       "         '💨': 67,\n",
       "         '🌚': 66,\n",
       "         '➡': 66,\n",
       "         '🙇': 64,\n",
       "         '🗣': 64,\n",
       "         '🌊': 62,\n",
       "         '🙀': 62,\n",
       "         '🤐': 61,\n",
       "         '🍩': 61,\n",
       "         '🌩': 61,\n",
       "         '🤠': 60,\n",
       "         '👰': 60,\n",
       "         '❌': 60,\n",
       "         '🍜': 59,\n",
       "         '🍪': 59,\n",
       "         '🍃': 59,\n",
       "         '🚪': 57,\n",
       "         '🐟': 57,\n",
       "         '☀': 57,\n",
       "         '🎱': 57,\n",
       "         '🍏': 56,\n",
       "         '🔊': 56,\n",
       "         '🎅': 55,\n",
       "         '🏳': 55,\n",
       "         '🤸': 55,\n",
       "         '🌏': 55,\n",
       "         '🌴': 54,\n",
       "         '👭': 54,\n",
       "         '🌞': 54,\n",
       "         '👶': 53,\n",
       "         '🐼': 52,\n",
       "         '🍼': 52,\n",
       "         '🍒': 51,\n",
       "         '🌯': 50,\n",
       "         '🤥': 50,\n",
       "         '🍎': 49,\n",
       "         '👯': 49,\n",
       "         '👹': 49,\n",
       "         '🏃': 49,\n",
       "         '🌰': 49,\n",
       "         '🔯': 49,\n",
       "         '🔸': 48,\n",
       "         '👺': 48,\n",
       "         '📚': 48,\n",
       "         '🐜': 48,\n",
       "         '🦋': 48,\n",
       "         '🍖': 48,\n",
       "         '™': 46,\n",
       "         '🎀': 46,\n",
       "         '▶': 44,\n",
       "         '💧': 43,\n",
       "         '🙉': 43,\n",
       "         '💭': 43,\n",
       "         '🎲': 43,\n",
       "         '🍟': 43,\n",
       "         '🍿': 43,\n",
       "         '🍊': 43,\n",
       "         '🍡': 43,\n",
       "         '🌋': 42,\n",
       "         '✈': 42,\n",
       "         '🌠': 41,\n",
       "         '🌙': 41,\n",
       "         '🦆': 41,\n",
       "         '🏅': 41,\n",
       "         '🥇': 41,\n",
       "         '🏉': 41,\n",
       "         '💴': 40,\n",
       "         '📣': 40,\n",
       "         '🎻': 40,\n",
       "         '🐩': 40,\n",
       "         '🌕': 40,\n",
       "         '🚮': 40,\n",
       "         '♨': 39,\n",
       "         '🌲': 39,\n",
       "         '👟': 39,\n",
       "         '👙': 39,\n",
       "         '👠': 39,\n",
       "         '🎯': 39,\n",
       "         '®': 39,\n",
       "         '🐰': 38,\n",
       "         '📁': 38,\n",
       "         '🐷': 38,\n",
       "         '🎟': 38,\n",
       "         '🔮': 37,\n",
       "         '🐤': 37,\n",
       "         '🕴': 37,\n",
       "         '🌽': 36,\n",
       "         '🏈': 36,\n",
       "         '👼': 36,\n",
       "         '🎮': 36,\n",
       "         '🐒': 36,\n",
       "         '🍐': 36,\n",
       "         '🕷': 35,\n",
       "         '🍀': 35,\n",
       "         '🍌': 35,\n",
       "         '🐈': 34,\n",
       "         '👫': 33,\n",
       "         '🥂': 33,\n",
       "         '🕊': 33,\n",
       "         '🤛': 33,\n",
       "         '🏐': 33,\n",
       "         '💏': 32,\n",
       "         '👬': 32,\n",
       "         '💶': 32,\n",
       "         '🔔': 32,\n",
       "         '🐏': 32,\n",
       "         '🌝': 32,\n",
       "         '🤕': 32,\n",
       "         '⬆': 32,\n",
       "         '☃': 32,\n",
       "         '👖': 31,\n",
       "         '💳': 31,\n",
       "         '🎬': 31,\n",
       "         '🐙': 31,\n",
       "         '💤': 31,\n",
       "         '🐧': 30,\n",
       "         '🐉': 30,\n",
       "         '🎩': 29,\n",
       "         '🐄': 29,\n",
       "         '🐖': 29,\n",
       "         '🖐': 29,\n",
       "         '🍚': 29,\n",
       "         '🍶': 29,\n",
       "         '🍹': 29,\n",
       "         '🤜': 29,\n",
       "         '🥀': 28,\n",
       "         '🐇': 28,\n",
       "         '🐲': 28,\n",
       "         '⚰': 28,\n",
       "         '🌶': 28,\n",
       "         '🔑': 28,\n",
       "         '🍳': 28,\n",
       "         '🧀': 28,\n",
       "         '🅰': 28,\n",
       "         '🏠': 28,\n",
       "         '🚒': 27,\n",
       "         '👃': 27,\n",
       "         '🚬': 27,\n",
       "         '💻': 27,\n",
       "         '☄': 27,\n",
       "         '🖖': 27,\n",
       "         '🤖': 27,\n",
       "         '🤒': 27,\n",
       "         '🌿': 27,\n",
       "         '😽': 26,\n",
       "         '👳': 26,\n",
       "         '📖': 26,\n",
       "         '🦁': 26,\n",
       "         '🌵': 26,\n",
       "         '🍝': 26,\n",
       "         '🍋': 26,\n",
       "         '⛑': 26,\n",
       "         '❕': 26,\n",
       "         '😼': 25,\n",
       "         '💷': 25,\n",
       "         '📂': 25,\n",
       "         '🏡': 25,\n",
       "         '🍯': 25,\n",
       "         '🔐': 25,\n",
       "         '🕵': 25,\n",
       "         '🚽': 25,\n",
       "         '🍈': 25,\n",
       "         '🍅': 25,\n",
       "         '🏄': 25,\n",
       "         '🌀': 24,\n",
       "         '🤴': 24,\n",
       "         '🌪': 24,\n",
       "         '👮': 24,\n",
       "         '👕': 24,\n",
       "         '😾': 24,\n",
       "         '👱': 24,\n",
       "         '👗': 24,\n",
       "         '🔬': 24,\n",
       "         '📹': 24,\n",
       "         '🐴': 24,\n",
       "         '🐳': 24,\n",
       "         '🐛': 24,\n",
       "         '🍨': 24,\n",
       "         '🐎': 24,\n",
       "         '❓': 24,\n",
       "         '👂': 23,\n",
       "         '📲': 23,\n",
       "         '💽': 23,\n",
       "         '🎠': 23,\n",
       "         '🎷': 23,\n",
       "         '🐽': 23,\n",
       "         '🐨': 23,\n",
       "         '🐞': 23,\n",
       "         '🍣': 23,\n",
       "         '🥁': 23,\n",
       "         '✴': 23,\n",
       "         '🍵': 23,\n",
       "         '⛈': 22,\n",
       "         '💇': 22,\n",
       "         '📢': 22,\n",
       "         '🎨': 22,\n",
       "         '📷': 22,\n",
       "         '🐬': 22,\n",
       "         '🤚': 22,\n",
       "         '⭕': 22,\n",
       "         '🍥': 22,\n",
       "         '⚾': 22,\n",
       "         '🏓': 22,\n",
       "         '👓': 21,\n",
       "         '🎭': 21,\n",
       "         '🐔': 21,\n",
       "         '🐠': 21,\n",
       "         '⛪': 21,\n",
       "         '🌛': 21,\n",
       "         '⁉': 21,\n",
       "         '🗺': 21,\n",
       "         '🍛': 21,\n",
       "         '🎳': 21,\n",
       "         '💆': 20,\n",
       "         '🐘': 20,\n",
       "         '🙍': 20,\n",
       "         '🐵': 20,\n",
       "         '🐯': 20,\n",
       "         '🗽': 20,\n",
       "         '🦅': 20,\n",
       "         '🌐': 20,\n",
       "         '◀': 20,\n",
       "         '⌚': 19,\n",
       "         '🌭': 19,\n",
       "         '👢': 19,\n",
       "         '📝': 19,\n",
       "         '🅾': 19,\n",
       "         '🍤': 19,\n",
       "         '🌱': 19,\n",
       "         '💡': 19,\n",
       "         '🍄': 19,\n",
       "         '🗡': 19,\n",
       "         '🔻': 19,\n",
       "         '✒': 18,\n",
       "         '📉': 18,\n",
       "         '🎾': 18,\n",
       "         '🔜': 18,\n",
       "         '©': 18,\n",
       "         '🔒': 18,\n",
       "         '♎': 18,\n",
       "         '🕶': 18,\n",
       "         '🏁': 18,\n",
       "         '🍞': 18,\n",
       "         '⚜': 18,\n",
       "         '❇': 18,\n",
       "         '🐊': 17,\n",
       "         '🆒': 17,\n",
       "         '🎺': 17,\n",
       "         '👞': 17,\n",
       "         '🎓': 17,\n",
       "         '📦': 17,\n",
       "         '✉': 17,\n",
       "         '📏': 17,\n",
       "         '☮': 17,\n",
       "         '🤝': 17,\n",
       "         '🍧': 17,\n",
       "         '🌾': 17,\n",
       "         '🥔': 17,\n",
       "         '🏫': 17,\n",
       "         '🔛': 17,\n",
       "         '✖': 17,\n",
       "         '🚩': 16,\n",
       "         '🎢': 16,\n",
       "         '🃏': 16,\n",
       "         '🕋': 16,\n",
       "         '🍴': 16,\n",
       "         '🍱': 16,\n",
       "         '🔞': 16,\n",
       "         '⚓': 16,\n",
       "         '🔱': 16,\n",
       "         '🍢': 16,\n",
       "         '🏊': 16,\n",
       "         '🚼': 16,\n",
       "         '🌨': 16,\n",
       "         '☯': 16,\n",
       "         '🚣': 15,\n",
       "         '⬇': 15,\n",
       "         '👷': 15,\n",
       "         '💂': 15,\n",
       "         '💼': 15,\n",
       "         '🐋': 15,\n",
       "         '🐡': 15,\n",
       "         '🆘': 15,\n",
       "         '🗼': 15,\n",
       "         '🥊': 15,\n",
       "         '🦇': 15,\n",
       "         '♦': 15,\n",
       "         '⬅': 15,\n",
       "         '🍮': 15,\n",
       "         '🎣': 15,\n",
       "         '🏴': 15,\n",
       "         '🔩': 15,\n",
       "         '🚔': 14,\n",
       "         '👘': 14,\n",
       "         '👪': 14,\n",
       "         '🔰': 14,\n",
       "         '👛': 14,\n",
       "         '💉': 14,\n",
       "         '💊': 14,\n",
       "         '🔌': 14,\n",
       "         '🎍': 14,\n",
       "         '📺': 14,\n",
       "         '🐃': 14,\n",
       "         '🌑': 14,\n",
       "         '📿': 14,\n",
       "         '🚙': 14,\n",
       "         '↗': 14,\n",
       "         '🥛': 14,\n",
       "         '💒': 14,\n",
       "         '🔅': 14,\n",
       "         '🚾': 14,\n",
       "         '🤰': 14,\n",
       "         '🚶': 14,\n",
       "         '🛌': 14,\n",
       "         '🥘': 14,\n",
       "         '✳': 14,\n",
       "         '➰': 14,\n",
       "         '➕': 14,\n",
       "         '🌬': 13,\n",
       "         '☎': 13,\n",
       "         '💬': 13,\n",
       "         '✏': 13,\n",
       "         '✂': 13,\n",
       "         '📈': 13,\n",
       "         '🐭': 13,\n",
       "         '🐮': 13,\n",
       "         '🏋': 13,\n",
       "         '💢': 13,\n",
       "         '🅿': 13,\n",
       "         '🌃': 13,\n",
       "         '♏': 13,\n",
       "         '🦃': 13,\n",
       "         '🍠': 13,\n",
       "         '🔺': 13,\n",
       "         '🌅': 13,\n",
       "         '🛐': 13,\n",
       "         '🥃': 13,\n",
       "         '🚗': 13,\n",
       "         '🔧': 13,\n",
       "         '🐂': 12,\n",
       "         '🙎': 12,\n",
       "         '👥': 12,\n",
       "         '👒': 12,\n",
       "         '📡': 12,\n",
       "         '🎡': 12,\n",
       "         '🎫': 12,\n",
       "         '🐀': 12,\n",
       "         '🐹': 12,\n",
       "         '🐆': 12,\n",
       "         '🐚': 12,\n",
       "         '🦀': 12,\n",
       "         '⛳': 12,\n",
       "         '🖥': 12,\n",
       "         '♣': 12,\n",
       "         '🔨': 12,\n",
       "         '↙': 12,\n",
       "         '♋': 12,\n",
       "         '⛵': 12,\n",
       "         '🔉': 12,\n",
       "         '🎗': 12,\n",
       "         '🚲': 12,\n",
       "         '⏰': 12,\n",
       "         '🎙': 12,\n",
       "         '🥓': 12,\n",
       "         '⚖': 12,\n",
       "         '🍲': 12,\n",
       "         '🛎': 12,\n",
       "         '🚻': 12,\n",
       "         '🛴': 12,\n",
       "         '🚘': 12,\n",
       "         '🏭': 12,\n",
       "         '🚂': 11,\n",
       "         '🔋': 11,\n",
       "         '📘': 11,\n",
       "         '📞': 11,\n",
       "         '📅': 11,\n",
       "         '🀄': 11,\n",
       "         '🦎': 11,\n",
       "         '🚢': 11,\n",
       "         '🦑': 11,\n",
       "         '🔆': 11,\n",
       "         '📽': 11,\n",
       "         '🌤': 11,\n",
       "         '🔽': 11,\n",
       "         '🗑': 11,\n",
       "         '⛸': 11,\n",
       "         '🔼': 11,\n",
       "         '🌧': 11,\n",
       "         '🛀': 11,\n",
       "         '🚰': 11,\n",
       "         '🚵': 11,\n",
       "         '⛔': 11,\n",
       "         '➖': 11,\n",
       "         '🧡': 11,\n",
       "         '🌳': 10,\n",
       "         '🆙': 10,\n",
       "         '👔': 10,\n",
       "         '👵': 10,\n",
       "         '👡': 10,\n",
       "         '👜': 10,\n",
       "         '📛': 10,\n",
       "         '📌': 10,\n",
       "         '📎': 10,\n",
       "         '📻': 10,\n",
       "         '🐌': 10,\n",
       "         '🐅': 10,\n",
       "         '🏗': 10,\n",
       "         '☑': 10,\n",
       "         '🎖': 10,\n",
       "         '🦌': 10,\n",
       "         '🦊': 10,\n",
       "         '⛅': 10,\n",
       "         '🕸': 10,\n",
       "         '🈳': 10,\n",
       "         '🚋': 10,\n",
       "         '🥐': 10,\n",
       "         '🥝': 10,\n",
       "         '🚺': 10,\n",
       "         '↪': 10,\n",
       "         '🥖': 10,\n",
       "         '🦈': 10,\n",
       "         '⛹': 10,\n",
       "         '🍙': 10,\n",
       "         '🌉': 10,\n",
       "         '🛑': 10,\n",
       "         '🚑': 9,\n",
       "         '👚': 9,\n",
       "         '👴': 9,\n",
       "         '🎒': 9,\n",
       "         '🔕': 9,\n",
       "         '📰': 9,\n",
       "         '🎋': 9,\n",
       "         '📟': 9,\n",
       "         '📨': 9,\n",
       "         '📭': 9,\n",
       "         '📬': 9,\n",
       "         '📐': 9,\n",
       "         '⛺': 9,\n",
       "         '🎴': 9,\n",
       "         '📼': 9,\n",
       "         '🐁': 9,\n",
       "         '🐗': 9,\n",
       "         '🐪': 9,\n",
       "         '🌒': 9,\n",
       "         '🏢': 9,\n",
       "         '🏍': 9,\n",
       "         '⛲': 9,\n",
       "         '🔙': 9,\n",
       "         '🔓': 9,\n",
       "         '🤵': 9,\n",
       "         '🈴': 9,\n",
       "         '♑': 9,\n",
       "         '🗯': 9,\n",
       "         '✍': 9,\n",
       "         '🔍': 9,\n",
       "         '🏂': 9,\n",
       "         '🏸': 9,\n",
       "         '🚴': 9,\n",
       "         '🥕': 9,\n",
       "         '🥞': 9,\n",
       "         '🛍': 9,\n",
       "         '👤': 8,\n",
       "         '👝': 8,\n",
       "         '🔭': 8,\n",
       "         '🔦': 8,\n",
       "         '📜': 8,\n",
       "         '📙': 8,\n",
       "         '📒': 8,\n",
       "         '📕': 8,\n",
       "         '📠': 8,\n",
       "         '📩': 8,\n",
       "         '📫': 8,\n",
       "         '📥': 8,\n",
       "         '💾': 8,\n",
       "         '📇': 8,\n",
       "         '🎪': 8,\n",
       "         '〽': 8,\n",
       "         '🚤': 8,\n",
       "         '🏟': 8,\n",
       "         '🏬': 8,\n",
       "         '📸': 8,\n",
       "         '♍': 8,\n",
       "         '🥉': 8,\n",
       "         '🌇': 8,\n",
       "         '💮': 8,\n",
       "         '🐿': 8,\n",
       "         '🌄': 8,\n",
       "         '☘': 8,\n",
       "         '🥒': 8,\n",
       "         '⚫': 8,\n",
       "         '🏵': 8,\n",
       "         '♈': 8,\n",
       "         '♐': 8,\n",
       "         '🕯': 8,\n",
       "         '💠': 8,\n",
       "         '▪': 8,\n",
       "         '♻': 8,\n",
       "         '🤳': 8,\n",
       "         '⏩': 8,\n",
       "         '↘': 8,\n",
       "         '⚪': 8,\n",
       "         '⛄': 8,\n",
       "         '⚕': 8,\n",
       "         '🍽': 8,\n",
       "         '🤽': 8,\n",
       "         '🤼': 8,\n",
       "         '🚞': 8,\n",
       "         '🆓': 8,\n",
       "         '👲': 7,\n",
       "         '💱': 7,\n",
       "         '📔': 7,\n",
       "         '📓': 7,\n",
       "         '📪': 7,\n",
       "         '📮': 7,\n",
       "         '📍': 7,\n",
       "         '🎦': 7,\n",
       "         '🚡': 7,\n",
       "         '🌆': 7,\n",
       "         '🏯': 7,\n",
       "         '♓': 7,\n",
       "         '🤹': 7,\n",
       "         '🥑': 7,\n",
       "         '⚔': 7,\n",
       "         '🦉': 7,\n",
       "         '🥈': 7,\n",
       "         '🥋': 7,\n",
       "         '💈': 7,\n",
       "         '☔': 7,\n",
       "         '☢': 7,\n",
       "         '⤵': 7,\n",
       "         '♠': 7,\n",
       "         '📧': 7,\n",
       "         '♊': 7,\n",
       "         '🈯': 7,\n",
       "         '🈶': 7,\n",
       "         '♌': 7,\n",
       "         '🚓': 7,\n",
       "         '🚇': 7,\n",
       "         '⛽': 7,\n",
       "         '⚱': 7,\n",
       "         '📵': 7,\n",
       "         '🏌': 7,\n",
       "         '🏒': 7,\n",
       "         '🔀': 7,\n",
       "         '🏹': 7,\n",
       "         '🛏': 7,\n",
       "         '🚿': 7,\n",
       "         '🌡': 7,\n",
       "         '🚯': 7,\n",
       "         '🈁': 7,\n",
       "         '🕓': 7,\n",
       "         '🕛': 7,\n",
       "         '🕤': 7,\n",
       "         '🖋': 7,\n",
       "         '🖍': 7,\n",
       "         '🚠': 7,\n",
       "         '🍘': 7,\n",
       "         '🦐': 7,\n",
       "         '🛠': 7,\n",
       "         '🉐': 7,\n",
       "         '🔈': 7,\n",
       "         '⏳': 7,\n",
       "         '⌛': 7,\n",
       "         '🤩': 7,\n",
       "         '⤴': 7,\n",
       "         '🛄': 7,\n",
       "         '🚹': 7,\n",
       "         '🆕': 7,\n",
       "         '🔁': 7,\n",
       "         '🌦': 7,\n",
       "         '📗': 6,\n",
       "         '📤': 6,\n",
       "         '📯': 6,\n",
       "         '📆': 6,\n",
       "         '📄': 6,\n",
       "         '📊': 6,\n",
       "         '🎰': 6,\n",
       "         '🌔': 6,\n",
       "         '🌜': 6,\n",
       "         '🚝': 6,\n",
       "         '🏝': 6,\n",
       "         '🌁': 6,\n",
       "         '🕌': 6,\n",
       "         '🏨': 6,\n",
       "         '🏣': 6,\n",
       "         '🕰': 6,\n",
       "         '🥗': 6,\n",
       "         '🥙': 6,\n",
       "         '🖱': 6,\n",
       "         'ℹ': 6,\n",
       "         '🗝': 6,\n",
       "         '♉': 6,\n",
       "         '♒': 6,\n",
       "         '🔇': 6,\n",
       "         '▫': 6,\n",
       "         '🏜': 6,\n",
       "         '🏞': 6,\n",
       "         '🗨': 6,\n",
       "         '🤶': 6,\n",
       "         '🛋': 6,\n",
       "         '🕐': 6,\n",
       "         '🥄': 6,\n",
       "         '♿': 6,\n",
       "         '🛰': 6,\n",
       "         '⛎': 6,\n",
       "         '🔘': 6,\n",
       "         '🕕': 6,\n",
       "         '🔎': 6,\n",
       "         '🦂': 6,\n",
       "         '🤾': 6,\n",
       "         '🚁': 6,\n",
       "         '🚆': 6,\n",
       "         '🗾': 6,\n",
       "         '🛁': 6,\n",
       "         '🈵': 6,\n",
       "         '🏥': 6,\n",
       "         '🏩': 6,\n",
       "         '🚳': 6,\n",
       "         '🚷': 6,\n",
       "         '🚱': 6,\n",
       "         '🚭': 6,\n",
       "         '🕧': 6,\n",
       "         '🤯': 6,\n",
       "         '🛡': 6,\n",
       "         '📑': 5,\n",
       "         '💺': 5,\n",
       "         '📋': 5,\n",
       "         '📃': 5,\n",
       "         '🌓': 5,\n",
       "         '🌗': 5,\n",
       "         '🌖': 5,\n",
       "         '🏰': 5,\n",
       "         '🏪': 5,\n",
       "         '🛒': 5,\n",
       "         '🗻': 5,\n",
       "         '⛱': 5,\n",
       "         '⛷': 5,\n",
       "         '🏏': 5,\n",
       "         '🚈': 5,\n",
       "         '🚍': 5,\n",
       "         '🏺': 5,\n",
       "         '❎': 5,\n",
       "         '📶': 5,\n",
       "         '↔': 5,\n",
       "         '🕖': 5,\n",
       "         '🕞': 5,\n",
       "         '🎌': 5,\n",
       "         '🚌': 5,\n",
       "         '🕢': 5,\n",
       "         '🕥': 5,\n",
       "         '🌂': 5,\n",
       "         '🏇': 5,\n",
       "         '🚅': 5,\n",
       "         '🚊': 5,\n",
       "         '🛥': 5,\n",
       "         '⛴': 5,\n",
       "         '🥚': 5,\n",
       "         '🎑': 5,\n",
       "         '📳': 5,\n",
       "         '🏦': 5,\n",
       "         '🗿': 5,\n",
       "         '🎿': 5,\n",
       "         '🛅': 5,\n",
       "         '🚸': 5,\n",
       "         '🚥': 5,\n",
       "         '🚦': 5,\n",
       "         '🆎': 5,\n",
       "         '🔠': 5,\n",
       "         '🔡': 5,\n",
       "         '🔢': 5,\n",
       "         '🔣': 5,\n",
       "         '🔤': 5,\n",
       "         '🆗': 5,\n",
       "         '🈲': 5,\n",
       "         '🈹': 5,\n",
       "         '㊙': 5,\n",
       "         '㊗': 5,\n",
       "         '🕝': 5,\n",
       "         '↩': 5,\n",
       "         '🆑': 5,\n",
       "         '🔂': 5,\n",
       "         '🔄': 5,\n",
       "         '🏙': 5,\n",
       "         '🏕': 5,\n",
       "         '🕎': 5,\n",
       "         '🛤': 4,\n",
       "         '🏘': 4,\n",
       "         '⛩': 4,\n",
       "         '🏛': 4,\n",
       "         '⌨': 4,\n",
       "         '⏱': 4,\n",
       "         '⏫': 4,\n",
       "         '✡': 4,\n",
       "         '🖊': 4,\n",
       "         '🖼': 4,\n",
       "         '⏪': 4,\n",
       "         '⛏': 4,\n",
       "         '🎛': 4,\n",
       "         '🎚': 4,\n",
       "         '⏬': 4,\n",
       "         '🌥': 4,\n",
       "         '🌫': 4,\n",
       "         '🚎': 4,\n",
       "         '⛓': 4,\n",
       "         '❔': 4,\n",
       "         '◾': 4,\n",
       "         '🔲': 4,\n",
       "         '🔏': 4,\n",
       "         '☪': 4,\n",
       "         '🚜': 4,\n",
       "         '🚐': 4,\n",
       "         '🦏': 4,\n",
       "         '🦍': 4,\n",
       "         '🎽': 4,\n",
       "         '🛵': 4,\n",
       "         '🚃': 4,\n",
       "         '🛫': 4,\n",
       "         '🛬': 4,\n",
       "         '🚉': 4,\n",
       "         '🚖': 4,\n",
       "         '🚟': 4,\n",
       "         '🚄': 4,\n",
       "         '🛳': 4,\n",
       "         '🥅': 4,\n",
       "         '🕍': 4,\n",
       "         '🌘': 4,\n",
       "         '🏤': 4,\n",
       "         '🏧': 4,\n",
       "         'Ⓜ': 4,\n",
       "         '🚚': 4,\n",
       "         '🚛': 4,\n",
       "         '🛂': 4,\n",
       "         ...})"
      ]
     },
     "execution_count": 82,
     "metadata": {},
     "output_type": "execute_result"
    }
   ],
   "source": [
    "Counter(all_emojis_list)"
   ]
  },
  {
   "cell_type": "code",
   "execution_count": 83,
   "id": "cf5a55c2",
   "metadata": {},
   "outputs": [
    {
     "data": {
      "text/plain": [
       "[('😂', 36987),\n",
       " ('😍', 33453),\n",
       " ('❤', 31119),\n",
       " ('🔥', 8694),\n",
       " ('😭', 8398),\n",
       " ('👏', 5719),\n",
       " ('😘', 5545),\n",
       " ('👍', 5476),\n",
       " ('💖', 5359),\n",
       " ('💕', 5147),\n",
       " ('♥', 4909),\n",
       " ('😊', 3596),\n",
       " ('🏻', 3438),\n",
       " ('💜', 3429),\n",
       " ('😬', 3381),\n",
       " ('👌', 3112),\n",
       " ('💙', 2831),\n",
       " ('😢', 2672),\n",
       " ('🏼', 2549),\n",
       " ('🤣', 2279),\n",
       " ('🙌', 2233),\n",
       " ('😁', 2220),\n",
       " ('💗', 2144),\n",
       " ('😱', 2094),\n",
       " ('🙏', 1818),\n",
       " ('🌍', 1810),\n",
       " ('😀', 1734),\n",
       " ('💛', 1677),\n",
       " ('🏽', 1593),\n",
       " ('🤔', 1592),\n",
       " ('💓', 1540),\n",
       " ('😄', 1496),\n",
       " ('😩', 1472),\n",
       " ('💯', 1450),\n",
       " ('💞', 1420),\n",
       " ('😻', 1409),\n",
       " ('😎', 1358),\n",
       " ('💚', 1295),\n",
       " ('😃', 1235),\n",
       " ('😮', 1232),\n",
       " ('🏾', 1205),\n",
       " ('☺', 1180),\n",
       " ('😆', 1149),\n",
       " ('🐍', 1143),\n",
       " ('😅', 1070),\n",
       " ('😙', 1067),\n",
       " ('💿', 1031),\n",
       " ('😉', 998),\n",
       " ('💋', 968),\n",
       " ('💀', 926),\n",
       " ('💩', 925),\n",
       " ('🎶', 906),\n",
       " ('🤗', 896),\n",
       " ('✨', 889),\n",
       " ('🖕', 884),\n",
       " ('✌', 835),\n",
       " ('🔴', 824),\n",
       " ('🖤', 784),\n",
       " ('🔵', 759),\n",
       " ('😥', 742),\n",
       " ('🎃', 739),\n",
       " ('💘', 702),\n",
       " ('😫', 692),\n",
       " ('💪', 687),\n",
       " ('🎉', 684),\n",
       " ('👑', 678),\n",
       " ('👎', 673),\n",
       " ('😐', 644),\n",
       " ('😇', 640),\n",
       " ('😒', 629),\n",
       " ('💵', 628),\n",
       " ('🙄', 627),\n",
       " ('😏', 623),\n",
       " ('🌹', 622),\n",
       " ('🤘', 619),\n",
       " ('💔', 617),\n",
       " ('🎈', 610),\n",
       " ('😠', 599),\n",
       " ('😋', 596),\n",
       " ('💝', 592),\n",
       " ('😜', 573),\n",
       " ('🌟', 549),\n",
       " ('😔', 545),\n",
       " ('♀', 523),\n",
       " ('❣', 521),\n",
       " ('💟', 508),\n",
       " ('♂', 507),\n",
       " ('🏿', 501),\n",
       " ('😲', 496),\n",
       " ('👀', 495),\n",
       " ('💰', 488),\n",
       " ('😑', 487),\n",
       " ('😚', 482),\n",
       " ('😡', 478),\n",
       " ('😕', 453),\n",
       " ('🙂', 452),\n",
       " ('💦', 427),\n",
       " ('🍔', 418),\n",
       " ('😝', 413),\n",
       " ('😳', 398),\n",
       " ('😈', 393),\n",
       " ('🦄', 391),\n",
       " ('🤦', 390),\n",
       " ('🤤', 389),\n",
       " ('💃', 382),\n",
       " ('😣', 381),\n",
       " ('🐢', 380),\n",
       " ('👊', 379),\n",
       " ('😤', 378),\n",
       " ('😞', 364),\n",
       " ('🎤', 360),\n",
       " ('🌈', 359),\n",
       " ('😗', 354),\n",
       " ('🍂', 354),\n",
       " ('💥', 344),\n",
       " ('😌', 338),\n",
       " ('😨', 335),\n",
       " ('🤷', 334),\n",
       " ('🍗', 327),\n",
       " ('🐶', 325),\n",
       " ('💎', 316),\n",
       " ('🙈', 312),\n",
       " ('🤡', 305),\n",
       " ('🐺', 303),\n",
       " ('〰', 290),\n",
       " ('✊', 289),\n",
       " ('😖', 287),\n",
       " ('🎵', 284),\n",
       " ('🙋', 282),\n",
       " ('😓', 280),\n",
       " ('😵', 277),\n",
       " ('🤢', 274),\n",
       " ('👩', 270),\n",
       " ('👻', 268),\n",
       " ('😛', 266),\n",
       " ('🐝', 261),\n",
       " ('🍕', 258),\n",
       " ('🙃', 253),\n",
       " ('🍓', 252),\n",
       " ('😪', 249),\n",
       " ('💸', 235),\n",
       " ('📱', 231),\n",
       " ('😰', 231),\n",
       " ('🐐', 224),\n",
       " ('🍁', 223),\n",
       " ('👨', 212),\n",
       " ('‼', 211),\n",
       " ('🅱', 207),\n",
       " ('❄', 206),\n",
       " ('👉', 204),\n",
       " ('😹', 201),\n",
       " ('⭐', 198),\n",
       " ('💣', 197),\n",
       " ('👅', 194),\n",
       " ('👋', 193),\n",
       " ('😴', 187),\n",
       " ('🎧', 186),\n",
       " ('🌸', 185),\n",
       " ('💁', 180),\n",
       " ('💄', 177),\n",
       " ('😶', 176),\n",
       " ('🤓', 176),\n",
       " ('🚨', 176),\n",
       " ('👿', 175),\n",
       " ('☹', 173),\n",
       " ('✔', 169),\n",
       " ('🎇', 165),\n",
       " ('🍍', 165),\n",
       " ('👽', 162),\n",
       " ('🎼', 159),\n",
       " ('🎂', 156),\n",
       " ('☝', 156),\n",
       " ('☠', 156),\n",
       " ('😦', 154),\n",
       " ('🍫', 152),\n",
       " ('👇', 151),\n",
       " ('😯', 148),\n",
       " ('👐', 147),\n",
       " ('🎹', 147),\n",
       " ('🤙', 147),\n",
       " ('😧', 146),\n",
       " ('🍸', 146),\n",
       " ('✝', 146),\n",
       " ('👧', 145),\n",
       " ('🙅', 143),\n",
       " ('🔝', 143),\n",
       " ('⬜', 142),\n",
       " ('⬛', 141),\n",
       " ('❗', 140),\n",
       " ('🙊', 139),\n",
       " ('😷', 139),\n",
       " ('🙁', 133),\n",
       " ('⚡', 133),\n",
       " ('👣', 130),\n",
       " ('🐓', 129),\n",
       " ('🎸', 128),\n",
       " ('🐻', 128),\n",
       " ('💅', 127),\n",
       " ('🍑', 127),\n",
       " ('👈', 126),\n",
       " ('😿', 126),\n",
       " ('🎊', 125),\n",
       " ('💑', 125),\n",
       " ('🐸', 124),\n",
       " ('🔫', 123),\n",
       " ('😟', 122),\n",
       " ('🏆', 121),\n",
       " ('👸', 120),\n",
       " ('🐑', 117),\n",
       " ('✅', 115),\n",
       " ('🐫', 111),\n",
       " ('🤧', 109),\n",
       " ('🤑', 108),\n",
       " ('🐕', 108),\n",
       " ('🌼', 108),\n",
       " ('💫', 107),\n",
       " ('💲', 106),\n",
       " ('🐥', 104),\n",
       " ('🐱', 103),\n",
       " ('🐾', 103),\n",
       " ('🔷', 103),\n",
       " ('🔶', 103),\n",
       " ('🍾', 101),\n",
       " ('🍆', 100),\n",
       " ('✋', 99),\n",
       " ('🚀', 98),\n",
       " ('🎄', 97),\n",
       " ('🍉', 97),\n",
       " ('🙆', 96),\n",
       " ('🌎', 94),\n",
       " ('🍬', 91),\n",
       " ('👄', 90),\n",
       " ('🍭', 89),\n",
       " ('💐', 88),\n",
       " ('☁', 87),\n",
       " ('🎆', 86),\n",
       " ('🌻', 84),\n",
       " ('😺', 83),\n",
       " ('🍻', 83),\n",
       " ('👁', 83),\n",
       " ('👾', 81),\n",
       " ('🎁', 81),\n",
       " ('🌺', 81),\n",
       " ('🍷', 80),\n",
       " ('💍', 80),\n",
       " ('🏀', 78),\n",
       " ('🍇', 77),\n",
       " ('🔪', 76),\n",
       " ('🎥', 76),\n",
       " ('⚽', 76),\n",
       " ('😸', 75),\n",
       " ('☕', 75),\n",
       " ('🕺', 74),\n",
       " ('🍦', 73),\n",
       " ('🍰', 73),\n",
       " ('🌷', 73),\n",
       " ('🚫', 72),\n",
       " ('💌', 71),\n",
       " ('🐣', 71),\n",
       " ('👆', 70),\n",
       " ('🐦', 70),\n",
       " ('🌌', 70),\n",
       " ('🌮', 69),\n",
       " ('👦', 69),\n",
       " ('🍺', 69),\n",
       " ('🤞', 69),\n",
       " ('⚠', 68),\n",
       " ('📀', 68),\n",
       " ('💨', 67),\n",
       " ('🌚', 66),\n",
       " ('➡', 66),\n",
       " ('🙇', 64),\n",
       " ('🗣', 64),\n",
       " ('🌊', 62),\n",
       " ('🙀', 62),\n",
       " ('🤐', 61),\n",
       " ('🍩', 61),\n",
       " ('🌩', 61),\n",
       " ('🤠', 60),\n",
       " ('👰', 60),\n",
       " ('❌', 60),\n",
       " ('🍜', 59),\n",
       " ('🍪', 59),\n",
       " ('🍃', 59),\n",
       " ('🚪', 57),\n",
       " ('🐟', 57),\n",
       " ('☀', 57),\n",
       " ('🎱', 57),\n",
       " ('🍏', 56),\n",
       " ('🔊', 56),\n",
       " ('🎅', 55),\n",
       " ('🏳', 55),\n",
       " ('🤸', 55),\n",
       " ('🌏', 55),\n",
       " ('🌴', 54),\n",
       " ('👭', 54),\n",
       " ('🌞', 54),\n",
       " ('👶', 53),\n",
       " ('🐼', 52),\n",
       " ('🍼', 52),\n",
       " ('🍒', 51),\n",
       " ('🌯', 50),\n",
       " ('🤥', 50),\n",
       " ('🍎', 49),\n",
       " ('👯', 49),\n",
       " ('👹', 49),\n",
       " ('🏃', 49),\n",
       " ('🌰', 49),\n",
       " ('🔯', 49),\n",
       " ('🔸', 48),\n",
       " ('👺', 48),\n",
       " ('📚', 48),\n",
       " ('🐜', 48),\n",
       " ('🦋', 48),\n",
       " ('🍖', 48),\n",
       " ('™', 46),\n",
       " ('🎀', 46),\n",
       " ('▶', 44),\n",
       " ('💧', 43),\n",
       " ('🙉', 43),\n",
       " ('💭', 43),\n",
       " ('🎲', 43),\n",
       " ('🍟', 43),\n",
       " ('🍿', 43),\n",
       " ('🍊', 43),\n",
       " ('🍡', 43),\n",
       " ('🌋', 42),\n",
       " ('✈', 42),\n",
       " ('🌠', 41),\n",
       " ('🌙', 41),\n",
       " ('🦆', 41),\n",
       " ('🏅', 41),\n",
       " ('🥇', 41),\n",
       " ('🏉', 41),\n",
       " ('💴', 40),\n",
       " ('📣', 40),\n",
       " ('🎻', 40),\n",
       " ('🐩', 40),\n",
       " ('🌕', 40),\n",
       " ('🚮', 40),\n",
       " ('♨', 39),\n",
       " ('🌲', 39),\n",
       " ('👟', 39),\n",
       " ('👙', 39),\n",
       " ('👠', 39),\n",
       " ('🎯', 39),\n",
       " ('®', 39),\n",
       " ('🐰', 38),\n",
       " ('📁', 38),\n",
       " ('🐷', 38),\n",
       " ('🎟', 38),\n",
       " ('🔮', 37),\n",
       " ('🐤', 37),\n",
       " ('🕴', 37),\n",
       " ('🌽', 36),\n",
       " ('🏈', 36),\n",
       " ('👼', 36),\n",
       " ('🎮', 36),\n",
       " ('🐒', 36),\n",
       " ('🍐', 36),\n",
       " ('🕷', 35),\n",
       " ('🍀', 35),\n",
       " ('🍌', 35),\n",
       " ('🐈', 34),\n",
       " ('👫', 33),\n",
       " ('🥂', 33),\n",
       " ('🕊', 33),\n",
       " ('🤛', 33),\n",
       " ('🏐', 33),\n",
       " ('💏', 32),\n",
       " ('👬', 32),\n",
       " ('💶', 32),\n",
       " ('🔔', 32),\n",
       " ('🐏', 32),\n",
       " ('🌝', 32),\n",
       " ('🤕', 32),\n",
       " ('⬆', 32),\n",
       " ('☃', 32),\n",
       " ('👖', 31),\n",
       " ('💳', 31),\n",
       " ('🎬', 31),\n",
       " ('🐙', 31),\n",
       " ('💤', 31),\n",
       " ('🐧', 30),\n",
       " ('🐉', 30),\n",
       " ('🎩', 29),\n",
       " ('🐄', 29),\n",
       " ('🐖', 29),\n",
       " ('🖐', 29),\n",
       " ('🍚', 29),\n",
       " ('🍶', 29),\n",
       " ('🍹', 29),\n",
       " ('🤜', 29),\n",
       " ('🥀', 28),\n",
       " ('🐇', 28),\n",
       " ('🐲', 28),\n",
       " ('⚰', 28),\n",
       " ('🌶', 28),\n",
       " ('🔑', 28),\n",
       " ('🍳', 28),\n",
       " ('🧀', 28),\n",
       " ('🅰', 28),\n",
       " ('🏠', 28),\n",
       " ('🚒', 27),\n",
       " ('👃', 27),\n",
       " ('🚬', 27),\n",
       " ('💻', 27),\n",
       " ('☄', 27),\n",
       " ('🖖', 27),\n",
       " ('🤖', 27),\n",
       " ('🤒', 27),\n",
       " ('🌿', 27),\n",
       " ('😽', 26),\n",
       " ('👳', 26),\n",
       " ('📖', 26),\n",
       " ('🦁', 26),\n",
       " ('🌵', 26),\n",
       " ('🍝', 26),\n",
       " ('🍋', 26),\n",
       " ('⛑', 26),\n",
       " ('❕', 26),\n",
       " ('😼', 25),\n",
       " ('💷', 25),\n",
       " ('📂', 25),\n",
       " ('🏡', 25),\n",
       " ('🍯', 25),\n",
       " ('🔐', 25),\n",
       " ('🕵', 25),\n",
       " ('🚽', 25),\n",
       " ('🍈', 25),\n",
       " ('🍅', 25),\n",
       " ('🏄', 25),\n",
       " ('🌀', 24),\n",
       " ('🤴', 24),\n",
       " ('🌪', 24),\n",
       " ('👮', 24),\n",
       " ('👕', 24),\n",
       " ('😾', 24),\n",
       " ('👱', 24),\n",
       " ('👗', 24),\n",
       " ('🔬', 24),\n",
       " ('📹', 24),\n",
       " ('🐴', 24),\n",
       " ('🐳', 24),\n",
       " ('🐛', 24),\n",
       " ('🍨', 24),\n",
       " ('🐎', 24),\n",
       " ('❓', 24),\n",
       " ('👂', 23),\n",
       " ('📲', 23),\n",
       " ('💽', 23),\n",
       " ('🎠', 23),\n",
       " ('🎷', 23),\n",
       " ('🐽', 23),\n",
       " ('🐨', 23),\n",
       " ('🐞', 23),\n",
       " ('🍣', 23),\n",
       " ('🥁', 23),\n",
       " ('✴', 23),\n",
       " ('🍵', 23),\n",
       " ('⛈', 22),\n",
       " ('💇', 22),\n",
       " ('📢', 22),\n",
       " ('🎨', 22),\n",
       " ('📷', 22),\n",
       " ('🐬', 22),\n",
       " ('🤚', 22),\n",
       " ('⭕', 22),\n",
       " ('🍥', 22),\n",
       " ('⚾', 22),\n",
       " ('🏓', 22),\n",
       " ('👓', 21),\n",
       " ('🎭', 21),\n",
       " ('🐔', 21),\n",
       " ('🐠', 21),\n",
       " ('⛪', 21),\n",
       " ('🌛', 21),\n",
       " ('⁉', 21),\n",
       " ('🗺', 21),\n",
       " ('🍛', 21),\n",
       " ('🎳', 21),\n",
       " ('💆', 20),\n",
       " ('🐘', 20),\n",
       " ('🙍', 20),\n",
       " ('🐵', 20),\n",
       " ('🐯', 20),\n",
       " ('🗽', 20),\n",
       " ('🦅', 20),\n",
       " ('🌐', 20),\n",
       " ('◀', 20),\n",
       " ('⌚', 19),\n",
       " ('🌭', 19),\n",
       " ('👢', 19),\n",
       " ('📝', 19),\n",
       " ('🅾', 19),\n",
       " ('🍤', 19),\n",
       " ('🌱', 19),\n",
       " ('💡', 19),\n",
       " ('🍄', 19),\n",
       " ('🗡', 19),\n",
       " ('🔻', 19),\n",
       " ('✒', 18),\n",
       " ('📉', 18),\n",
       " ('🎾', 18),\n",
       " ('🔜', 18),\n",
       " ('©', 18),\n",
       " ('🔒', 18),\n",
       " ('♎', 18),\n",
       " ('🕶', 18),\n",
       " ('🏁', 18),\n",
       " ('🍞', 18),\n",
       " ('⚜', 18),\n",
       " ('❇', 18),\n",
       " ('🐊', 17),\n",
       " ('🆒', 17),\n",
       " ('🎺', 17),\n",
       " ('👞', 17),\n",
       " ('🎓', 17),\n",
       " ('📦', 17),\n",
       " ('✉', 17),\n",
       " ('📏', 17),\n",
       " ('☮', 17),\n",
       " ('🤝', 17),\n",
       " ('🍧', 17),\n",
       " ('🌾', 17),\n",
       " ('🥔', 17),\n",
       " ('🏫', 17),\n",
       " ('🔛', 17),\n",
       " ('✖', 17),\n",
       " ('🚩', 16),\n",
       " ('🎢', 16),\n",
       " ('🃏', 16),\n",
       " ('🕋', 16),\n",
       " ('🍴', 16),\n",
       " ('🍱', 16),\n",
       " ('🔞', 16),\n",
       " ('⚓', 16),\n",
       " ('🔱', 16),\n",
       " ('🍢', 16),\n",
       " ('🏊', 16),\n",
       " ('🚼', 16),\n",
       " ('🌨', 16),\n",
       " ('☯', 16),\n",
       " ('🚣', 15),\n",
       " ('⬇', 15),\n",
       " ('👷', 15),\n",
       " ('💂', 15),\n",
       " ('💼', 15),\n",
       " ('🐋', 15),\n",
       " ('🐡', 15),\n",
       " ('🆘', 15),\n",
       " ('🗼', 15),\n",
       " ('🥊', 15),\n",
       " ('🦇', 15),\n",
       " ('♦', 15),\n",
       " ('⬅', 15),\n",
       " ('🍮', 15),\n",
       " ('🎣', 15),\n",
       " ('🏴', 15),\n",
       " ('🔩', 15),\n",
       " ('🚔', 14),\n",
       " ('👘', 14),\n",
       " ('👪', 14),\n",
       " ('🔰', 14),\n",
       " ('👛', 14),\n",
       " ('💉', 14),\n",
       " ('💊', 14),\n",
       " ('🔌', 14),\n",
       " ('🎍', 14),\n",
       " ('📺', 14),\n",
       " ('🐃', 14),\n",
       " ('🌑', 14),\n",
       " ('📿', 14),\n",
       " ('🚙', 14),\n",
       " ('↗', 14),\n",
       " ('🥛', 14),\n",
       " ('💒', 14),\n",
       " ('🔅', 14),\n",
       " ('🚾', 14),\n",
       " ('🤰', 14),\n",
       " ('🚶', 14),\n",
       " ('🛌', 14),\n",
       " ('🥘', 14),\n",
       " ('✳', 14),\n",
       " ('➰', 14),\n",
       " ('➕', 14),\n",
       " ('🌬', 13),\n",
       " ('☎', 13),\n",
       " ('💬', 13),\n",
       " ('✏', 13),\n",
       " ('✂', 13),\n",
       " ('📈', 13),\n",
       " ('🐭', 13),\n",
       " ('🐮', 13),\n",
       " ('🏋', 13),\n",
       " ('💢', 13),\n",
       " ('🅿', 13),\n",
       " ('🌃', 13),\n",
       " ('♏', 13),\n",
       " ('🦃', 13),\n",
       " ('🍠', 13),\n",
       " ('🔺', 13),\n",
       " ('🌅', 13),\n",
       " ('🛐', 13),\n",
       " ('🥃', 13),\n",
       " ('🚗', 13),\n",
       " ('🔧', 13),\n",
       " ('🐂', 12),\n",
       " ('🙎', 12),\n",
       " ('👥', 12),\n",
       " ('👒', 12),\n",
       " ('📡', 12),\n",
       " ('🎡', 12),\n",
       " ('🎫', 12),\n",
       " ('🐀', 12),\n",
       " ('🐹', 12),\n",
       " ('🐆', 12),\n",
       " ('🐚', 12),\n",
       " ('🦀', 12),\n",
       " ('⛳', 12),\n",
       " ('🖥', 12),\n",
       " ('♣', 12),\n",
       " ('🔨', 12),\n",
       " ('↙', 12),\n",
       " ('♋', 12),\n",
       " ('⛵', 12),\n",
       " ('🔉', 12),\n",
       " ('🎗', 12),\n",
       " ('🚲', 12),\n",
       " ('⏰', 12),\n",
       " ('🎙', 12),\n",
       " ('🥓', 12),\n",
       " ('⚖', 12),\n",
       " ('🍲', 12),\n",
       " ('🛎', 12),\n",
       " ('🚻', 12),\n",
       " ('🛴', 12),\n",
       " ('🚘', 12),\n",
       " ('🏭', 12),\n",
       " ('🚂', 11),\n",
       " ('🔋', 11),\n",
       " ('📘', 11),\n",
       " ('📞', 11),\n",
       " ('📅', 11),\n",
       " ('🀄', 11),\n",
       " ('🦎', 11),\n",
       " ('🚢', 11),\n",
       " ('🦑', 11),\n",
       " ('🔆', 11),\n",
       " ('📽', 11),\n",
       " ('🌤', 11),\n",
       " ('🔽', 11),\n",
       " ('🗑', 11),\n",
       " ('⛸', 11),\n",
       " ('🔼', 11),\n",
       " ('🌧', 11),\n",
       " ('🛀', 11),\n",
       " ('🚰', 11),\n",
       " ('🚵', 11),\n",
       " ('⛔', 11),\n",
       " ('➖', 11),\n",
       " ('🧡', 11),\n",
       " ('🌳', 10),\n",
       " ('🆙', 10),\n",
       " ('👔', 10),\n",
       " ('👵', 10),\n",
       " ('👡', 10),\n",
       " ('👜', 10),\n",
       " ('📛', 10),\n",
       " ('📌', 10),\n",
       " ('📎', 10),\n",
       " ('📻', 10),\n",
       " ('🐌', 10),\n",
       " ('🐅', 10),\n",
       " ('🏗', 10),\n",
       " ('☑', 10),\n",
       " ('🎖', 10),\n",
       " ('🦌', 10),\n",
       " ('🦊', 10),\n",
       " ('⛅', 10),\n",
       " ('🕸', 10),\n",
       " ('🈳', 10),\n",
       " ('🚋', 10),\n",
       " ('🥐', 10),\n",
       " ('🥝', 10),\n",
       " ('🚺', 10),\n",
       " ('↪', 10),\n",
       " ('🥖', 10),\n",
       " ('🦈', 10),\n",
       " ('⛹', 10),\n",
       " ('🍙', 10),\n",
       " ('🌉', 10),\n",
       " ('🛑', 10),\n",
       " ('🚑', 9),\n",
       " ('👚', 9),\n",
       " ('👴', 9),\n",
       " ('🎒', 9),\n",
       " ('🔕', 9),\n",
       " ('📰', 9),\n",
       " ('🎋', 9),\n",
       " ('📟', 9),\n",
       " ('📨', 9),\n",
       " ('📭', 9),\n",
       " ('📬', 9),\n",
       " ('📐', 9),\n",
       " ('⛺', 9),\n",
       " ('🎴', 9),\n",
       " ('📼', 9),\n",
       " ('🐁', 9),\n",
       " ('🐗', 9),\n",
       " ('🐪', 9),\n",
       " ('🌒', 9),\n",
       " ('🏢', 9),\n",
       " ('🏍', 9),\n",
       " ('⛲', 9),\n",
       " ('🔙', 9),\n",
       " ('🔓', 9),\n",
       " ('🤵', 9),\n",
       " ('🈴', 9),\n",
       " ('♑', 9),\n",
       " ('🗯', 9),\n",
       " ('✍', 9),\n",
       " ('🔍', 9),\n",
       " ('🏂', 9),\n",
       " ('🏸', 9),\n",
       " ('🚴', 9),\n",
       " ('🥕', 9),\n",
       " ('🥞', 9),\n",
       " ('🛍', 9),\n",
       " ('👤', 8),\n",
       " ('👝', 8),\n",
       " ('🔭', 8),\n",
       " ('🔦', 8),\n",
       " ('📜', 8),\n",
       " ('📙', 8),\n",
       " ('📒', 8),\n",
       " ('📕', 8),\n",
       " ('📠', 8),\n",
       " ('📩', 8),\n",
       " ('📫', 8),\n",
       " ('📥', 8),\n",
       " ('💾', 8),\n",
       " ('📇', 8),\n",
       " ('🎪', 8),\n",
       " ('〽', 8),\n",
       " ('🚤', 8),\n",
       " ('🏟', 8),\n",
       " ('🏬', 8),\n",
       " ('📸', 8),\n",
       " ('♍', 8),\n",
       " ('🥉', 8),\n",
       " ('🌇', 8),\n",
       " ('💮', 8),\n",
       " ('🐿', 8),\n",
       " ('🌄', 8),\n",
       " ('☘', 8),\n",
       " ('🥒', 8),\n",
       " ('⚫', 8),\n",
       " ('🏵', 8),\n",
       " ('♈', 8),\n",
       " ('♐', 8),\n",
       " ('🕯', 8),\n",
       " ('💠', 8),\n",
       " ('▪', 8),\n",
       " ('♻', 8),\n",
       " ('🤳', 8),\n",
       " ('⏩', 8),\n",
       " ('↘', 8),\n",
       " ('⚪', 8),\n",
       " ('⛄', 8),\n",
       " ('⚕', 8),\n",
       " ('🍽', 8),\n",
       " ('🤽', 8),\n",
       " ('🤼', 8),\n",
       " ('🚞', 8),\n",
       " ('🆓', 8),\n",
       " ('👲', 7),\n",
       " ('💱', 7),\n",
       " ('📔', 7),\n",
       " ('📓', 7),\n",
       " ('📪', 7),\n",
       " ('📮', 7),\n",
       " ('📍', 7),\n",
       " ('🎦', 7),\n",
       " ('🚡', 7),\n",
       " ('🌆', 7),\n",
       " ('🏯', 7),\n",
       " ('♓', 7),\n",
       " ('🤹', 7),\n",
       " ('🥑', 7),\n",
       " ('⚔', 7),\n",
       " ('🦉', 7),\n",
       " ('🥈', 7),\n",
       " ('🥋', 7),\n",
       " ('💈', 7),\n",
       " ('☔', 7),\n",
       " ('☢', 7),\n",
       " ('⤵', 7),\n",
       " ('♠', 7),\n",
       " ('📧', 7),\n",
       " ('♊', 7),\n",
       " ('🈯', 7),\n",
       " ('🈶', 7),\n",
       " ('♌', 7),\n",
       " ('🚓', 7),\n",
       " ('🚇', 7),\n",
       " ('⛽', 7),\n",
       " ('⚱', 7),\n",
       " ('📵', 7),\n",
       " ('🏌', 7),\n",
       " ('🏒', 7),\n",
       " ('🔀', 7),\n",
       " ('🏹', 7),\n",
       " ('🛏', 7),\n",
       " ('🚿', 7),\n",
       " ('🌡', 7),\n",
       " ('🚯', 7),\n",
       " ('🈁', 7),\n",
       " ('🕓', 7),\n",
       " ('🕛', 7),\n",
       " ('🕤', 7),\n",
       " ('🖋', 7),\n",
       " ('🖍', 7),\n",
       " ('🚠', 7),\n",
       " ('🍘', 7),\n",
       " ('🦐', 7),\n",
       " ('🛠', 7),\n",
       " ('🉐', 7),\n",
       " ('🔈', 7),\n",
       " ('⏳', 7),\n",
       " ('⌛', 7),\n",
       " ('🤩', 7),\n",
       " ('⤴', 7),\n",
       " ('🛄', 7),\n",
       " ('🚹', 7),\n",
       " ('🆕', 7),\n",
       " ('🔁', 7),\n",
       " ('🌦', 7),\n",
       " ('📗', 6),\n",
       " ('📤', 6),\n",
       " ('📯', 6),\n",
       " ('📆', 6),\n",
       " ('📄', 6),\n",
       " ('📊', 6),\n",
       " ('🎰', 6),\n",
       " ('🌔', 6),\n",
       " ('🌜', 6),\n",
       " ('🚝', 6),\n",
       " ('🏝', 6),\n",
       " ('🌁', 6),\n",
       " ('🕌', 6),\n",
       " ('🏨', 6),\n",
       " ('🏣', 6),\n",
       " ('🕰', 6),\n",
       " ('🥗', 6),\n",
       " ('🥙', 6),\n",
       " ('🖱', 6),\n",
       " ('ℹ', 6),\n",
       " ('🗝', 6),\n",
       " ('♉', 6),\n",
       " ('♒', 6),\n",
       " ('🔇', 6),\n",
       " ('▫', 6),\n",
       " ('🏜', 6),\n",
       " ('🏞', 6),\n",
       " ('🗨', 6),\n",
       " ('🤶', 6),\n",
       " ('🛋', 6),\n",
       " ('🕐', 6),\n",
       " ('🥄', 6),\n",
       " ('♿', 6),\n",
       " ('🛰', 6),\n",
       " ('⛎', 6),\n",
       " ('🔘', 6),\n",
       " ('🕕', 6),\n",
       " ('🔎', 6),\n",
       " ('🦂', 6),\n",
       " ('🤾', 6),\n",
       " ('🚁', 6),\n",
       " ('🚆', 6),\n",
       " ('🗾', 6),\n",
       " ('🛁', 6),\n",
       " ('🈵', 6),\n",
       " ('🏥', 6),\n",
       " ('🏩', 6),\n",
       " ('🚳', 6),\n",
       " ('🚷', 6),\n",
       " ('🚱', 6),\n",
       " ('🚭', 6),\n",
       " ('🕧', 6),\n",
       " ('🤯', 6),\n",
       " ('🛡', 6),\n",
       " ('📑', 5),\n",
       " ('💺', 5),\n",
       " ('📋', 5),\n",
       " ('📃', 5),\n",
       " ('🌓', 5),\n",
       " ('🌗', 5),\n",
       " ('🌖', 5),\n",
       " ('🏰', 5),\n",
       " ('🏪', 5),\n",
       " ('🛒', 5),\n",
       " ('🗻', 5),\n",
       " ('⛱', 5),\n",
       " ('⛷', 5),\n",
       " ('🏏', 5),\n",
       " ('🚈', 5),\n",
       " ('🚍', 5),\n",
       " ('🏺', 5),\n",
       " ('❎', 5),\n",
       " ('📶', 5),\n",
       " ('↔', 5),\n",
       " ('🕖', 5),\n",
       " ('🕞', 5),\n",
       " ('🎌', 5),\n",
       " ('🚌', 5),\n",
       " ('🕢', 5),\n",
       " ('🕥', 5),\n",
       " ('🌂', 5),\n",
       " ('🏇', 5),\n",
       " ('🚅', 5),\n",
       " ('🚊', 5),\n",
       " ('🛥', 5),\n",
       " ('⛴', 5),\n",
       " ('🥚', 5),\n",
       " ('🎑', 5),\n",
       " ('📳', 5),\n",
       " ('🏦', 5),\n",
       " ('🗿', 5),\n",
       " ('🎿', 5),\n",
       " ('🛅', 5),\n",
       " ('🚸', 5),\n",
       " ('🚥', 5),\n",
       " ('🚦', 5),\n",
       " ('🆎', 5),\n",
       " ('🔠', 5),\n",
       " ('🔡', 5),\n",
       " ('🔢', 5),\n",
       " ('🔣', 5),\n",
       " ('🔤', 5),\n",
       " ('🆗', 5),\n",
       " ('🈲', 5),\n",
       " ('🈹', 5),\n",
       " ('㊙', 5),\n",
       " ('㊗', 5),\n",
       " ('🕝', 5),\n",
       " ('↩', 5),\n",
       " ('🆑', 5),\n",
       " ('🔂', 5),\n",
       " ('🔄', 5),\n",
       " ('🏙', 5),\n",
       " ('🏕', 5),\n",
       " ('🕎', 5),\n",
       " ('🛤', 4),\n",
       " ('🏘', 4),\n",
       " ('⛩', 4),\n",
       " ('🏛', 4),\n",
       " ('⌨', 4),\n",
       " ('⏱', 4),\n",
       " ('⏫', 4),\n",
       " ('✡', 4),\n",
       " ('🖊', 4),\n",
       " ('🖼', 4),\n",
       " ('⏪', 4),\n",
       " ('⛏', 4),\n",
       " ('🎛', 4),\n",
       " ('🎚', 4),\n",
       " ('⏬', 4),\n",
       " ('🌥', 4),\n",
       " ('🌫', 4),\n",
       " ('🚎', 4),\n",
       " ('⛓', 4),\n",
       " ('❔', 4),\n",
       " ('◾', 4),\n",
       " ('🔲', 4),\n",
       " ('🔏', 4),\n",
       " ('☪', 4),\n",
       " ('🚜', 4),\n",
       " ('🚐', 4),\n",
       " ('🦏', 4),\n",
       " ('🦍', 4),\n",
       " ('🎽', 4),\n",
       " ('🛵', 4),\n",
       " ('🚃', 4),\n",
       " ('🛫', 4),\n",
       " ('🛬', 4),\n",
       " ('🚉', 4),\n",
       " ('🚖', 4),\n",
       " ('🚟', 4),\n",
       " ('🚄', 4),\n",
       " ('🛳', 4),\n",
       " ('🥅', 4),\n",
       " ('🕍', 4),\n",
       " ('🌘', 4),\n",
       " ('🏤', 4),\n",
       " ('🏧', 4),\n",
       " ('Ⓜ', 4),\n",
       " ('🚚', 4),\n",
       " ('🚛', 4),\n",
       " ('🛂', 4),\n",
       " ...]"
      ]
     },
     "execution_count": 83,
     "metadata": {},
     "output_type": "execute_result"
    }
   ],
   "source": [
    "Counter(all_emojis_list).most_common()"
   ]
  },
  {
   "cell_type": "code",
   "execution_count": 84,
   "id": "ecc273bc",
   "metadata": {},
   "outputs": [
    {
     "data": {
      "text/plain": [
       "[('😂', 36987),\n",
       " ('😍', 33453),\n",
       " ('❤', 31119),\n",
       " ('🔥', 8694),\n",
       " ('😭', 8398),\n",
       " ('👏', 5719),\n",
       " ('😘', 5545),\n",
       " ('👍', 5476),\n",
       " ('💖', 5359),\n",
       " ('💕', 5147)]"
      ]
     },
     "execution_count": 84,
     "metadata": {},
     "output_type": "execute_result"
    }
   ],
   "source": [
    "Counter(all_emojis_list).most_common(10)"
   ]
  },
  {
   "cell_type": "code",
   "execution_count": 85,
   "id": "57beacca",
   "metadata": {},
   "outputs": [
    {
     "data": {
      "text/plain": [
       "('😂', 36987)"
      ]
     },
     "execution_count": 85,
     "metadata": {},
     "output_type": "execute_result"
    }
   ],
   "source": [
    "Counter(all_emojis_list).most_common(10)[0]"
   ]
  },
  {
   "cell_type": "code",
   "execution_count": 86,
   "id": "2255dc45",
   "metadata": {},
   "outputs": [
    {
     "data": {
      "text/plain": [
       "'😂'"
      ]
     },
     "execution_count": 86,
     "metadata": {},
     "output_type": "execute_result"
    }
   ],
   "source": [
    "Counter(all_emojis_list).most_common(10)[0][0]"
   ]
  },
  {
   "cell_type": "code",
   "execution_count": 87,
   "id": "4050c8ae",
   "metadata": {},
   "outputs": [
    {
     "data": {
      "text/plain": [
       "36987"
      ]
     },
     "execution_count": 87,
     "metadata": {},
     "output_type": "execute_result"
    }
   ],
   "source": [
    "Counter(all_emojis_list).most_common(10)[0][1]"
   ]
  },
  {
   "cell_type": "code",
   "execution_count": 88,
   "id": "012f5839",
   "metadata": {},
   "outputs": [
    {
     "data": {
      "text/plain": [
       "'👏'"
      ]
     },
     "execution_count": 88,
     "metadata": {},
     "output_type": "execute_result"
    }
   ],
   "source": [
    "Counter(all_emojis_list).most_common(10)[5][0]"
   ]
  },
  {
   "cell_type": "code",
   "execution_count": 89,
   "id": "8d3f6283",
   "metadata": {},
   "outputs": [],
   "source": [
    "emojis = [Counter(all_emojis_list).most_common(10)[i][0] for i in range(10)]"
   ]
  },
  {
   "cell_type": "code",
   "execution_count": 90,
   "id": "2dc779a0",
   "metadata": {},
   "outputs": [
    {
     "data": {
      "text/plain": [
       "['😂', '😍', '❤', '🔥', '😭', '👏', '😘', '👍', '💖', '💕']"
      ]
     },
     "execution_count": 90,
     "metadata": {},
     "output_type": "execute_result"
    }
   ],
   "source": [
    "emojis"
   ]
  },
  {
   "cell_type": "code",
   "execution_count": 91,
   "id": "9ebe624b",
   "metadata": {},
   "outputs": [],
   "source": [
    "freqs = [Counter(all_emojis_list).most_common(10)[i][1] for i in range(10)]"
   ]
  },
  {
   "cell_type": "code",
   "execution_count": 92,
   "id": "c85ed483",
   "metadata": {},
   "outputs": [
    {
     "data": {
      "text/plain": [
       "[36987, 33453, 31119, 8694, 8398, 5719, 5545, 5476, 5359, 5147]"
      ]
     },
     "execution_count": 92,
     "metadata": {},
     "output_type": "execute_result"
    }
   ],
   "source": [
    "freqs"
   ]
  },
  {
   "cell_type": "code",
   "execution_count": null,
   "id": "80b8527f",
   "metadata": {},
   "outputs": [],
   "source": []
  },
  {
   "cell_type": "code",
   "execution_count": 93,
   "id": "50974c68",
   "metadata": {},
   "outputs": [],
   "source": [
    "import plotly.graph_objs as go\n",
    "from plotly.offline import iplot"
   ]
  },
  {
   "cell_type": "code",
   "execution_count": 94,
   "id": "60e94a7f",
   "metadata": {},
   "outputs": [],
   "source": [
    "trace = go.Bar(x=emojis, y=freqs)"
   ]
  },
  {
   "cell_type": "code",
   "execution_count": 95,
   "id": "55bfe93e",
   "metadata": {},
   "outputs": [
    {
     "data": {
      "application/vnd.plotly.v1+json": {
       "config": {
        "linkText": "Export to plot.ly",
        "plotlyServerURL": "https://plot.ly",
        "showLink": false
       },
       "data": [
        {
         "type": "bar",
         "x": [
          "😂",
          "😍",
          "❤",
          "🔥",
          "😭",
          "👏",
          "😘",
          "👍",
          "💖",
          "💕"
         ],
         "y": [
          36987,
          33453,
          31119,
          8694,
          8398,
          5719,
          5545,
          5476,
          5359,
          5147
         ]
        }
       ],
       "layout": {
        "template": {
         "data": {
          "bar": [
           {
            "error_x": {
             "color": "#2a3f5f"
            },
            "error_y": {
             "color": "#2a3f5f"
            },
            "marker": {
             "line": {
              "color": "#E5ECF6",
              "width": 0.5
             },
             "pattern": {
              "fillmode": "overlay",
              "size": 10,
              "solidity": 0.2
             }
            },
            "type": "bar"
           }
          ],
          "barpolar": [
           {
            "marker": {
             "line": {
              "color": "#E5ECF6",
              "width": 0.5
             },
             "pattern": {
              "fillmode": "overlay",
              "size": 10,
              "solidity": 0.2
             }
            },
            "type": "barpolar"
           }
          ],
          "carpet": [
           {
            "aaxis": {
             "endlinecolor": "#2a3f5f",
             "gridcolor": "white",
             "linecolor": "white",
             "minorgridcolor": "white",
             "startlinecolor": "#2a3f5f"
            },
            "baxis": {
             "endlinecolor": "#2a3f5f",
             "gridcolor": "white",
             "linecolor": "white",
             "minorgridcolor": "white",
             "startlinecolor": "#2a3f5f"
            },
            "type": "carpet"
           }
          ],
          "choropleth": [
           {
            "colorbar": {
             "outlinewidth": 0,
             "ticks": ""
            },
            "type": "choropleth"
           }
          ],
          "contour": [
           {
            "colorbar": {
             "outlinewidth": 0,
             "ticks": ""
            },
            "colorscale": [
             [
              0,
              "#0d0887"
             ],
             [
              0.1111111111111111,
              "#46039f"
             ],
             [
              0.2222222222222222,
              "#7201a8"
             ],
             [
              0.3333333333333333,
              "#9c179e"
             ],
             [
              0.4444444444444444,
              "#bd3786"
             ],
             [
              0.5555555555555556,
              "#d8576b"
             ],
             [
              0.6666666666666666,
              "#ed7953"
             ],
             [
              0.7777777777777778,
              "#fb9f3a"
             ],
             [
              0.8888888888888888,
              "#fdca26"
             ],
             [
              1,
              "#f0f921"
             ]
            ],
            "type": "contour"
           }
          ],
          "contourcarpet": [
           {
            "colorbar": {
             "outlinewidth": 0,
             "ticks": ""
            },
            "type": "contourcarpet"
           }
          ],
          "heatmap": [
           {
            "colorbar": {
             "outlinewidth": 0,
             "ticks": ""
            },
            "colorscale": [
             [
              0,
              "#0d0887"
             ],
             [
              0.1111111111111111,
              "#46039f"
             ],
             [
              0.2222222222222222,
              "#7201a8"
             ],
             [
              0.3333333333333333,
              "#9c179e"
             ],
             [
              0.4444444444444444,
              "#bd3786"
             ],
             [
              0.5555555555555556,
              "#d8576b"
             ],
             [
              0.6666666666666666,
              "#ed7953"
             ],
             [
              0.7777777777777778,
              "#fb9f3a"
             ],
             [
              0.8888888888888888,
              "#fdca26"
             ],
             [
              1,
              "#f0f921"
             ]
            ],
            "type": "heatmap"
           }
          ],
          "heatmapgl": [
           {
            "colorbar": {
             "outlinewidth": 0,
             "ticks": ""
            },
            "colorscale": [
             [
              0,
              "#0d0887"
             ],
             [
              0.1111111111111111,
              "#46039f"
             ],
             [
              0.2222222222222222,
              "#7201a8"
             ],
             [
              0.3333333333333333,
              "#9c179e"
             ],
             [
              0.4444444444444444,
              "#bd3786"
             ],
             [
              0.5555555555555556,
              "#d8576b"
             ],
             [
              0.6666666666666666,
              "#ed7953"
             ],
             [
              0.7777777777777778,
              "#fb9f3a"
             ],
             [
              0.8888888888888888,
              "#fdca26"
             ],
             [
              1,
              "#f0f921"
             ]
            ],
            "type": "heatmapgl"
           }
          ],
          "histogram": [
           {
            "marker": {
             "pattern": {
              "fillmode": "overlay",
              "size": 10,
              "solidity": 0.2
             }
            },
            "type": "histogram"
           }
          ],
          "histogram2d": [
           {
            "colorbar": {
             "outlinewidth": 0,
             "ticks": ""
            },
            "colorscale": [
             [
              0,
              "#0d0887"
             ],
             [
              0.1111111111111111,
              "#46039f"
             ],
             [
              0.2222222222222222,
              "#7201a8"
             ],
             [
              0.3333333333333333,
              "#9c179e"
             ],
             [
              0.4444444444444444,
              "#bd3786"
             ],
             [
              0.5555555555555556,
              "#d8576b"
             ],
             [
              0.6666666666666666,
              "#ed7953"
             ],
             [
              0.7777777777777778,
              "#fb9f3a"
             ],
             [
              0.8888888888888888,
              "#fdca26"
             ],
             [
              1,
              "#f0f921"
             ]
            ],
            "type": "histogram2d"
           }
          ],
          "histogram2dcontour": [
           {
            "colorbar": {
             "outlinewidth": 0,
             "ticks": ""
            },
            "colorscale": [
             [
              0,
              "#0d0887"
             ],
             [
              0.1111111111111111,
              "#46039f"
             ],
             [
              0.2222222222222222,
              "#7201a8"
             ],
             [
              0.3333333333333333,
              "#9c179e"
             ],
             [
              0.4444444444444444,
              "#bd3786"
             ],
             [
              0.5555555555555556,
              "#d8576b"
             ],
             [
              0.6666666666666666,
              "#ed7953"
             ],
             [
              0.7777777777777778,
              "#fb9f3a"
             ],
             [
              0.8888888888888888,
              "#fdca26"
             ],
             [
              1,
              "#f0f921"
             ]
            ],
            "type": "histogram2dcontour"
           }
          ],
          "mesh3d": [
           {
            "colorbar": {
             "outlinewidth": 0,
             "ticks": ""
            },
            "type": "mesh3d"
           }
          ],
          "parcoords": [
           {
            "line": {
             "colorbar": {
              "outlinewidth": 0,
              "ticks": ""
             }
            },
            "type": "parcoords"
           }
          ],
          "pie": [
           {
            "automargin": true,
            "type": "pie"
           }
          ],
          "scatter": [
           {
            "fillpattern": {
             "fillmode": "overlay",
             "size": 10,
             "solidity": 0.2
            },
            "type": "scatter"
           }
          ],
          "scatter3d": [
           {
            "line": {
             "colorbar": {
              "outlinewidth": 0,
              "ticks": ""
             }
            },
            "marker": {
             "colorbar": {
              "outlinewidth": 0,
              "ticks": ""
             }
            },
            "type": "scatter3d"
           }
          ],
          "scattercarpet": [
           {
            "marker": {
             "colorbar": {
              "outlinewidth": 0,
              "ticks": ""
             }
            },
            "type": "scattercarpet"
           }
          ],
          "scattergeo": [
           {
            "marker": {
             "colorbar": {
              "outlinewidth": 0,
              "ticks": ""
             }
            },
            "type": "scattergeo"
           }
          ],
          "scattergl": [
           {
            "marker": {
             "colorbar": {
              "outlinewidth": 0,
              "ticks": ""
             }
            },
            "type": "scattergl"
           }
          ],
          "scattermapbox": [
           {
            "marker": {
             "colorbar": {
              "outlinewidth": 0,
              "ticks": ""
             }
            },
            "type": "scattermapbox"
           }
          ],
          "scatterpolar": [
           {
            "marker": {
             "colorbar": {
              "outlinewidth": 0,
              "ticks": ""
             }
            },
            "type": "scatterpolar"
           }
          ],
          "scatterpolargl": [
           {
            "marker": {
             "colorbar": {
              "outlinewidth": 0,
              "ticks": ""
             }
            },
            "type": "scatterpolargl"
           }
          ],
          "scatterternary": [
           {
            "marker": {
             "colorbar": {
              "outlinewidth": 0,
              "ticks": ""
             }
            },
            "type": "scatterternary"
           }
          ],
          "surface": [
           {
            "colorbar": {
             "outlinewidth": 0,
             "ticks": ""
            },
            "colorscale": [
             [
              0,
              "#0d0887"
             ],
             [
              0.1111111111111111,
              "#46039f"
             ],
             [
              0.2222222222222222,
              "#7201a8"
             ],
             [
              0.3333333333333333,
              "#9c179e"
             ],
             [
              0.4444444444444444,
              "#bd3786"
             ],
             [
              0.5555555555555556,
              "#d8576b"
             ],
             [
              0.6666666666666666,
              "#ed7953"
             ],
             [
              0.7777777777777778,
              "#fb9f3a"
             ],
             [
              0.8888888888888888,
              "#fdca26"
             ],
             [
              1,
              "#f0f921"
             ]
            ],
            "type": "surface"
           }
          ],
          "table": [
           {
            "cells": {
             "fill": {
              "color": "#EBF0F8"
             },
             "line": {
              "color": "white"
             }
            },
            "header": {
             "fill": {
              "color": "#C8D4E3"
             },
             "line": {
              "color": "white"
             }
            },
            "type": "table"
           }
          ]
         },
         "layout": {
          "annotationdefaults": {
           "arrowcolor": "#2a3f5f",
           "arrowhead": 0,
           "arrowwidth": 1
          },
          "autotypenumbers": "strict",
          "coloraxis": {
           "colorbar": {
            "outlinewidth": 0,
            "ticks": ""
           }
          },
          "colorscale": {
           "diverging": [
            [
             0,
             "#8e0152"
            ],
            [
             0.1,
             "#c51b7d"
            ],
            [
             0.2,
             "#de77ae"
            ],
            [
             0.3,
             "#f1b6da"
            ],
            [
             0.4,
             "#fde0ef"
            ],
            [
             0.5,
             "#f7f7f7"
            ],
            [
             0.6,
             "#e6f5d0"
            ],
            [
             0.7,
             "#b8e186"
            ],
            [
             0.8,
             "#7fbc41"
            ],
            [
             0.9,
             "#4d9221"
            ],
            [
             1,
             "#276419"
            ]
           ],
           "sequential": [
            [
             0,
             "#0d0887"
            ],
            [
             0.1111111111111111,
             "#46039f"
            ],
            [
             0.2222222222222222,
             "#7201a8"
            ],
            [
             0.3333333333333333,
             "#9c179e"
            ],
            [
             0.4444444444444444,
             "#bd3786"
            ],
            [
             0.5555555555555556,
             "#d8576b"
            ],
            [
             0.6666666666666666,
             "#ed7953"
            ],
            [
             0.7777777777777778,
             "#fb9f3a"
            ],
            [
             0.8888888888888888,
             "#fdca26"
            ],
            [
             1,
             "#f0f921"
            ]
           ],
           "sequentialminus": [
            [
             0,
             "#0d0887"
            ],
            [
             0.1111111111111111,
             "#46039f"
            ],
            [
             0.2222222222222222,
             "#7201a8"
            ],
            [
             0.3333333333333333,
             "#9c179e"
            ],
            [
             0.4444444444444444,
             "#bd3786"
            ],
            [
             0.5555555555555556,
             "#d8576b"
            ],
            [
             0.6666666666666666,
             "#ed7953"
            ],
            [
             0.7777777777777778,
             "#fb9f3a"
            ],
            [
             0.8888888888888888,
             "#fdca26"
            ],
            [
             1,
             "#f0f921"
            ]
           ]
          },
          "colorway": [
           "#636efa",
           "#EF553B",
           "#00cc96",
           "#ab63fa",
           "#FFA15A",
           "#19d3f3",
           "#FF6692",
           "#B6E880",
           "#FF97FF",
           "#FECB52"
          ],
          "font": {
           "color": "#2a3f5f"
          },
          "geo": {
           "bgcolor": "white",
           "lakecolor": "white",
           "landcolor": "#E5ECF6",
           "showlakes": true,
           "showland": true,
           "subunitcolor": "white"
          },
          "hoverlabel": {
           "align": "left"
          },
          "hovermode": "closest",
          "mapbox": {
           "style": "light"
          },
          "paper_bgcolor": "white",
          "plot_bgcolor": "#E5ECF6",
          "polar": {
           "angularaxis": {
            "gridcolor": "white",
            "linecolor": "white",
            "ticks": ""
           },
           "bgcolor": "#E5ECF6",
           "radialaxis": {
            "gridcolor": "white",
            "linecolor": "white",
            "ticks": ""
           }
          },
          "scene": {
           "xaxis": {
            "backgroundcolor": "#E5ECF6",
            "gridcolor": "white",
            "gridwidth": 2,
            "linecolor": "white",
            "showbackground": true,
            "ticks": "",
            "zerolinecolor": "white"
           },
           "yaxis": {
            "backgroundcolor": "#E5ECF6",
            "gridcolor": "white",
            "gridwidth": 2,
            "linecolor": "white",
            "showbackground": true,
            "ticks": "",
            "zerolinecolor": "white"
           },
           "zaxis": {
            "backgroundcolor": "#E5ECF6",
            "gridcolor": "white",
            "gridwidth": 2,
            "linecolor": "white",
            "showbackground": true,
            "ticks": "",
            "zerolinecolor": "white"
           }
          },
          "shapedefaults": {
           "line": {
            "color": "#2a3f5f"
           }
          },
          "ternary": {
           "aaxis": {
            "gridcolor": "white",
            "linecolor": "white",
            "ticks": ""
           },
           "baxis": {
            "gridcolor": "white",
            "linecolor": "white",
            "ticks": ""
           },
           "bgcolor": "#E5ECF6",
           "caxis": {
            "gridcolor": "white",
            "linecolor": "white",
            "ticks": ""
           }
          },
          "title": {
           "x": 0.05
          },
          "xaxis": {
           "automargin": true,
           "gridcolor": "white",
           "linecolor": "white",
           "ticks": "",
           "title": {
            "standoff": 15
           },
           "zerolinecolor": "white",
           "zerolinewidth": 2
          },
          "yaxis": {
           "automargin": true,
           "gridcolor": "white",
           "linecolor": "white",
           "ticks": "",
           "title": {
            "standoff": 15
           },
           "zerolinecolor": "white",
           "zerolinewidth": 2
          }
         }
        }
       }
      }
     },
     "metadata": {},
     "output_type": "display_data"
    }
   ],
   "source": [
    "iplot([trace])"
   ]
  },
  {
   "cell_type": "code",
   "execution_count": null,
   "id": "84e34f80",
   "metadata": {},
   "outputs": [],
   "source": []
  },
  {
   "cell_type": "code",
   "execution_count": 100,
   "id": "c5039dc9",
   "metadata": {},
   "outputs": [],
   "source": [
    "import os"
   ]
  },
  {
   "cell_type": "code",
   "execution_count": 126,
   "id": "a0476edc",
   "metadata": {},
   "outputs": [
    {
     "data": {
      "text/plain": [
       "['(LP Requirement Elicitation Questionnaire (5).xlsx',\n",
       " '.ipynb_checkpoints',\n",
       " '09283479-df96-47ae-b141-7db9684fe99a.pdf',\n",
       " '0bdea0c0592c5f6517e2e0547d2d9033.jpg',\n",
       " '0eea136fea51239e6e432bf1024c8fc1.pdf',\n",
       " '10. Char Arrays.pdf',\n",
       " '10.21105.joss.03895.pdf',\n",
       " '11. Pointers - Apni kaksha.pdf',\n",
       " '12 .DMA - Apni Kaksha .pdf',\n",
       " '13 (1).pdf',\n",
       " '13.1 StringChallenges.pdf',\n",
       " '13.pdf',\n",
       " '1338362.png',\n",
       " '1562_data.zip',\n",
       " '160235-chart-template-16x9.pptx',\n",
       " '1637132031_white-oak-official-chillhop-music-wallpaper.zip',\n",
       " '1689911398313-certificate.png',\n",
       " '1690432981973-certificate.png',\n",
       " '1st installment_fee_Report.pdf',\n",
       " '202063_Sample.pdf',\n",
       " '202118_Sample_report[1].docx',\n",
       " '202118_Satyam.docx',\n",
       " '202118_Satyam.pdf',\n",
       " '202118_SatyamArya.docx',\n",
       " '202118_SatyamArya.pdf',\n",
       " '211_assignment_Surabhi.pdf',\n",
       " '28d7ddde-a9ab-47a6-9521-fc7105b716db.pdf',\n",
       " '2nd installment_fee_Report.pdf',\n",
       " '3rd installment_fee_Report.pdf',\n",
       " '4 Pattern Questions.pdf',\n",
       " '5. Binary Number System & Question Practice.pdf',\n",
       " '6.2 Prime, Armstrong, Reverse a number.pdf',\n",
       " '7.1 Functions.pdf',\n",
       " '7.2 Functions Problems.pdf',\n",
       " '7.3 Practice(functions, Arrays).pdf',\n",
       " '8.1 Time Complexity.pdf',\n",
       " '8.6 SubArrays Challenges.pdf',\n",
       " '8c1af82bcadbecf950b3011edbb86ec5.pptx',\n",
       " '9.1 2D Arrays_watermark.pdf',\n",
       " '9.1 Arrays.pdf',\n",
       " '9.2 Notes 2DArray Challenges_watermark.pdf',\n",
       " '9.3.1 Sorting in Arrays _ Bubble & Selection Sort.pdf',\n",
       " 'abt-rs7-legacy-7680x5666-12295.jpg',\n",
       " 'Acad.doc_Satyam_Arya.pdf',\n",
       " 'AcadmicAbilityData.xlsx',\n",
       " 'AComparativeReviewofCPUSchedulingAlgorithms.pdf',\n",
       " 'Adarsh C.N-Lab-1.pdf',\n",
       " 'ADA_merged_.pdf',\n",
       " 'ADA_merged__merged.pdf',\n",
       " 'additional_data',\n",
       " 'adh.jpg',\n",
       " 'Admit_card (1).pdf',\n",
       " 'Adobe Scan 20 May 2022 (2).pdf',\n",
       " 'AI Tech Agency Infographics by Slidesgo.pptx',\n",
       " 'AI-and-Its-Application.pdf',\n",
       " 'annual-enterprise-survey-2021-financial-year-provisional-csv.csv',\n",
       " 'Application layer_1.pdf',\n",
       " 'Application layer_2.pdf',\n",
       " 'APYEPranCard_500242657011.pdf',\n",
       " 'APY_Brochure.pdf',\n",
       " 'APY_Subscriber_Information_Brochure-Hindi.pdf',\n",
       " 'archive.zip',\n",
       " 'assigment 211 .pdf',\n",
       " 'B.Tech 4th Year Syllabus .pdf',\n",
       " 'B.Tech CSE 2018 batch onwards (1).pdf',\n",
       " 'B.Tech CSE 2018 batch onwards.pdf',\n",
       " 'Banjaara - Ek Villain - 320Kbps.mp3',\n",
       " 'Bhagavad_Gita_As_It_Is.pdf',\n",
       " 'Bhola Shankar (2023) Hindi Dubbed 1080p WEB-DL ESub [BollyFlix] (1).mkv',\n",
       " 'bin_search_rec.pdf',\n",
       " 'bmw-m8-gran-coupe-first-edition-2020-5k-8k-7000x4667-2577.jpg',\n",
       " 'business-price-indexes-june-2023-quarter-csv.csv',\n",
       " 'CAO REVIEW PAPER.pdf',\n",
       " 'CarData.pdf',\n",
       " 'Career Vision Exercise.png',\n",
       " 'cart.xlsx',\n",
       " 'car_data.csv',\n",
       " 'Central_University_of_Haryana_logo.png',\n",
       " 'certificate (2).jpg',\n",
       " 'certificate (2).pdf',\n",
       " 'chemitech.xlsx',\n",
       " 'citation-369392587.txt',\n",
       " 'client (1).py',\n",
       " 'client (2).py',\n",
       " 'client (3).py',\n",
       " 'client time.py',\n",
       " 'client.py',\n",
       " 'Clustering.xlsx',\n",
       " 'CN-01.pdf',\n",
       " 'CN.pdf',\n",
       " 'COA Review.pdf',\n",
       " 'COA_202118 ppt.mp4',\n",
       " 'Conference-template-A4.doc',\n",
       " 'Copy of White and Beige Japanese Aesthetic Marketing Plan (1).pdf',\n",
       " 'Copy of White and Beige Japanese Aesthetic Marketing Plan (2).pdf',\n",
       " 'Copy of White and Beige Japanese Aesthetic Marketing Plan (2).pptx',\n",
       " 'Copy of White and Beige Japanese Aesthetic Marketing Plan.pdf',\n",
       " 'Cordelia · SlidesCarnival.pptx',\n",
       " 'Curriculum_Vitae_Template.pdf',\n",
       " 'Data analyst Data (1).xlsx',\n",
       " 'Data analyst Data.xlsx',\n",
       " 'Data Communications and Networking By Behrouz A.Forouzan.pdf',\n",
       " 'data.csv',\n",
       " 'Data_Analytics.pdf',\n",
       " 'dbms_front.docx',\n",
       " 'dc30a42bd0c4d79ea6a64f1e7101cadd.pptx',\n",
       " 'desktop.ini',\n",
       " 'Discrete Mathematics Rosen 7ed.pdf',\n",
       " 'DM-unit-3.pptx',\n",
       " 'DMDW Unit-3.pdf',\n",
       " 'dodge-charger-3840x3840-12430.jpg',\n",
       " 'drive-download-20230413T062426Z-001.zip',\n",
       " 'DS_assignment.pdf',\n",
       " 'dummy.xlsx',\n",
       " 'economic-survey-of-manufacturing-march-2023-quarter-csv.csv',\n",
       " 'EIGENVALUE AND EIGENVECTORS [Autosaved].ppt',\n",
       " 'Examination Time Table for UG, PG, Diploma Term End Examinations June 2022.pdf',\n",
       " 'Examination_20230517_223417.pdf',\n",
       " 'fData.xlsx',\n",
       " 'fernando2020.pdf',\n",
       " 'FiveYearData.csv',\n",
       " 'format.docx',\n",
       " 'formate ok (1).docx',\n",
       " 'formate ok-converted.docx',\n",
       " 'formate ok.docx',\n",
       " 'formate ok.pdf',\n",
       " 'format_.pdf',\n",
       " 'Front Page (1).docx',\n",
       " 'Front Page (1).pdf',\n",
       " 'Front Page.docx',\n",
       " 'Front Page.pdf',\n",
       " 'front.docx',\n",
       " 'Gantt chart.xlsx',\n",
       " 'Git and GitHub for Beginners - Crash Course (1).mp4',\n",
       " 'Git and GitHub for Beginners - Crash Course.mp4',\n",
       " 'Git.pdf',\n",
       " 'Hamdard - Arijit Singh - 320Kbps.mp3',\n",
       " 'HARDNESS.xlsx',\n",
       " 'hierarchical_clustering.xlsx',\n",
       " 'Himanshu intern.pdf',\n",
       " 'Http.pdf',\n",
       " 'IAC IP23 - LP Lessons Learnt Log Template (1).xlsx',\n",
       " 'IAC IP23 - LP Lessons Learnt Log Template.xlsx',\n",
       " 'IBM-313 Marks.xlsx',\n",
       " 'Iden · SlidesCarnival.pptx',\n",
       " 'IEEE_Template_4 (1).pdf',\n",
       " 'IEEE_Template_4.pdf',\n",
       " 'Industry Awareness Questionnaire.png',\n",
       " 'Internship Cirtificate (1).pdf',\n",
       " 'Internship Cirtificate (2).jpg',\n",
       " 'Internship Cirtificate (2).pdf',\n",
       " 'Internship Cirtificate.pdf',\n",
       " 'internship Letter Technophilia slot 15-10.docx',\n",
       " 'internship Letter Technophilia slot 15-10.pdf',\n",
       " 'internship Letter Technophilia slot 15-10_page-0001.jpg',\n",
       " 'IP 2023 - GOAL SETTING - Full Name.xlsx',\n",
       " 'IP 2023 - SWOT & Industry Awareness Questionnaire.xlsx',\n",
       " 'IP23-001341_Satyam Arya.pdf',\n",
       " 'Jawan.2023.1080p.HQ.HDCAM.Hindi.Line.AAC.x264-HDHub4u.Tv.mkv',\n",
       " 'Journal - Development Plan.xlsx',\n",
       " 'Juno · SlidesCarnival.pptx',\n",
       " 'Lab.doc',\n",
       " 'Lab_File format.docx',\n",
       " 'm61266-datasheet-pdf-1-2048.webp',\n",
       " 'machine-readable-business-employment-data-mar-2023-quarter.csv',\n",
       " 'MCS-211.pdf',\n",
       " 'MCS-214.pdf',\n",
       " 'Merged (1).pdf',\n",
       " 'Merged.pdf',\n",
       " 'MergeSort_lab-2.docx',\n",
       " 'mle.xlsx',\n",
       " 'MPG.xlsx',\n",
       " 'mpi lab .docx',\n",
       " 'mushroom-forest-4096x4096-12422.jpg',\n",
       " 'OfficeSetup.exe',\n",
       " 'OFSS D.El.Ed. - Payment Receipt.pdf',\n",
       " 'OOPs_complete.pdf',\n",
       " 'particle-explosion-7680x4320-10073.jpg',\n",
       " 'PB-VRVis-2020-008.pdf',\n",
       " 'peakpx (1).jpg',\n",
       " 'peakpx (11).jpg',\n",
       " 'peakpx (12).jpg',\n",
       " 'peakpx (2).jpg',\n",
       " 'peakpx (3).jpg',\n",
       " 'peakpx (4).jpg',\n",
       " 'peakpx (5).jpg',\n",
       " 'peakpx (6).jpg',\n",
       " 'peakpx (6.jpg',\n",
       " 'peakpx (7).jpg',\n",
       " 'peakpx (8).jpg',\n",
       " 'peakpx.jpg',\n",
       " 'Prasann(202106)ulp lab 4 and 5.docx',\n",
       " 'Prasann(202106)ulp lab 4 and 5.pdf',\n",
       " 'Prasann(202106)ulp lab 6 7 8.docx',\n",
       " 'Prasann(202106)ulp lab 6 7 8.pdf',\n",
       " 'Prasann(202106)ulp lab combine.pdf',\n",
       " 'Program-01.docx',\n",
       " 'Project Report.docx',\n",
       " 'Pumpset.pdf',\n",
       " 'pumpset_format.pdf',\n",
       " 'python_merge.pdf',\n",
       " 'python_merge_merged.pdf',\n",
       " 'Quince · SlidesCarnival.pptx',\n",
       " 'qwac102.docx',\n",
       " 'qwac102.pdf',\n",
       " 'rearrangednew.docx',\n",
       " 'rearrangednew.pdf',\n",
       " 'Reg1.docx',\n",
       " 'Reg1.xlsx',\n",
       " 'reg2 (1).xlsx',\n",
       " 'reg2 (2).xlsx',\n",
       " 'reg2.docx',\n",
       " 'reg2.xlsx',\n",
       " 'regr.xlsx',\n",
       " 'research-and-development-survey-2022-csv-notes.csv',\n",
       " 'research_paper.docx',\n",
       " 'Research_paper.pdf',\n",
       " 'Resturant_data.xlsx',\n",
       " 'Reynolds.xlsx',\n",
       " 'RISHICHHABRA CN LAB-1.pdf',\n",
       " 'Satyam_Arya.pdf',\n",
       " 'Satyam_carDataAnalysis.webm',\n",
       " 'Scan 10 Oct 22 · 06·48·06 asignment.pdf',\n",
       " 'Scan 19 Sep 22 · 06·09·06.pdf',\n",
       " 'Scan 23 Oct 22 · 06·37·12.pdf',\n",
       " 'Scan 23 Oct 22 · 06·39·20.pdf',\n",
       " 'scenic-aesthetic-7680x5120-12513.jpg',\n",
       " 'ScreenRec_webinstall_all.exe',\n",
       " 'SE.docx',\n",
       " 'SearchingSorting.pdf',\n",
       " 'SelectionSort_202118.pptx',\n",
       " 'server (1).py',\n",
       " 'server (2).py',\n",
       " 'server.py',\n",
       " 'servertime.py',\n",
       " 'service_data.xlsx',\n",
       " 'Seyton · SlidesCarnival.pptx',\n",
       " 'shubhangi-ams1.doc',\n",
       " 'SMTP.pdf',\n",
       " 'snowman-snow-covered-winter-snow-4608x3456-9163.jpg',\n",
       " 'Software review refers to the process of evaluating and examining software applications or systems to assess their quality.docx',\n",
       " 'SoftwareEngineering.pdf',\n",
       " 'Software_Engineering.pdf',\n",
       " 'spend.xlsx',\n",
       " 'starfield-astronaut-3840x2160-12572.jpeg',\n",
       " 'Student_DataAnalysis.ipynb',\n",
       " 'Student_DataAnalysis.mp4',\n",
       " 'Student_DataAnalysis_Report.zip',\n",
       " 'Sukriti_AdmitCard.pdf',\n",
       " 'SummerTrngRegForm.doc',\n",
       " 'sunset-underwater-9216x6144-11436.jpg',\n",
       " 'Surabhi_Detail.pdf',\n",
       " 'swing-surreal-tree-landscape-foggy-morning-fog-5k-blue-sky-6642x4480-9063.jpg',\n",
       " 'Syllabus_7th_SEM.pdf',\n",
       " 'S_E.pdf',\n",
       " 'Ticket_18_05.pdf',\n",
       " 'Title Layout.pptx',\n",
       " 'Total Registrations_.docx 123 - Copy (1).xlsx',\n",
       " 'Total Registrations_.docx 123 - Copy.docx',\n",
       " 'Total Registrations_.docx 123 - Copy.xlsx',\n",
       " 'Trucking.xlsx',\n",
       " 'Tyler.xlsx',\n",
       " 'ULP Index.docx',\n",
       " 'unique_palindrome.pdf',\n",
       " 'UNIX_merged.pdf',\n",
       " 'Untitled.ipynb',\n",
       " 'UScomments.csv',\n",
       " 'V0111-5.24.pdf',\n",
       " 'vlc-skins.zip',\n",
       " 'Welcome to Central Record Keeping Agency.pdf',\n",
       " 'WhatsApp Image 2022-06-01 at 6.24.43 PM.jpeg',\n",
       " 'wholesale-trade-survey-march-2023-quarter-csv.csv',\n",
       " 'Yash Fakecertificate.docx',\n",
       " 'youtube_analysis_shan_singh.ipynb',\n",
       " 'Youtube_project_shan_singh_Udemy',\n",
       " 'Youtube_project_shan_singh_Udemy.rar',\n",
       " 'Zoom_cm_ds_m88jhpdVUJBw86kAuiBVBqJskpeBOBXi9GpgL@e+fr-Ewne5zp7EwG_kbe2b200f28ca82ab_.exe',\n",
       " '[Template] IAC IP23 - Live Project - RAID log (1).xlsx',\n",
       " '[Template] IAC IP23 - Live Project - RAID log.xlsx',\n",
       " '[Template] IAC IP23 - LP Requirement Elicitation Questionnaire (1).xlsx',\n",
       " '[Template] IAC IP23 - LP Requirement Elicitation Questionnaire (2).xlsx',\n",
       " '[Template] IAC IP23 - LP Requirement Elicitation Questionnaire (3).xlsx',\n",
       " '[Template] IAC IP23 - LP Requirement Elicitation Questionnaire (4).xlsx',\n",
       " '[Template] IAC IP23 - LP Requirement Elicitation Questionnaire (5).xlsx',\n",
       " '[Template] IAC IP23 - LP Requirement Elicitation Questionnaire.xlsx',\n",
       " '[Template] IAC IP23 WBS - Data Analytics (1).pptx',\n",
       " '[Template] IAC IP23 WBS - Data Analytics (2).pptx',\n",
       " '[Template] IAC IP23 WBS - Data Analytics.pptx',\n",
       " '[Template] IP23 LP Project Schedule.xlsx',\n",
       " '[Template]IAC IP23 - LP Project Report.docx']"
      ]
     },
     "execution_count": 126,
     "metadata": {},
     "output_type": "execute_result"
    }
   ],
   "source": [
    "files = os.listdir(\"C:/Users/SATYAM/Downloads/\")\n",
    "files"
   ]
  },
  {
   "cell_type": "code",
   "execution_count": 127,
   "id": "4705b828",
   "metadata": {},
   "outputs": [
    {
     "data": {
      "text/plain": [
       "['annual-enterprise-survey-2021-financial-year-provisional-csv.csv',\n",
       " 'business-price-indexes-june-2023-quarter-csv.csv',\n",
       " 'car_data.csv',\n",
       " 'data.csv',\n",
       " 'economic-survey-of-manufacturing-march-2023-quarter-csv.csv',\n",
       " 'FiveYearData.csv',\n",
       " 'machine-readable-business-employment-data-mar-2023-quarter.csv',\n",
       " 'research-and-development-survey-2022-csv-notes.csv',\n",
       " 'UScomments.csv',\n",
       " 'wholesale-trade-survey-march-2023-quarter-csv.csv']"
      ]
     },
     "execution_count": 127,
     "metadata": {},
     "output_type": "execute_result"
    }
   ],
   "source": [
    "[file for file in files if '.csv' in file]"
   ]
  },
  {
   "cell_type": "code",
   "execution_count": 125,
   "id": "73ce3e35",
   "metadata": {},
   "outputs": [],
   "source": [
    "import warnings\n",
    "from warnings import filterwarnings\n",
    "filterwarnings('ignore')"
   ]
  },
  {
   "cell_type": "code",
   "execution_count": null,
   "id": "7542d3e4",
   "metadata": {},
   "outputs": [],
   "source": []
  }
 ],
 "metadata": {
  "kernelspec": {
   "display_name": "Python 3 (ipykernel)",
   "language": "python",
   "name": "python3"
  },
  "language_info": {
   "codemirror_mode": {
    "name": "ipython",
    "version": 3
   },
   "file_extension": ".py",
   "mimetype": "text/x-python",
   "name": "python",
   "nbconvert_exporter": "python",
   "pygments_lexer": "ipython3",
   "version": "3.9.18"
  }
 },
 "nbformat": 4,
 "nbformat_minor": 5
}
